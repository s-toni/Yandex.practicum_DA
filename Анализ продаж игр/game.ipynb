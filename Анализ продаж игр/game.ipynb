{
 "cells": [
  {
   "cell_type": "markdown",
   "id": "8661663b",
   "metadata": {},
   "source": [
    "<a id='start'></a>\n",
    "# Определение закономерности, влияющей на успешность игр<br>\n",
    "\n",
    "\n",
    "<div style=\"text-align: justify \">Необходимо определить закономерность, определяющю успешность игры, что позволит сделать ставку на потенциально популярный продукт и спланировать рекламные кампании на 2017-й год. В наборе данных попадается аббревиатура ESRB (Entertainment Software Rating Board) — это ассоциация, определяющая возрастной рейтинг компьютерных игр. ESRB оценивает игровой контент и присваивает ему подходящую возрастную категорию, например, «Для взрослых», «Для детей младшего возраста» или «Для подростков».</div>\n",
    "\n",
    "\n",
    "<b>Задача:</b><br>\n",
    "1) определить факторы, влияющие на успешность игр."
   ]
  },
  {
   "cell_type": "markdown",
   "id": "262869c8",
   "metadata": {},
   "source": [
    "<b>Ход исследования: </b>\n",
    "1) Обзор данных;<br>\n",
    "\n",
    "2) Предобработка данных;<br>\n",
    "\n",
    "3) Проведение исследовательского анализа данных:\n",
    "- сколько игр выпускалось в разные годы;<br>\n",
    "- как менялись продажи по платформам;<br>\n",
    "- какие платформы лидируют по продажам;<br>\n",
    "- просмотр выбросов по глобальным продажам игр в разбивке по платформам;<br>\n",
    "- оценка влияния продажи внутри одной популярной платформы на отзывы пользователей и критиков;<br>\n",
    "- анализ общего распределения игр по жанрам;<br>\n",
    "\n",
    "4) Портрет пользователя каждого региона;<br>\n",
    "\n",
    "5) Проверка гипотез: \n",
    "- \"средние пользовательские рейтинги платформ Xbox One и PC одинаковые\";<br>\n",
    "- \"средние пользовательские рейтинги жанров Action (англ. «действие», экшен-игры) и Sports (англ. «спортивные соревнования») разные\".<br>\n",
    "\n",
    "6) Подготовка общего вывода."
   ]
  },
  {
   "cell_type": "markdown",
   "id": "3ce85af4",
   "metadata": {},
   "source": [
    "<b>Описание данных:</b>\n",
    "\n",
    "\n",
    "<b>Name</b> — название игры<br>\n",
    "<b>Platform</b> — платформа<br>\n",
    "<b>Year_of_Release</b> — год выпуска<br>\n",
    "<b>Genre</b> — жанр игры<br>\n",
    "<b>NA_sales</b> — продажи в Северной Америке (миллионы проданных копий)<br>\n",
    "<b>EU_sales</b> — продажи в Европе (миллионы проданных копий)<br>\n",
    "<b>JP_sales</b> — продажи в Японии (миллионы проданных копий)<br>\n",
    "<b>Other_sales</b> — продажи в других странах (миллионы проданных копий)<br>\n",
    "<b>Critic_Score</b> — оценка критиков (максимум 100)<br>\n",
    "<b>User_Score</b> — оценка пользователей (максимум 10)<br>\n",
    "<b>Rating</b> — рейтинг от организации ESRB (англ. Entertainment Software Rating Board). Эта ассоциация определяет рейтинг компьютерных игр и присваивает им подходящую возрастную категорию."
   ]
  },
  {
   "cell_type": "markdown",
   "id": "10b1d608",
   "metadata": {},
   "source": [
    "### 1. Обзор данных"
   ]
  },
  {
   "cell_type": "code",
   "execution_count": 1,
   "id": "038f474d",
   "metadata": {},
   "outputs": [],
   "source": [
    "#Подключим необходимые библиотеки\n",
    "import pandas as pd\n",
    "import matplotlib.pyplot as plt\n",
    "import numpy as np\n",
    "import seaborn as sns\n",
    "from scipy import stats as st\n",
    "import warnings"
   ]
  },
  {
   "cell_type": "code",
   "execution_count": 2,
   "id": "7b302437",
   "metadata": {},
   "outputs": [],
   "source": [
    "#задаем исхожные настройки\n",
    "pd.set_option('display.max_columns', None)\n",
    "warnings.filterwarnings(\"ignore\")"
   ]
  },
  {
   "cell_type": "code",
   "execution_count": 3,
   "id": "3d329eb7",
   "metadata": {},
   "outputs": [],
   "source": [
    "#Загрузим данные\n",
    "df = pd.read_csv('/datasets/games.csv')"
   ]
  },
  {
   "cell_type": "code",
   "execution_count": 4,
   "id": "9cabed00",
   "metadata": {},
   "outputs": [],
   "source": [
    "#Базовая функция для ознакомления с данными: инфо о типах, пропусках, явных дубликатах\n",
    "def show_data(df):\n",
    "    display(df.head(20))\n",
    "    print('-----')\n",
    "    print('Информация о типах данных')\n",
    "    df.info()\n",
    "    print('-----')\n",
    "    for col in df.columns:\n",
    "        print('Название:', col, '\\nПропусков:\\t', df[col].isna().sum(), 'Процент пропусков:\\t', round(df[col].isna().sum() *100 / len(df[col])))\n",
    "    round(df[col].isna().sum() *100 / len(df[col]))\n",
    "    print('-----')\n",
    "    print('Явных дубликатов')\n",
    "    print(df.duplicated().sum())\n",
    "    df.hist(figsize=(10, 15));"
   ]
  },
  {
   "cell_type": "code",
   "execution_count": 5,
   "id": "eef436da",
   "metadata": {
    "scrolled": false
   },
   "outputs": [
    {
     "data": {
      "text/html": [
       "<div>\n",
       "<style scoped>\n",
       "    .dataframe tbody tr th:only-of-type {\n",
       "        vertical-align: middle;\n",
       "    }\n",
       "\n",
       "    .dataframe tbody tr th {\n",
       "        vertical-align: top;\n",
       "    }\n",
       "\n",
       "    .dataframe thead th {\n",
       "        text-align: right;\n",
       "    }\n",
       "</style>\n",
       "<table border=\"1\" class=\"dataframe\">\n",
       "  <thead>\n",
       "    <tr style=\"text-align: right;\">\n",
       "      <th></th>\n",
       "      <th>Name</th>\n",
       "      <th>Platform</th>\n",
       "      <th>Year_of_Release</th>\n",
       "      <th>Genre</th>\n",
       "      <th>NA_sales</th>\n",
       "      <th>EU_sales</th>\n",
       "      <th>JP_sales</th>\n",
       "      <th>Other_sales</th>\n",
       "      <th>Critic_Score</th>\n",
       "      <th>User_Score</th>\n",
       "      <th>Rating</th>\n",
       "    </tr>\n",
       "  </thead>\n",
       "  <tbody>\n",
       "    <tr>\n",
       "      <th>0</th>\n",
       "      <td>Wii Sports</td>\n",
       "      <td>Wii</td>\n",
       "      <td>2006.0</td>\n",
       "      <td>Sports</td>\n",
       "      <td>41.36</td>\n",
       "      <td>28.96</td>\n",
       "      <td>3.77</td>\n",
       "      <td>8.45</td>\n",
       "      <td>76.0</td>\n",
       "      <td>8</td>\n",
       "      <td>E</td>\n",
       "    </tr>\n",
       "    <tr>\n",
       "      <th>1</th>\n",
       "      <td>Super Mario Bros.</td>\n",
       "      <td>NES</td>\n",
       "      <td>1985.0</td>\n",
       "      <td>Platform</td>\n",
       "      <td>29.08</td>\n",
       "      <td>3.58</td>\n",
       "      <td>6.81</td>\n",
       "      <td>0.77</td>\n",
       "      <td>NaN</td>\n",
       "      <td>NaN</td>\n",
       "      <td>NaN</td>\n",
       "    </tr>\n",
       "    <tr>\n",
       "      <th>2</th>\n",
       "      <td>Mario Kart Wii</td>\n",
       "      <td>Wii</td>\n",
       "      <td>2008.0</td>\n",
       "      <td>Racing</td>\n",
       "      <td>15.68</td>\n",
       "      <td>12.76</td>\n",
       "      <td>3.79</td>\n",
       "      <td>3.29</td>\n",
       "      <td>82.0</td>\n",
       "      <td>8.3</td>\n",
       "      <td>E</td>\n",
       "    </tr>\n",
       "    <tr>\n",
       "      <th>3</th>\n",
       "      <td>Wii Sports Resort</td>\n",
       "      <td>Wii</td>\n",
       "      <td>2009.0</td>\n",
       "      <td>Sports</td>\n",
       "      <td>15.61</td>\n",
       "      <td>10.93</td>\n",
       "      <td>3.28</td>\n",
       "      <td>2.95</td>\n",
       "      <td>80.0</td>\n",
       "      <td>8</td>\n",
       "      <td>E</td>\n",
       "    </tr>\n",
       "    <tr>\n",
       "      <th>4</th>\n",
       "      <td>Pokemon Red/Pokemon Blue</td>\n",
       "      <td>GB</td>\n",
       "      <td>1996.0</td>\n",
       "      <td>Role-Playing</td>\n",
       "      <td>11.27</td>\n",
       "      <td>8.89</td>\n",
       "      <td>10.22</td>\n",
       "      <td>1.00</td>\n",
       "      <td>NaN</td>\n",
       "      <td>NaN</td>\n",
       "      <td>NaN</td>\n",
       "    </tr>\n",
       "    <tr>\n",
       "      <th>5</th>\n",
       "      <td>Tetris</td>\n",
       "      <td>GB</td>\n",
       "      <td>1989.0</td>\n",
       "      <td>Puzzle</td>\n",
       "      <td>23.20</td>\n",
       "      <td>2.26</td>\n",
       "      <td>4.22</td>\n",
       "      <td>0.58</td>\n",
       "      <td>NaN</td>\n",
       "      <td>NaN</td>\n",
       "      <td>NaN</td>\n",
       "    </tr>\n",
       "    <tr>\n",
       "      <th>6</th>\n",
       "      <td>New Super Mario Bros.</td>\n",
       "      <td>DS</td>\n",
       "      <td>2006.0</td>\n",
       "      <td>Platform</td>\n",
       "      <td>11.28</td>\n",
       "      <td>9.14</td>\n",
       "      <td>6.50</td>\n",
       "      <td>2.88</td>\n",
       "      <td>89.0</td>\n",
       "      <td>8.5</td>\n",
       "      <td>E</td>\n",
       "    </tr>\n",
       "    <tr>\n",
       "      <th>7</th>\n",
       "      <td>Wii Play</td>\n",
       "      <td>Wii</td>\n",
       "      <td>2006.0</td>\n",
       "      <td>Misc</td>\n",
       "      <td>13.96</td>\n",
       "      <td>9.18</td>\n",
       "      <td>2.93</td>\n",
       "      <td>2.84</td>\n",
       "      <td>58.0</td>\n",
       "      <td>6.6</td>\n",
       "      <td>E</td>\n",
       "    </tr>\n",
       "    <tr>\n",
       "      <th>8</th>\n",
       "      <td>New Super Mario Bros. Wii</td>\n",
       "      <td>Wii</td>\n",
       "      <td>2009.0</td>\n",
       "      <td>Platform</td>\n",
       "      <td>14.44</td>\n",
       "      <td>6.94</td>\n",
       "      <td>4.70</td>\n",
       "      <td>2.24</td>\n",
       "      <td>87.0</td>\n",
       "      <td>8.4</td>\n",
       "      <td>E</td>\n",
       "    </tr>\n",
       "    <tr>\n",
       "      <th>9</th>\n",
       "      <td>Duck Hunt</td>\n",
       "      <td>NES</td>\n",
       "      <td>1984.0</td>\n",
       "      <td>Shooter</td>\n",
       "      <td>26.93</td>\n",
       "      <td>0.63</td>\n",
       "      <td>0.28</td>\n",
       "      <td>0.47</td>\n",
       "      <td>NaN</td>\n",
       "      <td>NaN</td>\n",
       "      <td>NaN</td>\n",
       "    </tr>\n",
       "    <tr>\n",
       "      <th>10</th>\n",
       "      <td>Nintendogs</td>\n",
       "      <td>DS</td>\n",
       "      <td>2005.0</td>\n",
       "      <td>Simulation</td>\n",
       "      <td>9.05</td>\n",
       "      <td>10.95</td>\n",
       "      <td>1.93</td>\n",
       "      <td>2.74</td>\n",
       "      <td>NaN</td>\n",
       "      <td>NaN</td>\n",
       "      <td>NaN</td>\n",
       "    </tr>\n",
       "    <tr>\n",
       "      <th>11</th>\n",
       "      <td>Mario Kart DS</td>\n",
       "      <td>DS</td>\n",
       "      <td>2005.0</td>\n",
       "      <td>Racing</td>\n",
       "      <td>9.71</td>\n",
       "      <td>7.47</td>\n",
       "      <td>4.13</td>\n",
       "      <td>1.90</td>\n",
       "      <td>91.0</td>\n",
       "      <td>8.6</td>\n",
       "      <td>E</td>\n",
       "    </tr>\n",
       "    <tr>\n",
       "      <th>12</th>\n",
       "      <td>Pokemon Gold/Pokemon Silver</td>\n",
       "      <td>GB</td>\n",
       "      <td>1999.0</td>\n",
       "      <td>Role-Playing</td>\n",
       "      <td>9.00</td>\n",
       "      <td>6.18</td>\n",
       "      <td>7.20</td>\n",
       "      <td>0.71</td>\n",
       "      <td>NaN</td>\n",
       "      <td>NaN</td>\n",
       "      <td>NaN</td>\n",
       "    </tr>\n",
       "    <tr>\n",
       "      <th>13</th>\n",
       "      <td>Wii Fit</td>\n",
       "      <td>Wii</td>\n",
       "      <td>2007.0</td>\n",
       "      <td>Sports</td>\n",
       "      <td>8.92</td>\n",
       "      <td>8.03</td>\n",
       "      <td>3.60</td>\n",
       "      <td>2.15</td>\n",
       "      <td>80.0</td>\n",
       "      <td>7.7</td>\n",
       "      <td>E</td>\n",
       "    </tr>\n",
       "    <tr>\n",
       "      <th>14</th>\n",
       "      <td>Kinect Adventures!</td>\n",
       "      <td>X360</td>\n",
       "      <td>2010.0</td>\n",
       "      <td>Misc</td>\n",
       "      <td>15.00</td>\n",
       "      <td>4.89</td>\n",
       "      <td>0.24</td>\n",
       "      <td>1.69</td>\n",
       "      <td>61.0</td>\n",
       "      <td>6.3</td>\n",
       "      <td>E</td>\n",
       "    </tr>\n",
       "    <tr>\n",
       "      <th>15</th>\n",
       "      <td>Wii Fit Plus</td>\n",
       "      <td>Wii</td>\n",
       "      <td>2009.0</td>\n",
       "      <td>Sports</td>\n",
       "      <td>9.01</td>\n",
       "      <td>8.49</td>\n",
       "      <td>2.53</td>\n",
       "      <td>1.77</td>\n",
       "      <td>80.0</td>\n",
       "      <td>7.4</td>\n",
       "      <td>E</td>\n",
       "    </tr>\n",
       "    <tr>\n",
       "      <th>16</th>\n",
       "      <td>Grand Theft Auto V</td>\n",
       "      <td>PS3</td>\n",
       "      <td>2013.0</td>\n",
       "      <td>Action</td>\n",
       "      <td>7.02</td>\n",
       "      <td>9.09</td>\n",
       "      <td>0.98</td>\n",
       "      <td>3.96</td>\n",
       "      <td>97.0</td>\n",
       "      <td>8.2</td>\n",
       "      <td>M</td>\n",
       "    </tr>\n",
       "    <tr>\n",
       "      <th>17</th>\n",
       "      <td>Grand Theft Auto: San Andreas</td>\n",
       "      <td>PS2</td>\n",
       "      <td>2004.0</td>\n",
       "      <td>Action</td>\n",
       "      <td>9.43</td>\n",
       "      <td>0.40</td>\n",
       "      <td>0.41</td>\n",
       "      <td>10.57</td>\n",
       "      <td>95.0</td>\n",
       "      <td>9</td>\n",
       "      <td>M</td>\n",
       "    </tr>\n",
       "    <tr>\n",
       "      <th>18</th>\n",
       "      <td>Super Mario World</td>\n",
       "      <td>SNES</td>\n",
       "      <td>1990.0</td>\n",
       "      <td>Platform</td>\n",
       "      <td>12.78</td>\n",
       "      <td>3.75</td>\n",
       "      <td>3.54</td>\n",
       "      <td>0.55</td>\n",
       "      <td>NaN</td>\n",
       "      <td>NaN</td>\n",
       "      <td>NaN</td>\n",
       "    </tr>\n",
       "    <tr>\n",
       "      <th>19</th>\n",
       "      <td>Brain Age: Train Your Brain in Minutes a Day</td>\n",
       "      <td>DS</td>\n",
       "      <td>2005.0</td>\n",
       "      <td>Misc</td>\n",
       "      <td>4.74</td>\n",
       "      <td>9.20</td>\n",
       "      <td>4.16</td>\n",
       "      <td>2.04</td>\n",
       "      <td>77.0</td>\n",
       "      <td>7.9</td>\n",
       "      <td>E</td>\n",
       "    </tr>\n",
       "  </tbody>\n",
       "</table>\n",
       "</div>"
      ],
      "text/plain": [
       "                                            Name Platform  Year_of_Release  \\\n",
       "0                                     Wii Sports      Wii           2006.0   \n",
       "1                              Super Mario Bros.      NES           1985.0   \n",
       "2                                 Mario Kart Wii      Wii           2008.0   \n",
       "3                              Wii Sports Resort      Wii           2009.0   \n",
       "4                       Pokemon Red/Pokemon Blue       GB           1996.0   \n",
       "5                                         Tetris       GB           1989.0   \n",
       "6                          New Super Mario Bros.       DS           2006.0   \n",
       "7                                       Wii Play      Wii           2006.0   \n",
       "8                      New Super Mario Bros. Wii      Wii           2009.0   \n",
       "9                                      Duck Hunt      NES           1984.0   \n",
       "10                                    Nintendogs       DS           2005.0   \n",
       "11                                 Mario Kart DS       DS           2005.0   \n",
       "12                   Pokemon Gold/Pokemon Silver       GB           1999.0   \n",
       "13                                       Wii Fit      Wii           2007.0   \n",
       "14                            Kinect Adventures!     X360           2010.0   \n",
       "15                                  Wii Fit Plus      Wii           2009.0   \n",
       "16                            Grand Theft Auto V      PS3           2013.0   \n",
       "17                 Grand Theft Auto: San Andreas      PS2           2004.0   \n",
       "18                             Super Mario World     SNES           1990.0   \n",
       "19  Brain Age: Train Your Brain in Minutes a Day       DS           2005.0   \n",
       "\n",
       "           Genre  NA_sales  EU_sales  JP_sales  Other_sales  Critic_Score  \\\n",
       "0         Sports     41.36     28.96      3.77         8.45          76.0   \n",
       "1       Platform     29.08      3.58      6.81         0.77           NaN   \n",
       "2         Racing     15.68     12.76      3.79         3.29          82.0   \n",
       "3         Sports     15.61     10.93      3.28         2.95          80.0   \n",
       "4   Role-Playing     11.27      8.89     10.22         1.00           NaN   \n",
       "5         Puzzle     23.20      2.26      4.22         0.58           NaN   \n",
       "6       Platform     11.28      9.14      6.50         2.88          89.0   \n",
       "7           Misc     13.96      9.18      2.93         2.84          58.0   \n",
       "8       Platform     14.44      6.94      4.70         2.24          87.0   \n",
       "9        Shooter     26.93      0.63      0.28         0.47           NaN   \n",
       "10    Simulation      9.05     10.95      1.93         2.74           NaN   \n",
       "11        Racing      9.71      7.47      4.13         1.90          91.0   \n",
       "12  Role-Playing      9.00      6.18      7.20         0.71           NaN   \n",
       "13        Sports      8.92      8.03      3.60         2.15          80.0   \n",
       "14          Misc     15.00      4.89      0.24         1.69          61.0   \n",
       "15        Sports      9.01      8.49      2.53         1.77          80.0   \n",
       "16        Action      7.02      9.09      0.98         3.96          97.0   \n",
       "17        Action      9.43      0.40      0.41        10.57          95.0   \n",
       "18      Platform     12.78      3.75      3.54         0.55           NaN   \n",
       "19          Misc      4.74      9.20      4.16         2.04          77.0   \n",
       "\n",
       "   User_Score Rating  \n",
       "0           8      E  \n",
       "1         NaN    NaN  \n",
       "2         8.3      E  \n",
       "3           8      E  \n",
       "4         NaN    NaN  \n",
       "5         NaN    NaN  \n",
       "6         8.5      E  \n",
       "7         6.6      E  \n",
       "8         8.4      E  \n",
       "9         NaN    NaN  \n",
       "10        NaN    NaN  \n",
       "11        8.6      E  \n",
       "12        NaN    NaN  \n",
       "13        7.7      E  \n",
       "14        6.3      E  \n",
       "15        7.4      E  \n",
       "16        8.2      M  \n",
       "17          9      M  \n",
       "18        NaN    NaN  \n",
       "19        7.9      E  "
      ]
     },
     "metadata": {},
     "output_type": "display_data"
    },
    {
     "name": "stdout",
     "output_type": "stream",
     "text": [
      "-----\n",
      "Информация о типах данных\n",
      "<class 'pandas.core.frame.DataFrame'>\n",
      "RangeIndex: 16715 entries, 0 to 16714\n",
      "Data columns (total 11 columns):\n",
      " #   Column           Non-Null Count  Dtype  \n",
      "---  ------           --------------  -----  \n",
      " 0   Name             16713 non-null  object \n",
      " 1   Platform         16715 non-null  object \n",
      " 2   Year_of_Release  16446 non-null  float64\n",
      " 3   Genre            16713 non-null  object \n",
      " 4   NA_sales         16715 non-null  float64\n",
      " 5   EU_sales         16715 non-null  float64\n",
      " 6   JP_sales         16715 non-null  float64\n",
      " 7   Other_sales      16715 non-null  float64\n",
      " 8   Critic_Score     8137 non-null   float64\n",
      " 9   User_Score       10014 non-null  object \n",
      " 10  Rating           9949 non-null   object \n",
      "dtypes: float64(6), object(5)\n",
      "memory usage: 1.4+ MB\n",
      "-----\n",
      "Название: Name \n",
      "Пропусков:\t 2 Процент пропусков:\t 0\n",
      "Название: Platform \n",
      "Пропусков:\t 0 Процент пропусков:\t 0\n",
      "Название: Year_of_Release \n",
      "Пропусков:\t 269 Процент пропусков:\t 2\n",
      "Название: Genre \n",
      "Пропусков:\t 2 Процент пропусков:\t 0\n",
      "Название: NA_sales \n",
      "Пропусков:\t 0 Процент пропусков:\t 0\n",
      "Название: EU_sales \n",
      "Пропусков:\t 0 Процент пропусков:\t 0\n",
      "Название: JP_sales \n",
      "Пропусков:\t 0 Процент пропусков:\t 0\n",
      "Название: Other_sales \n",
      "Пропусков:\t 0 Процент пропусков:\t 0\n",
      "Название: Critic_Score \n",
      "Пропусков:\t 8578 Процент пропусков:\t 51\n",
      "Название: User_Score \n",
      "Пропусков:\t 6701 Процент пропусков:\t 40\n",
      "Название: Rating \n",
      "Пропусков:\t 6766 Процент пропусков:\t 40\n",
      "-----\n",
      "Явных дубликатов\n",
      "0\n"
     ]
    },
    {
     "data": {
      "image/png": "[encoded data removed]",
      "text/plain": [
       "<Figure size 720x1080 with 6 Axes>"
      ]
     },
     "metadata": {
      "needs_background": "light"
     },
     "output_type": "display_data"
    }
   ],
   "source": [
    "show_data(df)"
   ]
  },
  {
   "cell_type": "markdown",
   "id": "46472d82",
   "metadata": {},
   "source": [
    "<b>Вывод: </b>Массив данных состоит из 16 715 строк. В данных присутствую пропуски, которые необходимо будет заполнить, оснавная часть из которых состоит из пропусков по оценка и рейтингу. Явных дубликатов не обнаружено. Необходимо будет просмотреть данные на наличии аномалий."
   ]
  },
  {
   "cell_type": "markdown",
   "id": "8b8f0f3e",
   "metadata": {},
   "source": [
    "### 2. Предобработка данных"
   ]
  },
  {
   "cell_type": "markdown",
   "id": "9f7b676e",
   "metadata": {},
   "source": [
    "<u><b>Привидение наименования столбцов в \"змеиный\" формат"
   ]
  },
  {
   "cell_type": "code",
   "execution_count": 6,
   "id": "5d8ccdac",
   "metadata": {},
   "outputs": [
    {
     "data": {
      "text/plain": [
       "Index(['Name', 'Platform', 'Year_of_Release', 'Genre', 'NA_sales', 'EU_sales',\n",
       "       'JP_sales', 'Other_sales', 'Critic_Score', 'User_Score', 'Rating'],\n",
       "      dtype='object')"
      ]
     },
     "execution_count": 6,
     "metadata": {},
     "output_type": "execute_result"
    }
   ],
   "source": [
    "df.columns"
   ]
  },
  {
   "cell_type": "code",
   "execution_count": 7,
   "id": "88e0f9af",
   "metadata": {},
   "outputs": [
    {
     "data": {
      "text/plain": [
       "Index(['name', 'platform', 'year_of_release', 'genre', 'na_sales', 'eu_sales',\n",
       "       'jp_sales', 'other_sales', 'critic_score', 'user_score', 'rating'],\n",
       "      dtype='object')"
      ]
     },
     "execution_count": 7,
     "metadata": {},
     "output_type": "execute_result"
    }
   ],
   "source": [
    "# Наведение \"красоты\" путем перевода все букв в строчный формат\n",
    "df.columns = df.columns.str.lower()\n",
    "df.columns"
   ]
  },
  {
   "cell_type": "markdown",
   "id": "ec012334",
   "metadata": {},
   "source": [
    "<u><b>Устранение пропусков и изменение типов данных"
   ]
  },
  {
   "cell_type": "code",
   "execution_count": 8,
   "id": "9b5fd1b5",
   "metadata": {},
   "outputs": [],
   "source": [
    "# устранение пропусков в столбце 'name', 'year_of_release' и 'genre'\n",
    "df = df.dropna(subset=['name','year_of_release','genre'])"
   ]
  },
  {
   "cell_type": "code",
   "execution_count": 9,
   "id": "f2c7de1f",
   "metadata": {},
   "outputs": [],
   "source": [
    "# изменение типа столбца \"year_of_release\" на целочисленное\n",
    "df['year_of_release'] = df['year_of_release'].astype(int)"
   ]
  },
  {
   "cell_type": "markdown",
   "id": "e249987c",
   "metadata": {},
   "source": [
    "Для устранения пропусков по столбцам 'name', 'genre' и 'year_of_release' было принято решение удалить строки с пропущенными значения, так как количество пропусков ничтожно мало (не более 2%). Также был изменен тип 'year_of_release' на целочисленное, так как это год."
   ]
  },
  {
   "cell_type": "code",
   "execution_count": 10,
   "id": "50bdc736",
   "metadata": {},
   "outputs": [
    {
     "data": {
      "text/plain": [
       "array(['8', nan, '8.3', '8.5', '6.6', '8.4', '8.6', '7.7', '6.3', '7.4',\n",
       "       '8.2', '9', '7.9', '8.1', '8.7', '7.1', '3.4', '5.3', '4.8', '3.2',\n",
       "       '8.9', '6.4', '7.8', '7.5', '2.6', '7.2', '9.2', '7', '7.3', '4.3',\n",
       "       '7.6', '5.7', '5', '9.1', '6.5', 'tbd', '8.8', '6.9', '9.4', '6.8',\n",
       "       '6.1', '6.7', '5.4', '4', '4.9', '4.5', '9.3', '6.2', '4.2', '6',\n",
       "       '3.7', '4.1', '5.8', '5.6', '5.5', '4.4', '4.6', '5.9', '3.9',\n",
       "       '3.1', '2.9', '5.2', '3.3', '4.7', '5.1', '3.5', '2.5', '1.9', '3',\n",
       "       '2.7', '2.2', '2', '9.5', '2.1', '3.6', '2.8', '1.8', '3.8', '0',\n",
       "       '1.6', '9.6', '2.4', '1.7', '1.1', '0.3', '1.5', '0.7', '1.2',\n",
       "       '2.3', '0.5', '1.3', '0.2', '0.6', '1.4', '0.9', '1', '9.7'],\n",
       "      dtype=object)"
      ]
     },
     "execution_count": 10,
     "metadata": {},
     "output_type": "execute_result"
    }
   ],
   "source": [
    "df['user_score'].unique()"
   ]
  },
  {
   "cell_type": "code",
   "execution_count": 11,
   "id": "59ead9ef",
   "metadata": {},
   "outputs": [
    {
     "data": {
      "text/plain": [
       "array([ 8. , -1. ,  8.3,  8.5,  6.6,  8.4,  8.6,  7.7,  6.3,  7.4,  8.2,\n",
       "        9. ,  7.9,  8.1,  8.7,  7.1,  3.4,  5.3,  4.8,  3.2,  8.9,  6.4,\n",
       "        7.8,  7.5,  2.6,  7.2,  9.2,  7. ,  7.3,  4.3,  7.6,  5.7,  5. ,\n",
       "        9.1,  6.5,  8.8,  6.9,  9.4,  6.8,  6.1,  6.7,  5.4,  4. ,  4.9,\n",
       "        4.5,  9.3,  6.2,  4.2,  6. ,  3.7,  4.1,  5.8,  5.6,  5.5,  4.4,\n",
       "        4.6,  5.9,  3.9,  3.1,  2.9,  5.2,  3.3,  4.7,  5.1,  3.5,  2.5,\n",
       "        1.9,  3. ,  2.7,  2.2,  2. ,  9.5,  2.1,  3.6,  2.8,  1.8,  3.8,\n",
       "        0. ,  1.6,  9.6,  2.4,  1.7,  1.1,  0.3,  1.5,  0.7,  1.2,  2.3,\n",
       "        0.5,  1.3,  0.2,  0.6,  1.4,  0.9,  1. ,  9.7])"
      ]
     },
     "execution_count": 11,
     "metadata": {},
     "output_type": "execute_result"
    }
   ],
   "source": [
    "# изменение 'tbd' и устранение пропусков в столбце 'user_score'\n",
    "df.loc[df['user_score'] == 'tbd', 'user_score'] = -1\n",
    "df['user_score'] = df['user_score'].fillna(-1).astype(float)\n",
    "df['user_score'].unique()"
   ]
  },
  {
   "cell_type": "markdown",
   "id": "bdb4b397",
   "metadata": {},
   "source": [
    "Пропуски в оценке игры пользователями или критиками скорее всего обусловлены отсутствием таких оценок, как \"таковых\". Например игра еще не пройдена или уже не заинтересовала пользователя. В столбце `user_score` значение `tbd` означает `To Be Determined`, что в переводе с английского `будет определено`. Пропущенные значения можно было заменить на `Nan`, но для дальнейшей фильтрации этот подход будет не совсем удобен. Также для `user_score` был изменен тип на вещественный."
   ]
  },
  {
   "cell_type": "code",
   "execution_count": 12,
   "id": "6bfa1119",
   "metadata": {},
   "outputs": [
    {
     "data": {
      "text/plain": [
       "0"
      ]
     },
     "execution_count": 12,
     "metadata": {},
     "output_type": "execute_result"
    }
   ],
   "source": [
    "#устранение пропусков в столбце 'critic_score'\n",
    "df['critic_score'] = df['critic_score'].fillna(-1)\n",
    "df['critic_score'].isna().sum()"
   ]
  },
  {
   "cell_type": "code",
   "execution_count": 13,
   "id": "19359a5d",
   "metadata": {},
   "outputs": [
    {
     "data": {
      "text/plain": [
       "array(['E', nan, 'M', 'T', 'E10+', 'K-A', 'AO', 'EC', 'RP'], dtype=object)"
      ]
     },
     "execution_count": 13,
     "metadata": {},
     "output_type": "execute_result"
    }
   ],
   "source": [
    "df['rating'].unique()"
   ]
  },
  {
   "cell_type": "markdown",
   "id": "33e82310",
   "metadata": {},
   "source": [
    "ESRB оценивает игровой контент и присваивает ему подходящую возрастную категорию:\n",
    "\n",
    "<b>«EC»</b> («Early childhood») — «Для детей младшего возраста»;<br>\n",
    "<b>«E»</b> («Everyone») — «Для всех»;<br>\n",
    "<b>«E10+» </b>(«Everyone 10 and older») — «Для всех от 10 лет и старше»;<br>\n",
    "<b>«T»</b> («Teen») — «Подросткам»:<br>\n",
    "<b>«M» </b>(«Mature») — «Для взрослых»;<br>\n",
    "<b>«AO»</b> («Adults Only 18+») — «Только для взрослых»;<br>\n",
    "<b>«RP»</b> («Rating Pending») — «Рейтинг ожидается»;<br>\n",
    "<b>«K-A»</b> («Kids to Adults»)— «Для детей и взрослых».<br>"
   ]
  },
  {
   "cell_type": "markdown",
   "id": "8a6ed594",
   "metadata": {},
   "source": [
    "Возможно пропуски в \"райтинге\" обусловлены еще не установленным показателям.<br>\n",
    "Можем заменить такие пропуски ярлыком <b>\"RP\"</b>  («Rating Pending») — «Рейтинг ожидается»."
   ]
  },
  {
   "cell_type": "code",
   "execution_count": 14,
   "id": "128d4556",
   "metadata": {},
   "outputs": [
    {
     "data": {
      "text/plain": [
       "array(['E', 'RP', 'M', 'T', 'E10+', 'K-A', 'AO', 'EC'], dtype=object)"
      ]
     },
     "execution_count": 14,
     "metadata": {},
     "output_type": "execute_result"
    }
   ],
   "source": [
    "df['rating'] = df['rating'].fillna('RP')\n",
    "df['rating'].unique()"
   ]
  },
  {
   "cell_type": "code",
   "execution_count": 15,
   "id": "ef658107",
   "metadata": {},
   "outputs": [
    {
     "data": {
      "text/plain": [
       "name               0\n",
       "platform           0\n",
       "year_of_release    0\n",
       "genre              0\n",
       "na_sales           0\n",
       "eu_sales           0\n",
       "jp_sales           0\n",
       "other_sales        0\n",
       "critic_score       0\n",
       "user_score         0\n",
       "rating             0\n",
       "dtype: int64"
      ]
     },
     "execution_count": 15,
     "metadata": {},
     "output_type": "execute_result"
    }
   ],
   "source": [
    "df.isna().sum()"
   ]
  },
  {
   "cell_type": "markdown",
   "id": "76a8bb39",
   "metadata": {},
   "source": [
    "<u><b>Добавление столбца с числом продаж по всем регионам"
   ]
  },
  {
   "cell_type": "code",
   "execution_count": 16,
   "id": "c553b2cc",
   "metadata": {},
   "outputs": [
    {
     "data": {
      "text/html": [
       "<div>\n",
       "<style scoped>\n",
       "    .dataframe tbody tr th:only-of-type {\n",
       "        vertical-align: middle;\n",
       "    }\n",
       "\n",
       "    .dataframe tbody tr th {\n",
       "        vertical-align: top;\n",
       "    }\n",
       "\n",
       "    .dataframe thead th {\n",
       "        text-align: right;\n",
       "    }\n",
       "</style>\n",
       "<table border=\"1\" class=\"dataframe\">\n",
       "  <thead>\n",
       "    <tr style=\"text-align: right;\">\n",
       "      <th></th>\n",
       "      <th>name</th>\n",
       "      <th>platform</th>\n",
       "      <th>year_of_release</th>\n",
       "      <th>genre</th>\n",
       "      <th>na_sales</th>\n",
       "      <th>eu_sales</th>\n",
       "      <th>jp_sales</th>\n",
       "      <th>other_sales</th>\n",
       "      <th>critic_score</th>\n",
       "      <th>user_score</th>\n",
       "      <th>rating</th>\n",
       "      <th>total_sales</th>\n",
       "    </tr>\n",
       "  </thead>\n",
       "  <tbody>\n",
       "    <tr>\n",
       "      <th>0</th>\n",
       "      <td>Wii Sports</td>\n",
       "      <td>Wii</td>\n",
       "      <td>2006</td>\n",
       "      <td>Sports</td>\n",
       "      <td>41.36</td>\n",
       "      <td>28.96</td>\n",
       "      <td>3.77</td>\n",
       "      <td>8.45</td>\n",
       "      <td>76.0</td>\n",
       "      <td>8.0</td>\n",
       "      <td>E</td>\n",
       "      <td>82.54</td>\n",
       "    </tr>\n",
       "    <tr>\n",
       "      <th>1</th>\n",
       "      <td>Super Mario Bros.</td>\n",
       "      <td>NES</td>\n",
       "      <td>1985</td>\n",
       "      <td>Platform</td>\n",
       "      <td>29.08</td>\n",
       "      <td>3.58</td>\n",
       "      <td>6.81</td>\n",
       "      <td>0.77</td>\n",
       "      <td>-1.0</td>\n",
       "      <td>-1.0</td>\n",
       "      <td>RP</td>\n",
       "      <td>40.24</td>\n",
       "    </tr>\n",
       "    <tr>\n",
       "      <th>2</th>\n",
       "      <td>Mario Kart Wii</td>\n",
       "      <td>Wii</td>\n",
       "      <td>2008</td>\n",
       "      <td>Racing</td>\n",
       "      <td>15.68</td>\n",
       "      <td>12.76</td>\n",
       "      <td>3.79</td>\n",
       "      <td>3.29</td>\n",
       "      <td>82.0</td>\n",
       "      <td>8.3</td>\n",
       "      <td>E</td>\n",
       "      <td>35.52</td>\n",
       "    </tr>\n",
       "    <tr>\n",
       "      <th>3</th>\n",
       "      <td>Wii Sports Resort</td>\n",
       "      <td>Wii</td>\n",
       "      <td>2009</td>\n",
       "      <td>Sports</td>\n",
       "      <td>15.61</td>\n",
       "      <td>10.93</td>\n",
       "      <td>3.28</td>\n",
       "      <td>2.95</td>\n",
       "      <td>80.0</td>\n",
       "      <td>8.0</td>\n",
       "      <td>E</td>\n",
       "      <td>32.77</td>\n",
       "    </tr>\n",
       "    <tr>\n",
       "      <th>4</th>\n",
       "      <td>Pokemon Red/Pokemon Blue</td>\n",
       "      <td>GB</td>\n",
       "      <td>1996</td>\n",
       "      <td>Role-Playing</td>\n",
       "      <td>11.27</td>\n",
       "      <td>8.89</td>\n",
       "      <td>10.22</td>\n",
       "      <td>1.00</td>\n",
       "      <td>-1.0</td>\n",
       "      <td>-1.0</td>\n",
       "      <td>RP</td>\n",
       "      <td>31.38</td>\n",
       "    </tr>\n",
       "  </tbody>\n",
       "</table>\n",
       "</div>"
      ],
      "text/plain": [
       "                       name platform  year_of_release         genre  na_sales  \\\n",
       "0                Wii Sports      Wii             2006        Sports     41.36   \n",
       "1         Super Mario Bros.      NES             1985      Platform     29.08   \n",
       "2            Mario Kart Wii      Wii             2008        Racing     15.68   \n",
       "3         Wii Sports Resort      Wii             2009        Sports     15.61   \n",
       "4  Pokemon Red/Pokemon Blue       GB             1996  Role-Playing     11.27   \n",
       "\n",
       "   eu_sales  jp_sales  other_sales  critic_score  user_score rating  \\\n",
       "0     28.96      3.77         8.45          76.0         8.0      E   \n",
       "1      3.58      6.81         0.77          -1.0        -1.0     RP   \n",
       "2     12.76      3.79         3.29          82.0         8.3      E   \n",
       "3     10.93      3.28         2.95          80.0         8.0      E   \n",
       "4      8.89     10.22         1.00          -1.0        -1.0     RP   \n",
       "\n",
       "   total_sales  \n",
       "0        82.54  \n",
       "1        40.24  \n",
       "2        35.52  \n",
       "3        32.77  \n",
       "4        31.38  "
      ]
     },
     "execution_count": 16,
     "metadata": {},
     "output_type": "execute_result"
    }
   ],
   "source": [
    "df['total_sales'] = df[['na_sales','eu_sales','jp_sales', 'other_sales']].sum(axis = 1)\n",
    "df.head()"
   ]
  },
  {
   "cell_type": "markdown",
   "id": "cab78d88",
   "metadata": {},
   "source": [
    "<u><b>Поиск неявных дубликатов"
   ]
  },
  {
   "cell_type": "code",
   "execution_count": 17,
   "id": "31de9cfb",
   "metadata": {},
   "outputs": [
    {
     "data": {
      "text/plain": [
       "array(['Wii', 'NES', 'GB', 'DS', 'X360', 'PS3', 'PS2', 'SNES', 'GBA',\n",
       "       'PS4', '3DS', 'N64', 'PS', 'XB', 'PC', '2600', 'PSP', 'XOne',\n",
       "       'WiiU', 'GC', 'GEN', 'DC', 'PSV', 'SAT', 'SCD', 'WS', 'NG', 'TG16',\n",
       "       '3DO', 'GG', 'PCFX'], dtype=object)"
      ]
     },
     "execution_count": 17,
     "metadata": {},
     "output_type": "execute_result"
    }
   ],
   "source": [
    "df['platform'].unique()"
   ]
  },
  {
   "cell_type": "code",
   "execution_count": 18,
   "id": "388f48fb",
   "metadata": {},
   "outputs": [
    {
     "data": {
      "text/plain": [
       "array(['Sports', 'Platform', 'Racing', 'Role-Playing', 'Puzzle', 'Misc',\n",
       "       'Shooter', 'Simulation', 'Action', 'Fighting', 'Adventure',\n",
       "       'Strategy'], dtype=object)"
      ]
     },
     "execution_count": 18,
     "metadata": {},
     "output_type": "execute_result"
    }
   ],
   "source": [
    "df['genre'].unique()"
   ]
  },
  {
   "cell_type": "markdown",
   "id": "ca272262",
   "metadata": {},
   "source": [
    "При дополнительном просмотре неявных дубликатов выявлено не было."
   ]
  },
  {
   "cell_type": "markdown",
   "id": "6ad2c547",
   "metadata": {},
   "source": [
    "<div style=\"text-align: justify \"><b>Вывод: </b>При проведении предобработки данных было обнаружено большое количество пропущенных значений. Пропуски по столбцам с наименование, жанром и годами выпуска были удалены, так как в общей массей их было достаточно мало (менее 2%). Пропуски с оценками критиков или пользователей были заменены на  \"-1\" для удобства фильтрации в дальнейшем. Пропуски по данным столбцам обусловлены фактическим отсутствием оценок, также были заменены и значения \"tbd\". Пропуски в рейтинге были заменены на категорию <b>RP</b> - «Рейтинг ожидается». Дополнительно был добавлен столбец с общим числом продаж по всем регионам. При дополнительном анализе массива данных каких-либо неявных дубликатов выявлено не было.</div>"
   ]
  },
  {
   "cell_type": "markdown",
   "id": "5a1d33a3",
   "metadata": {},
   "source": [
    "### 3. Исследовательский анализ данных"
   ]
  },
  {
   "cell_type": "markdown",
   "id": "c1af1f80",
   "metadata": {},
   "source": [
    "<u><b>Анализ выпуска игр по годам"
   ]
  },
  {
   "cell_type": "code",
   "execution_count": 19,
   "id": "caad1a99",
   "metadata": {},
   "outputs": [
    {
     "data": {
      "image/png": "[encoded data removed]",
      "text/plain": [
       "<Figure size 1080x720 with 1 Axes>"
      ]
     },
     "metadata": {
      "needs_background": "light"
     },
     "output_type": "display_data"
    }
   ],
   "source": [
    "df.pivot_table(index = 'year_of_release', values = 'name', aggfunc = 'count')\\\n",
    "    .plot(kind = 'bar', grid=True, figsize=(15, 10))\n",
    "\n",
    "plt.title('Количество игр по годам', fontsize = 16)\n",
    "plt.ylabel('Количество игр', fontsize = 14)\n",
    "plt.xlabel('Год выпуска', fontsize = 14);\n"
   ]
  },
  {
   "cell_type": "markdown",
   "id": "95cde3ed",
   "metadata": {},
   "source": [
    "<b>Вывод: </b>рост по созданию игр наблюдается с 1994 года, но игр создавалось еще крайне мало (менее 200 в год). Большой скачок уже наблюдается в 2002 году (более 800 игр в год). Пик приходится на 2008, 2009 года, в эти года производилось более 1400 игр в год. Затем наблюдается снижение. При дальнейше анализе будет использоваться период с 2001 по 2016 года, так как создание игр на данном рубеже уже было стабильно больше 400 в год. Также стоит отметить популярность компьютерных, которая как раз и началась в 2000 годах. "
   ]
  },
  {
   "cell_type": "markdown",
   "id": "2e797cb8",
   "metadata": {},
   "source": [
    "<u><b>Анализ продаж по платформам"
   ]
  },
  {
   "cell_type": "code",
   "execution_count": 20,
   "id": "144a7916",
   "metadata": {},
   "outputs": [
    {
     "data": {
      "image/png": "[encoded data removed]",
      "text/plain": [
       "<Figure size 1152x720 with 1 Axes>"
      ]
     },
     "metadata": {
      "needs_background": "light"
     },
     "output_type": "display_data"
    }
   ],
   "source": [
    "df.groupby('platform').agg({'total_sales':'sum'})\\\n",
    "     .plot(kind = 'bar', grid=True, legend=False, figsize=(16, 10))\n",
    "\n",
    "plt.title('Зависимость продаж от платформ', fontsize = 16)\n",
    "plt.ylabel('Всего продаж, млн', fontsize = 14)\n",
    "plt.xlabel('Платформа', fontsize = 14);"
   ]
  },
  {
   "cell_type": "markdown",
   "id": "da520e29",
   "metadata": {},
   "source": [
    "Отсортируем платформы по общему количеству продаж игр и построим барплот для отображения результата."
   ]
  },
  {
   "cell_type": "code",
   "execution_count": 21,
   "id": "0d8e1398",
   "metadata": {},
   "outputs": [
    {
     "data": {
      "text/plain": [
       "platform\n",
       "PS2     1233.56\n",
       "X360     961.24\n",
       "PS3      931.34\n",
       "Wii      891.18\n",
       "DS       802.78\n",
       "Name: total_sales, dtype: float64"
      ]
     },
     "execution_count": 21,
     "metadata": {},
     "output_type": "execute_result"
    },
    {
     "data": {
      "image/png": "[encoded data removed]",
      "text/plain": [
       "<Figure size 1152x720 with 1 Axes>"
      ]
     },
     "metadata": {
      "needs_background": "light"
     },
     "output_type": "display_data"
    }
   ],
   "source": [
    "top_platf = df.groupby('platform')['total_sales'].sum().sort_values(ascending=False)\n",
    "top_platf.plot(kind = 'bar', grid=True, legend=False, figsize=(16, 10))\n",
    "plt.title('Зависимость продаж от платформ', fontsize = 16)\n",
    "plt.ylabel('Всего продаж, млн', fontsize = 14)\n",
    "plt.xlabel('Платформа', fontsize = 14);\n",
    "top_platf.head()"
   ]
  },
  {
   "cell_type": "markdown",
   "id": "9afe8b91",
   "metadata": {},
   "source": [
    "Возьмем топ-5 платформы с числом продаж более 800 млн экземпляров."
   ]
  },
  {
   "cell_type": "code",
   "execution_count": 22,
   "id": "8bf2cf0a",
   "metadata": {},
   "outputs": [
    {
     "data": {
      "text/plain": [
       "Index(['PS2', 'X360', 'PS3', 'Wii', 'DS'], dtype='object', name='platform')"
      ]
     },
     "execution_count": 22,
     "metadata": {},
     "output_type": "execute_result"
    }
   ],
   "source": [
    "#Отбор первых 5 платформ\n",
    "top_5_platf = top_platf.index[0:5]\n",
    "top_5_platf"
   ]
  },
  {
   "cell_type": "code",
   "execution_count": 23,
   "id": "06c4b1f4",
   "metadata": {
    "scrolled": false
   },
   "outputs": [
    {
     "data": {
      "image/png": "[encoded data removed]",
      "text/plain": [
       "<Figure size 504x360 with 1 Axes>"
      ]
     },
     "metadata": {
      "needs_background": "light"
     },
     "output_type": "display_data"
    },
    {
     "data": {
      "image/png": "[encoded data removed]",
      "text/plain": [
       "<Figure size 504x360 with 1 Axes>"
      ]
     },
     "metadata": {
      "needs_background": "light"
     },
     "output_type": "display_data"
    },
    {
     "data": {
      "image/png": "[encoded data removed]",
      "text/plain": [
       "<Figure size 504x360 with 1 Axes>"
      ]
     },
     "metadata": {
      "needs_background": "light"
     },
     "output_type": "display_data"
    },
    {
     "data": {
      "image/png": "[encoded data removed]",
      "text/plain": [
       "<Figure size 504x360 with 1 Axes>"
      ]
     },
     "metadata": {
      "needs_background": "light"
     },
     "output_type": "display_data"
    },
    {
     "data": {
      "image/png": "[encoded data removed]",
      "text/plain": [
       "<Figure size 504x360 with 1 Axes>"
      ]
     },
     "metadata": {
      "needs_background": "light"
     },
     "output_type": "display_data"
    }
   ],
   "source": [
    "# Построение графика для каждой платформы\n",
    "for platf in top_5_platf:\n",
    "    (\n",
    "        df[df['platform'] == platf]\n",
    "        .pivot_table(index='year_of_release', values='total_sales', aggfunc='sum')\n",
    "        .plot(kind = 'bar', grid=True, legend=False, figsize=(7, 5))\n",
    "    )\n",
    "\n",
    "    plt.title(platf)\n",
    "    plt.ylabel('Всего продаж, млн')\n",
    "    plt.xlabel('Год')"
   ]
  },
  {
   "cell_type": "markdown",
   "id": "084705f1",
   "metadata": {},
   "source": [
    "<b>Вывод: </b> Средний срок \"жизни\" платформы составляет 6-8 лет. Как правило пик популярности приходится на 3-6 года. Но сильный рост популярности замечается уже со второго года, возможно это связано с доступностью игровых приставок. Также в ходе анализа была выявлена аномалия, первый год выпуска игры на `Nintendo DS` был 1985, хотя приставка была выпущена в только в 2004.\n",
    "\n",
    "Так как пики продаж приходятся на 3-6 года, актуальный период возьмем по середине (4 года)."
   ]
  },
  {
   "cell_type": "code",
   "execution_count": 24,
   "id": "6acf3488",
   "metadata": {},
   "outputs": [
    {
     "data": {
      "text/html": [
       "<div>\n",
       "<style scoped>\n",
       "    .dataframe tbody tr th:only-of-type {\n",
       "        vertical-align: middle;\n",
       "    }\n",
       "\n",
       "    .dataframe tbody tr th {\n",
       "        vertical-align: top;\n",
       "    }\n",
       "\n",
       "    .dataframe thead th {\n",
       "        text-align: right;\n",
       "    }\n",
       "</style>\n",
       "<table border=\"1\" class=\"dataframe\">\n",
       "  <thead>\n",
       "    <tr style=\"text-align: right;\">\n",
       "      <th></th>\n",
       "      <th>index</th>\n",
       "      <th>name</th>\n",
       "      <th>platform</th>\n",
       "      <th>year_of_release</th>\n",
       "      <th>genre</th>\n",
       "      <th>na_sales</th>\n",
       "      <th>eu_sales</th>\n",
       "      <th>jp_sales</th>\n",
       "      <th>other_sales</th>\n",
       "      <th>critic_score</th>\n",
       "      <th>user_score</th>\n",
       "      <th>rating</th>\n",
       "      <th>total_sales</th>\n",
       "    </tr>\n",
       "  </thead>\n",
       "  <tbody>\n",
       "    <tr>\n",
       "      <th>0</th>\n",
       "      <td>16</td>\n",
       "      <td>Grand Theft Auto V</td>\n",
       "      <td>PS3</td>\n",
       "      <td>2013</td>\n",
       "      <td>Action</td>\n",
       "      <td>7.02</td>\n",
       "      <td>9.09</td>\n",
       "      <td>0.98</td>\n",
       "      <td>3.96</td>\n",
       "      <td>97.0</td>\n",
       "      <td>8.2</td>\n",
       "      <td>M</td>\n",
       "      <td>21.05</td>\n",
       "    </tr>\n",
       "    <tr>\n",
       "      <th>1</th>\n",
       "      <td>23</td>\n",
       "      <td>Grand Theft Auto V</td>\n",
       "      <td>X360</td>\n",
       "      <td>2013</td>\n",
       "      <td>Action</td>\n",
       "      <td>9.66</td>\n",
       "      <td>5.14</td>\n",
       "      <td>0.06</td>\n",
       "      <td>1.41</td>\n",
       "      <td>97.0</td>\n",
       "      <td>8.1</td>\n",
       "      <td>M</td>\n",
       "      <td>16.27</td>\n",
       "    </tr>\n",
       "    <tr>\n",
       "      <th>2</th>\n",
       "      <td>31</td>\n",
       "      <td>Call of Duty: Black Ops 3</td>\n",
       "      <td>PS4</td>\n",
       "      <td>2015</td>\n",
       "      <td>Shooter</td>\n",
       "      <td>6.03</td>\n",
       "      <td>5.86</td>\n",
       "      <td>0.36</td>\n",
       "      <td>2.38</td>\n",
       "      <td>-1.0</td>\n",
       "      <td>-1.0</td>\n",
       "      <td>RP</td>\n",
       "      <td>14.63</td>\n",
       "    </tr>\n",
       "    <tr>\n",
       "      <th>3</th>\n",
       "      <td>33</td>\n",
       "      <td>Pokemon X/Pokemon Y</td>\n",
       "      <td>3DS</td>\n",
       "      <td>2013</td>\n",
       "      <td>Role-Playing</td>\n",
       "      <td>5.28</td>\n",
       "      <td>4.19</td>\n",
       "      <td>4.35</td>\n",
       "      <td>0.78</td>\n",
       "      <td>-1.0</td>\n",
       "      <td>-1.0</td>\n",
       "      <td>RP</td>\n",
       "      <td>14.60</td>\n",
       "    </tr>\n",
       "    <tr>\n",
       "      <th>4</th>\n",
       "      <td>42</td>\n",
       "      <td>Grand Theft Auto V</td>\n",
       "      <td>PS4</td>\n",
       "      <td>2014</td>\n",
       "      <td>Action</td>\n",
       "      <td>3.96</td>\n",
       "      <td>6.31</td>\n",
       "      <td>0.38</td>\n",
       "      <td>1.97</td>\n",
       "      <td>97.0</td>\n",
       "      <td>8.3</td>\n",
       "      <td>M</td>\n",
       "      <td>12.62</td>\n",
       "    </tr>\n",
       "    <tr>\n",
       "      <th>5</th>\n",
       "      <td>47</td>\n",
       "      <td>Pokemon Omega Ruby/Pokemon Alpha Sapphire</td>\n",
       "      <td>3DS</td>\n",
       "      <td>2014</td>\n",
       "      <td>Role-Playing</td>\n",
       "      <td>4.35</td>\n",
       "      <td>3.49</td>\n",
       "      <td>3.10</td>\n",
       "      <td>0.74</td>\n",
       "      <td>-1.0</td>\n",
       "      <td>-1.0</td>\n",
       "      <td>RP</td>\n",
       "      <td>11.68</td>\n",
       "    </tr>\n",
       "    <tr>\n",
       "      <th>6</th>\n",
       "      <td>60</td>\n",
       "      <td>Call of Duty: Ghosts</td>\n",
       "      <td>X360</td>\n",
       "      <td>2013</td>\n",
       "      <td>Shooter</td>\n",
       "      <td>6.73</td>\n",
       "      <td>2.56</td>\n",
       "      <td>0.04</td>\n",
       "      <td>0.91</td>\n",
       "      <td>73.0</td>\n",
       "      <td>2.6</td>\n",
       "      <td>M</td>\n",
       "      <td>10.24</td>\n",
       "    </tr>\n",
       "    <tr>\n",
       "      <th>7</th>\n",
       "      <td>69</td>\n",
       "      <td>Call of Duty: Ghosts</td>\n",
       "      <td>PS3</td>\n",
       "      <td>2013</td>\n",
       "      <td>Shooter</td>\n",
       "      <td>4.10</td>\n",
       "      <td>3.63</td>\n",
       "      <td>0.38</td>\n",
       "      <td>1.25</td>\n",
       "      <td>71.0</td>\n",
       "      <td>2.6</td>\n",
       "      <td>M</td>\n",
       "      <td>9.36</td>\n",
       "    </tr>\n",
       "    <tr>\n",
       "      <th>8</th>\n",
       "      <td>72</td>\n",
       "      <td>Minecraft</td>\n",
       "      <td>X360</td>\n",
       "      <td>2013</td>\n",
       "      <td>Misc</td>\n",
       "      <td>5.70</td>\n",
       "      <td>2.65</td>\n",
       "      <td>0.02</td>\n",
       "      <td>0.81</td>\n",
       "      <td>-1.0</td>\n",
       "      <td>-1.0</td>\n",
       "      <td>RP</td>\n",
       "      <td>9.18</td>\n",
       "    </tr>\n",
       "    <tr>\n",
       "      <th>9</th>\n",
       "      <td>77</td>\n",
       "      <td>FIFA 16</td>\n",
       "      <td>PS4</td>\n",
       "      <td>2015</td>\n",
       "      <td>Sports</td>\n",
       "      <td>1.12</td>\n",
       "      <td>6.12</td>\n",
       "      <td>0.06</td>\n",
       "      <td>1.28</td>\n",
       "      <td>82.0</td>\n",
       "      <td>4.3</td>\n",
       "      <td>E</td>\n",
       "      <td>8.58</td>\n",
       "    </tr>\n",
       "    <tr>\n",
       "      <th>10</th>\n",
       "      <td>87</td>\n",
       "      <td>Star Wars Battlefront (2015)</td>\n",
       "      <td>PS4</td>\n",
       "      <td>2015</td>\n",
       "      <td>Shooter</td>\n",
       "      <td>2.99</td>\n",
       "      <td>3.49</td>\n",
       "      <td>0.22</td>\n",
       "      <td>1.28</td>\n",
       "      <td>-1.0</td>\n",
       "      <td>-1.0</td>\n",
       "      <td>RP</td>\n",
       "      <td>7.98</td>\n",
       "    </tr>\n",
       "    <tr>\n",
       "      <th>11</th>\n",
       "      <td>92</td>\n",
       "      <td>Call of Duty: Advanced Warfare</td>\n",
       "      <td>PS4</td>\n",
       "      <td>2014</td>\n",
       "      <td>Shooter</td>\n",
       "      <td>2.81</td>\n",
       "      <td>3.48</td>\n",
       "      <td>0.14</td>\n",
       "      <td>1.23</td>\n",
       "      <td>83.0</td>\n",
       "      <td>5.7</td>\n",
       "      <td>M</td>\n",
       "      <td>7.66</td>\n",
       "    </tr>\n",
       "    <tr>\n",
       "      <th>12</th>\n",
       "      <td>94</td>\n",
       "      <td>FIFA 17</td>\n",
       "      <td>PS4</td>\n",
       "      <td>2016</td>\n",
       "      <td>Sports</td>\n",
       "      <td>0.66</td>\n",
       "      <td>5.75</td>\n",
       "      <td>0.08</td>\n",
       "      <td>1.11</td>\n",
       "      <td>85.0</td>\n",
       "      <td>5.0</td>\n",
       "      <td>E</td>\n",
       "      <td>7.60</td>\n",
       "    </tr>\n",
       "    <tr>\n",
       "      <th>13</th>\n",
       "      <td>96</td>\n",
       "      <td>Super Smash Bros. for Wii U and 3DS</td>\n",
       "      <td>3DS</td>\n",
       "      <td>2014</td>\n",
       "      <td>Fighting</td>\n",
       "      <td>3.27</td>\n",
       "      <td>1.37</td>\n",
       "      <td>2.43</td>\n",
       "      <td>0.48</td>\n",
       "      <td>-1.0</td>\n",
       "      <td>-1.0</td>\n",
       "      <td>RP</td>\n",
       "      <td>7.55</td>\n",
       "    </tr>\n",
       "    <tr>\n",
       "      <th>14</th>\n",
       "      <td>99</td>\n",
       "      <td>Call of Duty: Black Ops 3</td>\n",
       "      <td>XOne</td>\n",
       "      <td>2015</td>\n",
       "      <td>Shooter</td>\n",
       "      <td>4.59</td>\n",
       "      <td>2.11</td>\n",
       "      <td>0.01</td>\n",
       "      <td>0.68</td>\n",
       "      <td>-1.0</td>\n",
       "      <td>-1.0</td>\n",
       "      <td>RP</td>\n",
       "      <td>7.39</td>\n",
       "    </tr>\n",
       "  </tbody>\n",
       "</table>\n",
       "</div>"
      ],
      "text/plain": [
       "    index                                       name platform  \\\n",
       "0      16                         Grand Theft Auto V      PS3   \n",
       "1      23                         Grand Theft Auto V     X360   \n",
       "2      31                  Call of Duty: Black Ops 3      PS4   \n",
       "3      33                        Pokemon X/Pokemon Y      3DS   \n",
       "4      42                         Grand Theft Auto V      PS4   \n",
       "5      47  Pokemon Omega Ruby/Pokemon Alpha Sapphire      3DS   \n",
       "6      60                       Call of Duty: Ghosts     X360   \n",
       "7      69                       Call of Duty: Ghosts      PS3   \n",
       "8      72                                  Minecraft     X360   \n",
       "9      77                                    FIFA 16      PS4   \n",
       "10     87               Star Wars Battlefront (2015)      PS4   \n",
       "11     92             Call of Duty: Advanced Warfare      PS4   \n",
       "12     94                                    FIFA 17      PS4   \n",
       "13     96        Super Smash Bros. for Wii U and 3DS      3DS   \n",
       "14     99                  Call of Duty: Black Ops 3     XOne   \n",
       "\n",
       "    year_of_release         genre  na_sales  eu_sales  jp_sales  other_sales  \\\n",
       "0              2013        Action      7.02      9.09      0.98         3.96   \n",
       "1              2013        Action      9.66      5.14      0.06         1.41   \n",
       "2              2015       Shooter      6.03      5.86      0.36         2.38   \n",
       "3              2013  Role-Playing      5.28      4.19      4.35         0.78   \n",
       "4              2014        Action      3.96      6.31      0.38         1.97   \n",
       "5              2014  Role-Playing      4.35      3.49      3.10         0.74   \n",
       "6              2013       Shooter      6.73      2.56      0.04         0.91   \n",
       "7              2013       Shooter      4.10      3.63      0.38         1.25   \n",
       "8              2013          Misc      5.70      2.65      0.02         0.81   \n",
       "9              2015        Sports      1.12      6.12      0.06         1.28   \n",
       "10             2015       Shooter      2.99      3.49      0.22         1.28   \n",
       "11             2014       Shooter      2.81      3.48      0.14         1.23   \n",
       "12             2016        Sports      0.66      5.75      0.08         1.11   \n",
       "13             2014      Fighting      3.27      1.37      2.43         0.48   \n",
       "14             2015       Shooter      4.59      2.11      0.01         0.68   \n",
       "\n",
       "    critic_score  user_score rating  total_sales  \n",
       "0           97.0         8.2      M        21.05  \n",
       "1           97.0         8.1      M        16.27  \n",
       "2           -1.0        -1.0     RP        14.63  \n",
       "3           -1.0        -1.0     RP        14.60  \n",
       "4           97.0         8.3      M        12.62  \n",
       "5           -1.0        -1.0     RP        11.68  \n",
       "6           73.0         2.6      M        10.24  \n",
       "7           71.0         2.6      M         9.36  \n",
       "8           -1.0        -1.0     RP         9.18  \n",
       "9           82.0         4.3      E         8.58  \n",
       "10          -1.0        -1.0     RP         7.98  \n",
       "11          83.0         5.7      M         7.66  \n",
       "12          85.0         5.0      E         7.60  \n",
       "13          -1.0        -1.0     RP         7.55  \n",
       "14          -1.0        -1.0     RP         7.39  "
      ]
     },
     "execution_count": 24,
     "metadata": {},
     "output_type": "execute_result"
    }
   ],
   "source": [
    "#подготовка актуальных данных для анализа\n",
    "\n",
    "df_actual = df.query('year_of_release > 2012').reset_index()\n",
    "df_actual.head(15)"
   ]
  },
  {
   "cell_type": "markdown",
   "id": "c1adda19",
   "metadata": {},
   "source": [
    "<u><b> Динамика продаж по платформам"
   ]
  },
  {
   "cell_type": "code",
   "execution_count": 25,
   "id": "0a17df41",
   "metadata": {},
   "outputs": [
    {
     "data": {
      "text/html": [
       "<div>\n",
       "<style scoped>\n",
       "    .dataframe tbody tr th:only-of-type {\n",
       "        vertical-align: middle;\n",
       "    }\n",
       "\n",
       "    .dataframe tbody tr th {\n",
       "        vertical-align: top;\n",
       "    }\n",
       "\n",
       "    .dataframe thead th {\n",
       "        text-align: right;\n",
       "    }\n",
       "</style>\n",
       "<table border=\"1\" class=\"dataframe\">\n",
       "  <thead>\n",
       "    <tr style=\"text-align: right;\">\n",
       "      <th></th>\n",
       "      <th></th>\n",
       "      <th>total_sales</th>\n",
       "    </tr>\n",
       "    <tr>\n",
       "      <th>platform</th>\n",
       "      <th>year_of_release</th>\n",
       "      <th></th>\n",
       "    </tr>\n",
       "  </thead>\n",
       "  <tbody>\n",
       "    <tr>\n",
       "      <th rowspan=\"4\" valign=\"top\">3DS</th>\n",
       "      <th>2013</th>\n",
       "      <td>56.57</td>\n",
       "    </tr>\n",
       "    <tr>\n",
       "      <th>2014</th>\n",
       "      <td>43.76</td>\n",
       "    </tr>\n",
       "    <tr>\n",
       "      <th>2015</th>\n",
       "      <td>27.78</td>\n",
       "    </tr>\n",
       "    <tr>\n",
       "      <th>2016</th>\n",
       "      <td>15.14</td>\n",
       "    </tr>\n",
       "    <tr>\n",
       "      <th>DS</th>\n",
       "      <th>2013</th>\n",
       "      <td>1.54</td>\n",
       "    </tr>\n",
       "    <tr>\n",
       "      <th rowspan=\"4\" valign=\"top\">PC</th>\n",
       "      <th>2013</th>\n",
       "      <td>12.38</td>\n",
       "    </tr>\n",
       "    <tr>\n",
       "      <th>2014</th>\n",
       "      <td>13.28</td>\n",
       "    </tr>\n",
       "    <tr>\n",
       "      <th>2015</th>\n",
       "      <td>8.52</td>\n",
       "    </tr>\n",
       "    <tr>\n",
       "      <th>2016</th>\n",
       "      <td>5.25</td>\n",
       "    </tr>\n",
       "    <tr>\n",
       "      <th rowspan=\"4\" valign=\"top\">PS3</th>\n",
       "      <th>2013</th>\n",
       "      <td>113.25</td>\n",
       "    </tr>\n",
       "    <tr>\n",
       "      <th>2014</th>\n",
       "      <td>47.76</td>\n",
       "    </tr>\n",
       "    <tr>\n",
       "      <th>2015</th>\n",
       "      <td>16.82</td>\n",
       "    </tr>\n",
       "    <tr>\n",
       "      <th>2016</th>\n",
       "      <td>3.60</td>\n",
       "    </tr>\n",
       "    <tr>\n",
       "      <th rowspan=\"4\" valign=\"top\">PS4</th>\n",
       "      <th>2013</th>\n",
       "      <td>25.99</td>\n",
       "    </tr>\n",
       "    <tr>\n",
       "      <th>2014</th>\n",
       "      <td>100.00</td>\n",
       "    </tr>\n",
       "    <tr>\n",
       "      <th>2015</th>\n",
       "      <td>118.90</td>\n",
       "    </tr>\n",
       "    <tr>\n",
       "      <th>2016</th>\n",
       "      <td>69.25</td>\n",
       "    </tr>\n",
       "    <tr>\n",
       "      <th rowspan=\"3\" valign=\"top\">PSP</th>\n",
       "      <th>2013</th>\n",
       "      <td>3.14</td>\n",
       "    </tr>\n",
       "    <tr>\n",
       "      <th>2014</th>\n",
       "      <td>0.24</td>\n",
       "    </tr>\n",
       "    <tr>\n",
       "      <th>2015</th>\n",
       "      <td>0.12</td>\n",
       "    </tr>\n",
       "    <tr>\n",
       "      <th rowspan=\"4\" valign=\"top\">PSV</th>\n",
       "      <th>2013</th>\n",
       "      <td>10.59</td>\n",
       "    </tr>\n",
       "    <tr>\n",
       "      <th>2014</th>\n",
       "      <td>11.90</td>\n",
       "    </tr>\n",
       "    <tr>\n",
       "      <th>2015</th>\n",
       "      <td>6.25</td>\n",
       "    </tr>\n",
       "    <tr>\n",
       "      <th>2016</th>\n",
       "      <td>4.25</td>\n",
       "    </tr>\n",
       "    <tr>\n",
       "      <th rowspan=\"4\" valign=\"top\">Wii</th>\n",
       "      <th>2013</th>\n",
       "      <td>8.59</td>\n",
       "    </tr>\n",
       "    <tr>\n",
       "      <th>2014</th>\n",
       "      <td>3.75</td>\n",
       "    </tr>\n",
       "    <tr>\n",
       "      <th>2015</th>\n",
       "      <td>1.14</td>\n",
       "    </tr>\n",
       "    <tr>\n",
       "      <th>2016</th>\n",
       "      <td>0.18</td>\n",
       "    </tr>\n",
       "    <tr>\n",
       "      <th rowspan=\"4\" valign=\"top\">WiiU</th>\n",
       "      <th>2013</th>\n",
       "      <td>21.65</td>\n",
       "    </tr>\n",
       "    <tr>\n",
       "      <th>2014</th>\n",
       "      <td>22.03</td>\n",
       "    </tr>\n",
       "    <tr>\n",
       "      <th>2015</th>\n",
       "      <td>16.35</td>\n",
       "    </tr>\n",
       "    <tr>\n",
       "      <th>2016</th>\n",
       "      <td>4.60</td>\n",
       "    </tr>\n",
       "    <tr>\n",
       "      <th rowspan=\"4\" valign=\"top\">X360</th>\n",
       "      <th>2013</th>\n",
       "      <td>88.58</td>\n",
       "    </tr>\n",
       "    <tr>\n",
       "      <th>2014</th>\n",
       "      <td>34.74</td>\n",
       "    </tr>\n",
       "    <tr>\n",
       "      <th>2015</th>\n",
       "      <td>11.96</td>\n",
       "    </tr>\n",
       "    <tr>\n",
       "      <th>2016</th>\n",
       "      <td>1.52</td>\n",
       "    </tr>\n",
       "    <tr>\n",
       "      <th rowspan=\"4\" valign=\"top\">XOne</th>\n",
       "      <th>2013</th>\n",
       "      <td>18.96</td>\n",
       "    </tr>\n",
       "    <tr>\n",
       "      <th>2014</th>\n",
       "      <td>54.07</td>\n",
       "    </tr>\n",
       "    <tr>\n",
       "      <th>2015</th>\n",
       "      <td>60.14</td>\n",
       "    </tr>\n",
       "    <tr>\n",
       "      <th>2016</th>\n",
       "      <td>26.15</td>\n",
       "    </tr>\n",
       "  </tbody>\n",
       "</table>\n",
       "</div>"
      ],
      "text/plain": [
       "                          total_sales\n",
       "platform year_of_release             \n",
       "3DS      2013                   56.57\n",
       "         2014                   43.76\n",
       "         2015                   27.78\n",
       "         2016                   15.14\n",
       "DS       2013                    1.54\n",
       "PC       2013                   12.38\n",
       "         2014                   13.28\n",
       "         2015                    8.52\n",
       "         2016                    5.25\n",
       "PS3      2013                  113.25\n",
       "         2014                   47.76\n",
       "         2015                   16.82\n",
       "         2016                    3.60\n",
       "PS4      2013                   25.99\n",
       "         2014                  100.00\n",
       "         2015                  118.90\n",
       "         2016                   69.25\n",
       "PSP      2013                    3.14\n",
       "         2014                    0.24\n",
       "         2015                    0.12\n",
       "PSV      2013                   10.59\n",
       "         2014                   11.90\n",
       "         2015                    6.25\n",
       "         2016                    4.25\n",
       "Wii      2013                    8.59\n",
       "         2014                    3.75\n",
       "         2015                    1.14\n",
       "         2016                    0.18\n",
       "WiiU     2013                   21.65\n",
       "         2014                   22.03\n",
       "         2015                   16.35\n",
       "         2016                    4.60\n",
       "X360     2013                   88.58\n",
       "         2014                   34.74\n",
       "         2015                   11.96\n",
       "         2016                    1.52\n",
       "XOne     2013                   18.96\n",
       "         2014                   54.07\n",
       "         2015                   60.14\n",
       "         2016                   26.15"
      ]
     },
     "execution_count": 25,
     "metadata": {},
     "output_type": "execute_result"
    }
   ],
   "source": [
    "df_actual_1 = df_actual.pivot_table(index={'year_of_release', 'platform'}, values='total_sales', aggfunc = 'sum')\n",
    "df_actual_1"
   ]
  },
  {
   "cell_type": "code",
   "execution_count": 26,
   "id": "cc4c3534",
   "metadata": {},
   "outputs": [
    {
     "data": {
      "image/png": "[encoded data removed]",
      "text/plain": [
       "<Figure size 1440x720 with 1 Axes>"
      ]
     },
     "metadata": {
      "needs_background": "light"
     },
     "output_type": "display_data"
    }
   ],
   "source": [
    "fig, ax = plt.subplots(figsize =(20,10))\n",
    "ax = sns.lineplot(data=df_actual_1, y='total_sales', x='year_of_release', hue='platform', marker='o')\n",
    "ax.legend (loc='upper right')\n",
    "ax.set_title('Динамика продаж по платформам', fontsize = 16)\n",
    "ax.set_xlabel ('Всего продаж, млн', fontsize = 14)\n",
    "plt.xticks(np.arange(2013, 2017, 1))\n",
    "ax.set_ylabel ('Год', fontsize = 14);"
   ]
  },
  {
   "cell_type": "markdown",
   "id": "fa9fa668",
   "metadata": {},
   "source": [
    "<b>Вывод: </b> Как видно из графика наиболее прибыльными платформами являюся `PS4`, `Xbox 360`, `Nintendo DS`. Стоит отметить, что в 2016 наблюдается сильный спад, возможно данные за неполный год. При планировании на 2017 год стоит обратить внимание на вышеописанные платформы, а также `PC`, `Wii` - как самые стабильные продажи и на `Xbox one`, `PS Vita` - как на достаточно молодые и перспективные платформы."
   ]
  },
  {
   "cell_type": "markdown",
   "id": "72a989f9",
   "metadata": {},
   "source": [
    "<u><b> Распределение продаж по платформам"
   ]
  },
  {
   "cell_type": "code",
   "execution_count": 27,
   "id": "2b5c6ab2",
   "metadata": {},
   "outputs": [
    {
     "data": {
      "image/png": "[encoded data removed]",
      "text/plain": [
       "<Figure size 1440x720 with 1 Axes>"
      ]
     },
     "metadata": {
      "needs_background": "light"
     },
     "output_type": "display_data"
    }
   ],
   "source": [
    "#построение диаграммы размаха\n",
    "fig, ax = plt.subplots(figsize =(20,10))\n",
    "sns.boxplot(x = 'platform', y = 'total_sales', data = df_actual)\n",
    "plt.ylim(0, 2)\n",
    "plt.title('Распределение по платформам', fontsize = 16)\n",
    "plt.ylabel('Всего продаж, млн', fontsize = 14)\n",
    "plt.xlabel('Платформа', fontsize = 14);"
   ]
  },
  {
   "cell_type": "markdown",
   "id": "a238792f",
   "metadata": {},
   "source": [
    "<b>Вывод: </b> Как видно из построенной диаграммы размаха медиана у `PS4`, `PS3` и `Wii` меньше, чем у `Xbox 360` и `Xbox one`. В целом у всех вышеописанных платформ хорошее медианное значение, перекос идет в положительную сторону. Правда `PS3` видется все-таки уже менее интересным."
   ]
  },
  {
   "cell_type": "markdown",
   "id": "2245b5bf",
   "metadata": {},
   "source": [
    "<u><b> Анализ влияния оценки критиков и пользователей"
   ]
  },
  {
   "cell_type": "markdown",
   "id": "ce2836a5",
   "metadata": {},
   "source": [
    "Рассмотрим влияние оценок критиокв и пользователей на продажи игр на примере  PS4"
   ]
  },
  {
   "cell_type": "code",
   "execution_count": 28,
   "id": "10a47c10",
   "metadata": {},
   "outputs": [],
   "source": [
    "#выберем данные по PS4\n",
    "PS4_info = df_actual.query('platform == \"PS4\"')\n",
    "\n",
    "#отфильтруем маркеры, которые ранее были отмечены как \"-1\"\n",
    "PS4_info = PS4_info.query('critic_score != -1 & user_score != -1')"
   ]
  },
  {
   "cell_type": "code",
   "execution_count": 29,
   "id": "63ef2795",
   "metadata": {},
   "outputs": [
    {
     "name": "stdout",
     "output_type": "stream",
     "text": [
      "              critic_score  total_sales\n",
      "critic_score      1.000000     0.550628\n",
      "total_sales       0.550628     1.000000\n"
     ]
    },
    {
     "data": {
      "image/png": "[encoded data removed]",
      "text/plain": [
       "<Figure size 936x504 with 1 Axes>"
      ]
     },
     "metadata": {
      "needs_background": "light"
     },
     "output_type": "display_data"
    }
   ],
   "source": [
    "#построим диаграмму рассеивания для анализа влияния оценки критиков\n",
    "PS4_info.pivot_table(index='critic_score', values='total_sales').plot(grid=True, style='o', figsize=(13, 7))\n",
    "plt.title('Зависимость продаж от оценки критиков', fontsize = 16)\n",
    "plt.xlabel('Оценка', fontsize = 14)\n",
    "plt.ylabel('Всего продаж, млн', fontsize = 14);\n",
    "print(PS4_info.pivot_table(index='critic_score', values=['total_sales']).reset_index().corr())"
   ]
  },
  {
   "cell_type": "markdown",
   "id": "89ac99e3",
   "metadata": {},
   "source": [
    "<b>Вывод: </b> Из диаграммы рассеивания и расчета корреляции видно что общие продажи на `PS4` и оценка критиков имеют заметную корреляцию (0,55). Особенно это заметно при хороших оценках - как правило в таких случаях продаж больше. "
   ]
  },
  {
   "cell_type": "code",
   "execution_count": 30,
   "id": "1ffe579f",
   "metadata": {},
   "outputs": [
    {
     "name": "stdout",
     "output_type": "stream",
     "text": [
      "             user_score  total_sales\n",
      "user_score     1.000000     0.162508\n",
      "total_sales    0.162508     1.000000\n"
     ]
    },
    {
     "data": {
      "image/png": "[encoded data removed]",
      "text/plain": [
       "<Figure size 936x504 with 1 Axes>"
      ]
     },
     "metadata": {
      "needs_background": "light"
     },
     "output_type": "display_data"
    }
   ],
   "source": [
    "#построим диаграмму рассеивания для анализа влияния оценки пользователей\n",
    "PS4_info.pivot_table(index='user_score', values='total_sales').plot(grid=True, style='o', figsize=(13, 7))\n",
    "plt.title('Зависимость продаж от оценки пользователей', fontsize = 16)\n",
    "plt.xlabel('Оценка', fontsize = 14)\n",
    "plt.ylabel('Всего продаж, млн', fontsize = 14);\n",
    "print(PS4_info.pivot_table(index='user_score', values=['total_sales']).reset_index().corr())"
   ]
  },
  {
   "cell_type": "markdown",
   "id": "66d5524f",
   "metadata": {},
   "source": [
    "<b>Вывод: </b> Из диаграммы рассеивания и расчета корреляции видно что общие продажи на `PS4` и оценка пользователей имеют слабую корреляцию (0,16). Оценки пользователей никак не влияют на продажи."
   ]
  },
  {
   "cell_type": "code",
   "execution_count": 31,
   "id": "d970e2bc",
   "metadata": {},
   "outputs": [],
   "source": [
    "#отфильтруем маркеры, которые ранее были отмечены как \"-1\" для всех платформа\n",
    "\n",
    "all_info = df_actual.query('critic_score != -1 & user_score != -1')"
   ]
  },
  {
   "cell_type": "code",
   "execution_count": 32,
   "id": "68fb20e0",
   "metadata": {},
   "outputs": [
    {
     "name": "stdout",
     "output_type": "stream",
     "text": [
      "              critic_score  total_sales\n",
      "critic_score       1.00000      0.44744\n",
      "total_sales        0.44744      1.00000\n"
     ]
    },
    {
     "data": {
      "image/png": "[encoded data removed]",
      "text/plain": [
       "<Figure size 936x504 with 1 Axes>"
      ]
     },
     "metadata": {
      "needs_background": "light"
     },
     "output_type": "display_data"
    }
   ],
   "source": [
    "#построим диаграмму рассеивания для анализа влияния оценки критиков\n",
    "all_info.pivot_table(index='critic_score', values='total_sales').plot(grid=True, style='o', figsize=(13, 7))\n",
    "plt.title('Зависимость продаж от оценки критиков', fontsize = 16)\n",
    "plt.xlabel('Оценка', fontsize = 14)\n",
    "plt.ylabel('Всего продаж, млн', fontsize = 14);\n",
    "print(all_info.pivot_table(index='critic_score', values=['total_sales']).reset_index().corr())"
   ]
  },
  {
   "cell_type": "markdown",
   "id": "4360a9ff",
   "metadata": {},
   "source": [
    "<b>Вывод: </b> Из диаграммы рассеивания и расчета корреляции видно что общие продажи на всех платформах и оценка критиков имеют умеренную  корреляцию (0,45), что ниже, чем у `PS4`."
   ]
  },
  {
   "cell_type": "code",
   "execution_count": 33,
   "id": "c2a29f4d",
   "metadata": {},
   "outputs": [
    {
     "name": "stdout",
     "output_type": "stream",
     "text": [
      "             user_score  total_sales\n",
      "user_score     1.000000     0.107175\n",
      "total_sales    0.107175     1.000000\n"
     ]
    },
    {
     "data": {
      "image/png": "[encoded data removed]",
      "text/plain": [
       "<Figure size 936x504 with 1 Axes>"
      ]
     },
     "metadata": {
      "needs_background": "light"
     },
     "output_type": "display_data"
    }
   ],
   "source": [
    "#построим диаграмму рассеивания для анализа влияния оценки критиков\n",
    "all_info.pivot_table(index='user_score', values='total_sales').plot(grid=True, style='o', figsize=(13, 7))\n",
    "plt.title('Зависимость продаж от оценки критиков', fontsize = 16)\n",
    "plt.xlabel('Оценка', fontsize = 14)\n",
    "plt.ylabel('Всего продаж, млн', fontsize = 14);\n",
    "print(all_info.pivot_table(index='user_score', values=['total_sales']).reset_index().corr())"
   ]
  },
  {
   "cell_type": "markdown",
   "id": "1460daf9",
   "metadata": {},
   "source": [
    "<b>Вывод: </b> Из диаграммы рассеивания и расчета корреляции видно что общие продажи на всех платформах и оценка пользователей имеют слабую  корреляцию (0,11), что сравнимо с `PS4`."
   ]
  },
  {
   "cell_type": "markdown",
   "id": "1cd30e63",
   "metadata": {},
   "source": [
    "<u><b> Распределение игр по жанрам"
   ]
  },
  {
   "cell_type": "code",
   "execution_count": 34,
   "id": "f854c760",
   "metadata": {},
   "outputs": [
    {
     "data": {
      "text/html": [
       "<div>\n",
       "<style scoped>\n",
       "    .dataframe tbody tr th:only-of-type {\n",
       "        vertical-align: middle;\n",
       "    }\n",
       "\n",
       "    .dataframe tbody tr th {\n",
       "        vertical-align: top;\n",
       "    }\n",
       "\n",
       "    .dataframe thead th {\n",
       "        text-align: right;\n",
       "    }\n",
       "</style>\n",
       "<table border=\"1\" class=\"dataframe\">\n",
       "  <thead>\n",
       "    <tr style=\"text-align: right;\">\n",
       "      <th></th>\n",
       "      <th>median</th>\n",
       "      <th>sum</th>\n",
       "      <th>count</th>\n",
       "    </tr>\n",
       "    <tr>\n",
       "      <th>genre</th>\n",
       "      <th></th>\n",
       "      <th></th>\n",
       "      <th></th>\n",
       "    </tr>\n",
       "  </thead>\n",
       "  <tbody>\n",
       "    <tr>\n",
       "      <th>Shooter</th>\n",
       "      <td>0.450</td>\n",
       "      <td>232.98</td>\n",
       "      <td>187</td>\n",
       "    </tr>\n",
       "    <tr>\n",
       "      <th>Sports</th>\n",
       "      <td>0.240</td>\n",
       "      <td>150.65</td>\n",
       "      <td>214</td>\n",
       "    </tr>\n",
       "    <tr>\n",
       "      <th>Platform</th>\n",
       "      <td>0.225</td>\n",
       "      <td>42.63</td>\n",
       "      <td>74</td>\n",
       "    </tr>\n",
       "    <tr>\n",
       "      <th>Role-Playing</th>\n",
       "      <td>0.125</td>\n",
       "      <td>145.89</td>\n",
       "      <td>292</td>\n",
       "    </tr>\n",
       "    <tr>\n",
       "      <th>Fighting</th>\n",
       "      <td>0.125</td>\n",
       "      <td>35.31</td>\n",
       "      <td>80</td>\n",
       "    </tr>\n",
       "    <tr>\n",
       "      <th>Racing</th>\n",
       "      <td>0.120</td>\n",
       "      <td>39.89</td>\n",
       "      <td>85</td>\n",
       "    </tr>\n",
       "    <tr>\n",
       "      <th>Action</th>\n",
       "      <td>0.110</td>\n",
       "      <td>321.87</td>\n",
       "      <td>766</td>\n",
       "    </tr>\n",
       "    <tr>\n",
       "      <th>Simulation</th>\n",
       "      <td>0.100</td>\n",
       "      <td>21.76</td>\n",
       "      <td>62</td>\n",
       "    </tr>\n",
       "    <tr>\n",
       "      <th>Misc</th>\n",
       "      <td>0.100</td>\n",
       "      <td>62.82</td>\n",
       "      <td>155</td>\n",
       "    </tr>\n",
       "    <tr>\n",
       "      <th>Strategy</th>\n",
       "      <td>0.080</td>\n",
       "      <td>10.08</td>\n",
       "      <td>56</td>\n",
       "    </tr>\n",
       "    <tr>\n",
       "      <th>Puzzle</th>\n",
       "      <td>0.060</td>\n",
       "      <td>3.17</td>\n",
       "      <td>17</td>\n",
       "    </tr>\n",
       "    <tr>\n",
       "      <th>Adventure</th>\n",
       "      <td>0.030</td>\n",
       "      <td>23.64</td>\n",
       "      <td>245</td>\n",
       "    </tr>\n",
       "  </tbody>\n",
       "</table>\n",
       "</div>"
      ],
      "text/plain": [
       "              median     sum  count\n",
       "genre                              \n",
       "Shooter        0.450  232.98    187\n",
       "Sports         0.240  150.65    214\n",
       "Platform       0.225   42.63     74\n",
       "Role-Playing   0.125  145.89    292\n",
       "Fighting       0.125   35.31     80\n",
       "Racing         0.120   39.89     85\n",
       "Action         0.110  321.87    766\n",
       "Simulation     0.100   21.76     62\n",
       "Misc           0.100   62.82    155\n",
       "Strategy       0.080   10.08     56\n",
       "Puzzle         0.060    3.17     17\n",
       "Adventure      0.030   23.64    245"
      ]
     },
     "execution_count": 34,
     "metadata": {},
     "output_type": "execute_result"
    }
   ],
   "source": [
    "genre_info = df_actual.pivot_table(index='genre', values='total_sales', aggfunc=['median', 'sum', 'count'])\n",
    "genre_info.columns = genre_info.columns.droplevel(1)\n",
    "genre_info = genre_info.sort_values(by='median', ascending = False)\n",
    "genre_info"
   ]
  },
  {
   "cell_type": "markdown",
   "id": "4d2bec58",
   "metadata": {},
   "source": [
    "<b>Вывод: </b> Стоит отметить, что не всегда больший выбор игр дает стабильный доход. Так наиболее стабильный доход показывают игры с жанром `Shooter`, хотя раазнообразие и сумма продаж у них далеко не на первом месте. И наоборот `Adventure` имеет огромный выбор, но при этом маленькое медианное значение и маленькая сумма продаж. Можно выделить жанр `Action` с самой большой суммой продаж, но данный результат достигается имеено огромным количеством игр (таких игр 766, что почти в 2,5 раза больше от второго места), хотя медианное значение у данного жанра среднее. "
   ]
  },
  {
   "cell_type": "markdown",
   "id": "d9b6a3be",
   "metadata": {},
   "source": [
    "### 4. Портрет пользователя каждого региона"
   ]
  },
  {
   "cell_type": "markdown",
   "id": "1d40c0b1",
   "metadata": {},
   "source": [
    "<u><b> Европа"
   ]
  },
  {
   "cell_type": "markdown",
   "id": "ed9c9b4b",
   "metadata": {},
   "source": [
    "<u><i> Распределение по платформам"
   ]
  },
  {
   "cell_type": "code",
   "execution_count": 35,
   "id": "298e3d89",
   "metadata": {},
   "outputs": [
    {
     "data": {
      "text/html": [
       "<style  type=\"text/css\" >\n",
       "#T_0bdb3_row0_col1{\n",
       "            background-color:  #b40426;\n",
       "            color:  #f1f1f1;\n",
       "        }#T_0bdb3_row1_col1{\n",
       "            background-color:  #c1d4f4;\n",
       "            color:  #000000;\n",
       "        }#T_0bdb3_row2_col1{\n",
       "            background-color:  #b1cbfc;\n",
       "            color:  #000000;\n",
       "        }#T_0bdb3_row3_col1{\n",
       "            background-color:  #6a8bef;\n",
       "            color:  #000000;\n",
       "        }#T_0bdb3_row4_col1{\n",
       "            background-color:  #3b4cc0;\n",
       "            color:  #f1f1f1;\n",
       "        }</style><table id=\"T_0bdb3_\" ><thead>    <tr>        <th class=\"blank level0\" ></th>        <th class=\"col_heading level0 col0\" >platform</th>        <th class=\"col_heading level0 col1\" >eu_sales</th>    </tr></thead><tbody>\n",
       "                <tr>\n",
       "                        <th id=\"T_0bdb3_level0_row0\" class=\"row_heading level0 row0\" >4</th>\n",
       "                        <td id=\"T_0bdb3_row0_col0\" class=\"data row0 col0\" >PS4</td>\n",
       "                        <td id=\"T_0bdb3_row0_col1\" class=\"data row0 col1\" >290</td>\n",
       "            </tr>\n",
       "            <tr>\n",
       "                        <th id=\"T_0bdb3_level0_row1\" class=\"row_heading level0 row1\" >10</th>\n",
       "                        <td id=\"T_0bdb3_row1_col0\" class=\"data row1 col0\" >XOne</td>\n",
       "                        <td id=\"T_0bdb3_row1_col1\" class=\"data row1 col1\" >218</td>\n",
       "            </tr>\n",
       "            <tr>\n",
       "                        <th id=\"T_0bdb3_level0_row2\" class=\"row_heading level0 row2\" >3</th>\n",
       "                        <td id=\"T_0bdb3_row2_col0\" class=\"data row2 col0\" >PS3</td>\n",
       "                        <td id=\"T_0bdb3_row2_col1\" class=\"data row2 col1\" >212</td>\n",
       "            </tr>\n",
       "            <tr>\n",
       "                        <th id=\"T_0bdb3_level0_row3\" class=\"row_heading level0 row3\" >2</th>\n",
       "                        <td id=\"T_0bdb3_row3_col0\" class=\"data row3 col0\" >PC</td>\n",
       "                        <td id=\"T_0bdb3_row3_col1\" class=\"data row3 col1\" >187</td>\n",
       "            </tr>\n",
       "            <tr>\n",
       "                        <th id=\"T_0bdb3_level0_row4\" class=\"row_heading level0 row4\" >9</th>\n",
       "                        <td id=\"T_0bdb3_row4_col0\" class=\"data row4 col0\" >X360</td>\n",
       "                        <td id=\"T_0bdb3_row4_col1\" class=\"data row4 col1\" >169</td>\n",
       "            </tr>\n",
       "    </tbody></table>"
      ],
      "text/plain": [
       "<pandas.io.formats.style.Styler at 0x7f14c6488070>"
      ]
     },
     "execution_count": 35,
     "metadata": {},
     "output_type": "execute_result"
    }
   ],
   "source": [
    "eu_platf = df_actual.loc[(df_actual['eu_sales'] != 0)]\n",
    "\n",
    "eu_platf = eu_platf.pivot_table(index='platform', values='eu_sales',aggfunc='count').reset_index()\n",
    "eu_platf = eu_platf.sort_values(by='eu_sales', ascending = False).head()\n",
    "eu_platf.style.background_gradient('coolwarm')"
   ]
  },
  {
   "cell_type": "code",
   "execution_count": 36,
   "id": "bcb4fd9f",
   "metadata": {},
   "outputs": [
    {
     "data": {
      "image/png": "[encoded data removed]",
      "text/plain": [
       "<Figure size 432x288 with 1 Axes>"
      ]
     },
     "metadata": {},
     "output_type": "display_data"
    }
   ],
   "source": [
    "fig, axs = plt.subplots()\n",
    "axs.set_title('Доли продаж топ-5 платформ в Европе')\n",
    "axs.pie(eu_platf.eu_sales, \n",
    "              labels=eu_platf['platform'], \n",
    "              autopct='%1.1f%%', \n",
    "              explode=(0.1, 0.1, 0.1, 0.1, 0.1));"
   ]
  },
  {
   "cell_type": "markdown",
   "id": "70d11563",
   "metadata": {},
   "source": [
    "<u><i> Распределение по жанрам"
   ]
  },
  {
   "cell_type": "code",
   "execution_count": 37,
   "id": "d936248f",
   "metadata": {},
   "outputs": [
    {
     "data": {
      "text/html": [
       "<style  type=\"text/css\" >\n",
       "#T_11c8e_row0_col1{\n",
       "            background-color:  #b40426;\n",
       "            color:  #f1f1f1;\n",
       "        }#T_11c8e_row1_col1{\n",
       "            background-color:  #82a6fb;\n",
       "            color:  #000000;\n",
       "        }#T_11c8e_row2_col1{\n",
       "            background-color:  #81a4fb;\n",
       "            color:  #000000;\n",
       "        }#T_11c8e_row3_col1{\n",
       "            background-color:  #7597f6;\n",
       "            color:  #000000;\n",
       "        }#T_11c8e_row4_col1{\n",
       "            background-color:  #3b4cc0;\n",
       "            color:  #f1f1f1;\n",
       "        }</style><table id=\"T_11c8e_\" ><thead>    <tr>        <th class=\"blank level0\" ></th>        <th class=\"col_heading level0 col0\" >genre</th>        <th class=\"col_heading level0 col1\" >eu_sales</th>    </tr></thead><tbody>\n",
       "                <tr>\n",
       "                        <th id=\"T_11c8e_level0_row0\" class=\"row_heading level0 row0\" >0</th>\n",
       "                        <td id=\"T_11c8e_row0_col0\" class=\"data row0 col0\" >Action</td>\n",
       "                        <td id=\"T_11c8e_row0_col1\" class=\"data row0 col1\" >494</td>\n",
       "            </tr>\n",
       "            <tr>\n",
       "                        <th id=\"T_11c8e_level0_row1\" class=\"row_heading level0 row1\" >8</th>\n",
       "                        <td id=\"T_11c8e_row1_col0\" class=\"data row1 col0\" >Shooter</td>\n",
       "                        <td id=\"T_11c8e_row1_col1\" class=\"data row1 col1\" >171</td>\n",
       "            </tr>\n",
       "            <tr>\n",
       "                        <th id=\"T_11c8e_level0_row2\" class=\"row_heading level0 row2\" >10</th>\n",
       "                        <td id=\"T_11c8e_row2_col0\" class=\"data row2 col0\" >Sports</td>\n",
       "                        <td id=\"T_11c8e_row2_col1\" class=\"data row2 col1\" >169</td>\n",
       "            </tr>\n",
       "            <tr>\n",
       "                        <th id=\"T_11c8e_level0_row3\" class=\"row_heading level0 row3\" >7</th>\n",
       "                        <td id=\"T_11c8e_row3_col0\" class=\"data row3 col0\" >Role-Playing</td>\n",
       "                        <td id=\"T_11c8e_row3_col1\" class=\"data row3 col1\" >155</td>\n",
       "            </tr>\n",
       "            <tr>\n",
       "                        <th id=\"T_11c8e_level0_row4\" class=\"row_heading level0 row4\" >3</th>\n",
       "                        <td id=\"T_11c8e_row4_col0\" class=\"data row4 col0\" >Misc</td>\n",
       "                        <td id=\"T_11c8e_row4_col1\" class=\"data row4 col1\" >80</td>\n",
       "            </tr>\n",
       "    </tbody></table>"
      ],
      "text/plain": [
       "<pandas.io.formats.style.Styler at 0x7f14c5e1abe0>"
      ]
     },
     "execution_count": 37,
     "metadata": {},
     "output_type": "execute_result"
    }
   ],
   "source": [
    "eu_platf = df_actual.loc[(df_actual['eu_sales'] != 0)]\n",
    "\n",
    "eu_platf = eu_platf.pivot_table(index='genre', values='eu_sales',aggfunc='count').reset_index()\n",
    "eu_platf = eu_platf.sort_values(by='eu_sales', ascending = False).head()\n",
    "eu_platf.style.background_gradient('coolwarm')"
   ]
  },
  {
   "cell_type": "code",
   "execution_count": 38,
   "id": "78417f33",
   "metadata": {},
   "outputs": [
    {
     "data": {
      "image/png": "[encoded data removed]",
      "text/plain": [
       "<Figure size 432x288 with 1 Axes>"
      ]
     },
     "metadata": {},
     "output_type": "display_data"
    }
   ],
   "source": [
    "fig, axs = plt.subplots()\n",
    "axs.set_title('Доли продаж топ-5 жанров в Европе')\n",
    "axs.pie(eu_platf.eu_sales, \n",
    "              labels=eu_platf['genre'], \n",
    "              autopct='%1.1f%%', \n",
    "              explode=(0.1, 0.1, 0.1, 0.1, 0.1));"
   ]
  },
  {
   "cell_type": "markdown",
   "id": "222a2c14",
   "metadata": {},
   "source": [
    "<u><i> Распределение по рейтингу ESRB"
   ]
  },
  {
   "cell_type": "code",
   "execution_count": 39,
   "id": "23499fa9",
   "metadata": {},
   "outputs": [
    {
     "data": {
      "text/html": [
       "<style  type=\"text/css\" >\n",
       "#T_5e1e3_row0_col1{\n",
       "            background-color:  #b40426;\n",
       "            color:  #f1f1f1;\n",
       "        }#T_5e1e3_row1_col1{\n",
       "            background-color:  #b70d28;\n",
       "            color:  #f1f1f1;\n",
       "        }#T_5e1e3_row2_col1{\n",
       "            background-color:  #a6c4fe;\n",
       "            color:  #000000;\n",
       "        }#T_5e1e3_row3_col1{\n",
       "            background-color:  #7ea1fa;\n",
       "            color:  #000000;\n",
       "        }#T_5e1e3_row4_col1{\n",
       "            background-color:  #3b4cc0;\n",
       "            color:  #f1f1f1;\n",
       "        }</style><table id=\"T_5e1e3_\" ><thead>    <tr>        <th class=\"blank level0\" ></th>        <th class=\"col_heading level0 col0\" >rating</th>        <th class=\"col_heading level0 col1\" >eu_sales</th>    </tr></thead><tbody>\n",
       "                <tr>\n",
       "                        <th id=\"T_5e1e3_level0_row0\" class=\"row_heading level0 row0\" >2</th>\n",
       "                        <td id=\"T_5e1e3_row0_col0\" class=\"data row0 col0\" >M</td>\n",
       "                        <td id=\"T_5e1e3_row0_col1\" class=\"data row0 col1\" >337</td>\n",
       "            </tr>\n",
       "            <tr>\n",
       "                        <th id=\"T_5e1e3_level0_row1\" class=\"row_heading level0 row1\" >3</th>\n",
       "                        <td id=\"T_5e1e3_row1_col0\" class=\"data row1 col0\" >RP</td>\n",
       "                        <td id=\"T_5e1e3_row1_col1\" class=\"data row1 col1\" >336</td>\n",
       "            </tr>\n",
       "            <tr>\n",
       "                        <th id=\"T_5e1e3_level0_row2\" class=\"row_heading level0 row2\" >0</th>\n",
       "                        <td id=\"T_5e1e3_row2_col0\" class=\"data row2 col0\" >E</td>\n",
       "                        <td id=\"T_5e1e3_row2_col1\" class=\"data row2 col1\" >265</td>\n",
       "            </tr>\n",
       "            <tr>\n",
       "                        <th id=\"T_5e1e3_level0_row3\" class=\"row_heading level0 row3\" >4</th>\n",
       "                        <td id=\"T_5e1e3_row3_col0\" class=\"data row3 col0\" >T</td>\n",
       "                        <td id=\"T_5e1e3_row3_col1\" class=\"data row3 col1\" >253</td>\n",
       "            </tr>\n",
       "            <tr>\n",
       "                        <th id=\"T_5e1e3_level0_row4\" class=\"row_heading level0 row4\" >1</th>\n",
       "                        <td id=\"T_5e1e3_row4_col0\" class=\"data row4 col0\" >E10+</td>\n",
       "                        <td id=\"T_5e1e3_row4_col1\" class=\"data row4 col1\" >231</td>\n",
       "            </tr>\n",
       "    </tbody></table>"
      ],
      "text/plain": [
       "<pandas.io.formats.style.Styler at 0x7f14c602ca30>"
      ]
     },
     "execution_count": 39,
     "metadata": {},
     "output_type": "execute_result"
    }
   ],
   "source": [
    "eu_platf = df_actual.loc[(df_actual['eu_sales'] != 0)]\n",
    "\n",
    "eu_platf = eu_platf.pivot_table(index='rating', values='eu_sales',aggfunc='count').reset_index()\n",
    "eu_platf = eu_platf.sort_values(by='eu_sales', ascending = False).head()\n",
    "eu_platf.style.background_gradient('coolwarm')"
   ]
  },
  {
   "cell_type": "code",
   "execution_count": 40,
   "id": "49f9211c",
   "metadata": {},
   "outputs": [
    {
     "data": {
      "image/png": "[encoded data removed]",
      "text/plain": [
       "<Figure size 432x288 with 1 Axes>"
      ]
     },
     "metadata": {},
     "output_type": "display_data"
    }
   ],
   "source": [
    "fig, axs = plt.subplots()\n",
    "axs.set_title('Доли продаж топ-5 по райтингу ESRB в Европе')\n",
    "axs.pie(eu_platf.eu_sales, \n",
    "              labels=eu_platf['rating'], \n",
    "              autopct='%1.1f%%', \n",
    "              explode=(0.1, 0.1, 0.1, 0.1, 0.1));"
   ]
  },
  {
   "cell_type": "markdown",
   "id": "1ec65779",
   "metadata": {},
   "source": [
    "<b>Вывод: </b> в Европе нет ярко выраженного лидера среди платформ. С небольшим отрывом идет `PS4` (27%), на втором месте - `Xbox one` (20,3%), далее немного отстает `PS3` (19,7%). А вот по жанрам с большим отрывом идет `Action` (46,2%). На втором-четвертом местах стоят `Shooter`, `Sports` и `Role-Playing` с долями 16%, 15,8% и 14,5% соответственно. По рейтингу на двух первых местах стоят `RP` (23,6%) и `M` (23,7%)."
   ]
  },
  {
   "cell_type": "markdown",
   "id": "bd2c805f",
   "metadata": {},
   "source": [
    "<u><b> Северная Америка"
   ]
  },
  {
   "cell_type": "markdown",
   "id": "5d8a19ff",
   "metadata": {},
   "source": [
    "<u><i> Распределение по платформам"
   ]
  },
  {
   "cell_type": "code",
   "execution_count": 41,
   "id": "4378c930",
   "metadata": {},
   "outputs": [
    {
     "data": {
      "text/html": [
       "<style  type=\"text/css\" >\n",
       "#T_492a4_row0_col1{\n",
       "            background-color:  #b40426;\n",
       "            color:  #f1f1f1;\n",
       "        }#T_492a4_row1_col1{\n",
       "            background-color:  #f3c7b1;\n",
       "            color:  #000000;\n",
       "        }#T_492a4_row2_col1{\n",
       "            background-color:  #e3d9d3;\n",
       "            color:  #000000;\n",
       "        }#T_492a4_row3_col1{\n",
       "            background-color:  #9bbcff;\n",
       "            color:  #000000;\n",
       "        }#T_492a4_row4_col1{\n",
       "            background-color:  #3b4cc0;\n",
       "            color:  #f1f1f1;\n",
       "        }</style><table id=\"T_492a4_\" ><thead>    <tr>        <th class=\"blank level0\" ></th>        <th class=\"col_heading level0 col0\" >platform</th>        <th class=\"col_heading level0 col1\" >na_sales</th>    </tr></thead><tbody>\n",
       "                <tr>\n",
       "                        <th id=\"T_492a4_level0_row0\" class=\"row_heading level0 row0\" >4</th>\n",
       "                        <td id=\"T_492a4_row0_col0\" class=\"data row0 col0\" >PS4</td>\n",
       "                        <td id=\"T_492a4_row0_col1\" class=\"data row0 col1\" >294</td>\n",
       "            </tr>\n",
       "            <tr>\n",
       "                        <th id=\"T_492a4_level0_row1\" class=\"row_heading level0 row1\" >9</th>\n",
       "                        <td id=\"T_492a4_row1_col0\" class=\"data row1 col0\" >XOne</td>\n",
       "                        <td id=\"T_492a4_row1_col1\" class=\"data row1 col1\" >227</td>\n",
       "            </tr>\n",
       "            <tr>\n",
       "                        <th id=\"T_492a4_level0_row2\" class=\"row_heading level0 row2\" >3</th>\n",
       "                        <td id=\"T_492a4_row2_col0\" class=\"data row2 col0\" >PS3</td>\n",
       "                        <td id=\"T_492a4_row2_col1\" class=\"data row2 col1\" >211</td>\n",
       "            </tr>\n",
       "            <tr>\n",
       "                        <th id=\"T_492a4_level0_row3\" class=\"row_heading level0 row3\" >8</th>\n",
       "                        <td id=\"T_492a4_row3_col0\" class=\"data row3 col0\" >X360</td>\n",
       "                        <td id=\"T_492a4_row3_col1\" class=\"data row3 col1\" >170</td>\n",
       "            </tr>\n",
       "            <tr>\n",
       "                        <th id=\"T_492a4_level0_row4\" class=\"row_heading level0 row4\" >0</th>\n",
       "                        <td id=\"T_492a4_row4_col0\" class=\"data row4 col0\" >3DS</td>\n",
       "                        <td id=\"T_492a4_row4_col1\" class=\"data row4 col1\" >119</td>\n",
       "            </tr>\n",
       "    </tbody></table>"
      ],
      "text/plain": [
       "<pandas.io.formats.style.Styler at 0x7f14c60cdd30>"
      ]
     },
     "execution_count": 41,
     "metadata": {},
     "output_type": "execute_result"
    }
   ],
   "source": [
    "na_platf = df_actual.loc[(df_actual['na_sales'] != 0)]\n",
    "\n",
    "na_platf = na_platf.pivot_table(index='platform', values='na_sales',aggfunc='count').reset_index()\n",
    "na_platf = na_platf.sort_values(by='na_sales', ascending = False).head()\n",
    "na_platf.style.background_gradient('coolwarm')"
   ]
  },
  {
   "cell_type": "code",
   "execution_count": 42,
   "id": "630c9ea6",
   "metadata": {},
   "outputs": [
    {
     "data": {
      "image/png": "[encoded data removed]",
      "text/plain": [
       "<Figure size 432x288 with 1 Axes>"
      ]
     },
     "metadata": {},
     "output_type": "display_data"
    }
   ],
   "source": [
    "fig, axs = plt.subplots()\n",
    "axs.set_title('Доли продаж топ-5 платформ в Северной Америке')\n",
    "axs.pie(na_platf.na_sales, \n",
    "              labels=na_platf['platform'], \n",
    "              autopct='%1.1f%%', \n",
    "              explode=(0.1, 0.1, 0.1, 0.1, 0.1));"
   ]
  },
  {
   "cell_type": "markdown",
   "id": "eb5b1ae8",
   "metadata": {},
   "source": [
    "<u><i> Распределение по жанрам"
   ]
  },
  {
   "cell_type": "code",
   "execution_count": 43,
   "id": "6cd0caa5",
   "metadata": {},
   "outputs": [
    {
     "data": {
      "text/html": [
       "<style  type=\"text/css\" >\n",
       "#T_a0eeb_row0_col1{\n",
       "            background-color:  #b40426;\n",
       "            color:  #f1f1f1;\n",
       "        }#T_a0eeb_row1_col1{\n",
       "            background-color:  #8badfd;\n",
       "            color:  #000000;\n",
       "        }#T_a0eeb_row2_col1{\n",
       "            background-color:  #7da0f9;\n",
       "            color:  #000000;\n",
       "        }#T_a0eeb_row3_col1{\n",
       "            background-color:  #6f92f3;\n",
       "            color:  #000000;\n",
       "        }#T_a0eeb_row4_col1{\n",
       "            background-color:  #3b4cc0;\n",
       "            color:  #f1f1f1;\n",
       "        }</style><table id=\"T_a0eeb_\" ><thead>    <tr>        <th class=\"blank level0\" ></th>        <th class=\"col_heading level0 col0\" >genre</th>        <th class=\"col_heading level0 col1\" >na_sales</th>    </tr></thead><tbody>\n",
       "                <tr>\n",
       "                        <th id=\"T_a0eeb_level0_row0\" class=\"row_heading level0 row0\" >0</th>\n",
       "                        <td id=\"T_a0eeb_row0_col0\" class=\"data row0 col0\" >Action</td>\n",
       "                        <td id=\"T_a0eeb_row0_col1\" class=\"data row0 col1\" >442</td>\n",
       "            </tr>\n",
       "            <tr>\n",
       "                        <th id=\"T_a0eeb_level0_row1\" class=\"row_heading level0 row1\" >8</th>\n",
       "                        <td id=\"T_a0eeb_row1_col0\" class=\"data row1 col0\" >Shooter</td>\n",
       "                        <td id=\"T_a0eeb_row1_col1\" class=\"data row1 col1\" >171</td>\n",
       "            </tr>\n",
       "            <tr>\n",
       "                        <th id=\"T_a0eeb_level0_row2\" class=\"row_heading level0 row2\" >7</th>\n",
       "                        <td id=\"T_a0eeb_row2_col0\" class=\"data row2 col0\" >Role-Playing</td>\n",
       "                        <td id=\"T_a0eeb_row2_col1\" class=\"data row2 col1\" >158</td>\n",
       "            </tr>\n",
       "            <tr>\n",
       "                        <th id=\"T_a0eeb_level0_row3\" class=\"row_heading level0 row3\" >10</th>\n",
       "                        <td id=\"T_a0eeb_row3_col0\" class=\"data row3 col0\" >Sports</td>\n",
       "                        <td id=\"T_a0eeb_row3_col1\" class=\"data row3 col1\" >143</td>\n",
       "            </tr>\n",
       "            <tr>\n",
       "                        <th id=\"T_a0eeb_level0_row4\" class=\"row_heading level0 row4\" >3</th>\n",
       "                        <td id=\"T_a0eeb_row4_col0\" class=\"data row4 col0\" >Misc</td>\n",
       "                        <td id=\"T_a0eeb_row4_col1\" class=\"data row4 col1\" >84</td>\n",
       "            </tr>\n",
       "    </tbody></table>"
      ],
      "text/plain": [
       "<pandas.io.formats.style.Styler at 0x7f14c6299790>"
      ]
     },
     "execution_count": 43,
     "metadata": {},
     "output_type": "execute_result"
    }
   ],
   "source": [
    "na_platf = df_actual.loc[(df_actual['na_sales'] != 0)]\n",
    "\n",
    "na_platf = na_platf.pivot_table(index='genre', values='na_sales',aggfunc='count').reset_index()\n",
    "na_platf = na_platf.sort_values(by='na_sales', ascending = False).head()\n",
    "na_platf.style.background_gradient('coolwarm')"
   ]
  },
  {
   "cell_type": "code",
   "execution_count": 44,
   "id": "bf8fbbfb",
   "metadata": {},
   "outputs": [
    {
     "data": {
      "image/png": "[encoded data removed]",
      "text/plain": [
       "<Figure size 432x288 with 1 Axes>"
      ]
     },
     "metadata": {},
     "output_type": "display_data"
    }
   ],
   "source": [
    "fig, axs = plt.subplots()\n",
    "axs.set_title('Доли продаж топ-5 жанров в Северной Америке')\n",
    "axs.pie(na_platf.na_sales, \n",
    "              labels=na_platf['genre'], \n",
    "              autopct='%1.1f%%', \n",
    "              explode=(0.1, 0.1, 0.1, 0.1, 0.1));"
   ]
  },
  {
   "cell_type": "markdown",
   "id": "baa0a1b7",
   "metadata": {},
   "source": [
    "<u><i> Распределение по рейтингу ESRB"
   ]
  },
  {
   "cell_type": "code",
   "execution_count": 45,
   "id": "294e66e6",
   "metadata": {},
   "outputs": [
    {
     "data": {
      "text/html": [
       "<style  type=\"text/css\" >\n",
       "#T_3b639_row0_col1{\n",
       "            background-color:  #b40426;\n",
       "            color:  #f1f1f1;\n",
       "        }#T_3b639_row1_col1{\n",
       "            background-color:  #f7af91;\n",
       "            color:  #000000;\n",
       "        }#T_3b639_row2_col1{\n",
       "            background-color:  #7a9df8;\n",
       "            color:  #000000;\n",
       "        }#T_3b639_row3_col1{\n",
       "            background-color:  #4257c9;\n",
       "            color:  #f1f1f1;\n",
       "        }#T_3b639_row4_col1{\n",
       "            background-color:  #3b4cc0;\n",
       "            color:  #f1f1f1;\n",
       "        }</style><table id=\"T_3b639_\" ><thead>    <tr>        <th class=\"blank level0\" ></th>        <th class=\"col_heading level0 col0\" >rating</th>        <th class=\"col_heading level0 col1\" >na_sales</th>    </tr></thead><tbody>\n",
       "                <tr>\n",
       "                        <th id=\"T_3b639_level0_row0\" class=\"row_heading level0 row0\" >2</th>\n",
       "                        <td id=\"T_3b639_row0_col0\" class=\"data row0 col0\" >M</td>\n",
       "                        <td id=\"T_3b639_row0_col1\" class=\"data row0 col1\" >334</td>\n",
       "            </tr>\n",
       "            <tr>\n",
       "                        <th id=\"T_3b639_level0_row1\" class=\"row_heading level0 row1\" >3</th>\n",
       "                        <td id=\"T_3b639_row1_col0\" class=\"data row1 col0\" >RP</td>\n",
       "                        <td id=\"T_3b639_row1_col1\" class=\"data row1 col1\" >298</td>\n",
       "            </tr>\n",
       "            <tr>\n",
       "                        <th id=\"T_3b639_level0_row2\" class=\"row_heading level0 row2\" >4</th>\n",
       "                        <td id=\"T_3b639_row2_col0\" class=\"data row2 col0\" >T</td>\n",
       "                        <td id=\"T_3b639_row2_col1\" class=\"data row2 col1\" >240</td>\n",
       "            </tr>\n",
       "            <tr>\n",
       "                        <th id=\"T_3b639_level0_row3\" class=\"row_heading level0 row3\" >1</th>\n",
       "                        <td id=\"T_3b639_row3_col0\" class=\"data row3 col0\" >E10+</td>\n",
       "                        <td id=\"T_3b639_row3_col1\" class=\"data row3 col1\" >220</td>\n",
       "            </tr>\n",
       "            <tr>\n",
       "                        <th id=\"T_3b639_level0_row4\" class=\"row_heading level0 row4\" >0</th>\n",
       "                        <td id=\"T_3b639_row4_col0\" class=\"data row4 col0\" >E</td>\n",
       "                        <td id=\"T_3b639_row4_col1\" class=\"data row4 col1\" >217</td>\n",
       "            </tr>\n",
       "    </tbody></table>"
      ],
      "text/plain": [
       "<pandas.io.formats.style.Styler at 0x7f14c6412490>"
      ]
     },
     "execution_count": 45,
     "metadata": {},
     "output_type": "execute_result"
    }
   ],
   "source": [
    "na_platf = df_actual.loc[(df_actual['na_sales'] != 0)]\n",
    "\n",
    "na_platf = na_platf.pivot_table(index='rating', values='na_sales',aggfunc='count').reset_index()\n",
    "na_platf = na_platf.sort_values(by='na_sales', ascending = False).head()\n",
    "na_platf.style.background_gradient('coolwarm')"
   ]
  },
  {
   "cell_type": "code",
   "execution_count": 46,
   "id": "d4323ee7",
   "metadata": {},
   "outputs": [
    {
     "data": {
      "image/png": "[encoded data removed]",
      "text/plain": [
       "<Figure size 432x288 with 1 Axes>"
      ]
     },
     "metadata": {},
     "output_type": "display_data"
    }
   ],
   "source": [
    "fig, axs = plt.subplots()\n",
    "axs.set_title('Доли продаж топ-5 по райтингу ESRB в Северной Америке')\n",
    "axs.pie(na_platf.na_sales, \n",
    "              labels=na_platf['rating'], \n",
    "              autopct='%1.1f%%', \n",
    "              explode=(0.1, 0.1, 0.1, 0.1, 0.1));"
   ]
  },
  {
   "cell_type": "markdown",
   "id": "315ce78b",
   "metadata": {},
   "source": [
    "<b>Вывод: </b> в Северной Америке распределение по  платформам еще более плотное. `PS4` вновь лидер с долей 28,8%, на втором месте - `Xbox one` (22,2%), далее `PS3` (20,7%). По жанрам с большим отрывом также идет `Action` (44,3%). На втором-четвертом местах стоят `Shooter`, `Role-Playing` и `Sports` с долями 17,1%, 15,8% и 14,3% соответственно. По рейтингу на двух первых местах также стоят `RP` (22,8%) и `M` (25,5%)."
   ]
  },
  {
   "cell_type": "markdown",
   "id": "1b2e190b",
   "metadata": {},
   "source": [
    "<u><b> Япония"
   ]
  },
  {
   "cell_type": "markdown",
   "id": "f77f7fa9",
   "metadata": {},
   "source": [
    "<u><i> Распределение по платформам"
   ]
  },
  {
   "cell_type": "code",
   "execution_count": 47,
   "id": "e0b81ddf",
   "metadata": {},
   "outputs": [
    {
     "data": {
      "text/html": [
       "<style  type=\"text/css\" >\n",
       "#T_0d82b_row0_col1{\n",
       "            background-color:  #b40426;\n",
       "            color:  #f1f1f1;\n",
       "        }#T_0d82b_row1_col1{\n",
       "            background-color:  #f7b396;\n",
       "            color:  #000000;\n",
       "        }#T_0d82b_row2_col1{\n",
       "            background-color:  #f7b497;\n",
       "            color:  #000000;\n",
       "        }#T_0d82b_row3_col1{\n",
       "            background-color:  #f5c4ac;\n",
       "            color:  #000000;\n",
       "        }#T_0d82b_row4_col1{\n",
       "            background-color:  #3b4cc0;\n",
       "            color:  #f1f1f1;\n",
       "        }</style><table id=\"T_0d82b_\" ><thead>    <tr>        <th class=\"blank level0\" ></th>        <th class=\"col_heading level0 col0\" >platform</th>        <th class=\"col_heading level0 col1\" >jp_sales</th>    </tr></thead><tbody>\n",
       "                <tr>\n",
       "                        <th id=\"T_0d82b_level0_row0\" class=\"row_heading level0 row0\" >4</th>\n",
       "                        <td id=\"T_0d82b_row0_col0\" class=\"data row0 col0\" >PSV</td>\n",
       "                        <td id=\"T_0d82b_row0_col1\" class=\"data row0 col1\" >316</td>\n",
       "            </tr>\n",
       "            <tr>\n",
       "                        <th id=\"T_0d82b_level0_row1\" class=\"row_heading level0 row1\" >1</th>\n",
       "                        <td id=\"T_0d82b_row1_col0\" class=\"data row1 col0\" >PS3</td>\n",
       "                        <td id=\"T_0d82b_row1_col1\" class=\"data row1 col1\" >236</td>\n",
       "            </tr>\n",
       "            <tr>\n",
       "                        <th id=\"T_0d82b_level0_row2\" class=\"row_heading level0 row2\" >0</th>\n",
       "                        <td id=\"T_0d82b_row2_col0\" class=\"data row2 col0\" >3DS</td>\n",
       "                        <td id=\"T_0d82b_row2_col1\" class=\"data row2 col1\" >235</td>\n",
       "            </tr>\n",
       "            <tr>\n",
       "                        <th id=\"T_0d82b_level0_row3\" class=\"row_heading level0 row3\" >2</th>\n",
       "                        <td id=\"T_0d82b_row3_col0\" class=\"data row3 col0\" >PS4</td>\n",
       "                        <td id=\"T_0d82b_row3_col1\" class=\"data row3 col1\" >223</td>\n",
       "            </tr>\n",
       "            <tr>\n",
       "                        <th id=\"T_0d82b_level0_row4\" class=\"row_heading level0 row4\" >3</th>\n",
       "                        <td id=\"T_0d82b_row4_col0\" class=\"data row4 col0\" >PSP</td>\n",
       "                        <td id=\"T_0d82b_row4_col1\" class=\"data row4 col1\" >66</td>\n",
       "            </tr>\n",
       "    </tbody></table>"
      ],
      "text/plain": [
       "<pandas.io.formats.style.Styler at 0x7f14c6185f10>"
      ]
     },
     "execution_count": 47,
     "metadata": {},
     "output_type": "execute_result"
    }
   ],
   "source": [
    "jp_platf = df_actual.loc[(df_actual['jp_sales'] != 0)]\n",
    "\n",
    "jp_platf = jp_platf.pivot_table(index='platform', values='jp_sales',aggfunc='count').reset_index()\n",
    "jp_platf = jp_platf.sort_values(by='jp_sales', ascending = False).head()\n",
    "jp_platf.style.background_gradient('coolwarm')"
   ]
  },
  {
   "cell_type": "code",
   "execution_count": 48,
   "id": "6b4eb402",
   "metadata": {},
   "outputs": [
    {
     "data": {
      "image/png": "[encoded data removed]",
      "text/plain": [
       "<Figure size 432x288 with 1 Axes>"
      ]
     },
     "metadata": {},
     "output_type": "display_data"
    }
   ],
   "source": [
    "fig, axs = plt.subplots()\n",
    "axs.set_title('Доли продаж топ-5 платформ в Японии')\n",
    "axs.pie(jp_platf.jp_sales, \n",
    "              labels=jp_platf['platform'], \n",
    "              autopct='%1.1f%%', \n",
    "              explode=(0.1, 0.1, 0.1, 0.1, 0.1));"
   ]
  },
  {
   "cell_type": "markdown",
   "id": "a6e7452d",
   "metadata": {},
   "source": [
    "<u><i> Распределение по жанрам"
   ]
  },
  {
   "cell_type": "code",
   "execution_count": 49,
   "id": "16ce4a8a",
   "metadata": {},
   "outputs": [
    {
     "data": {
      "text/html": [
       "<style  type=\"text/css\" >\n",
       "#T_61501_row0_col1{\n",
       "            background-color:  #b40426;\n",
       "            color:  #f1f1f1;\n",
       "        }#T_61501_row1_col1{\n",
       "            background-color:  #dedcdb;\n",
       "            color:  #000000;\n",
       "        }#T_61501_row2_col1{\n",
       "            background-color:  #9bbcff;\n",
       "            color:  #000000;\n",
       "        }#T_61501_row3_col1{\n",
       "            background-color:  #4e68d8;\n",
       "            color:  #000000;\n",
       "        }#T_61501_row4_col1{\n",
       "            background-color:  #3b4cc0;\n",
       "            color:  #f1f1f1;\n",
       "        }</style><table id=\"T_61501_\" ><thead>    <tr>        <th class=\"blank level0\" ></th>        <th class=\"col_heading level0 col0\" >genre</th>        <th class=\"col_heading level0 col1\" >jp_sales</th>    </tr></thead><tbody>\n",
       "                <tr>\n",
       "                        <th id=\"T_61501_level0_row0\" class=\"row_heading level0 row0\" >0</th>\n",
       "                        <td id=\"T_61501_row0_col0\" class=\"data row0 col0\" >Action</td>\n",
       "                        <td id=\"T_61501_row0_col1\" class=\"data row0 col1\" >400</td>\n",
       "            </tr>\n",
       "            <tr>\n",
       "                        <th id=\"T_61501_level0_row1\" class=\"row_heading level0 row1\" >7</th>\n",
       "                        <td id=\"T_61501_row1_col0\" class=\"data row1 col0\" >Role-Playing</td>\n",
       "                        <td id=\"T_61501_row1_col1\" class=\"data row1 col1\" >236</td>\n",
       "            </tr>\n",
       "            <tr>\n",
       "                        <th id=\"T_61501_level0_row2\" class=\"row_heading level0 row2\" >1</th>\n",
       "                        <td id=\"T_61501_row2_col0\" class=\"data row2 col0\" >Adventure</td>\n",
       "                        <td id=\"T_61501_row2_col1\" class=\"data row2 col1\" >165</td>\n",
       "            </tr>\n",
       "            <tr>\n",
       "                        <th id=\"T_61501_level0_row3\" class=\"row_heading level0 row3\" >3</th>\n",
       "                        <td id=\"T_61501_row3_col0\" class=\"data row3 col0\" >Misc</td>\n",
       "                        <td id=\"T_61501_row3_col1\" class=\"data row3 col1\" >90</td>\n",
       "            </tr>\n",
       "            <tr>\n",
       "                        <th id=\"T_61501_level0_row4\" class=\"row_heading level0 row4\" >8</th>\n",
       "                        <td id=\"T_61501_row4_col0\" class=\"data row4 col0\" >Shooter</td>\n",
       "                        <td id=\"T_61501_row4_col1\" class=\"data row4 col1\" >69</td>\n",
       "            </tr>\n",
       "    </tbody></table>"
      ],
      "text/plain": [
       "<pandas.io.formats.style.Styler at 0x7f14c5f537c0>"
      ]
     },
     "execution_count": 49,
     "metadata": {},
     "output_type": "execute_result"
    }
   ],
   "source": [
    "jp_platf = df_actual.loc[(df_actual['jp_sales'] != 0)]\n",
    "\n",
    "jp_platf = jp_platf.pivot_table(index='genre', values='jp_sales',aggfunc='count').reset_index()\n",
    "jp_platf = jp_platf.sort_values(by='jp_sales', ascending = False).head()\n",
    "jp_platf.style.background_gradient('coolwarm')"
   ]
  },
  {
   "cell_type": "code",
   "execution_count": 50,
   "id": "2731b3d9",
   "metadata": {},
   "outputs": [
    {
     "data": {
      "image/png": "[encoded data removed]",
      "text/plain": [
       "<Figure size 432x288 with 1 Axes>"
      ]
     },
     "metadata": {},
     "output_type": "display_data"
    }
   ],
   "source": [
    "fig, axs = plt.subplots()\n",
    "axs.set_title('Доли продаж топ-5 жанров в Японии')\n",
    "axs.pie(jp_platf.jp_sales, \n",
    "              labels=jp_platf['genre'], \n",
    "              autopct='%1.1f%%', \n",
    "              explode=(0.1, 0.1, 0.1, 0.1, 0.1));"
   ]
  },
  {
   "cell_type": "markdown",
   "id": "785c999f",
   "metadata": {},
   "source": [
    "<u><i> Распределение по рейтингу ESRB"
   ]
  },
  {
   "cell_type": "code",
   "execution_count": 51,
   "id": "372f385a",
   "metadata": {},
   "outputs": [
    {
     "data": {
      "text/html": [
       "<style  type=\"text/css\" >\n",
       "#T_79ffd_row0_col1{\n",
       "            background-color:  #b40426;\n",
       "            color:  #f1f1f1;\n",
       "        }#T_79ffd_row1_col1{\n",
       "            background-color:  #779af7;\n",
       "            color:  #000000;\n",
       "        }#T_79ffd_row2_col1{\n",
       "            background-color:  #6b8df0;\n",
       "            color:  #000000;\n",
       "        }#T_79ffd_row3_col1{\n",
       "            background-color:  #4358cb;\n",
       "            color:  #f1f1f1;\n",
       "        }#T_79ffd_row4_col1{\n",
       "            background-color:  #3b4cc0;\n",
       "            color:  #f1f1f1;\n",
       "        }</style><table id=\"T_79ffd_\" ><thead>    <tr>        <th class=\"blank level0\" ></th>        <th class=\"col_heading level0 col0\" >rating</th>        <th class=\"col_heading level0 col1\" >jp_sales</th>    </tr></thead><tbody>\n",
       "                <tr>\n",
       "                        <th id=\"T_79ffd_level0_row0\" class=\"row_heading level0 row0\" >3</th>\n",
       "                        <td id=\"T_79ffd_row0_col0\" class=\"data row0 col0\" >RP</td>\n",
       "                        <td id=\"T_79ffd_row0_col1\" class=\"data row0 col1\" >712</td>\n",
       "            </tr>\n",
       "            <tr>\n",
       "                        <th id=\"T_79ffd_level0_row1\" class=\"row_heading level0 row1\" >4</th>\n",
       "                        <td id=\"T_79ffd_row1_col0\" class=\"data row1 col0\" >T</td>\n",
       "                        <td id=\"T_79ffd_row1_col1\" class=\"data row1 col1\" >181</td>\n",
       "            </tr>\n",
       "            <tr>\n",
       "                        <th id=\"T_79ffd_level0_row2\" class=\"row_heading level0 row2\" >2</th>\n",
       "                        <td id=\"T_79ffd_row2_col0\" class=\"data row2 col0\" >M</td>\n",
       "                        <td id=\"T_79ffd_row2_col1\" class=\"data row2 col1\" >159</td>\n",
       "            </tr>\n",
       "            <tr>\n",
       "                        <th id=\"T_79ffd_level0_row3\" class=\"row_heading level0 row3\" >0</th>\n",
       "                        <td id=\"T_79ffd_row3_col0\" class=\"data row3 col0\" >E</td>\n",
       "                        <td id=\"T_79ffd_row3_col1\" class=\"data row3 col1\" >77</td>\n",
       "            </tr>\n",
       "            <tr>\n",
       "                        <th id=\"T_79ffd_level0_row4\" class=\"row_heading level0 row4\" >1</th>\n",
       "                        <td id=\"T_79ffd_row4_col0\" class=\"data row4 col0\" >E10+</td>\n",
       "                        <td id=\"T_79ffd_row4_col1\" class=\"data row4 col1\" >58</td>\n",
       "            </tr>\n",
       "    </tbody></table>"
      ],
      "text/plain": [
       "<pandas.io.formats.style.Styler at 0x7f14c6075940>"
      ]
     },
     "execution_count": 51,
     "metadata": {},
     "output_type": "execute_result"
    }
   ],
   "source": [
    "jp_platf = df_actual.loc[(df_actual['jp_sales'] != 0)]\n",
    "\n",
    "jp_platf = jp_platf.pivot_table(index='rating', values='jp_sales',aggfunc='count').reset_index()\n",
    "jp_platf = jp_platf.sort_values(by='jp_sales', ascending = False).head()\n",
    "jp_platf.style.background_gradient('coolwarm')"
   ]
  },
  {
   "cell_type": "code",
   "execution_count": 52,
   "id": "80280358",
   "metadata": {},
   "outputs": [
    {
     "data": {
      "image/png": "[encoded data removed]",
      "text/plain": [
       "<Figure size 432x288 with 1 Axes>"
      ]
     },
     "metadata": {},
     "output_type": "display_data"
    }
   ],
   "source": [
    "fig, axs = plt.subplots()\n",
    "axs.set_title('Доли продаж топ-5 по райтингу ESRB в Японии')\n",
    "axs.pie(jp_platf.jp_sales, \n",
    "              labels=jp_platf['rating'], \n",
    "              autopct='%1.1f%%', \n",
    "              explode=(0.1, 0.1, 0.1, 0.1, 0.1));"
   ]
  },
  {
   "cell_type": "markdown",
   "id": "de9a5751",
   "metadata": {},
   "source": [
    "<b>Вывод: </b> в Японии распределение по  платформам совсем другое. В лидерах `PSV` (29,4%), далее `PS3` (21,9%), на третьем месте - `3DS` (21,8%), и только потом `PS4` с долей 20,7%. По жанрам все также на первом месте `Action` (41,7%). На втором-третьем местах стоят `Role-Playing`, `Adventure` с долями 14,6% и 17,2% соответственно. По рейтингу большую часть составляет `RP` (60%)."
   ]
  },
  {
   "cell_type": "markdown",
   "id": "6297e0f4",
   "metadata": {},
   "source": [
    "<b>Вывод по 4 пункту: </b> в Европе и Севернеой Америке популярность платформ приблизительно одинакова: на первом месте `PS4`, на втором - `Xbox one`, на третьем - `PS3`. А вот в Японии большей популярностью пользуются портативные платформы: об этом говорит и первое место `PSV` и присутствие `PSP` в рейтинге. Интересен факт отсутствия какой-либо платформы от `Xbox`. В части жанров во всех сегментах на первом месте с большим отрывом идет `Action`. В Европе и Северной Америке распределение также похоже, вопрос только в местах: в Европе `Sports` на третьем месте, `Role-Playing` на четвертом, а в Семерной Америке наоборот. В Японии `Shooter` и `Sports` не пользуются особой популярностью. По распределению рейтинга на первом месте стоит `RP`, возможно из-за особого интереса пользователей к новуму продукту."
   ]
  },
  {
   "cell_type": "markdown",
   "id": "5b2198cb",
   "metadata": {},
   "source": [
    "### 5. Проверка гипотез"
   ]
  },
  {
   "cell_type": "markdown",
   "id": "c60f1037",
   "metadata": {},
   "source": [
    "<b><u>Гипотеза № 1. Средние пользовательские рейтинги платформ Xbox One и PC одинаковые"
   ]
  },
  {
   "cell_type": "code",
   "execution_count": 53,
   "id": "de5d7f5f",
   "metadata": {},
   "outputs": [],
   "source": [
    "df_actual = df_actual.query('user_score != -1')\n",
    "\n",
    "# отбор PC платформ\n",
    "pc_rating = df_actual.loc[df_actual['platform'] == 'PC']['user_score']\n",
    "\n",
    "# отбор Xbox one платформ\n",
    "Xbox_one_rating = df_actual.loc[df_actual['platform'] == 'XOne']['user_score']"
   ]
  },
  {
   "cell_type": "code",
   "execution_count": 54,
   "id": "e7a6fee6",
   "metadata": {},
   "outputs": [
    {
     "name": "stdout",
     "output_type": "stream",
     "text": [
      "Дисперсия платформы PC равна 3.02\n",
      "Дисперсия платформы Xbox one равна 1.9\n"
     ]
    }
   ],
   "source": [
    "# проверка дисперсий\n",
    "print('Дисперсия платформы PC равна', np.var(pc_rating).round(2))\n",
    "print('Дисперсия платформы Xbox one равна', np.var(Xbox_one_rating).round(2))"
   ]
  },
  {
   "cell_type": "markdown",
   "id": "b6f75616",
   "metadata": {},
   "source": [
    "Проверим две генеральные совакупности, для этого применим метод scipy.stats.ttest_ind. Так как, массивы данных достаточно расношерстные и их дисперсии не равны, зададим паметру equal_var значение False.\n",
    "\n",
    "За нулевую гипотезу $H_{0}$ примем вариант, что средние пользовательские рейтинги платформ Xbox One и PC одинаковые.\n",
    "За альтернативную гипотезу$H_{1}$ примем противоположный вариант, что средние пользовательские рейтинги платформ Xbox One и PC разные.\n",
    "\n",
    "Уровень статистической значимость зададим раным 0.05."
   ]
  },
  {
   "cell_type": "code",
   "execution_count": 55,
   "id": "8ee32243",
   "metadata": {},
   "outputs": [
    {
     "name": "stdout",
     "output_type": "stream",
     "text": [
      "p-значение: 0.148\n",
      "Не получилось отвергнуть нулевую гипотезу\n"
     ]
    }
   ],
   "source": [
    "alpha = .05\n",
    "\n",
    "results = st.ttest_ind(pc_rating, Xbox_one_rating, equal_var=False)\n",
    "\n",
    "print('p-значение:', results.pvalue.round(3))\n",
    "\n",
    "if results.pvalue < alpha:\n",
    "    print('Отвергаем нулевую гипотезу')\n",
    "else:\n",
    "    print('Не получилось отвергнуть нулевую гипотезу')"
   ]
  },
  {
   "cell_type": "markdown",
   "id": "70d79ea7",
   "metadata": {},
   "source": [
    "Значение p-value показывает: вероятность случайно получить такое или большее различие равна почти 15%. Это достаточно большая вероятность, чтобы делать вывод о значимом различии между платформами. Таким образом гипотеза $H_{0}$ о том, что средние пользовательские рейтинги платформ `Xbox One` и `PC` одинаковые подтвердилась, что достаточно логично, так как игры на платформах одинаковы."
   ]
  },
  {
   "cell_type": "markdown",
   "id": "9d7cd157",
   "metadata": {},
   "source": [
    "<b><u>Гипотеза № 2. Средние пользовательские рейтинги жанров Action и Sports разные."
   ]
  },
  {
   "cell_type": "code",
   "execution_count": 56,
   "id": "1fc19ead",
   "metadata": {},
   "outputs": [],
   "source": [
    "# отбор PC платформ\n",
    "action_rating = df_actual.loc[df_actual['genre'] == 'Action']['user_score']\n",
    "\n",
    "# отбор Xbox one платформ\n",
    "sports_rating = df_actual.loc[df_actual['genre'] == 'Sports']['user_score']"
   ]
  },
  {
   "cell_type": "code",
   "execution_count": 57,
   "id": "4b7ab725",
   "metadata": {},
   "outputs": [
    {
     "name": "stdout",
     "output_type": "stream",
     "text": [
      "Дисперсия платформы PC равна 1.76\n",
      "Дисперсия платформы Xbox one равна 3.16\n"
     ]
    }
   ],
   "source": [
    "# проверка дисперсий\n",
    "print('Дисперсия платформы PC равна', np.var(action_rating).round(2))\n",
    "print('Дисперсия платформы Xbox one равна', np.var(sports_rating).round(2))"
   ]
  },
  {
   "cell_type": "markdown",
   "id": "c0fc220a",
   "metadata": {},
   "source": [
    "Для проверки двух генеральных совакупностей также применим метод scipy.stats.ttest_ind. Массивы данных также достаточно разные и их дисперсии не равны, зададим паметру equal_var также значение False.\n",
    "\n",
    "За нулевую гипотезу $H_{0}$ примем вариант, что средние пользовательские рейтинги жанров Action и Sports одинаковые.\n",
    "За альтернативную гипотезу$H_{1}$ примем противоположный вариант, что средние пользовательские рейтинги жанров Action и Sports разные.\n",
    "\n",
    "Уровень статистической значимость зададим раным 0.05."
   ]
  },
  {
   "cell_type": "code",
   "execution_count": 58,
   "id": "f902457a",
   "metadata": {},
   "outputs": [
    {
     "name": "stdout",
     "output_type": "stream",
     "text": [
      "p-значение: 1.4460039700704315e-20\n",
      "Отвергаем нулевую гипотезу\n"
     ]
    }
   ],
   "source": [
    "alpha = .05\n",
    "\n",
    "results = st.ttest_ind(action_rating, sports_rating, equal_var=False)\n",
    "\n",
    "print('p-значение:', results.pvalue)\n",
    "\n",
    "if results.pvalue < alpha:\n",
    "    print('Отвергаем нулевую гипотезу')\n",
    "else:\n",
    "    print('Не получилось отвергнуть нулевую гипотезу')"
   ]
  },
  {
   "cell_type": "markdown",
   "id": "aa12105d",
   "metadata": {},
   "source": [
    "Значение p-value показывает, что вероятность случайно получить такое или большее различие равна почти 0. Такие результаты позволяют нам сделать вывод, что гипотиза $H_{1}$ о том, что средние пользовательские рейтинги жанров `Action` и `Sports` разные подтвердилась."
   ]
  },
  {
   "cell_type": "markdown",
   "id": "89a41556",
   "metadata": {},
   "source": [
    "<b>Вывод: </b> При формировании основных гипотиз за основу были взяты предположения что пользовательские рейтинг как платформ, так и рейтингов равны. За альтернативные гипотизы принимались противоположные значения. При проверке гипотиз можно отметить, что обе гипотизы подтвердились (что средние пользовательские рейтинги жанров `Action` и `Sports` разные и, что средние пользовательские рейтинги платформ `Xbox One` и `PC` одинаковые). Однако стоит отметить, что в первом случае оснавная гипотиза применялась, как альтернативная, а во втором уже наоборт."
   ]
  },
  {
   "cell_type": "markdown",
   "id": "53216860",
   "metadata": {},
   "source": [
    "### 6. Общий вывод"
   ]
  },
  {
   "cell_type": "markdown",
   "id": "76724511",
   "metadata": {},
   "source": [
    "<div style=\"text-align: justify \">\n",
    "<b><i>1) В части предобработки данных</i></b><br><br>\n",
    "Датафрейм состоит из 16 715 строк. При анализе массива данных было обнаружено большое количество пропущенных значений. Пропуски по столбцам с наименование, жанром и годома выпуска были удалены, так как в общей массей их было достаточно мало (менее 2%). Пропуски по  столбцам с оценками критиков ипользователей обусловлены фактическим отсутствием оценок, что в свою очередь подтерждает значение \"tbd\" («To Be Determined»). Пропуски в рейтинге были заменены на категорию <b>RP</b> - «Рейтинг ожидается». Был добавлен столбец с числом продаж по всем регионам. При анализе данных каких-либо дубликатов выявлено не было. В ходе анализа была обнаружена одна аномалия в первом году выпуска игры на Nintendo DS был 1985, хотя приставка была выпущена в только в 2004.\n",
    "\n",
    "<b><i>2) В части исследовательсокго анализа данных</i></b><br><br>\n",
    "- рост по созданию игр наблюдается с 1994 года, но игр создавалось еще крайне мало (менее 200 в год). Большой скачок уже наблюдается в 2002 году (более 800 игр в год). Пик приходится на 2008, 2009 года, в эти года производилось более 1400 игр в год. Затем наблюдается снижение;\n",
    "- средний срок \"жизни\" платформы составляет 6-8 лет с пиком популярности на 3-6 года. Сильный рост популярности замечается уже со второго года, возможно это связано с доступностью игровых приставок;\n",
    "-  наиболее прибыльными платформами являюся `PS4`, `Xbox 360`, `Nintendo DS`. Стоит отметить, что в 2016 наблюдается сильный спад, возможно данные за неполный год. При планировании на 2017 год стоит обратить внимание на вышеописанные платформы, а также `PC`, `Wii` - как самые стабильные продажи и на `Xbox one`, `PS Vita` - как на достаточно молодые и перспективные платформы;\n",
    "- наиболее стабильный доход показывают игры с жанром `Shooter`, хотя раазнообразие и сумма продаж не на первом месте. Можно выделить жанр `Action` с самой большой суммой продаж, но данный результат достигается имеено огромным количеством игр, хотя медианное значение у данного жанра среднее;\n",
    "- было определено, что взаимосвязь между продажами и оценками пользователей достаточно слаба, почти стремится к нулю. Между продажами и оценкеами критиков наблюдается заметная корреляция;\n",
    "- наиболее популярными и прибыльными являются жанры `Action` (количество продаж более 300 млн копий, и почти 800 разновидностей). Стоит отметить, что разнообразие игр по внутри жанра не всегда приводит к лучшим продажам;\n",
    "\n",
    "<b><i>3) В части анализ пользователя для каждого региона</i></b><br><br>\n",
    "В Европе и Севернеой Америке популярность платформ приблизительно одинакова: на первом месте `PS4`, на втором - `Xbox one`, на третьем - `PS3`. В Японии большей популярностью пользуются портативные платформы: об этом говорит и первое место `PSV` и присутствие `PSP` в рейтинге. Интересен факт отсутствия какой-либо платформы от `Xbox` в Японии. В части жанров во всех сегментах на первом месте с большим отрывом идет `Action`. В Европе и Северной Америке распределение также похоже, вопрос только в местах: в Европе `Sports` на третьем месте, `Role-Playing` на четвертом, а в Семерной Америке наоборот. В Японии `Shooter` и `Sports` не пользуются особой популярностью. По распределению рейтинга на первом месте стоит `RP`, возможно из-за особого интереса пользователей к новуму продукту.\n",
    "\n",
    "<b><i>4) В части проверки гипотиз</i></b><br><br>\n",
    "В ходе проведения анализа гипотезы о том, что средние пользовательские рейтинги платформ `Xbox One` и `PC` одинаковые и, что средние пользовательские рейтинги жанров `Action` и `Sports` разные подтвердились.\n",
    "</div>"
   ]
  }
 ],
 "metadata": {
  "ExecuteTimeLog": [
   {
    "duration": 1371,
    "start_time": "2023-08-31T20:18:52.098Z"
   },
   {
    "duration": 5,
    "start_time": "2023-08-31T20:19:09.640Z"
   },
   {
    "duration": 5,
    "start_time": "2023-08-31T20:19:58.681Z"
   },
   {
    "duration": 4,
    "start_time": "2023-08-31T20:20:03.672Z"
   },
   {
    "duration": 5,
    "start_time": "2023-08-31T20:20:04.464Z"
   },
   {
    "duration": 136,
    "start_time": "2023-08-31T20:20:31.593Z"
   },
   {
    "duration": 8,
    "start_time": "2023-08-31T20:20:41.582Z"
   },
   {
    "duration": 81,
    "start_time": "2023-08-31T20:21:08.586Z"
   },
   {
    "duration": 6,
    "start_time": "2023-08-31T20:21:18.584Z"
   },
   {
    "duration": 66,
    "start_time": "2023-08-31T20:21:18.829Z"
   },
   {
    "duration": 7,
    "start_time": "2023-08-31T20:22:27.055Z"
   },
   {
    "duration": 1035,
    "start_time": "2023-08-31T20:22:29.054Z"
   },
   {
    "duration": 151,
    "start_time": "2023-08-31T20:22:52.523Z"
   },
   {
    "duration": 5,
    "start_time": "2023-08-31T20:22:58.127Z"
   },
   {
    "duration": 4,
    "start_time": "2023-08-31T20:25:29.853Z"
   },
   {
    "duration": 6,
    "start_time": "2023-08-31T20:25:40.128Z"
   },
   {
    "duration": 15,
    "start_time": "2023-08-31T20:26:35.648Z"
   },
   {
    "duration": 4,
    "start_time": "2023-08-31T20:26:41.158Z"
   },
   {
    "duration": 5,
    "start_time": "2023-08-31T20:28:55.441Z"
   },
   {
    "duration": 12,
    "start_time": "2023-08-31T20:29:41.732Z"
   },
   {
    "duration": 7,
    "start_time": "2023-08-31T20:31:38.292Z"
   },
   {
    "duration": 7,
    "start_time": "2023-08-31T20:31:52.003Z"
   },
   {
    "duration": 15,
    "start_time": "2023-08-31T20:32:37.621Z"
   },
   {
    "duration": 16,
    "start_time": "2023-08-31T20:32:46.387Z"
   },
   {
    "duration": 18,
    "start_time": "2023-08-31T20:33:24.988Z"
   },
   {
    "duration": 1455,
    "start_time": "2023-08-31T20:34:20.295Z"
   },
   {
    "duration": 6,
    "start_time": "2023-08-31T20:34:21.752Z"
   },
   {
    "duration": 82,
    "start_time": "2023-08-31T20:34:21.761Z"
   },
   {
    "duration": 8,
    "start_time": "2023-08-31T20:34:21.846Z"
   },
   {
    "duration": 1302,
    "start_time": "2023-08-31T20:34:21.855Z"
   },
   {
    "duration": 8,
    "start_time": "2023-08-31T20:34:23.159Z"
   },
   {
    "duration": 6,
    "start_time": "2023-08-31T20:34:23.169Z"
   },
   {
    "duration": 33,
    "start_time": "2023-08-31T20:34:23.178Z"
   },
   {
    "duration": 5,
    "start_time": "2023-08-31T20:34:23.213Z"
   },
   {
    "duration": 8,
    "start_time": "2023-08-31T20:34:23.221Z"
   },
   {
    "duration": 19,
    "start_time": "2023-08-31T20:34:23.231Z"
   },
   {
    "duration": 7,
    "start_time": "2023-08-31T20:34:23.253Z"
   },
   {
    "duration": 9,
    "start_time": "2023-08-31T20:34:23.263Z"
   },
   {
    "duration": 38,
    "start_time": "2023-08-31T20:34:23.274Z"
   },
   {
    "duration": 19,
    "start_time": "2023-08-31T20:34:23.320Z"
   },
   {
    "duration": 37,
    "start_time": "2023-08-31T20:34:23.345Z"
   },
   {
    "duration": 21,
    "start_time": "2023-08-31T20:35:04.907Z"
   },
   {
    "duration": 6,
    "start_time": "2023-08-31T20:35:13.396Z"
   },
   {
    "duration": 1376,
    "start_time": "2023-09-01T10:43:01.091Z"
   },
   {
    "duration": 5,
    "start_time": "2023-09-01T10:43:02.469Z"
   },
   {
    "duration": 293,
    "start_time": "2023-09-01T10:43:02.475Z"
   },
   {
    "duration": 59,
    "start_time": "2023-09-01T10:43:02.771Z"
   },
   {
    "duration": 1025,
    "start_time": "2023-09-01T10:43:02.832Z"
   },
   {
    "duration": 5,
    "start_time": "2023-09-01T10:43:03.859Z"
   },
   {
    "duration": 266,
    "start_time": "2023-09-01T10:43:03.866Z"
   },
   {
    "duration": 145,
    "start_time": "2023-09-01T10:43:04.134Z"
   },
   {
    "duration": 73,
    "start_time": "2023-09-01T10:43:04.280Z"
   },
   {
    "duration": 64,
    "start_time": "2023-09-01T10:43:04.356Z"
   },
   {
    "duration": 131,
    "start_time": "2023-09-01T10:43:04.422Z"
   },
   {
    "duration": 189,
    "start_time": "2023-09-01T10:43:04.554Z"
   },
   {
    "duration": 133,
    "start_time": "2023-09-01T10:43:04.745Z"
   },
   {
    "duration": 228,
    "start_time": "2023-09-01T10:43:04.879Z"
   },
   {
    "duration": 115,
    "start_time": "2023-09-01T10:43:05.109Z"
   },
   {
    "duration": 170,
    "start_time": "2023-09-01T10:43:05.226Z"
   },
   {
    "duration": 27,
    "start_time": "2023-09-01T10:43:05.398Z"
   },
   {
    "duration": 28,
    "start_time": "2023-09-01T10:43:05.426Z"
   },
   {
    "duration": 320,
    "start_time": "2023-09-01T10:45:16.856Z"
   },
   {
    "duration": 436,
    "start_time": "2023-09-01T10:45:23.815Z"
   },
   {
    "duration": 358,
    "start_time": "2023-09-01T10:46:29.215Z"
   },
   {
    "duration": 367,
    "start_time": "2023-09-01T10:47:10.705Z"
   },
   {
    "duration": 445,
    "start_time": "2023-09-01T10:47:32.471Z"
   },
   {
    "duration": 355,
    "start_time": "2023-09-01T10:47:39.520Z"
   },
   {
    "duration": 124,
    "start_time": "2023-09-01T10:48:07.763Z"
   },
   {
    "duration": 5,
    "start_time": "2023-09-01T10:48:17.969Z"
   },
   {
    "duration": 977,
    "start_time": "2023-09-01T10:48:35.347Z"
   },
   {
    "duration": 28,
    "start_time": "2023-09-01T10:49:18.937Z"
   },
   {
    "duration": 27,
    "start_time": "2023-09-01T10:49:34.245Z"
   },
   {
    "duration": 21,
    "start_time": "2023-09-01T10:49:38.632Z"
   },
   {
    "duration": 23,
    "start_time": "2023-09-01T10:53:46.542Z"
   },
   {
    "duration": 16,
    "start_time": "2023-09-01T10:57:25.932Z"
   },
   {
    "duration": 551,
    "start_time": "2023-09-01T10:57:40.055Z"
   },
   {
    "duration": 345,
    "start_time": "2023-09-01T10:58:01.137Z"
   },
   {
    "duration": 392,
    "start_time": "2023-09-01T10:58:10.225Z"
   },
   {
    "duration": 457,
    "start_time": "2023-09-01T10:58:47.531Z"
   },
   {
    "duration": 373,
    "start_time": "2023-09-01T10:58:55.317Z"
   },
   {
    "duration": 20,
    "start_time": "2023-09-01T11:02:04.943Z"
   },
   {
    "duration": 17,
    "start_time": "2023-09-01T11:02:09.310Z"
   },
   {
    "duration": 363,
    "start_time": "2023-09-01T11:02:12.610Z"
   },
   {
    "duration": 395,
    "start_time": "2023-09-01T11:02:18.422Z"
   },
   {
    "duration": 385,
    "start_time": "2023-09-01T11:04:21.096Z"
   },
   {
    "duration": 453,
    "start_time": "2023-09-01T11:04:31.737Z"
   },
   {
    "duration": 362,
    "start_time": "2023-09-01T11:04:49.439Z"
   },
   {
    "duration": 360,
    "start_time": "2023-09-01T11:05:04.617Z"
   },
   {
    "duration": 424,
    "start_time": "2023-09-01T11:05:17.353Z"
   },
   {
    "duration": 313,
    "start_time": "2023-09-01T11:05:34.063Z"
   },
   {
    "duration": 8,
    "start_time": "2023-09-01T11:07:03.408Z"
   },
   {
    "duration": 222,
    "start_time": "2023-09-01T11:07:27.457Z"
   },
   {
    "duration": 260,
    "start_time": "2023-09-01T11:09:25.802Z"
   },
   {
    "duration": 6,
    "start_time": "2023-09-01T11:10:40.287Z"
   },
   {
    "duration": 98,
    "start_time": "2023-09-01T11:11:12.397Z"
   },
   {
    "duration": 288,
    "start_time": "2023-09-01T11:11:18.826Z"
   },
   {
    "duration": 180,
    "start_time": "2023-09-01T11:12:24.691Z"
   },
   {
    "duration": 25,
    "start_time": "2023-09-01T11:13:07.263Z"
   },
   {
    "duration": 1399,
    "start_time": "2023-09-01T11:14:15.120Z"
   },
   {
    "duration": 3,
    "start_time": "2023-09-01T11:14:16.521Z"
   },
   {
    "duration": 66,
    "start_time": "2023-09-01T11:14:16.525Z"
   },
   {
    "duration": 4,
    "start_time": "2023-09-01T11:14:16.594Z"
   },
   {
    "duration": 790,
    "start_time": "2023-09-01T11:14:16.599Z"
   },
   {
    "duration": 4,
    "start_time": "2023-09-01T11:14:17.391Z"
   },
   {
    "duration": 8,
    "start_time": "2023-09-01T11:14:17.396Z"
   },
   {
    "duration": 27,
    "start_time": "2023-09-01T11:14:17.405Z"
   },
   {
    "duration": 4,
    "start_time": "2023-09-01T11:14:17.433Z"
   },
   {
    "duration": 9,
    "start_time": "2023-09-01T11:14:17.439Z"
   },
   {
    "duration": 13,
    "start_time": "2023-09-01T11:14:17.450Z"
   },
   {
    "duration": 6,
    "start_time": "2023-09-01T11:14:17.465Z"
   },
   {
    "duration": 7,
    "start_time": "2023-09-01T11:14:17.472Z"
   },
   {
    "duration": 19,
    "start_time": "2023-09-01T11:14:17.481Z"
   },
   {
    "duration": 10,
    "start_time": "2023-09-01T11:14:17.525Z"
   },
   {
    "duration": 28,
    "start_time": "2023-09-01T11:14:17.536Z"
   },
   {
    "duration": 4,
    "start_time": "2023-09-01T11:14:17.566Z"
   },
   {
    "duration": 5,
    "start_time": "2023-09-01T11:14:17.572Z"
   },
   {
    "duration": 388,
    "start_time": "2023-09-01T11:14:17.579Z"
   },
   {
    "duration": 330,
    "start_time": "2023-09-01T11:14:17.969Z"
   },
   {
    "duration": 418,
    "start_time": "2023-09-01T11:14:18.301Z"
   },
   {
    "duration": 5,
    "start_time": "2023-09-01T11:14:18.723Z"
   },
   {
    "duration": 873,
    "start_time": "2023-09-01T11:14:18.731Z"
   },
   {
    "duration": 35,
    "start_time": "2023-09-01T11:14:19.605Z"
   },
   {
    "duration": 17,
    "start_time": "2023-09-01T11:14:19.642Z"
   },
   {
    "duration": 397,
    "start_time": "2023-09-01T11:14:19.661Z"
   },
   {
    "duration": 317,
    "start_time": "2023-09-01T11:14:20.059Z"
   },
   {
    "duration": 9,
    "start_time": "2023-09-01T11:14:20.379Z"
   },
   {
    "duration": 209,
    "start_time": "2023-09-01T11:14:20.390Z"
   },
   {
    "duration": 270,
    "start_time": "2023-09-01T11:14:20.601Z"
   },
   {
    "duration": 5,
    "start_time": "2023-09-01T11:14:20.873Z"
   },
   {
    "duration": 186,
    "start_time": "2023-09-01T11:14:20.880Z"
   },
   {
    "duration": 176,
    "start_time": "2023-09-01T11:14:21.068Z"
   },
   {
    "duration": 25,
    "start_time": "2023-09-01T11:14:21.245Z"
   },
   {
    "duration": 53,
    "start_time": "2023-09-01T13:12:56.371Z"
   },
   {
    "duration": 111,
    "start_time": "2023-09-01T13:13:05.040Z"
   },
   {
    "duration": 19,
    "start_time": "2023-09-01T13:13:29.794Z"
   },
   {
    "duration": 100,
    "start_time": "2023-09-01T13:13:38.428Z"
   },
   {
    "duration": 19,
    "start_time": "2023-09-01T13:13:57.092Z"
   },
   {
    "duration": 94,
    "start_time": "2023-09-01T13:14:14.028Z"
   },
   {
    "duration": 20,
    "start_time": "2023-09-01T13:15:30.678Z"
   },
   {
    "duration": 102,
    "start_time": "2023-09-01T13:15:37.797Z"
   },
   {
    "duration": 18,
    "start_time": "2023-09-01T13:15:51.843Z"
   },
   {
    "duration": 120,
    "start_time": "2023-09-01T13:16:00.623Z"
   },
   {
    "duration": 17,
    "start_time": "2023-09-01T13:16:14.401Z"
   },
   {
    "duration": 102,
    "start_time": "2023-09-01T13:16:21.057Z"
   },
   {
    "duration": 19,
    "start_time": "2023-09-01T13:17:19.946Z"
   },
   {
    "duration": 101,
    "start_time": "2023-09-01T13:17:26.728Z"
   },
   {
    "duration": 18,
    "start_time": "2023-09-01T13:17:43.376Z"
   },
   {
    "duration": 151,
    "start_time": "2023-09-01T13:17:56.919Z"
   },
   {
    "duration": 21,
    "start_time": "2023-09-01T13:18:09.860Z"
   },
   {
    "duration": 227,
    "start_time": "2023-09-01T13:18:15.918Z"
   },
   {
    "duration": 13,
    "start_time": "2023-09-01T13:20:44.529Z"
   },
   {
    "duration": 6,
    "start_time": "2023-09-01T13:20:53.846Z"
   },
   {
    "duration": 6,
    "start_time": "2023-09-01T13:21:21.909Z"
   },
   {
    "duration": 5,
    "start_time": "2023-09-01T13:22:04.165Z"
   },
   {
    "duration": 5,
    "start_time": "2023-09-01T13:22:09.916Z"
   },
   {
    "duration": 4,
    "start_time": "2023-09-01T13:22:44.650Z"
   },
   {
    "duration": 1283,
    "start_time": "2023-09-01T13:28:06.859Z"
   },
   {
    "duration": 5,
    "start_time": "2023-09-01T13:28:08.144Z"
   },
   {
    "duration": 249,
    "start_time": "2023-09-01T13:28:08.151Z"
   },
   {
    "duration": 54,
    "start_time": "2023-09-01T13:28:08.403Z"
   },
   {
    "duration": 935,
    "start_time": "2023-09-01T13:28:08.458Z"
   },
   {
    "duration": 5,
    "start_time": "2023-09-01T13:28:09.395Z"
   },
   {
    "duration": 38,
    "start_time": "2023-09-01T13:28:09.402Z"
   },
   {
    "duration": 51,
    "start_time": "2023-09-01T13:28:09.442Z"
   },
   {
    "duration": 41,
    "start_time": "2023-09-01T13:28:09.495Z"
   },
   {
    "duration": 18,
    "start_time": "2023-09-01T13:28:09.540Z"
   },
   {
    "duration": 16,
    "start_time": "2023-09-01T13:28:09.560Z"
   },
   {
    "duration": 27,
    "start_time": "2023-09-01T13:28:09.578Z"
   },
   {
    "duration": 32,
    "start_time": "2023-09-01T13:28:09.607Z"
   },
   {
    "duration": 12,
    "start_time": "2023-09-01T13:28:09.643Z"
   },
   {
    "duration": 22,
    "start_time": "2023-09-01T13:28:09.656Z"
   },
   {
    "duration": 30,
    "start_time": "2023-09-01T13:28:09.680Z"
   },
   {
    "duration": 59,
    "start_time": "2023-09-01T13:28:09.712Z"
   },
   {
    "duration": 118,
    "start_time": "2023-09-01T13:28:09.773Z"
   },
   {
    "duration": 756,
    "start_time": "2023-09-01T13:28:09.893Z"
   },
   {
    "duration": 358,
    "start_time": "2023-09-01T13:28:10.651Z"
   },
   {
    "duration": 429,
    "start_time": "2023-09-01T13:28:11.011Z"
   },
   {
    "duration": 6,
    "start_time": "2023-09-01T13:28:11.442Z"
   },
   {
    "duration": 956,
    "start_time": "2023-09-01T13:28:11.450Z"
   },
   {
    "duration": 39,
    "start_time": "2023-09-01T13:28:12.408Z"
   },
   {
    "duration": 27,
    "start_time": "2023-09-01T13:28:12.449Z"
   },
   {
    "duration": 477,
    "start_time": "2023-09-01T13:28:12.477Z"
   },
   {
    "duration": 328,
    "start_time": "2023-09-01T13:28:12.955Z"
   },
   {
    "duration": 9,
    "start_time": "2023-09-01T13:28:13.286Z"
   },
   {
    "duration": 365,
    "start_time": "2023-09-01T13:28:13.297Z"
   },
   {
    "duration": 296,
    "start_time": "2023-09-01T13:28:13.663Z"
   },
   {
    "duration": 5,
    "start_time": "2023-09-01T13:28:13.961Z"
   },
   {
    "duration": 228,
    "start_time": "2023-09-01T13:28:13.967Z"
   },
   {
    "duration": 188,
    "start_time": "2023-09-01T13:28:14.197Z"
   },
   {
    "duration": 40,
    "start_time": "2023-09-01T13:28:14.387Z"
   },
   {
    "duration": 60,
    "start_time": "2023-09-01T13:28:14.430Z"
   },
   {
    "duration": 111,
    "start_time": "2023-09-01T13:28:14.491Z"
   },
   {
    "duration": 37,
    "start_time": "2023-09-01T13:28:14.603Z"
   },
   {
    "duration": 142,
    "start_time": "2023-09-01T13:28:14.644Z"
   },
   {
    "duration": 19,
    "start_time": "2023-09-01T13:28:14.788Z"
   },
   {
    "duration": 155,
    "start_time": "2023-09-01T13:28:14.823Z"
   },
   {
    "duration": 16,
    "start_time": "2023-09-01T13:28:14.980Z"
   },
   {
    "duration": 266,
    "start_time": "2023-09-01T13:28:14.998Z"
   },
   {
    "duration": 29,
    "start_time": "2023-09-01T13:28:15.266Z"
   },
   {
    "duration": 175,
    "start_time": "2023-09-01T13:28:15.296Z"
   },
   {
    "duration": 218,
    "start_time": "2023-09-01T13:28:15.473Z"
   },
   {
    "duration": 386,
    "start_time": "2023-09-01T13:28:15.693Z"
   },
   {
    "duration": 196,
    "start_time": "2023-09-01T13:28:16.081Z"
   },
   {
    "duration": 221,
    "start_time": "2023-09-01T13:28:16.278Z"
   },
   {
    "duration": 32,
    "start_time": "2023-09-01T13:28:16.500Z"
   },
   {
    "duration": 149,
    "start_time": "2023-09-01T13:28:16.538Z"
   },
   {
    "duration": 16,
    "start_time": "2023-09-01T13:28:16.689Z"
   },
   {
    "duration": 337,
    "start_time": "2023-09-01T13:28:16.707Z"
   },
   {
    "duration": 138,
    "start_time": "2023-09-01T13:28:17.046Z"
   },
   {
    "duration": 183,
    "start_time": "2023-09-01T13:28:17.185Z"
   },
   {
    "duration": 7,
    "start_time": "2023-09-01T13:28:17.369Z"
   },
   {
    "duration": 17,
    "start_time": "2023-09-01T13:28:17.377Z"
   },
   {
    "duration": 17,
    "start_time": "2023-09-01T13:28:17.396Z"
   },
   {
    "duration": 15,
    "start_time": "2023-09-01T13:28:17.415Z"
   }
  ],
  "kernelspec": {
   "display_name": "Python 3 (ipykernel)",
   "language": "python",
   "name": "python3"
  },
  "language_info": {
   "codemirror_mode": {
    "name": "ipython",
    "version": 3
   },
   "file_extension": ".py",
   "mimetype": "text/x-python",
   "name": "python",
   "nbconvert_exporter": "python",
   "pygments_lexer": "ipython3",
   "version": "3.9.5"
  },
  "toc": {
   "base_numbering": 1,
   "nav_menu": {},
   "number_sections": true,
   "sideBar": true,
   "skip_h1_title": true,
   "title_cell": "Table of Contents",
   "title_sidebar": "Contents",
   "toc_cell": false,
   "toc_position": {},
   "toc_section_display": true,
   "toc_window_display": false
  }
 },
 "nbformat": 4,
 "nbformat_minor": 5
}
