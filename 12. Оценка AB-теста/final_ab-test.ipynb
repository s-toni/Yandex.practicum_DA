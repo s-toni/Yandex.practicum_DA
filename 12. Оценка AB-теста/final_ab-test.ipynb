{
 "cells": [
  {
   "cell_type": "markdown",
   "id": "936abfdd",
   "metadata": {},
   "source": [
    "# Проект по оценки корректности A/B тестирования"
   ]
  },
  {
   "cell_type": "markdown",
   "id": "15d8871a",
   "metadata": {},
   "source": [
    "<b>Цель исследования: </b><br>\n",
    "провести оценку результатов A/B-теста. \n",
    "\n",
    "<b>Задача: </b><br>\n",
    "1) оценить корректность проведения  теста:<br>\n",
    "- удостоверься, что нет пересечений с конкурирующим тестом и нет пользователей, участвующих в двух группах теста одновременно;\n",
    "- проверить равномерность распределения пользователей по тестовым группам и правильность их формирования.<br>\n",
    "\n",
    "2) проанализировать результаты.\n",
    "\n",
    "<b>Техническое задание: </b><br>\n",
    "- Название теста: `recommender_system_test`;\n",
    "- группы: А — контрольная, B — новая платёжная воронка;\n",
    "- дата запуска: 2020-12-07;\n",
    "- дата остановки набора новых пользователей: 2020-12-21;\n",
    "- дата остановки: 2021-01-04;\n",
    "- аудитория: в тест должно быть отобрано 15% новых пользователей из региона EU;\n",
    "- назначение теста: тестирование изменений, связанных с внедрением улучшенной рекомендательной системы;\n",
    "- ожидаемое количество участников теста: 6000.\n",
    "- ожидаемый эффект: за 14 дней с момента регистрации пользователи покажут улучшение каждой метрики не менее, чем на 10%:\n",
    "    - конверсии в просмотр карточек товаров — событие `product_page`,\n",
    "    - просмотры корзины — `product_cart`,\n",
    "    - покупки — `purchase`."
   ]
  },
  {
   "cell_type": "markdown",
   "id": "52761638",
   "metadata": {},
   "source": [
    "<b>Ход исследования: </b>\n",
    "1) Обзор данных.<br>\n",
    "\n",
    "2) Предобработка данных:<br>\n",
    "- поиск явных и неявных дубликатов;\n",
    "- преобразование типов данных.\n",
    "\n",
    "3) Проверка технического задания:<br>\n",
    "- проверка времени проведения тестов (поиск максимальной и минимальной даты), сравнением с датами регистрации;\n",
    "- проверка времени действий пользователя (максимальная дата 04.01.21);\n",
    "- проверка активности пользователей (совершалось ли какое-нибудь событие за 14 дней)\n",
    "- проверка оказания влияния маркетинговых акций на результаты теста;\n",
    "- проверка количества новых пользователей в EU;\n",
    "- проверка пересечений пользователей по тестам;\n",
    "- проверка распределения пользователей по группам.\n",
    "\n",
    "4) Исследовательский анализ данных:<br>\n",
    "- посмотреть на распределение количества событий на пользователя в выборках (одинаково или нет);\n",
    "- определить число событий в выборках по дням;\n",
    "- посмотреть изменение конверсии в воронке в выборках на разных этапах.\n",
    "\n",
    "5) Проведение и оценка A/B-тестирования:<br>\n",
    "- выводу по результатам A/B-тестирования;\n",
    "- проверить статистическую разницу долей z-критерием.\n",
    "\n",
    "5) Подготовка промежуточного по исследовательскомиу анализу и проведенному A/B-тестированию.<br>\n",
    "\n",
    "8) Общий вывод по проекту."
   ]
  },
  {
   "cell_type": "markdown",
   "id": "6efcfc25",
   "metadata": {},
   "source": [
    "<b>Описание данных:</b>\n",
    "\n",
    "Имеется 4 датасета:\n",
    "\n",
    "1) <b>ab_project_marketing_events.csv</b> — календарь маркетинговых событий на 2020 год.\n",
    "\n",
    "<b>name</b> — название маркетингового события;<br>\n",
    "<b>regions</b> — регионы, в которых будет проводиться рекламная кампания;<br>\n",
    "<b>start_dt</b> — дата начала кампании;<br>\n",
    "<b>finish_dt</b> — дата завершения кампании.<br>\n",
    "\n",
    "2) <b>final_ab_new_users.csv</b> — пользователи, зарегистрировавшиеся с 7 до 21 декабря 2020 года.\n",
    "\n",
    "<b>user_id</b> — идентификатор пользователя;<br>\n",
    "<b>first_date</b> — дата регистрации;<br>\n",
    "<b>region</b> — регион пользователя;<br>\n",
    "<b>device</b> —  устройство, с которого происходила регистрация.<br>\n",
    "\n",
    "3) <b>final_ab_events.csv</b> — действия новых пользователей в период с 7 декабря 2020 по 4 января 2021 года.\n",
    "\n",
    "<b>user_id</b> — идентификатор пользователя;<br>\n",
    "<b>event_dt</b> — тип события;<br>\n",
    "<b>details</b> — дополнительные данные о событии (например, для покупок, <b>purchase</b>, в этом поле хранится стоимость покупки в долларах).<br>\n",
    "\n",
    "4) <b>final_ab_participants.csv</b> — таблица участников тестов.\n",
    "\n",
    "<b>user_id</b> — идентификатор пользователя;<br>\n",
    "<b>ab_test</b> — название теста;<br>\n",
    "<b>group</b> — группа пользователя.<br>"
   ]
  },
  {
   "cell_type": "markdown",
   "id": "fb6c711b",
   "metadata": {},
   "source": [
    "### 1Обзор данных"
   ]
  },
  {
   "cell_type": "code",
   "execution_count": 1,
   "id": "b6be5ac0",
   "metadata": {},
   "outputs": [],
   "source": [
    "#Подключим необходимые библиотеки\n",
    "import pandas as pd\n",
    "from datetime import datetime\n",
    "from scipy import stats as st\n",
    "import math as mth\n",
    "import matplotlib.pyplot as plt\n",
    "import seaborn as sns\n",
    "from plotly import graph_objects as go\n",
    "import warnings"
   ]
  },
  {
   "cell_type": "code",
   "execution_count": 2,
   "id": "e94c2ace",
   "metadata": {},
   "outputs": [],
   "source": [
    "#задаем исходные настройки\n",
    "warnings.filterwarnings(\"ignore\")"
   ]
  },
  {
   "cell_type": "code",
   "execution_count": 3,
   "id": "d9f94a54",
   "metadata": {},
   "outputs": [],
   "source": [
    "#Загрузим данные\n",
    "mark_events = pd.read_csv('/datasets/ab_project_marketing_events.csv')\n",
    "new_users = pd.read_csv('/datasets/final_ab_new_users.csv')\n",
    "ab_events = pd.read_csv('/datasets/final_ab_events.csv')\n",
    "ab_particip = pd.read_csv('/datasets/final_ab_participants.csv')"
   ]
  },
  {
   "cell_type": "code",
   "execution_count": 4,
   "id": "75d574f0",
   "metadata": {},
   "outputs": [],
   "source": [
    "#Базовая функция для ознакомления с данными: инфо о типах, пропусках, явных дубликатах\n",
    "def show_data(df):\n",
    "    display(df.head(15))\n",
    "    print('-----')\n",
    "    print('Информация о типах данных')\n",
    "    df.info()\n",
    "    print('-----')\n",
    "    for col in df.columns:\n",
    "        print('Название:', col, '\\nПропусков:\\t', df[col].isna().sum(), 'Процент пропусков:\\t', round(df[col].isna().sum() *100 / len(df[col])))\n",
    "    round(df[col].isna().sum() *100 / len(df[col]))\n",
    "    print('-----')\n",
    "    print('Явных дубликатов')\n",
    "    print(df.duplicated().sum())"
   ]
  },
  {
   "cell_type": "code",
   "execution_count": 5,
   "id": "e8d05d51",
   "metadata": {},
   "outputs": [
    {
     "data": {
      "text/html": [
       "<div>\n",
       "<style scoped>\n",
       "    .dataframe tbody tr th:only-of-type {\n",
       "        vertical-align: middle;\n",
       "    }\n",
       "\n",
       "    .dataframe tbody tr th {\n",
       "        vertical-align: top;\n",
       "    }\n",
       "\n",
       "    .dataframe thead th {\n",
       "        text-align: right;\n",
       "    }\n",
       "</style>\n",
       "<table border=\"1\" class=\"dataframe\">\n",
       "  <thead>\n",
       "    <tr style=\"text-align: right;\">\n",
       "      <th></th>\n",
       "      <th>name</th>\n",
       "      <th>regions</th>\n",
       "      <th>start_dt</th>\n",
       "      <th>finish_dt</th>\n",
       "    </tr>\n",
       "  </thead>\n",
       "  <tbody>\n",
       "    <tr>\n",
       "      <th>0</th>\n",
       "      <td>Christmas&amp;New Year Promo</td>\n",
       "      <td>EU, N.America</td>\n",
       "      <td>2020-12-25</td>\n",
       "      <td>2021-01-03</td>\n",
       "    </tr>\n",
       "    <tr>\n",
       "      <th>1</th>\n",
       "      <td>St. Valentine's Day Giveaway</td>\n",
       "      <td>EU, CIS, APAC, N.America</td>\n",
       "      <td>2020-02-14</td>\n",
       "      <td>2020-02-16</td>\n",
       "    </tr>\n",
       "    <tr>\n",
       "      <th>2</th>\n",
       "      <td>St. Patric's Day Promo</td>\n",
       "      <td>EU, N.America</td>\n",
       "      <td>2020-03-17</td>\n",
       "      <td>2020-03-19</td>\n",
       "    </tr>\n",
       "    <tr>\n",
       "      <th>3</th>\n",
       "      <td>Easter Promo</td>\n",
       "      <td>EU, CIS, APAC, N.America</td>\n",
       "      <td>2020-04-12</td>\n",
       "      <td>2020-04-19</td>\n",
       "    </tr>\n",
       "    <tr>\n",
       "      <th>4</th>\n",
       "      <td>4th of July Promo</td>\n",
       "      <td>N.America</td>\n",
       "      <td>2020-07-04</td>\n",
       "      <td>2020-07-11</td>\n",
       "    </tr>\n",
       "    <tr>\n",
       "      <th>5</th>\n",
       "      <td>Black Friday Ads Campaign</td>\n",
       "      <td>EU, CIS, APAC, N.America</td>\n",
       "      <td>2020-11-26</td>\n",
       "      <td>2020-12-01</td>\n",
       "    </tr>\n",
       "    <tr>\n",
       "      <th>6</th>\n",
       "      <td>Chinese New Year Promo</td>\n",
       "      <td>APAC</td>\n",
       "      <td>2020-01-25</td>\n",
       "      <td>2020-02-07</td>\n",
       "    </tr>\n",
       "    <tr>\n",
       "      <th>7</th>\n",
       "      <td>Labor day (May 1st) Ads Campaign</td>\n",
       "      <td>EU, CIS, APAC</td>\n",
       "      <td>2020-05-01</td>\n",
       "      <td>2020-05-03</td>\n",
       "    </tr>\n",
       "    <tr>\n",
       "      <th>8</th>\n",
       "      <td>International Women's Day Promo</td>\n",
       "      <td>EU, CIS, APAC</td>\n",
       "      <td>2020-03-08</td>\n",
       "      <td>2020-03-10</td>\n",
       "    </tr>\n",
       "    <tr>\n",
       "      <th>9</th>\n",
       "      <td>Victory Day CIS (May 9th) Event</td>\n",
       "      <td>CIS</td>\n",
       "      <td>2020-05-09</td>\n",
       "      <td>2020-05-11</td>\n",
       "    </tr>\n",
       "    <tr>\n",
       "      <th>10</th>\n",
       "      <td>CIS New Year Gift Lottery</td>\n",
       "      <td>CIS</td>\n",
       "      <td>2020-12-30</td>\n",
       "      <td>2021-01-07</td>\n",
       "    </tr>\n",
       "    <tr>\n",
       "      <th>11</th>\n",
       "      <td>Dragon Boat Festival Giveaway</td>\n",
       "      <td>APAC</td>\n",
       "      <td>2020-06-25</td>\n",
       "      <td>2020-07-01</td>\n",
       "    </tr>\n",
       "    <tr>\n",
       "      <th>12</th>\n",
       "      <td>Single's Day Gift Promo</td>\n",
       "      <td>APAC</td>\n",
       "      <td>2020-11-11</td>\n",
       "      <td>2020-11-12</td>\n",
       "    </tr>\n",
       "    <tr>\n",
       "      <th>13</th>\n",
       "      <td>Chinese Moon Festival</td>\n",
       "      <td>APAC</td>\n",
       "      <td>2020-10-01</td>\n",
       "      <td>2020-10-07</td>\n",
       "    </tr>\n",
       "  </tbody>\n",
       "</table>\n",
       "</div>"
      ],
      "text/plain": [
       "                                name                   regions    start_dt  \\\n",
       "0           Christmas&New Year Promo             EU, N.America  2020-12-25   \n",
       "1       St. Valentine's Day Giveaway  EU, CIS, APAC, N.America  2020-02-14   \n",
       "2             St. Patric's Day Promo             EU, N.America  2020-03-17   \n",
       "3                       Easter Promo  EU, CIS, APAC, N.America  2020-04-12   \n",
       "4                  4th of July Promo                 N.America  2020-07-04   \n",
       "5          Black Friday Ads Campaign  EU, CIS, APAC, N.America  2020-11-26   \n",
       "6             Chinese New Year Promo                      APAC  2020-01-25   \n",
       "7   Labor day (May 1st) Ads Campaign             EU, CIS, APAC  2020-05-01   \n",
       "8    International Women's Day Promo             EU, CIS, APAC  2020-03-08   \n",
       "9    Victory Day CIS (May 9th) Event                       CIS  2020-05-09   \n",
       "10         CIS New Year Gift Lottery                       CIS  2020-12-30   \n",
       "11     Dragon Boat Festival Giveaway                      APAC  2020-06-25   \n",
       "12           Single's Day Gift Promo                      APAC  2020-11-11   \n",
       "13             Chinese Moon Festival                      APAC  2020-10-01   \n",
       "\n",
       "     finish_dt  \n",
       "0   2021-01-03  \n",
       "1   2020-02-16  \n",
       "2   2020-03-19  \n",
       "3   2020-04-19  \n",
       "4   2020-07-11  \n",
       "5   2020-12-01  \n",
       "6   2020-02-07  \n",
       "7   2020-05-03  \n",
       "8   2020-03-10  \n",
       "9   2020-05-11  \n",
       "10  2021-01-07  \n",
       "11  2020-07-01  \n",
       "12  2020-11-12  \n",
       "13  2020-10-07  "
      ]
     },
     "metadata": {},
     "output_type": "display_data"
    },
    {
     "name": "stdout",
     "output_type": "stream",
     "text": [
      "-----\n",
      "Информация о типах данных\n",
      "<class 'pandas.core.frame.DataFrame'>\n",
      "RangeIndex: 14 entries, 0 to 13\n",
      "Data columns (total 4 columns):\n",
      " #   Column     Non-Null Count  Dtype \n",
      "---  ------     --------------  ----- \n",
      " 0   name       14 non-null     object\n",
      " 1   regions    14 non-null     object\n",
      " 2   start_dt   14 non-null     object\n",
      " 3   finish_dt  14 non-null     object\n",
      "dtypes: object(4)\n",
      "memory usage: 576.0+ bytes\n",
      "-----\n",
      "Название: name \n",
      "Пропусков:\t 0 Процент пропусков:\t 0\n",
      "Название: regions \n",
      "Пропусков:\t 0 Процент пропусков:\t 0\n",
      "Название: start_dt \n",
      "Пропусков:\t 0 Процент пропусков:\t 0\n",
      "Название: finish_dt \n",
      "Пропусков:\t 0 Процент пропусков:\t 0\n",
      "-----\n",
      "Явных дубликатов\n",
      "0\n"
     ]
    }
   ],
   "source": [
    "show_data(mark_events)"
   ]
  },
  {
   "cell_type": "code",
   "execution_count": 6,
   "id": "18a16684",
   "metadata": {},
   "outputs": [
    {
     "data": {
      "text/html": [
       "<div>\n",
       "<style scoped>\n",
       "    .dataframe tbody tr th:only-of-type {\n",
       "        vertical-align: middle;\n",
       "    }\n",
       "\n",
       "    .dataframe tbody tr th {\n",
       "        vertical-align: top;\n",
       "    }\n",
       "\n",
       "    .dataframe thead th {\n",
       "        text-align: right;\n",
       "    }\n",
       "</style>\n",
       "<table border=\"1\" class=\"dataframe\">\n",
       "  <thead>\n",
       "    <tr style=\"text-align: right;\">\n",
       "      <th></th>\n",
       "      <th>user_id</th>\n",
       "      <th>first_date</th>\n",
       "      <th>region</th>\n",
       "      <th>device</th>\n",
       "    </tr>\n",
       "  </thead>\n",
       "  <tbody>\n",
       "    <tr>\n",
       "      <th>0</th>\n",
       "      <td>D72A72121175D8BE</td>\n",
       "      <td>2020-12-07</td>\n",
       "      <td>EU</td>\n",
       "      <td>PC</td>\n",
       "    </tr>\n",
       "    <tr>\n",
       "      <th>1</th>\n",
       "      <td>F1C668619DFE6E65</td>\n",
       "      <td>2020-12-07</td>\n",
       "      <td>N.America</td>\n",
       "      <td>Android</td>\n",
       "    </tr>\n",
       "    <tr>\n",
       "      <th>2</th>\n",
       "      <td>2E1BF1D4C37EA01F</td>\n",
       "      <td>2020-12-07</td>\n",
       "      <td>EU</td>\n",
       "      <td>PC</td>\n",
       "    </tr>\n",
       "    <tr>\n",
       "      <th>3</th>\n",
       "      <td>50734A22C0C63768</td>\n",
       "      <td>2020-12-07</td>\n",
       "      <td>EU</td>\n",
       "      <td>iPhone</td>\n",
       "    </tr>\n",
       "    <tr>\n",
       "      <th>4</th>\n",
       "      <td>E1BDDCE0DAFA2679</td>\n",
       "      <td>2020-12-07</td>\n",
       "      <td>N.America</td>\n",
       "      <td>iPhone</td>\n",
       "    </tr>\n",
       "    <tr>\n",
       "      <th>5</th>\n",
       "      <td>137119F5A9E69421</td>\n",
       "      <td>2020-12-07</td>\n",
       "      <td>N.America</td>\n",
       "      <td>iPhone</td>\n",
       "    </tr>\n",
       "    <tr>\n",
       "      <th>6</th>\n",
       "      <td>62F0C741CC42D0CC</td>\n",
       "      <td>2020-12-07</td>\n",
       "      <td>APAC</td>\n",
       "      <td>iPhone</td>\n",
       "    </tr>\n",
       "    <tr>\n",
       "      <th>7</th>\n",
       "      <td>8942E64218C9A1ED</td>\n",
       "      <td>2020-12-07</td>\n",
       "      <td>EU</td>\n",
       "      <td>PC</td>\n",
       "    </tr>\n",
       "    <tr>\n",
       "      <th>8</th>\n",
       "      <td>499AFACF904BBAE3</td>\n",
       "      <td>2020-12-07</td>\n",
       "      <td>N.America</td>\n",
       "      <td>iPhone</td>\n",
       "    </tr>\n",
       "    <tr>\n",
       "      <th>9</th>\n",
       "      <td>FFCEA1179C253104</td>\n",
       "      <td>2020-12-07</td>\n",
       "      <td>EU</td>\n",
       "      <td>Android</td>\n",
       "    </tr>\n",
       "    <tr>\n",
       "      <th>10</th>\n",
       "      <td>5EB159DA9DC94DBA</td>\n",
       "      <td>2020-12-07</td>\n",
       "      <td>APAC</td>\n",
       "      <td>PC</td>\n",
       "    </tr>\n",
       "    <tr>\n",
       "      <th>11</th>\n",
       "      <td>084A22B980BA8169</td>\n",
       "      <td>2020-12-07</td>\n",
       "      <td>EU</td>\n",
       "      <td>Android</td>\n",
       "    </tr>\n",
       "    <tr>\n",
       "      <th>12</th>\n",
       "      <td>8ACC2420471B31E4</td>\n",
       "      <td>2020-12-07</td>\n",
       "      <td>EU</td>\n",
       "      <td>PC</td>\n",
       "    </tr>\n",
       "    <tr>\n",
       "      <th>13</th>\n",
       "      <td>E6DE857AFBDC6102</td>\n",
       "      <td>2020-12-07</td>\n",
       "      <td>EU</td>\n",
       "      <td>PC</td>\n",
       "    </tr>\n",
       "    <tr>\n",
       "      <th>14</th>\n",
       "      <td>5BE017E9C8CC42F8</td>\n",
       "      <td>2020-12-07</td>\n",
       "      <td>EU</td>\n",
       "      <td>Android</td>\n",
       "    </tr>\n",
       "  </tbody>\n",
       "</table>\n",
       "</div>"
      ],
      "text/plain": [
       "             user_id  first_date     region   device\n",
       "0   D72A72121175D8BE  2020-12-07         EU       PC\n",
       "1   F1C668619DFE6E65  2020-12-07  N.America  Android\n",
       "2   2E1BF1D4C37EA01F  2020-12-07         EU       PC\n",
       "3   50734A22C0C63768  2020-12-07         EU   iPhone\n",
       "4   E1BDDCE0DAFA2679  2020-12-07  N.America   iPhone\n",
       "5   137119F5A9E69421  2020-12-07  N.America   iPhone\n",
       "6   62F0C741CC42D0CC  2020-12-07       APAC   iPhone\n",
       "7   8942E64218C9A1ED  2020-12-07         EU       PC\n",
       "8   499AFACF904BBAE3  2020-12-07  N.America   iPhone\n",
       "9   FFCEA1179C253104  2020-12-07         EU  Android\n",
       "10  5EB159DA9DC94DBA  2020-12-07       APAC       PC\n",
       "11  084A22B980BA8169  2020-12-07         EU  Android\n",
       "12  8ACC2420471B31E4  2020-12-07         EU       PC\n",
       "13  E6DE857AFBDC6102  2020-12-07         EU       PC\n",
       "14  5BE017E9C8CC42F8  2020-12-07         EU  Android"
      ]
     },
     "metadata": {},
     "output_type": "display_data"
    },
    {
     "name": "stdout",
     "output_type": "stream",
     "text": [
      "-----\n",
      "Информация о типах данных\n",
      "<class 'pandas.core.frame.DataFrame'>\n",
      "RangeIndex: 61733 entries, 0 to 61732\n",
      "Data columns (total 4 columns):\n",
      " #   Column      Non-Null Count  Dtype \n",
      "---  ------      --------------  ----- \n",
      " 0   user_id     61733 non-null  object\n",
      " 1   first_date  61733 non-null  object\n",
      " 2   region      61733 non-null  object\n",
      " 3   device      61733 non-null  object\n",
      "dtypes: object(4)\n",
      "memory usage: 1.9+ MB\n",
      "-----\n",
      "Название: user_id \n",
      "Пропусков:\t 0 Процент пропусков:\t 0\n",
      "Название: first_date \n",
      "Пропусков:\t 0 Процент пропусков:\t 0\n",
      "Название: region \n",
      "Пропусков:\t 0 Процент пропусков:\t 0\n",
      "Название: device \n",
      "Пропусков:\t 0 Процент пропусков:\t 0\n",
      "-----\n",
      "Явных дубликатов\n",
      "0\n"
     ]
    }
   ],
   "source": [
    "show_data(new_users)"
   ]
  },
  {
   "cell_type": "code",
   "execution_count": 7,
   "id": "3593eb91",
   "metadata": {},
   "outputs": [
    {
     "data": {
      "text/html": [
       "<div>\n",
       "<style scoped>\n",
       "    .dataframe tbody tr th:only-of-type {\n",
       "        vertical-align: middle;\n",
       "    }\n",
       "\n",
       "    .dataframe tbody tr th {\n",
       "        vertical-align: top;\n",
       "    }\n",
       "\n",
       "    .dataframe thead th {\n",
       "        text-align: right;\n",
       "    }\n",
       "</style>\n",
       "<table border=\"1\" class=\"dataframe\">\n",
       "  <thead>\n",
       "    <tr style=\"text-align: right;\">\n",
       "      <th></th>\n",
       "      <th>user_id</th>\n",
       "      <th>event_dt</th>\n",
       "      <th>event_name</th>\n",
       "      <th>details</th>\n",
       "    </tr>\n",
       "  </thead>\n",
       "  <tbody>\n",
       "    <tr>\n",
       "      <th>0</th>\n",
       "      <td>E1BDDCE0DAFA2679</td>\n",
       "      <td>2020-12-07 20:22:03</td>\n",
       "      <td>purchase</td>\n",
       "      <td>99.99</td>\n",
       "    </tr>\n",
       "    <tr>\n",
       "      <th>1</th>\n",
       "      <td>7B6452F081F49504</td>\n",
       "      <td>2020-12-07 09:22:53</td>\n",
       "      <td>purchase</td>\n",
       "      <td>9.99</td>\n",
       "    </tr>\n",
       "    <tr>\n",
       "      <th>2</th>\n",
       "      <td>9CD9F34546DF254C</td>\n",
       "      <td>2020-12-07 12:59:29</td>\n",
       "      <td>purchase</td>\n",
       "      <td>4.99</td>\n",
       "    </tr>\n",
       "    <tr>\n",
       "      <th>3</th>\n",
       "      <td>96F27A054B191457</td>\n",
       "      <td>2020-12-07 04:02:40</td>\n",
       "      <td>purchase</td>\n",
       "      <td>4.99</td>\n",
       "    </tr>\n",
       "    <tr>\n",
       "      <th>4</th>\n",
       "      <td>1FD7660FDF94CA1F</td>\n",
       "      <td>2020-12-07 10:15:09</td>\n",
       "      <td>purchase</td>\n",
       "      <td>4.99</td>\n",
       "    </tr>\n",
       "    <tr>\n",
       "      <th>5</th>\n",
       "      <td>831887FE7F2D6CBA</td>\n",
       "      <td>2020-12-07 06:50:29</td>\n",
       "      <td>purchase</td>\n",
       "      <td>4.99</td>\n",
       "    </tr>\n",
       "    <tr>\n",
       "      <th>6</th>\n",
       "      <td>6B2F726BFD5F8220</td>\n",
       "      <td>2020-12-07 11:27:42</td>\n",
       "      <td>purchase</td>\n",
       "      <td>4.99</td>\n",
       "    </tr>\n",
       "    <tr>\n",
       "      <th>7</th>\n",
       "      <td>BEB37715AACF53B0</td>\n",
       "      <td>2020-12-07 04:26:15</td>\n",
       "      <td>purchase</td>\n",
       "      <td>4.99</td>\n",
       "    </tr>\n",
       "    <tr>\n",
       "      <th>8</th>\n",
       "      <td>B5FA27F582227197</td>\n",
       "      <td>2020-12-07 01:46:37</td>\n",
       "      <td>purchase</td>\n",
       "      <td>4.99</td>\n",
       "    </tr>\n",
       "    <tr>\n",
       "      <th>9</th>\n",
       "      <td>A92195E3CFB83DBD</td>\n",
       "      <td>2020-12-07 00:32:07</td>\n",
       "      <td>purchase</td>\n",
       "      <td>4.99</td>\n",
       "    </tr>\n",
       "    <tr>\n",
       "      <th>10</th>\n",
       "      <td>E2E76A8B3389127C</td>\n",
       "      <td>2020-12-07 15:39:32</td>\n",
       "      <td>purchase</td>\n",
       "      <td>4.99</td>\n",
       "    </tr>\n",
       "    <tr>\n",
       "      <th>11</th>\n",
       "      <td>354D653172FF2A2D</td>\n",
       "      <td>2020-12-07 15:45:11</td>\n",
       "      <td>purchase</td>\n",
       "      <td>4.99</td>\n",
       "    </tr>\n",
       "    <tr>\n",
       "      <th>12</th>\n",
       "      <td>7FCD34F47C13A9AC</td>\n",
       "      <td>2020-12-07 22:06:13</td>\n",
       "      <td>purchase</td>\n",
       "      <td>9.99</td>\n",
       "    </tr>\n",
       "    <tr>\n",
       "      <th>13</th>\n",
       "      <td>0313C457F07C339E</td>\n",
       "      <td>2020-12-07 13:10:48</td>\n",
       "      <td>purchase</td>\n",
       "      <td>9.99</td>\n",
       "    </tr>\n",
       "    <tr>\n",
       "      <th>14</th>\n",
       "      <td>214902A9BAAF3422</td>\n",
       "      <td>2020-12-07 19:31:44</td>\n",
       "      <td>purchase</td>\n",
       "      <td>4.99</td>\n",
       "    </tr>\n",
       "  </tbody>\n",
       "</table>\n",
       "</div>"
      ],
      "text/plain": [
       "             user_id             event_dt event_name  details\n",
       "0   E1BDDCE0DAFA2679  2020-12-07 20:22:03   purchase    99.99\n",
       "1   7B6452F081F49504  2020-12-07 09:22:53   purchase     9.99\n",
       "2   9CD9F34546DF254C  2020-12-07 12:59:29   purchase     4.99\n",
       "3   96F27A054B191457  2020-12-07 04:02:40   purchase     4.99\n",
       "4   1FD7660FDF94CA1F  2020-12-07 10:15:09   purchase     4.99\n",
       "5   831887FE7F2D6CBA  2020-12-07 06:50:29   purchase     4.99\n",
       "6   6B2F726BFD5F8220  2020-12-07 11:27:42   purchase     4.99\n",
       "7   BEB37715AACF53B0  2020-12-07 04:26:15   purchase     4.99\n",
       "8   B5FA27F582227197  2020-12-07 01:46:37   purchase     4.99\n",
       "9   A92195E3CFB83DBD  2020-12-07 00:32:07   purchase     4.99\n",
       "10  E2E76A8B3389127C  2020-12-07 15:39:32   purchase     4.99\n",
       "11  354D653172FF2A2D  2020-12-07 15:45:11   purchase     4.99\n",
       "12  7FCD34F47C13A9AC  2020-12-07 22:06:13   purchase     9.99\n",
       "13  0313C457F07C339E  2020-12-07 13:10:48   purchase     9.99\n",
       "14  214902A9BAAF3422  2020-12-07 19:31:44   purchase     4.99"
      ]
     },
     "metadata": {},
     "output_type": "display_data"
    },
    {
     "name": "stdout",
     "output_type": "stream",
     "text": [
      "-----\n",
      "Информация о типах данных\n",
      "<class 'pandas.core.frame.DataFrame'>\n",
      "RangeIndex: 440317 entries, 0 to 440316\n",
      "Data columns (total 4 columns):\n",
      " #   Column      Non-Null Count   Dtype  \n",
      "---  ------      --------------   -----  \n",
      " 0   user_id     440317 non-null  object \n",
      " 1   event_dt    440317 non-null  object \n",
      " 2   event_name  440317 non-null  object \n",
      " 3   details     62740 non-null   float64\n",
      "dtypes: float64(1), object(3)\n",
      "memory usage: 13.4+ MB\n",
      "-----\n",
      "Название: user_id \n",
      "Пропусков:\t 0 Процент пропусков:\t 0\n",
      "Название: event_dt \n",
      "Пропусков:\t 0 Процент пропусков:\t 0\n",
      "Название: event_name \n",
      "Пропусков:\t 0 Процент пропусков:\t 0\n",
      "Название: details \n",
      "Пропусков:\t 377577 Процент пропусков:\t 86\n",
      "-----\n",
      "Явных дубликатов\n",
      "0\n"
     ]
    }
   ],
   "source": [
    "show_data(ab_events)"
   ]
  },
  {
   "cell_type": "code",
   "execution_count": 8,
   "id": "2280c33d",
   "metadata": {},
   "outputs": [
    {
     "data": {
      "text/html": [
       "<div>\n",
       "<style scoped>\n",
       "    .dataframe tbody tr th:only-of-type {\n",
       "        vertical-align: middle;\n",
       "    }\n",
       "\n",
       "    .dataframe tbody tr th {\n",
       "        vertical-align: top;\n",
       "    }\n",
       "\n",
       "    .dataframe thead th {\n",
       "        text-align: right;\n",
       "    }\n",
       "</style>\n",
       "<table border=\"1\" class=\"dataframe\">\n",
       "  <thead>\n",
       "    <tr style=\"text-align: right;\">\n",
       "      <th></th>\n",
       "      <th>user_id</th>\n",
       "      <th>group</th>\n",
       "      <th>ab_test</th>\n",
       "    </tr>\n",
       "  </thead>\n",
       "  <tbody>\n",
       "    <tr>\n",
       "      <th>0</th>\n",
       "      <td>D1ABA3E2887B6A73</td>\n",
       "      <td>A</td>\n",
       "      <td>recommender_system_test</td>\n",
       "    </tr>\n",
       "    <tr>\n",
       "      <th>1</th>\n",
       "      <td>A7A3664BD6242119</td>\n",
       "      <td>A</td>\n",
       "      <td>recommender_system_test</td>\n",
       "    </tr>\n",
       "    <tr>\n",
       "      <th>2</th>\n",
       "      <td>DABC14FDDFADD29E</td>\n",
       "      <td>A</td>\n",
       "      <td>recommender_system_test</td>\n",
       "    </tr>\n",
       "    <tr>\n",
       "      <th>3</th>\n",
       "      <td>04988C5DF189632E</td>\n",
       "      <td>A</td>\n",
       "      <td>recommender_system_test</td>\n",
       "    </tr>\n",
       "    <tr>\n",
       "      <th>4</th>\n",
       "      <td>482F14783456D21B</td>\n",
       "      <td>B</td>\n",
       "      <td>recommender_system_test</td>\n",
       "    </tr>\n",
       "    <tr>\n",
       "      <th>5</th>\n",
       "      <td>4FF2998A348C484F</td>\n",
       "      <td>A</td>\n",
       "      <td>recommender_system_test</td>\n",
       "    </tr>\n",
       "    <tr>\n",
       "      <th>6</th>\n",
       "      <td>7473E0943673C09E</td>\n",
       "      <td>A</td>\n",
       "      <td>recommender_system_test</td>\n",
       "    </tr>\n",
       "    <tr>\n",
       "      <th>7</th>\n",
       "      <td>C46FE336D240A054</td>\n",
       "      <td>A</td>\n",
       "      <td>recommender_system_test</td>\n",
       "    </tr>\n",
       "    <tr>\n",
       "      <th>8</th>\n",
       "      <td>92CB588012C10D3D</td>\n",
       "      <td>A</td>\n",
       "      <td>recommender_system_test</td>\n",
       "    </tr>\n",
       "    <tr>\n",
       "      <th>9</th>\n",
       "      <td>057AB296296C7FC0</td>\n",
       "      <td>B</td>\n",
       "      <td>recommender_system_test</td>\n",
       "    </tr>\n",
       "    <tr>\n",
       "      <th>10</th>\n",
       "      <td>B3A2485649E4A012</td>\n",
       "      <td>A</td>\n",
       "      <td>recommender_system_test</td>\n",
       "    </tr>\n",
       "    <tr>\n",
       "      <th>11</th>\n",
       "      <td>E9FA12FAE3F5769C</td>\n",
       "      <td>B</td>\n",
       "      <td>recommender_system_test</td>\n",
       "    </tr>\n",
       "    <tr>\n",
       "      <th>12</th>\n",
       "      <td>FDD0A1016549D707</td>\n",
       "      <td>A</td>\n",
       "      <td>recommender_system_test</td>\n",
       "    </tr>\n",
       "    <tr>\n",
       "      <th>13</th>\n",
       "      <td>547E99A7BDB0FCE9</td>\n",
       "      <td>A</td>\n",
       "      <td>recommender_system_test</td>\n",
       "    </tr>\n",
       "    <tr>\n",
       "      <th>14</th>\n",
       "      <td>66FC298441D50783</td>\n",
       "      <td>A</td>\n",
       "      <td>recommender_system_test</td>\n",
       "    </tr>\n",
       "  </tbody>\n",
       "</table>\n",
       "</div>"
      ],
      "text/plain": [
       "             user_id group                  ab_test\n",
       "0   D1ABA3E2887B6A73     A  recommender_system_test\n",
       "1   A7A3664BD6242119     A  recommender_system_test\n",
       "2   DABC14FDDFADD29E     A  recommender_system_test\n",
       "3   04988C5DF189632E     A  recommender_system_test\n",
       "4   482F14783456D21B     B  recommender_system_test\n",
       "5   4FF2998A348C484F     A  recommender_system_test\n",
       "6   7473E0943673C09E     A  recommender_system_test\n",
       "7   C46FE336D240A054     A  recommender_system_test\n",
       "8   92CB588012C10D3D     A  recommender_system_test\n",
       "9   057AB296296C7FC0     B  recommender_system_test\n",
       "10  B3A2485649E4A012     A  recommender_system_test\n",
       "11  E9FA12FAE3F5769C     B  recommender_system_test\n",
       "12  FDD0A1016549D707     A  recommender_system_test\n",
       "13  547E99A7BDB0FCE9     A  recommender_system_test\n",
       "14  66FC298441D50783     A  recommender_system_test"
      ]
     },
     "metadata": {},
     "output_type": "display_data"
    },
    {
     "name": "stdout",
     "output_type": "stream",
     "text": [
      "-----\n",
      "Информация о типах данных\n",
      "<class 'pandas.core.frame.DataFrame'>\n",
      "RangeIndex: 18268 entries, 0 to 18267\n",
      "Data columns (total 3 columns):\n",
      " #   Column   Non-Null Count  Dtype \n",
      "---  ------   --------------  ----- \n",
      " 0   user_id  18268 non-null  object\n",
      " 1   group    18268 non-null  object\n",
      " 2   ab_test  18268 non-null  object\n",
      "dtypes: object(3)\n",
      "memory usage: 428.3+ KB\n",
      "-----\n",
      "Название: user_id \n",
      "Пропусков:\t 0 Процент пропусков:\t 0\n",
      "Название: group \n",
      "Пропусков:\t 0 Процент пропусков:\t 0\n",
      "Название: ab_test \n",
      "Пропусков:\t 0 Процент пропусков:\t 0\n",
      "-----\n",
      "Явных дубликатов\n",
      "0\n"
     ]
    }
   ],
   "source": [
    "show_data(ab_particip)"
   ]
  },
  {
   "cell_type": "markdown",
   "id": "cc746778",
   "metadata": {},
   "source": [
    "<b>Вывод: </b> Для анализа предоставлены 4 датасета:\n",
    "\n",
    "1) <b>Календарь маркетинговых событий на 2020 год</b> содержит 14 мероприятий, явных дубликатов и пропусков не обнаружено, имеются столбцы с информацией о дате с некорректным форматом, который будет переопределен на этапе предобработки.<br>\n",
    "\n",
    "2) Массив данных о <b>пользователях, зарегистрировавшиеся с 7 до 21 декабря 2020 года</b> содержит информацию о 617330 участниках, явных дубликатов и пропусков также не обнаружено, имеется столбец с информацией о дате с некорректным форматом, который будет переопределен на этапе предобработки.<br>\n",
    "\n",
    "3) Данные о <b>действиях новых пользователей в период с 7 декабря 2020 по 4 января 2021 года</b> содержит информацию о 440317 действий, явных дубликатов не обнаружено, имеется большой процент пропусков (86%) по столбцу <b>details</b>, но т.к. данная информация не является обязательной для заполнения и необходимой для анализа, прорабатывать дополнительно и заполнять/удалять такие пропуски не будем. Также имеются столбцы с информацией о дате с некорректным форматом, который будет переопределен на этапе предобработки.<br>\n",
    "\n",
    "4) <b>Таблица участников тестов</b> содержит 18 268 пользователей, явных дубликатов и пропусков не обнаружено.\n",
    "\n",
    "В ходе предобработки данных массивы будут дополнительно проверены на неявных дубликаты."
   ]
  },
  {
   "cell_type": "markdown",
   "id": "96178946",
   "metadata": {},
   "source": [
    "### 2. Предобработка данных"
   ]
  },
  {
   "cell_type": "code",
   "execution_count": 9,
   "id": "683f8377",
   "metadata": {},
   "outputs": [
    {
     "name": "stdout",
     "output_type": "stream",
     "text": [
      "Уникальные значения по столбцу region: ['EU' 'N.America' 'APAC' 'CIS']\n",
      "Уникальные значения по столбцу device: ['PC' 'Android' 'iPhone' 'Mac']\n"
     ]
    }
   ],
   "source": [
    "#анализ уникальных значений по new_users\n",
    "print('Уникальные значения по столбцу region:', new_users['region'].unique())\n",
    "print('Уникальные значения по столбцу device:', new_users['device'].unique())"
   ]
  },
  {
   "cell_type": "code",
   "execution_count": 10,
   "id": "954183f2",
   "metadata": {},
   "outputs": [
    {
     "name": "stdout",
     "output_type": "stream",
     "text": [
      "Уникальные значения по столбцу event_name: ['purchase' 'product_cart' 'product_page' 'login']\n"
     ]
    }
   ],
   "source": [
    "#анализ уникальных значений по ab_events\n",
    "print('Уникальные значения по столбцу event_name:', ab_events['event_name'].unique())"
   ]
  },
  {
   "cell_type": "code",
   "execution_count": 11,
   "id": "c2428396",
   "metadata": {},
   "outputs": [
    {
     "name": "stdout",
     "output_type": "stream",
     "text": [
      "Уникальные значения по столбцу region: ['A' 'B']\n",
      "Уникальные значения по столбцу device: ['recommender_system_test' 'interface_eu_test']\n"
     ]
    }
   ],
   "source": [
    "#анализ уникальных значений по ab_particip\n",
    "print('Уникальные значения по столбцу region:', ab_particip['group'].unique())\n",
    "print('Уникальные значения по столбцу device:', ab_particip['ab_test'].unique())"
   ]
  },
  {
   "cell_type": "code",
   "execution_count": 12,
   "id": "37fc2f00",
   "metadata": {},
   "outputs": [
    {
     "name": "stdout",
     "output_type": "stream",
     "text": [
      "Количество уникальных пользователей: 61733\n",
      "Количество дубликатов среди пользователей: 0\n"
     ]
    }
   ],
   "source": [
    "#поиск дубликатов user_id по new_users\n",
    "print('Количество уникальных пользователей:', new_users['user_id'].nunique())\n",
    "print('Количество дубликатов среди пользователей:', new_users['user_id'].duplicated().sum())"
   ]
  },
  {
   "cell_type": "markdown",
   "id": "2098fe0c",
   "metadata": {},
   "source": [
    "Неявных дубликатов не выявлено. Среди новых пользователей также нет повторений. "
   ]
  },
  {
   "cell_type": "markdown",
   "id": "83f83ea8",
   "metadata": {},
   "source": [
    "<u><b>Преобразование типов данных"
   ]
  },
  {
   "cell_type": "code",
   "execution_count": 13,
   "id": "25a6a586",
   "metadata": {},
   "outputs": [
    {
     "name": "stdout",
     "output_type": "stream",
     "text": [
      "<class 'pandas.core.frame.DataFrame'>\n",
      "RangeIndex: 14 entries, 0 to 13\n",
      "Data columns (total 4 columns):\n",
      " #   Column     Non-Null Count  Dtype         \n",
      "---  ------     --------------  -----         \n",
      " 0   name       14 non-null     object        \n",
      " 1   regions    14 non-null     object        \n",
      " 2   start_dt   14 non-null     datetime64[ns]\n",
      " 3   finish_dt  14 non-null     datetime64[ns]\n",
      "dtypes: datetime64[ns](2), object(2)\n",
      "memory usage: 576.0+ bytes\n"
     ]
    }
   ],
   "source": [
    "#преобразование столбцов с датами по mark_events\n",
    "mark_events['start_dt'] = pd.to_datetime(mark_events['start_dt'])\n",
    "mark_events['finish_dt'] = pd.to_datetime(mark_events['finish_dt'])\n",
    "mark_events.info()"
   ]
  },
  {
   "cell_type": "code",
   "execution_count": 14,
   "id": "4efeb969",
   "metadata": {},
   "outputs": [
    {
     "name": "stdout",
     "output_type": "stream",
     "text": [
      "<class 'pandas.core.frame.DataFrame'>\n",
      "RangeIndex: 61733 entries, 0 to 61732\n",
      "Data columns (total 4 columns):\n",
      " #   Column      Non-Null Count  Dtype         \n",
      "---  ------      --------------  -----         \n",
      " 0   user_id     61733 non-null  object        \n",
      " 1   first_date  61733 non-null  datetime64[ns]\n",
      " 2   region      61733 non-null  object        \n",
      " 3   device      61733 non-null  object        \n",
      "dtypes: datetime64[ns](1), object(3)\n",
      "memory usage: 1.9+ MB\n"
     ]
    }
   ],
   "source": [
    "#преобразование столбцов с датами по new_users\n",
    "new_users['first_date'] = pd.to_datetime(new_users['first_date'])\n",
    "new_users.info()"
   ]
  },
  {
   "cell_type": "code",
   "execution_count": 15,
   "id": "c07ffd44",
   "metadata": {},
   "outputs": [
    {
     "name": "stdout",
     "output_type": "stream",
     "text": [
      "<class 'pandas.core.frame.DataFrame'>\n",
      "RangeIndex: 440317 entries, 0 to 440316\n",
      "Data columns (total 4 columns):\n",
      " #   Column      Non-Null Count   Dtype         \n",
      "---  ------      --------------   -----         \n",
      " 0   user_id     440317 non-null  object        \n",
      " 1   event_dt    440317 non-null  datetime64[ns]\n",
      " 2   event_name  440317 non-null  object        \n",
      " 3   details     62740 non-null   float64       \n",
      "dtypes: datetime64[ns](1), float64(1), object(2)\n",
      "memory usage: 13.4+ MB\n"
     ]
    }
   ],
   "source": [
    "#преобразование столбцов с датами по new_users\n",
    "ab_events['event_dt'] = pd.to_datetime(ab_events['event_dt'])\n",
    "ab_events.info()"
   ]
  },
  {
   "cell_type": "markdown",
   "id": "4a7c7b70",
   "metadata": {},
   "source": [
    "<b>Вывод: </b> в ходе предобработке данных была проведена дополнительная проверка на наличие неявных дубликатов, которая показала отсутствии таких. Среди новых пользователей также нет повторений. Были изменены форматы столбцов по всем массивам, содержащие информацию о дате. Таким столбцам был присвоен тип `data`."
   ]
  },
  {
   "cell_type": "markdown",
   "id": "ab949090",
   "metadata": {},
   "source": [
    "### 3. Проверка технического задания"
   ]
  },
  {
   "cell_type": "markdown",
   "id": "d4e34664",
   "metadata": {},
   "source": [
    "Для удобства проведения анализа (чтобы ничего лишнего не убрать и наоборот не оставить) объединим исходные таблицы."
   ]
  },
  {
   "cell_type": "code",
   "execution_count": 16,
   "id": "2233ded1",
   "metadata": {},
   "outputs": [
    {
     "name": "stdout",
     "output_type": "stream",
     "text": [
      "<class 'pandas.core.frame.DataFrame'>\n",
      "Int64Index: 449956 entries, 0 to 449955\n",
      "Data columns (total 9 columns):\n",
      " #   Column      Non-Null Count   Dtype         \n",
      "---  ------      --------------   -----         \n",
      " 0   user_id     449956 non-null  object        \n",
      " 1   first_date  449956 non-null  datetime64[ns]\n",
      " 2   region      449956 non-null  object        \n",
      " 3   device      449956 non-null  object        \n",
      " 4   event_dt    446211 non-null  datetime64[ns]\n",
      " 5   event_name  446211 non-null  object        \n",
      " 6   details     63588 non-null   float64       \n",
      " 7   group       110368 non-null  object        \n",
      " 8   ab_test     110368 non-null  object        \n",
      "dtypes: datetime64[ns](2), float64(1), object(6)\n",
      "memory usage: 34.3+ MB\n"
     ]
    }
   ],
   "source": [
    "df = new_users.merge(ab_events, how = 'left', on = 'user_id')\n",
    "df = df.merge(ab_particip, how = 'left', on = 'user_id')\n",
    "df.info()"
   ]
  },
  {
   "cell_type": "markdown",
   "id": "4e034840",
   "metadata": {},
   "source": [
    "Выберем данные только по тесту `recommender_system_test`"
   ]
  },
  {
   "cell_type": "code",
   "execution_count": 17,
   "id": "63b1b922",
   "metadata": {},
   "outputs": [
    {
     "data": {
      "text/html": [
       "<div>\n",
       "<style scoped>\n",
       "    .dataframe tbody tr th:only-of-type {\n",
       "        vertical-align: middle;\n",
       "    }\n",
       "\n",
       "    .dataframe tbody tr th {\n",
       "        vertical-align: top;\n",
       "    }\n",
       "\n",
       "    .dataframe thead th {\n",
       "        text-align: right;\n",
       "    }\n",
       "</style>\n",
       "<table border=\"1\" class=\"dataframe\">\n",
       "  <thead>\n",
       "    <tr style=\"text-align: right;\">\n",
       "      <th></th>\n",
       "      <th>user_id</th>\n",
       "      <th>first_date</th>\n",
       "      <th>region</th>\n",
       "      <th>device</th>\n",
       "      <th>event_dt</th>\n",
       "      <th>event_name</th>\n",
       "      <th>details</th>\n",
       "      <th>group</th>\n",
       "      <th>ab_test</th>\n",
       "    </tr>\n",
       "  </thead>\n",
       "  <tbody>\n",
       "    <tr>\n",
       "      <th>0</th>\n",
       "      <td>D72A72121175D8BE</td>\n",
       "      <td>2020-12-07</td>\n",
       "      <td>EU</td>\n",
       "      <td>PC</td>\n",
       "      <td>2020-12-07 21:52:10</td>\n",
       "      <td>product_page</td>\n",
       "      <td>NaN</td>\n",
       "      <td>A</td>\n",
       "      <td>recommender_system_test</td>\n",
       "    </tr>\n",
       "    <tr>\n",
       "      <th>1</th>\n",
       "      <td>D72A72121175D8BE</td>\n",
       "      <td>2020-12-07</td>\n",
       "      <td>EU</td>\n",
       "      <td>PC</td>\n",
       "      <td>2020-12-07 21:52:07</td>\n",
       "      <td>login</td>\n",
       "      <td>NaN</td>\n",
       "      <td>A</td>\n",
       "      <td>recommender_system_test</td>\n",
       "    </tr>\n",
       "    <tr>\n",
       "      <th>90</th>\n",
       "      <td>E6DE857AFBDC6102</td>\n",
       "      <td>2020-12-07</td>\n",
       "      <td>EU</td>\n",
       "      <td>PC</td>\n",
       "      <td>NaT</td>\n",
       "      <td>NaN</td>\n",
       "      <td>NaN</td>\n",
       "      <td>B</td>\n",
       "      <td>recommender_system_test</td>\n",
       "    </tr>\n",
       "    <tr>\n",
       "      <th>146</th>\n",
       "      <td>DD4352CDCF8C3D57</td>\n",
       "      <td>2020-12-07</td>\n",
       "      <td>EU</td>\n",
       "      <td>Android</td>\n",
       "      <td>2020-12-07 15:32:54</td>\n",
       "      <td>product_page</td>\n",
       "      <td>NaN</td>\n",
       "      <td>B</td>\n",
       "      <td>recommender_system_test</td>\n",
       "    </tr>\n",
       "    <tr>\n",
       "      <th>148</th>\n",
       "      <td>DD4352CDCF8C3D57</td>\n",
       "      <td>2020-12-07</td>\n",
       "      <td>EU</td>\n",
       "      <td>Android</td>\n",
       "      <td>2020-12-08 08:29:31</td>\n",
       "      <td>product_page</td>\n",
       "      <td>NaN</td>\n",
       "      <td>B</td>\n",
       "      <td>recommender_system_test</td>\n",
       "    </tr>\n",
       "  </tbody>\n",
       "</table>\n",
       "</div>"
      ],
      "text/plain": [
       "              user_id first_date region   device            event_dt  \\\n",
       "0    D72A72121175D8BE 2020-12-07     EU       PC 2020-12-07 21:52:10   \n",
       "1    D72A72121175D8BE 2020-12-07     EU       PC 2020-12-07 21:52:07   \n",
       "90   E6DE857AFBDC6102 2020-12-07     EU       PC                 NaT   \n",
       "146  DD4352CDCF8C3D57 2020-12-07     EU  Android 2020-12-07 15:32:54   \n",
       "148  DD4352CDCF8C3D57 2020-12-07     EU  Android 2020-12-08 08:29:31   \n",
       "\n",
       "       event_name  details group                  ab_test  \n",
       "0    product_page      NaN     A  recommender_system_test  \n",
       "1           login      NaN     A  recommender_system_test  \n",
       "90            NaN      NaN     B  recommender_system_test  \n",
       "146  product_page      NaN     B  recommender_system_test  \n",
       "148  product_page      NaN     B  recommender_system_test  "
      ]
     },
     "execution_count": 17,
     "metadata": {},
     "output_type": "execute_result"
    }
   ],
   "source": [
    "df = df[df['ab_test'] == 'recommender_system_test']\n",
    "df.head()"
   ]
  },
  {
   "cell_type": "markdown",
   "id": "a06ef642",
   "metadata": {},
   "source": [
    "<u><b>Проверка времени проведения тестов"
   ]
  },
  {
   "cell_type": "markdown",
   "id": "901d0413",
   "metadata": {},
   "source": [
    "Сверим даты начала и окончания регистрации пользователей с датой проведения теста по ТЗ"
   ]
  },
  {
   "cell_type": "code",
   "execution_count": 18,
   "id": "c9fd5b28",
   "metadata": {},
   "outputs": [
    {
     "name": "stdout",
     "output_type": "stream",
     "text": [
      "Дата начала регистрации пользователей: 2020-12-07 00:00:00\n",
      "Дата окончания регистрации пользователей: 2020-12-21 00:00:00\n"
     ]
    }
   ],
   "source": [
    "print('Дата начала регистрации пользователей:', df['first_date'].min())\n",
    "print('Дата окончания регистрации пользователей:', df['first_date'].max())"
   ]
  },
  {
   "cell_type": "markdown",
   "id": "f92c5b31",
   "metadata": {},
   "source": [
    "Дата запуска теста совпадает с датой начала регистрации новых пользователей - 07.12.2020. Дата окончания набора новых пользователей также соответствует ТЗ - 21.12.2020."
   ]
  },
  {
   "cell_type": "markdown",
   "id": "c6da9dea",
   "metadata": {},
   "source": [
    "<u><b>Проверка даты последнего действия пользователей"
   ]
  },
  {
   "cell_type": "markdown",
   "id": "0f5a7bd5",
   "metadata": {},
   "source": [
    "Сверим финальную дату проведения события с датой остановки теста по ТЗ"
   ]
  },
  {
   "cell_type": "code",
   "execution_count": 19,
   "id": "3e2169b8",
   "metadata": {},
   "outputs": [
    {
     "name": "stdout",
     "output_type": "stream",
     "text": [
      "Дата последнего действия пользователей: 2020-12-30 12:42:57\n"
     ]
    }
   ],
   "source": [
    "print('Дата последнего действия пользователей:', df['event_dt'].max())"
   ]
  },
  {
   "cell_type": "markdown",
   "id": "13644c8a",
   "metadata": {},
   "source": [
    "Последнее действие, которое совершали пользователи было 30.12.2020, хотя в ТЗ указана дата - 04.01.2021. Возможно это связано с человеческим фактором и данные не были внесены или проведением каких-либо праздничных акции. Последний фактор проверим дополнительно."
   ]
  },
  {
   "cell_type": "code",
   "execution_count": 20,
   "id": "70b5cc15",
   "metadata": {},
   "outputs": [
    {
     "data": {
      "text/html": [
       "<div>\n",
       "<style scoped>\n",
       "    .dataframe tbody tr th:only-of-type {\n",
       "        vertical-align: middle;\n",
       "    }\n",
       "\n",
       "    .dataframe tbody tr th {\n",
       "        vertical-align: top;\n",
       "    }\n",
       "\n",
       "    .dataframe thead th {\n",
       "        text-align: right;\n",
       "    }\n",
       "</style>\n",
       "<table border=\"1\" class=\"dataframe\">\n",
       "  <thead>\n",
       "    <tr style=\"text-align: right;\">\n",
       "      <th></th>\n",
       "      <th>name</th>\n",
       "      <th>regions</th>\n",
       "      <th>start_dt</th>\n",
       "      <th>finish_dt</th>\n",
       "    </tr>\n",
       "  </thead>\n",
       "  <tbody>\n",
       "    <tr>\n",
       "      <th>10</th>\n",
       "      <td>CIS New Year Gift Lottery</td>\n",
       "      <td>CIS</td>\n",
       "      <td>2020-12-30</td>\n",
       "      <td>2021-01-07</td>\n",
       "    </tr>\n",
       "    <tr>\n",
       "      <th>0</th>\n",
       "      <td>Christmas&amp;New Year Promo</td>\n",
       "      <td>EU, N.America</td>\n",
       "      <td>2020-12-25</td>\n",
       "      <td>2021-01-03</td>\n",
       "    </tr>\n",
       "    <tr>\n",
       "      <th>5</th>\n",
       "      <td>Black Friday Ads Campaign</td>\n",
       "      <td>EU, CIS, APAC, N.America</td>\n",
       "      <td>2020-11-26</td>\n",
       "      <td>2020-12-01</td>\n",
       "    </tr>\n",
       "    <tr>\n",
       "      <th>12</th>\n",
       "      <td>Single's Day Gift Promo</td>\n",
       "      <td>APAC</td>\n",
       "      <td>2020-11-11</td>\n",
       "      <td>2020-11-12</td>\n",
       "    </tr>\n",
       "    <tr>\n",
       "      <th>13</th>\n",
       "      <td>Chinese Moon Festival</td>\n",
       "      <td>APAC</td>\n",
       "      <td>2020-10-01</td>\n",
       "      <td>2020-10-07</td>\n",
       "    </tr>\n",
       "    <tr>\n",
       "      <th>4</th>\n",
       "      <td>4th of July Promo</td>\n",
       "      <td>N.America</td>\n",
       "      <td>2020-07-04</td>\n",
       "      <td>2020-07-11</td>\n",
       "    </tr>\n",
       "    <tr>\n",
       "      <th>11</th>\n",
       "      <td>Dragon Boat Festival Giveaway</td>\n",
       "      <td>APAC</td>\n",
       "      <td>2020-06-25</td>\n",
       "      <td>2020-07-01</td>\n",
       "    </tr>\n",
       "    <tr>\n",
       "      <th>9</th>\n",
       "      <td>Victory Day CIS (May 9th) Event</td>\n",
       "      <td>CIS</td>\n",
       "      <td>2020-05-09</td>\n",
       "      <td>2020-05-11</td>\n",
       "    </tr>\n",
       "    <tr>\n",
       "      <th>7</th>\n",
       "      <td>Labor day (May 1st) Ads Campaign</td>\n",
       "      <td>EU, CIS, APAC</td>\n",
       "      <td>2020-05-01</td>\n",
       "      <td>2020-05-03</td>\n",
       "    </tr>\n",
       "    <tr>\n",
       "      <th>3</th>\n",
       "      <td>Easter Promo</td>\n",
       "      <td>EU, CIS, APAC, N.America</td>\n",
       "      <td>2020-04-12</td>\n",
       "      <td>2020-04-19</td>\n",
       "    </tr>\n",
       "    <tr>\n",
       "      <th>2</th>\n",
       "      <td>St. Patric's Day Promo</td>\n",
       "      <td>EU, N.America</td>\n",
       "      <td>2020-03-17</td>\n",
       "      <td>2020-03-19</td>\n",
       "    </tr>\n",
       "    <tr>\n",
       "      <th>8</th>\n",
       "      <td>International Women's Day Promo</td>\n",
       "      <td>EU, CIS, APAC</td>\n",
       "      <td>2020-03-08</td>\n",
       "      <td>2020-03-10</td>\n",
       "    </tr>\n",
       "    <tr>\n",
       "      <th>1</th>\n",
       "      <td>St. Valentine's Day Giveaway</td>\n",
       "      <td>EU, CIS, APAC, N.America</td>\n",
       "      <td>2020-02-14</td>\n",
       "      <td>2020-02-16</td>\n",
       "    </tr>\n",
       "    <tr>\n",
       "      <th>6</th>\n",
       "      <td>Chinese New Year Promo</td>\n",
       "      <td>APAC</td>\n",
       "      <td>2020-01-25</td>\n",
       "      <td>2020-02-07</td>\n",
       "    </tr>\n",
       "  </tbody>\n",
       "</table>\n",
       "</div>"
      ],
      "text/plain": [
       "                                name                   regions   start_dt  \\\n",
       "10         CIS New Year Gift Lottery                       CIS 2020-12-30   \n",
       "0           Christmas&New Year Promo             EU, N.America 2020-12-25   \n",
       "5          Black Friday Ads Campaign  EU, CIS, APAC, N.America 2020-11-26   \n",
       "12           Single's Day Gift Promo                      APAC 2020-11-11   \n",
       "13             Chinese Moon Festival                      APAC 2020-10-01   \n",
       "4                  4th of July Promo                 N.America 2020-07-04   \n",
       "11     Dragon Boat Festival Giveaway                      APAC 2020-06-25   \n",
       "9    Victory Day CIS (May 9th) Event                       CIS 2020-05-09   \n",
       "7   Labor day (May 1st) Ads Campaign             EU, CIS, APAC 2020-05-01   \n",
       "3                       Easter Promo  EU, CIS, APAC, N.America 2020-04-12   \n",
       "2             St. Patric's Day Promo             EU, N.America 2020-03-17   \n",
       "8    International Women's Day Promo             EU, CIS, APAC 2020-03-08   \n",
       "1       St. Valentine's Day Giveaway  EU, CIS, APAC, N.America 2020-02-14   \n",
       "6             Chinese New Year Promo                      APAC 2020-01-25   \n",
       "\n",
       "    finish_dt  \n",
       "10 2021-01-07  \n",
       "0  2021-01-03  \n",
       "5  2020-12-01  \n",
       "12 2020-11-12  \n",
       "13 2020-10-07  \n",
       "4  2020-07-11  \n",
       "11 2020-07-01  \n",
       "9  2020-05-11  \n",
       "7  2020-05-03  \n",
       "3  2020-04-19  \n",
       "2  2020-03-19  \n",
       "8  2020-03-10  \n",
       "1  2020-02-16  \n",
       "6  2020-02-07  "
      ]
     },
     "execution_count": 20,
     "metadata": {},
     "output_type": "execute_result"
    }
   ],
   "source": [
    "mark_events.sort_values(by='start_dt', ascending = False)"
   ]
  },
  {
   "cell_type": "markdown",
   "id": "2c2bdf8d",
   "metadata": {},
   "source": [
    "В последние дни декабря были проведены новогодние акции, возможно причина даты остановки именно в этом."
   ]
  },
  {
   "cell_type": "markdown",
   "id": "51849d71",
   "metadata": {},
   "source": [
    "<b><u>Проверка активности пользователей (совершалось ли какое-нибудь событие за 14 дней)"
   ]
  },
  {
   "cell_type": "markdown",
   "id": "c2b6fcf8",
   "metadata": {},
   "source": [
    "Отсечем пользователей, которые совершили первое события за чертой 14 дней после регистрации. Для этого добавим новый столбец."
   ]
  },
  {
   "cell_type": "code",
   "execution_count": 21,
   "id": "347a48c5",
   "metadata": {},
   "outputs": [
    {
     "name": "stdout",
     "output_type": "stream",
     "text": [
      "Количество пользователей до фильтрации: 6701\n"
     ]
    },
    {
     "data": {
      "text/html": [
       "<div>\n",
       "<style scoped>\n",
       "    .dataframe tbody tr th:only-of-type {\n",
       "        vertical-align: middle;\n",
       "    }\n",
       "\n",
       "    .dataframe tbody tr th {\n",
       "        vertical-align: top;\n",
       "    }\n",
       "\n",
       "    .dataframe thead th {\n",
       "        text-align: right;\n",
       "    }\n",
       "</style>\n",
       "<table border=\"1\" class=\"dataframe\">\n",
       "  <thead>\n",
       "    <tr style=\"text-align: right;\">\n",
       "      <th></th>\n",
       "      <th>group</th>\n",
       "      <th>user_id</th>\n",
       "    </tr>\n",
       "  </thead>\n",
       "  <tbody>\n",
       "    <tr>\n",
       "      <th>0</th>\n",
       "      <td>A</td>\n",
       "      <td>3824</td>\n",
       "    </tr>\n",
       "    <tr>\n",
       "      <th>1</th>\n",
       "      <td>B</td>\n",
       "      <td>2877</td>\n",
       "    </tr>\n",
       "  </tbody>\n",
       "</table>\n",
       "</div>"
      ],
      "text/plain": [
       "  group  user_id\n",
       "0     A     3824\n",
       "1     B     2877"
      ]
     },
     "execution_count": 21,
     "metadata": {},
     "output_type": "execute_result"
    }
   ],
   "source": [
    "#количество пользователей до фильтрации\n",
    "print('Количество пользователей до фильтрации:', \n",
    "      df['user_id'].nunique())\n",
    "df.groupby('group').agg({'user_id':'nunique'}).reset_index()"
   ]
  },
  {
   "cell_type": "code",
   "execution_count": 22,
   "id": "b597d2fd",
   "metadata": {},
   "outputs": [
    {
     "data": {
      "text/html": [
       "<div>\n",
       "<style scoped>\n",
       "    .dataframe tbody tr th:only-of-type {\n",
       "        vertical-align: middle;\n",
       "    }\n",
       "\n",
       "    .dataframe tbody tr th {\n",
       "        vertical-align: top;\n",
       "    }\n",
       "\n",
       "    .dataframe thead th {\n",
       "        text-align: right;\n",
       "    }\n",
       "</style>\n",
       "<table border=\"1\" class=\"dataframe\">\n",
       "  <thead>\n",
       "    <tr style=\"text-align: right;\">\n",
       "      <th></th>\n",
       "      <th>user_id</th>\n",
       "      <th>first_date</th>\n",
       "      <th>region</th>\n",
       "      <th>device</th>\n",
       "      <th>event_dt</th>\n",
       "      <th>event_name</th>\n",
       "      <th>details</th>\n",
       "      <th>group</th>\n",
       "      <th>ab_test</th>\n",
       "      <th>event_date</th>\n",
       "      <th>first_dt</th>\n",
       "      <th>first_ev</th>\n",
       "    </tr>\n",
       "  </thead>\n",
       "  <tbody>\n",
       "    <tr>\n",
       "      <th>0</th>\n",
       "      <td>D72A72121175D8BE</td>\n",
       "      <td>2020-12-07</td>\n",
       "      <td>EU</td>\n",
       "      <td>PC</td>\n",
       "      <td>2020-12-07 21:52:10</td>\n",
       "      <td>product_page</td>\n",
       "      <td>NaN</td>\n",
       "      <td>A</td>\n",
       "      <td>recommender_system_test</td>\n",
       "      <td>2020-12-07</td>\n",
       "      <td>2020-12-07</td>\n",
       "      <td>0.0</td>\n",
       "    </tr>\n",
       "    <tr>\n",
       "      <th>1</th>\n",
       "      <td>D72A72121175D8BE</td>\n",
       "      <td>2020-12-07</td>\n",
       "      <td>EU</td>\n",
       "      <td>PC</td>\n",
       "      <td>2020-12-07 21:52:07</td>\n",
       "      <td>login</td>\n",
       "      <td>NaN</td>\n",
       "      <td>A</td>\n",
       "      <td>recommender_system_test</td>\n",
       "      <td>2020-12-07</td>\n",
       "      <td>2020-12-07</td>\n",
       "      <td>0.0</td>\n",
       "    </tr>\n",
       "    <tr>\n",
       "      <th>90</th>\n",
       "      <td>E6DE857AFBDC6102</td>\n",
       "      <td>2020-12-07</td>\n",
       "      <td>EU</td>\n",
       "      <td>PC</td>\n",
       "      <td>NaT</td>\n",
       "      <td>NaN</td>\n",
       "      <td>NaN</td>\n",
       "      <td>B</td>\n",
       "      <td>recommender_system_test</td>\n",
       "      <td>NaT</td>\n",
       "      <td>2020-12-07</td>\n",
       "      <td>NaN</td>\n",
       "    </tr>\n",
       "    <tr>\n",
       "      <th>146</th>\n",
       "      <td>DD4352CDCF8C3D57</td>\n",
       "      <td>2020-12-07</td>\n",
       "      <td>EU</td>\n",
       "      <td>Android</td>\n",
       "      <td>2020-12-07 15:32:54</td>\n",
       "      <td>product_page</td>\n",
       "      <td>NaN</td>\n",
       "      <td>B</td>\n",
       "      <td>recommender_system_test</td>\n",
       "      <td>2020-12-07</td>\n",
       "      <td>2020-12-07</td>\n",
       "      <td>0.0</td>\n",
       "    </tr>\n",
       "    <tr>\n",
       "      <th>148</th>\n",
       "      <td>DD4352CDCF8C3D57</td>\n",
       "      <td>2020-12-07</td>\n",
       "      <td>EU</td>\n",
       "      <td>Android</td>\n",
       "      <td>2020-12-08 08:29:31</td>\n",
       "      <td>product_page</td>\n",
       "      <td>NaN</td>\n",
       "      <td>B</td>\n",
       "      <td>recommender_system_test</td>\n",
       "      <td>2020-12-08</td>\n",
       "      <td>2020-12-07</td>\n",
       "      <td>1.0</td>\n",
       "    </tr>\n",
       "    <tr>\n",
       "      <th>150</th>\n",
       "      <td>DD4352CDCF8C3D57</td>\n",
       "      <td>2020-12-07</td>\n",
       "      <td>EU</td>\n",
       "      <td>Android</td>\n",
       "      <td>2020-12-10 18:18:27</td>\n",
       "      <td>product_page</td>\n",
       "      <td>NaN</td>\n",
       "      <td>B</td>\n",
       "      <td>recommender_system_test</td>\n",
       "      <td>2020-12-10</td>\n",
       "      <td>2020-12-07</td>\n",
       "      <td>3.0</td>\n",
       "    </tr>\n",
       "    <tr>\n",
       "      <th>152</th>\n",
       "      <td>DD4352CDCF8C3D57</td>\n",
       "      <td>2020-12-07</td>\n",
       "      <td>EU</td>\n",
       "      <td>Android</td>\n",
       "      <td>2020-12-16 20:35:48</td>\n",
       "      <td>product_page</td>\n",
       "      <td>NaN</td>\n",
       "      <td>B</td>\n",
       "      <td>recommender_system_test</td>\n",
       "      <td>2020-12-16</td>\n",
       "      <td>2020-12-07</td>\n",
       "      <td>9.0</td>\n",
       "    </tr>\n",
       "    <tr>\n",
       "      <th>154</th>\n",
       "      <td>DD4352CDCF8C3D57</td>\n",
       "      <td>2020-12-07</td>\n",
       "      <td>EU</td>\n",
       "      <td>Android</td>\n",
       "      <td>2020-12-18 23:57:25</td>\n",
       "      <td>product_page</td>\n",
       "      <td>NaN</td>\n",
       "      <td>B</td>\n",
       "      <td>recommender_system_test</td>\n",
       "      <td>2020-12-18</td>\n",
       "      <td>2020-12-07</td>\n",
       "      <td>11.0</td>\n",
       "    </tr>\n",
       "    <tr>\n",
       "      <th>156</th>\n",
       "      <td>DD4352CDCF8C3D57</td>\n",
       "      <td>2020-12-07</td>\n",
       "      <td>EU</td>\n",
       "      <td>Android</td>\n",
       "      <td>2020-12-30 12:42:57</td>\n",
       "      <td>product_page</td>\n",
       "      <td>NaN</td>\n",
       "      <td>B</td>\n",
       "      <td>recommender_system_test</td>\n",
       "      <td>2020-12-30</td>\n",
       "      <td>2020-12-07</td>\n",
       "      <td>23.0</td>\n",
       "    </tr>\n",
       "    <tr>\n",
       "      <th>158</th>\n",
       "      <td>DD4352CDCF8C3D57</td>\n",
       "      <td>2020-12-07</td>\n",
       "      <td>EU</td>\n",
       "      <td>Android</td>\n",
       "      <td>2020-12-07 15:32:53</td>\n",
       "      <td>login</td>\n",
       "      <td>NaN</td>\n",
       "      <td>B</td>\n",
       "      <td>recommender_system_test</td>\n",
       "      <td>2020-12-07</td>\n",
       "      <td>2020-12-07</td>\n",
       "      <td>0.0</td>\n",
       "    </tr>\n",
       "  </tbody>\n",
       "</table>\n",
       "</div>"
      ],
      "text/plain": [
       "              user_id first_date region   device            event_dt  \\\n",
       "0    D72A72121175D8BE 2020-12-07     EU       PC 2020-12-07 21:52:10   \n",
       "1    D72A72121175D8BE 2020-12-07     EU       PC 2020-12-07 21:52:07   \n",
       "90   E6DE857AFBDC6102 2020-12-07     EU       PC                 NaT   \n",
       "146  DD4352CDCF8C3D57 2020-12-07     EU  Android 2020-12-07 15:32:54   \n",
       "148  DD4352CDCF8C3D57 2020-12-07     EU  Android 2020-12-08 08:29:31   \n",
       "150  DD4352CDCF8C3D57 2020-12-07     EU  Android 2020-12-10 18:18:27   \n",
       "152  DD4352CDCF8C3D57 2020-12-07     EU  Android 2020-12-16 20:35:48   \n",
       "154  DD4352CDCF8C3D57 2020-12-07     EU  Android 2020-12-18 23:57:25   \n",
       "156  DD4352CDCF8C3D57 2020-12-07     EU  Android 2020-12-30 12:42:57   \n",
       "158  DD4352CDCF8C3D57 2020-12-07     EU  Android 2020-12-07 15:32:53   \n",
       "\n",
       "       event_name  details group                  ab_test  event_date  \\\n",
       "0    product_page      NaN     A  recommender_system_test  2020-12-07   \n",
       "1           login      NaN     A  recommender_system_test  2020-12-07   \n",
       "90            NaN      NaN     B  recommender_system_test         NaT   \n",
       "146  product_page      NaN     B  recommender_system_test  2020-12-07   \n",
       "148  product_page      NaN     B  recommender_system_test  2020-12-08   \n",
       "150  product_page      NaN     B  recommender_system_test  2020-12-10   \n",
       "152  product_page      NaN     B  recommender_system_test  2020-12-16   \n",
       "154  product_page      NaN     B  recommender_system_test  2020-12-18   \n",
       "156  product_page      NaN     B  recommender_system_test  2020-12-30   \n",
       "158         login      NaN     B  recommender_system_test  2020-12-07   \n",
       "\n",
       "       first_dt  first_ev  \n",
       "0    2020-12-07       0.0  \n",
       "1    2020-12-07       0.0  \n",
       "90   2020-12-07       NaN  \n",
       "146  2020-12-07       0.0  \n",
       "148  2020-12-07       1.0  \n",
       "150  2020-12-07       3.0  \n",
       "152  2020-12-07       9.0  \n",
       "154  2020-12-07      11.0  \n",
       "156  2020-12-07      23.0  \n",
       "158  2020-12-07       0.0  "
      ]
     },
     "execution_count": 22,
     "metadata": {},
     "output_type": "execute_result"
    }
   ],
   "source": [
    "#добавим столбец только с датой события \n",
    "df['event_date'] = df['event_dt'].dt.date\n",
    "\n",
    "#выделем только дату из даты регистрации\n",
    "df['first_dt'] = df['first_date'].dt.date\n",
    "\n",
    "#Добавим столбец с подсчетом дней от даты регистрации до даты первого события\n",
    "df['first_ev'] = (df['event_date'] - df['first_dt']).dt.days\n",
    "df.head(10)"
   ]
  },
  {
   "cell_type": "code",
   "execution_count": 23,
   "id": "e3702712",
   "metadata": {},
   "outputs": [],
   "source": [
    "#отсечем пользователей, выходящих за период в 14 дней\n",
    "df = df.loc[df['first_ev'] <= 14]"
   ]
  },
  {
   "cell_type": "markdown",
   "id": "77d8b5f7",
   "metadata": {},
   "source": [
    "Посмотрим на количество пользователей, которые совершили какое-либо событие за 14 дней, и на их распределение по группам."
   ]
  },
  {
   "cell_type": "code",
   "execution_count": 24,
   "id": "7d7af9b3",
   "metadata": {},
   "outputs": [
    {
     "name": "stdout",
     "output_type": "stream",
     "text": [
      "Количество пользователей, которые подходят под критерии провидения теста: 3675\n"
     ]
    },
    {
     "data": {
      "text/html": [
       "<div>\n",
       "<style scoped>\n",
       "    .dataframe tbody tr th:only-of-type {\n",
       "        vertical-align: middle;\n",
       "    }\n",
       "\n",
       "    .dataframe tbody tr th {\n",
       "        vertical-align: top;\n",
       "    }\n",
       "\n",
       "    .dataframe thead th {\n",
       "        text-align: right;\n",
       "    }\n",
       "</style>\n",
       "<table border=\"1\" class=\"dataframe\">\n",
       "  <thead>\n",
       "    <tr style=\"text-align: right;\">\n",
       "      <th></th>\n",
       "      <th>group</th>\n",
       "      <th>user_id</th>\n",
       "    </tr>\n",
       "  </thead>\n",
       "  <tbody>\n",
       "    <tr>\n",
       "      <th>0</th>\n",
       "      <td>A</td>\n",
       "      <td>2747</td>\n",
       "    </tr>\n",
       "    <tr>\n",
       "      <th>1</th>\n",
       "      <td>B</td>\n",
       "      <td>928</td>\n",
       "    </tr>\n",
       "  </tbody>\n",
       "</table>\n",
       "</div>"
      ],
      "text/plain": [
       "  group  user_id\n",
       "0     A     2747\n",
       "1     B      928"
      ]
     },
     "execution_count": 24,
     "metadata": {},
     "output_type": "execute_result"
    }
   ],
   "source": [
    "print('Количество пользователей, которые подходят под критерии провидения теста:', \n",
    "      df['user_id'].nunique())\n",
    "df.groupby('group').agg({'user_id':'nunique'}).reset_index()"
   ]
  },
  {
   "cell_type": "markdown",
   "id": "74ca2524",
   "metadata": {},
   "source": [
    "<u><b>Проверка оказания влияния маркетенговых акций на результаты теста"
   ]
  },
  {
   "cell_type": "markdown",
   "id": "b57bd447",
   "metadata": {},
   "source": [
    "Проверим входят ли какие-либо маркетенговые акции в период проведения нашего теста"
   ]
  },
  {
   "cell_type": "code",
   "execution_count": 25,
   "id": "2e4bad5f",
   "metadata": {},
   "outputs": [
    {
     "data": {
      "text/html": [
       "<div>\n",
       "<style scoped>\n",
       "    .dataframe tbody tr th:only-of-type {\n",
       "        vertical-align: middle;\n",
       "    }\n",
       "\n",
       "    .dataframe tbody tr th {\n",
       "        vertical-align: top;\n",
       "    }\n",
       "\n",
       "    .dataframe thead th {\n",
       "        text-align: right;\n",
       "    }\n",
       "</style>\n",
       "<table border=\"1\" class=\"dataframe\">\n",
       "  <thead>\n",
       "    <tr style=\"text-align: right;\">\n",
       "      <th></th>\n",
       "      <th>name</th>\n",
       "      <th>regions</th>\n",
       "      <th>start_dt</th>\n",
       "      <th>finish_dt</th>\n",
       "    </tr>\n",
       "  </thead>\n",
       "  <tbody>\n",
       "  </tbody>\n",
       "</table>\n",
       "</div>"
      ],
      "text/plain": [
       "Empty DataFrame\n",
       "Columns: [name, regions, start_dt, finish_dt]\n",
       "Index: []"
      ]
     },
     "execution_count": 25,
     "metadata": {},
     "output_type": "execute_result"
    }
   ],
   "source": [
    "#проверка на окончание акции во время теста\n",
    "ev_end = mark_events[mark_events['finish_dt'] > '2020-12-07']\n",
    "ev_end = ev_end[mark_events['start_dt'] < '2020-12-07']\n",
    "ev_end"
   ]
  },
  {
   "cell_type": "markdown",
   "id": "27161a77",
   "metadata": {},
   "source": [
    "Ни одна акция не заканчивалась во время провидения теста. Посмотрим входила ли какая-либо акция в наш тест целиком"
   ]
  },
  {
   "cell_type": "code",
   "execution_count": 26,
   "id": "48d1b122",
   "metadata": {},
   "outputs": [
    {
     "data": {
      "text/html": [
       "<div>\n",
       "<style scoped>\n",
       "    .dataframe tbody tr th:only-of-type {\n",
       "        vertical-align: middle;\n",
       "    }\n",
       "\n",
       "    .dataframe tbody tr th {\n",
       "        vertical-align: top;\n",
       "    }\n",
       "\n",
       "    .dataframe thead th {\n",
       "        text-align: right;\n",
       "    }\n",
       "</style>\n",
       "<table border=\"1\" class=\"dataframe\">\n",
       "  <thead>\n",
       "    <tr style=\"text-align: right;\">\n",
       "      <th></th>\n",
       "      <th>name</th>\n",
       "      <th>regions</th>\n",
       "      <th>start_dt</th>\n",
       "      <th>finish_dt</th>\n",
       "    </tr>\n",
       "  </thead>\n",
       "  <tbody>\n",
       "    <tr>\n",
       "      <th>0</th>\n",
       "      <td>Christmas&amp;New Year Promo</td>\n",
       "      <td>EU, N.America</td>\n",
       "      <td>2020-12-25</td>\n",
       "      <td>2021-01-03</td>\n",
       "    </tr>\n",
       "  </tbody>\n",
       "</table>\n",
       "</div>"
      ],
      "text/plain": [
       "                       name        regions   start_dt  finish_dt\n",
       "0  Christmas&New Year Promo  EU, N.America 2020-12-25 2021-01-03"
      ]
     },
     "execution_count": 26,
     "metadata": {},
     "output_type": "execute_result"
    }
   ],
   "source": [
    "#проверка на полное вхождение акции во время теста\n",
    "ev_full = mark_events[mark_events['finish_dt'] > '2020-12-07']\n",
    "ev_full = ev_full[mark_events['finish_dt'] < '2021-01-04']\n",
    "ev_full"
   ]
  },
  {
   "cell_type": "markdown",
   "id": "6f66dc38",
   "metadata": {},
   "source": [
    "Новогодня акция вошла в промежуток проведения теста полностью, что конечно скажется на результатах исследования.\n",
    "Проверим, входит ли какое-либо начало проведения акции в наш тест."
   ]
  },
  {
   "cell_type": "code",
   "execution_count": 27,
   "id": "7535dcee",
   "metadata": {},
   "outputs": [
    {
     "data": {
      "text/html": [
       "<div>\n",
       "<style scoped>\n",
       "    .dataframe tbody tr th:only-of-type {\n",
       "        vertical-align: middle;\n",
       "    }\n",
       "\n",
       "    .dataframe tbody tr th {\n",
       "        vertical-align: top;\n",
       "    }\n",
       "\n",
       "    .dataframe thead th {\n",
       "        text-align: right;\n",
       "    }\n",
       "</style>\n",
       "<table border=\"1\" class=\"dataframe\">\n",
       "  <thead>\n",
       "    <tr style=\"text-align: right;\">\n",
       "      <th></th>\n",
       "      <th>name</th>\n",
       "      <th>regions</th>\n",
       "      <th>start_dt</th>\n",
       "      <th>finish_dt</th>\n",
       "    </tr>\n",
       "  </thead>\n",
       "  <tbody>\n",
       "    <tr>\n",
       "      <th>10</th>\n",
       "      <td>CIS New Year Gift Lottery</td>\n",
       "      <td>CIS</td>\n",
       "      <td>2020-12-30</td>\n",
       "      <td>2021-01-07</td>\n",
       "    </tr>\n",
       "  </tbody>\n",
       "</table>\n",
       "</div>"
      ],
      "text/plain": [
       "                         name regions   start_dt  finish_dt\n",
       "10  CIS New Year Gift Lottery     CIS 2020-12-30 2021-01-07"
      ]
     },
     "execution_count": 27,
     "metadata": {},
     "output_type": "execute_result"
    }
   ],
   "source": [
    "#проверка на начало акции во время теста\n",
    "ev_start = mark_events[mark_events['start_dt'] < '2021-01-04']\n",
    "ev_start = ev_start[mark_events['finish_dt'] > '2021-01-04']\n",
    "ev_start"
   ]
  },
  {
   "cell_type": "markdown",
   "id": "e9358400",
   "metadata": {},
   "source": [
    "Во время проведения теста вошла новогодня лотерия, но она проводилась не в регионе исследования. Такая акция влияния на исследование не окажет."
   ]
  },
  {
   "cell_type": "markdown",
   "id": "1d89e34f",
   "metadata": {},
   "source": [
    "<div style=\"text-align: justify \">\n",
    "<b>Краткий итого по датам проведения теста:</b> при проверке ТЗ и времени проведения теста можно сделать вывод, что начало проведения теста совпадает с началом регистрации новых пользователей и соответствует ТЗ. Дата окончания регистрации также соответствует заявленному в ТЗ. Однако время окончания теста, заявленного в ТЗ, не соответствует дате последнего события, сделанного пользователем. Этот фактор может оказать влияние на результаты теста. Дополнительно была проведена фильтрация по периоду проведения теста. Пользователи, которые совершили первое событие после 14 дней, были отсечены. В тест вошли 3 675 пользователя. Также важно отметить время проведения теста - это предновогодний период, который подразумевает собой активность пользователей при подготовке к праздникам. Дополнительно еще была проведена новогодняя маркетинговая акция. Результаты могут быть не информативными."
   ]
  },
  {
   "cell_type": "markdown",
   "id": "8897c812",
   "metadata": {},
   "source": [
    "<b><u>Проверка количества новых пользователей в EU"
   ]
  },
  {
   "cell_type": "markdown",
   "id": "75087d45",
   "metadata": {},
   "source": [
    "Посмотрим на итоговое распределение пользователей по регионам."
   ]
  },
  {
   "cell_type": "code",
   "execution_count": 28,
   "id": "9daaf0b0",
   "metadata": {},
   "outputs": [
    {
     "data": {
      "text/html": [
       "<div>\n",
       "<style scoped>\n",
       "    .dataframe tbody tr th:only-of-type {\n",
       "        vertical-align: middle;\n",
       "    }\n",
       "\n",
       "    .dataframe tbody tr th {\n",
       "        vertical-align: top;\n",
       "    }\n",
       "\n",
       "    .dataframe thead th {\n",
       "        text-align: right;\n",
       "    }\n",
       "</style>\n",
       "<table border=\"1\" class=\"dataframe\">\n",
       "  <thead>\n",
       "    <tr style=\"text-align: right;\">\n",
       "      <th></th>\n",
       "      <th>region</th>\n",
       "      <th>count</th>\n",
       "    </tr>\n",
       "  </thead>\n",
       "  <tbody>\n",
       "    <tr>\n",
       "      <th>0</th>\n",
       "      <td>APAC</td>\n",
       "      <td>3153</td>\n",
       "    </tr>\n",
       "    <tr>\n",
       "      <th>1</th>\n",
       "      <td>CIS</td>\n",
       "      <td>3155</td>\n",
       "    </tr>\n",
       "    <tr>\n",
       "      <th>2</th>\n",
       "      <td>EU</td>\n",
       "      <td>46270</td>\n",
       "    </tr>\n",
       "    <tr>\n",
       "      <th>3</th>\n",
       "      <td>N.America</td>\n",
       "      <td>9155</td>\n",
       "    </tr>\n",
       "  </tbody>\n",
       "</table>\n",
       "</div>"
      ],
      "text/plain": [
       "      region  count\n",
       "0       APAC   3153\n",
       "1        CIS   3155\n",
       "2         EU  46270\n",
       "3  N.America   9155"
      ]
     },
     "execution_count": 28,
     "metadata": {},
     "output_type": "execute_result"
    }
   ],
   "source": [
    "info_user = new_users.groupby('region').agg({'user_id': 'nunique'}).reset_index()\n",
    "info_user = info_user.rename(columns={'user_id':'count'})\n",
    "info_user"
   ]
  },
  {
   "cell_type": "code",
   "execution_count": 29,
   "id": "0f77ff02",
   "metadata": {},
   "outputs": [
    {
     "data": {
      "image/png": "[encoded data removed]",
      "text/plain": [
       "<Figure size 1080x504 with 1 Axes>"
      ]
     },
     "metadata": {},
     "output_type": "display_data"
    }
   ],
   "source": [
    "#построим круговую диаграмму распреледения пользователей\n",
    "fig1,ax1 = plt.subplots(figsize =(15,7))\n",
    "ax1.pie(info_user['count'], labels=info_user['region'], autopct='%.1f%%', startangle = 270, textprops=dict(color=\"w\"))\n",
    "ax1.legend(\n",
    "title='region',\n",
    "bbox_to_anchor=(1, 0, 0, 1))\n",
    "ax1.set_title(f'Распределение пользователей по регионам в %', fontsize = 14)\n",
    "plt.show()"
   ]
  },
  {
   "cell_type": "markdown",
   "id": "77138949",
   "metadata": {},
   "source": [
    "Из диаграммы видно, что больше всего пользователей из Европы.\n",
    "\n",
    "Посмотрим как распределяются пользователи уже в отфильтрованных данных."
   ]
  },
  {
   "cell_type": "code",
   "execution_count": 30,
   "id": "0358fa04",
   "metadata": {},
   "outputs": [
    {
     "name": "stdout",
     "output_type": "stream",
     "text": [
      "Всего пользователей в тесте: 3675\n"
     ]
    },
    {
     "data": {
      "text/html": [
       "<div>\n",
       "<style scoped>\n",
       "    .dataframe tbody tr th:only-of-type {\n",
       "        vertical-align: middle;\n",
       "    }\n",
       "\n",
       "    .dataframe tbody tr th {\n",
       "        vertical-align: top;\n",
       "    }\n",
       "\n",
       "    .dataframe thead th {\n",
       "        text-align: right;\n",
       "    }\n",
       "</style>\n",
       "<table border=\"1\" class=\"dataframe\">\n",
       "  <thead>\n",
       "    <tr style=\"text-align: right;\">\n",
       "      <th></th>\n",
       "      <th>region</th>\n",
       "      <th>count</th>\n",
       "    </tr>\n",
       "  </thead>\n",
       "  <tbody>\n",
       "    <tr>\n",
       "      <th>0</th>\n",
       "      <td>APAC</td>\n",
       "      <td>45</td>\n",
       "    </tr>\n",
       "    <tr>\n",
       "      <th>1</th>\n",
       "      <td>CIS</td>\n",
       "      <td>30</td>\n",
       "    </tr>\n",
       "    <tr>\n",
       "      <th>2</th>\n",
       "      <td>EU</td>\n",
       "      <td>3481</td>\n",
       "    </tr>\n",
       "    <tr>\n",
       "      <th>3</th>\n",
       "      <td>N.America</td>\n",
       "      <td>119</td>\n",
       "    </tr>\n",
       "  </tbody>\n",
       "</table>\n",
       "</div>"
      ],
      "text/plain": [
       "      region  count\n",
       "0       APAC     45\n",
       "1        CIS     30\n",
       "2         EU   3481\n",
       "3  N.America    119"
      ]
     },
     "execution_count": 30,
     "metadata": {},
     "output_type": "execute_result"
    }
   ],
   "source": [
    "print('Всего пользователей в тесте:', df['user_id'].nunique())\n",
    "info_user_filt = df.groupby('region').agg({'user_id': 'nunique'}).reset_index()\n",
    "info_user_filt = info_user_filt.rename(columns={'user_id':'count'})\n",
    "info_user_filt"
   ]
  },
  {
   "cell_type": "markdown",
   "id": "cff763e3",
   "metadata": {},
   "source": [
    "Доля пользователей увеличилась еще сильнее. Удалять пользователей из теста не будем, т.к. их достаточно мало\n",
    "\n",
    "Проверим данные на соответствие ТЗ: количество новых пользователей - 15%."
   ]
  },
  {
   "cell_type": "code",
   "execution_count": 31,
   "id": "e1f7ddb5",
   "metadata": {},
   "outputs": [
    {
     "data": {
      "text/plain": [
       "Timestamp('2020-12-21 00:00:00')"
      ]
     },
     "execution_count": 31,
     "metadata": {},
     "output_type": "execute_result"
    }
   ],
   "source": [
    "#установим максимальную дату привлечения новых пользователей\n",
    "max_dt_new_users = new_users[new_users['first_date'] <= '2020-12-21']\n",
    "max_dt_new_users['first_date'].max()"
   ]
  },
  {
   "cell_type": "code",
   "execution_count": 32,
   "id": "e057d3cf",
   "metadata": {},
   "outputs": [
    {
     "name": "stdout",
     "output_type": "stream",
     "text": [
      "Доля новых пользователей из региона EU составляет - 8.22%\n"
     ]
    }
   ],
   "source": [
    "#посчитаем процент новых пользователей\n",
    "perc_new_users_EU = (df[df['region'] == 'EU']['user_id'].\n",
    "                     nunique())/(max_dt_new_users[max_dt_new_users['region'] == 'EU']['user_id'].nunique())\n",
    "\n",
    "print('Доля новых пользователей из региона EU составляет - {:.2%}'.format(perc_new_users_EU))"
   ]
  },
  {
   "cell_type": "markdown",
   "id": "52035197",
   "metadata": {},
   "source": [
    "<b>Краткий вывод:</b> После фильтрации по периоду проведения исследования, в тесте принимают участие 3 675 пользователей. Большая часть участников из Европы. Доля новых пользователей региона EU составляет 8,22%, что не соответствует заявленной доли в ТЗ (15%)."
   ]
  },
  {
   "cell_type": "markdown",
   "id": "4a54b2cd",
   "metadata": {},
   "source": [
    "<u><b>Проверка пересечений пользователей по тестам"
   ]
  },
  {
   "cell_type": "code",
   "execution_count": 33,
   "id": "a50c964f",
   "metadata": {},
   "outputs": [
    {
     "data": {
      "text/plain": [
       "array(['recommender_system_test', 'interface_eu_test'], dtype=object)"
      ]
     },
     "execution_count": 33,
     "metadata": {},
     "output_type": "execute_result"
    }
   ],
   "source": [
    "ab_particip['ab_test'].unique()"
   ]
  },
  {
   "cell_type": "markdown",
   "id": "67e146ee",
   "metadata": {},
   "source": [
    "Важно заметить, что кроме нашего теста проводится еще один. Неоходимо проверить, если пересечения пользователей по двум группам."
   ]
  },
  {
   "cell_type": "code",
   "execution_count": 34,
   "id": "eada9fa3",
   "metadata": {},
   "outputs": [
    {
     "name": "stdout",
     "output_type": "stream",
     "text": [
      "Количество уникальных пользователей: 16666\n",
      "Количество пересечений пользователей по тестам: 1602\n"
     ]
    }
   ],
   "source": [
    "#поиск пересечений user_id по ab_particip\n",
    "print('Количество уникальных пользователей:', ab_particip['user_id'].nunique())\n",
    "print('Количество пересечений пользователей по тестам:', ab_particip['user_id'].duplicated().sum())"
   ]
  },
  {
   "cell_type": "code",
   "execution_count": 35,
   "id": "e9edc460",
   "metadata": {},
   "outputs": [
    {
     "data": {
      "text/html": [
       "<div>\n",
       "<style scoped>\n",
       "    .dataframe tbody tr th:only-of-type {\n",
       "        vertical-align: middle;\n",
       "    }\n",
       "\n",
       "    .dataframe tbody tr th {\n",
       "        vertical-align: top;\n",
       "    }\n",
       "\n",
       "    .dataframe thead th {\n",
       "        text-align: right;\n",
       "    }\n",
       "</style>\n",
       "<table border=\"1\" class=\"dataframe\">\n",
       "  <thead>\n",
       "    <tr style=\"text-align: right;\">\n",
       "      <th></th>\n",
       "      <th>user_id</th>\n",
       "      <th>group</th>\n",
       "      <th>ab_test</th>\n",
       "    </tr>\n",
       "  </thead>\n",
       "  <tbody>\n",
       "    <tr>\n",
       "      <th>17892</th>\n",
       "      <td>001064FEAAB631A1</td>\n",
       "      <td>B</td>\n",
       "      <td>interface_eu_test</td>\n",
       "    </tr>\n",
       "    <tr>\n",
       "      <th>235</th>\n",
       "      <td>001064FEAAB631A1</td>\n",
       "      <td>B</td>\n",
       "      <td>recommender_system_test</td>\n",
       "    </tr>\n",
       "    <tr>\n",
       "      <th>16961</th>\n",
       "      <td>00341D8401F0F665</td>\n",
       "      <td>A</td>\n",
       "      <td>interface_eu_test</td>\n",
       "    </tr>\n",
       "    <tr>\n",
       "      <th>2137</th>\n",
       "      <td>00341D8401F0F665</td>\n",
       "      <td>A</td>\n",
       "      <td>recommender_system_test</td>\n",
       "    </tr>\n",
       "    <tr>\n",
       "      <th>8143</th>\n",
       "      <td>003B6786B4FF5B03</td>\n",
       "      <td>A</td>\n",
       "      <td>interface_eu_test</td>\n",
       "    </tr>\n",
       "    <tr>\n",
       "      <th>3156</th>\n",
       "      <td>003B6786B4FF5B03</td>\n",
       "      <td>A</td>\n",
       "      <td>recommender_system_test</td>\n",
       "    </tr>\n",
       "    <tr>\n",
       "      <th>4768</th>\n",
       "      <td>0082295A41A867B5</td>\n",
       "      <td>A</td>\n",
       "      <td>recommender_system_test</td>\n",
       "    </tr>\n",
       "    <tr>\n",
       "      <th>14161</th>\n",
       "      <td>0082295A41A867B5</td>\n",
       "      <td>B</td>\n",
       "      <td>interface_eu_test</td>\n",
       "    </tr>\n",
       "    <tr>\n",
       "      <th>15562</th>\n",
       "      <td>00E68F103C66C1F7</td>\n",
       "      <td>B</td>\n",
       "      <td>interface_eu_test</td>\n",
       "    </tr>\n",
       "    <tr>\n",
       "      <th>4074</th>\n",
       "      <td>00E68F103C66C1F7</td>\n",
       "      <td>A</td>\n",
       "      <td>recommender_system_test</td>\n",
       "    </tr>\n",
       "  </tbody>\n",
       "</table>\n",
       "</div>"
      ],
      "text/plain": [
       "                user_id group                  ab_test\n",
       "17892  001064FEAAB631A1     B        interface_eu_test\n",
       "235    001064FEAAB631A1     B  recommender_system_test\n",
       "16961  00341D8401F0F665     A        interface_eu_test\n",
       "2137   00341D8401F0F665     A  recommender_system_test\n",
       "8143   003B6786B4FF5B03     A        interface_eu_test\n",
       "3156   003B6786B4FF5B03     A  recommender_system_test\n",
       "4768   0082295A41A867B5     A  recommender_system_test\n",
       "14161  0082295A41A867B5     B        interface_eu_test\n",
       "15562  00E68F103C66C1F7     B        interface_eu_test\n",
       "4074   00E68F103C66C1F7     A  recommender_system_test"
      ]
     },
     "execution_count": 35,
     "metadata": {},
     "output_type": "execute_result"
    }
   ],
   "source": [
    "#просмотр пользователей, попавших в оба теста\n",
    "both_test_users = (ab_particip[ab_particip['user_id'].duplicated(keep=False)].\n",
    "                   sort_values(by='user_id', ascending=True))\n",
    "both_test_users.head(10)"
   ]
  },
  {
   "cell_type": "markdown",
   "id": "a75f6be5",
   "metadata": {},
   "source": [
    "Наблюдется пересесечение в двух тестах. В обоих тестах участвуют 1 602 пользователя. Необходимо просмотреть на распределение пользователей группы B конкурирующего теста на группы A и B нашего теста."
   ]
  },
  {
   "cell_type": "code",
   "execution_count": 36,
   "id": "c9cf8305",
   "metadata": {},
   "outputs": [
    {
     "name": "stdout",
     "output_type": "stream",
     "text": [
      "Количество пользователей группы B конкурирующего теста: 783\n"
     ]
    }
   ],
   "source": [
    "#посмотрим на количество пользователей группы B конкурирующего теста\n",
    "both_test_users_B = both_test_users[both_test_users['ab_test'] == 'interface_eu_test']\n",
    "both_test_users_B = both_test_users_B[both_test_users_B['group'] == 'B']\n",
    "print('Количество пользователей группы B конкурирующего теста:', both_test_users_B['user_id'].count())"
   ]
  },
  {
   "cell_type": "markdown",
   "id": "dd36dc86",
   "metadata": {},
   "source": [
    "Найдем пользователей, которые участвуют в двух тестах, и посмотрим как происходит распределение между группами нашего теста. "
   ]
  },
  {
   "cell_type": "code",
   "execution_count": 37,
   "id": "b605f202",
   "metadata": {},
   "outputs": [
    {
     "data": {
      "text/html": [
       "<div>\n",
       "<style scoped>\n",
       "    .dataframe tbody tr th:only-of-type {\n",
       "        vertical-align: middle;\n",
       "    }\n",
       "\n",
       "    .dataframe tbody tr th {\n",
       "        vertical-align: top;\n",
       "    }\n",
       "\n",
       "    .dataframe thead th {\n",
       "        text-align: right;\n",
       "    }\n",
       "</style>\n",
       "<table border=\"1\" class=\"dataframe\">\n",
       "  <thead>\n",
       "    <tr style=\"text-align: right;\">\n",
       "      <th></th>\n",
       "      <th>user_id</th>\n",
       "      <th>group</th>\n",
       "      <th>ab_test</th>\n",
       "    </tr>\n",
       "  </thead>\n",
       "  <tbody>\n",
       "    <tr>\n",
       "      <th>235</th>\n",
       "      <td>001064FEAAB631A1</td>\n",
       "      <td>B</td>\n",
       "      <td>recommender_system_test</td>\n",
       "    </tr>\n",
       "    <tr>\n",
       "      <th>17892</th>\n",
       "      <td>001064FEAAB631A1</td>\n",
       "      <td>B</td>\n",
       "      <td>interface_eu_test</td>\n",
       "    </tr>\n",
       "    <tr>\n",
       "      <th>4768</th>\n",
       "      <td>0082295A41A867B5</td>\n",
       "      <td>A</td>\n",
       "      <td>recommender_system_test</td>\n",
       "    </tr>\n",
       "    <tr>\n",
       "      <th>14161</th>\n",
       "      <td>0082295A41A867B5</td>\n",
       "      <td>B</td>\n",
       "      <td>interface_eu_test</td>\n",
       "    </tr>\n",
       "    <tr>\n",
       "      <th>4074</th>\n",
       "      <td>00E68F103C66C1F7</td>\n",
       "      <td>A</td>\n",
       "      <td>recommender_system_test</td>\n",
       "    </tr>\n",
       "    <tr>\n",
       "      <th>15562</th>\n",
       "      <td>00E68F103C66C1F7</td>\n",
       "      <td>B</td>\n",
       "      <td>interface_eu_test</td>\n",
       "    </tr>\n",
       "    <tr>\n",
       "      <th>15682</th>\n",
       "      <td>010DB4614355A4BB</td>\n",
       "      <td>B</td>\n",
       "      <td>interface_eu_test</td>\n",
       "    </tr>\n",
       "    <tr>\n",
       "      <th>6055</th>\n",
       "      <td>010DB4614355A4BB</td>\n",
       "      <td>B</td>\n",
       "      <td>recommender_system_test</td>\n",
       "    </tr>\n",
       "    <tr>\n",
       "      <th>797</th>\n",
       "      <td>020A95B66F363AFB</td>\n",
       "      <td>B</td>\n",
       "      <td>recommender_system_test</td>\n",
       "    </tr>\n",
       "    <tr>\n",
       "      <th>14742</th>\n",
       "      <td>020A95B66F363AFB</td>\n",
       "      <td>B</td>\n",
       "      <td>interface_eu_test</td>\n",
       "    </tr>\n",
       "  </tbody>\n",
       "</table>\n",
       "</div>"
      ],
      "text/plain": [
       "                user_id group                  ab_test\n",
       "235    001064FEAAB631A1     B  recommender_system_test\n",
       "17892  001064FEAAB631A1     B        interface_eu_test\n",
       "4768   0082295A41A867B5     A  recommender_system_test\n",
       "14161  0082295A41A867B5     B        interface_eu_test\n",
       "4074   00E68F103C66C1F7     A  recommender_system_test\n",
       "15562  00E68F103C66C1F7     B        interface_eu_test\n",
       "15682  010DB4614355A4BB     B        interface_eu_test\n",
       "6055   010DB4614355A4BB     B  recommender_system_test\n",
       "797    020A95B66F363AFB     B  recommender_system_test\n",
       "14742  020A95B66F363AFB     B        interface_eu_test"
      ]
     },
     "execution_count": 37,
     "metadata": {},
     "output_type": "execute_result"
    }
   ],
   "source": [
    "#поиск пользователей, участвующи в двух тестах одновременно\n",
    "test_users_B_in_contr = ab_particip[ab_particip['user_id'].isin(both_test_users_B['user_id'].values)]\n",
    "test_users_B_in_contr.sort_values(by='user_id', ascending=True).head(10)"
   ]
  },
  {
   "cell_type": "code",
   "execution_count": 38,
   "id": "1b57f985",
   "metadata": {},
   "outputs": [
    {
     "data": {
      "text/plain": [
       "array(['recommender_system_test'], dtype=object)"
      ]
     },
     "execution_count": 38,
     "metadata": {},
     "output_type": "execute_result"
    }
   ],
   "source": [
    "#выберем пользователей контрольного теста\n",
    "test_contr = test_users_B_in_contr[test_users_B_in_contr['ab_test'] == 'recommender_system_test']\n",
    "test_contr['ab_test'].unique()"
   ]
  },
  {
   "cell_type": "markdown",
   "id": "6435cc42",
   "metadata": {},
   "source": [
    "<div style=\"text-align: justify \">\n",
    "Посмотрим на распределение участников группы B конкурирующего теста на группы A и B контрольного теста. Дополнительно проверим распределение на нормальность z-test и проверим гипотезу о равенстве пропорций пользователей из группы В конкурирующего теста в группе А и группе В контрольного теста:"
   ]
  },
  {
   "cell_type": "code",
   "execution_count": 39,
   "id": "abfd6f9d",
   "metadata": {},
   "outputs": [
    {
     "data": {
      "text/html": [
       "<div>\n",
       "<style scoped>\n",
       "    .dataframe tbody tr th:only-of-type {\n",
       "        vertical-align: middle;\n",
       "    }\n",
       "\n",
       "    .dataframe tbody tr th {\n",
       "        vertical-align: top;\n",
       "    }\n",
       "\n",
       "    .dataframe thead th {\n",
       "        text-align: right;\n",
       "    }\n",
       "</style>\n",
       "<table border=\"1\" class=\"dataframe\">\n",
       "  <thead>\n",
       "    <tr style=\"text-align: right;\">\n",
       "      <th></th>\n",
       "      <th>ab_test</th>\n",
       "      <th>group</th>\n",
       "      <th>user_id</th>\n",
       "    </tr>\n",
       "  </thead>\n",
       "  <tbody>\n",
       "    <tr>\n",
       "      <th>0</th>\n",
       "      <td>recommender_system_test</td>\n",
       "      <td>A</td>\n",
       "      <td>439</td>\n",
       "    </tr>\n",
       "    <tr>\n",
       "      <th>1</th>\n",
       "      <td>recommender_system_test</td>\n",
       "      <td>B</td>\n",
       "      <td>344</td>\n",
       "    </tr>\n",
       "  </tbody>\n",
       "</table>\n",
       "</div>"
      ],
      "text/plain": [
       "                   ab_test group  user_id\n",
       "0  recommender_system_test     A      439\n",
       "1  recommender_system_test     B      344"
      ]
     },
     "execution_count": 39,
     "metadata": {},
     "output_type": "execute_result"
    }
   ],
   "source": [
    "#распределение пользователей группы B конкурирующего теста на группы A и B контрольного теста\n",
    "test_contr = test_contr.groupby(['ab_test', 'group']).agg({'user_id': 'count'}).reset_index()\n",
    "test_contr"
   ]
  },
  {
   "cell_type": "code",
   "execution_count": 40,
   "id": "c7d13e2d",
   "metadata": {},
   "outputs": [
    {
     "name": "stdout",
     "output_type": "stream",
     "text": [
      "Количество пользователей в контрольном тесте: 6701\n"
     ]
    },
    {
     "data": {
      "text/html": [
       "<div>\n",
       "<style scoped>\n",
       "    .dataframe tbody tr th:only-of-type {\n",
       "        vertical-align: middle;\n",
       "    }\n",
       "\n",
       "    .dataframe tbody tr th {\n",
       "        vertical-align: top;\n",
       "    }\n",
       "\n",
       "    .dataframe thead th {\n",
       "        text-align: right;\n",
       "    }\n",
       "</style>\n",
       "<table border=\"1\" class=\"dataframe\">\n",
       "  <thead>\n",
       "    <tr style=\"text-align: right;\">\n",
       "      <th></th>\n",
       "      <th>ab_test</th>\n",
       "      <th>group</th>\n",
       "      <th>user_id</th>\n",
       "    </tr>\n",
       "  </thead>\n",
       "  <tbody>\n",
       "    <tr>\n",
       "      <th>0</th>\n",
       "      <td>recommender_system_test</td>\n",
       "      <td>A</td>\n",
       "      <td>3824</td>\n",
       "    </tr>\n",
       "    <tr>\n",
       "      <th>1</th>\n",
       "      <td>recommender_system_test</td>\n",
       "      <td>B</td>\n",
       "      <td>2877</td>\n",
       "    </tr>\n",
       "  </tbody>\n",
       "</table>\n",
       "</div>"
      ],
      "text/plain": [
       "                   ab_test group  user_id\n",
       "0  recommender_system_test     A     3824\n",
       "1  recommender_system_test     B     2877"
      ]
     },
     "execution_count": 40,
     "metadata": {},
     "output_type": "execute_result"
    }
   ],
   "source": [
    "#распределение пользователей контрольного теста между группами A и B \n",
    "ab_particip_contr = ab_particip[ab_particip['ab_test'] == 'recommender_system_test']\n",
    "print('Количество пользователей в контрольном тесте:', ab_particip_contr['user_id'].count())\n",
    "ab_particip_contr = ab_particip_contr.groupby(['ab_test', 'group']).agg({'user_id': 'count'}).reset_index()\n",
    "ab_particip_contr"
   ]
  },
  {
   "cell_type": "code",
   "execution_count": 41,
   "id": "28fec4cc",
   "metadata": {},
   "outputs": [
    {
     "name": "stdout",
     "output_type": "stream",
     "text": [
      "Доля присутствия в группе A: 11.48%\n",
      "Доля присутствия в группе B: 11.96%\n"
     ]
    }
   ],
   "source": [
    "#проверим процент присутсвтия пользователей группы B конкурирующего теста в группах контрольного теста\n",
    "print('Доля присутствия в группе A: {:.2%}'.format(439/3824))\n",
    "print('Доля присутствия в группе B: {:.2%}'.format(344/2877))"
   ]
  },
  {
   "cell_type": "markdown",
   "id": "6fc7d301",
   "metadata": {},
   "source": [
    "Видно, что процент попадания группы В конкурирующего теста в группы контрольного теста практически одинаковый - разница менее 0,5 п.п.\n",
    "\n",
    "Дополнительно посчитаем статистическую значимость различий между группами A и B с учатсниками из конкурирующего теста.\n",
    "\n",
    "Сформулируем гипотезы:\n",
    "Нулевая $H_{0}$: значимых различий между долями нет, различия статистически не значимы. \n",
    "\n",
    "Альтернативная $H_{1}$: значимые различия между долями есть."
   ]
  },
  {
   "cell_type": "code",
   "execution_count": 42,
   "id": "ed0079ab",
   "metadata": {},
   "outputs": [
    {
     "name": "stdout",
     "output_type": "stream",
     "text": [
      "p-значение:  0.5475925169519402\n",
      "Нет оснований считать доли разными\n"
     ]
    }
   ],
   "source": [
    "# критический уровень статистической значимости\n",
    "alpha = 0.05  \n",
    "\n",
    "group_A = test_contr.loc[test_contr['group'] == 'A', 'user_id'].values[0]\n",
    "group_B = test_contr.loc[test_contr['group'] == 'B', 'user_id'].values[0]\n",
    "\n",
    "group_A_contr = ab_particip_contr.loc[ab_particip_contr['group'] == 'A', 'user_id'].values[0]\n",
    "group_B_contr = ab_particip_contr.loc[ab_particip_contr['group'] == 'B', 'user_id'].values[0]\n",
    "\n",
    "\n",
    "p1 = group_A / group_A_contr\n",
    "p2 = group_B / group_B_contr\n",
    "\n",
    "p_combined = (group_A + group_B) / (group_A_contr + group_B_contr)\n",
    "\n",
    "difference = p1 - p2 \n",
    "\n",
    "z_value = difference / mth.sqrt(p_combined * (1 - p_combined) * (1/group_A_contr + 1/group_B_contr)) # ваш код\n",
    "\n",
    "distr = st.norm(0, 1) \n",
    "\n",
    "p_value = (1 - distr.cdf(abs(z_value))) * 2\n",
    "\n",
    "\n",
    "print('p-значение: ', p_value)\n",
    "\n",
    "if p_value < alpha:\n",
    "    print('Между долями есть значимая разница')\n",
    "else:\n",
    "    print(\n",
    "        'Нет оснований считать доли разными'\n",
    "    )"
   ]
  },
  {
   "cell_type": "markdown",
   "id": "8526b4ed",
   "metadata": {},
   "source": [
    "<div style=\"text-align: justify \">\n",
    "Как видно из проведенного теста, распределение участников группы B конкурирующего теста на группы A и B контрольного теста равномерное и нормально. Таким образом, можно сделать вывод, что пользователи из группы B конкурирующего теста не окажут влияния на результаты проведения нашего теста. Удалять таких пользователей не будем. Всего в тесте принимают участие 6 701 пользователь, в группе A - 3 842, в группе B - 2 877."
   ]
  },
  {
   "cell_type": "markdown",
   "id": "b36ebc2f",
   "metadata": {},
   "source": [
    "<b><u>Проверка распределения пользователей по группам контрольного теста"
   ]
  },
  {
   "cell_type": "code",
   "execution_count": 43,
   "id": "000deb5f",
   "metadata": {},
   "outputs": [
    {
     "data": {
      "text/html": [
       "<div>\n",
       "<style scoped>\n",
       "    .dataframe tbody tr th:only-of-type {\n",
       "        vertical-align: middle;\n",
       "    }\n",
       "\n",
       "    .dataframe tbody tr th {\n",
       "        vertical-align: top;\n",
       "    }\n",
       "\n",
       "    .dataframe thead th {\n",
       "        text-align: right;\n",
       "    }\n",
       "</style>\n",
       "<table border=\"1\" class=\"dataframe\">\n",
       "  <thead>\n",
       "    <tr style=\"text-align: right;\">\n",
       "      <th></th>\n",
       "      <th>user_id</th>\n",
       "      <th>group</th>\n",
       "    </tr>\n",
       "  </thead>\n",
       "  <tbody>\n",
       "    <tr>\n",
       "      <th>0</th>\n",
       "      <td>2877</td>\n",
       "      <td>1</td>\n",
       "    </tr>\n",
       "    <tr>\n",
       "      <th>1</th>\n",
       "      <td>3824</td>\n",
       "      <td>1</td>\n",
       "    </tr>\n",
       "  </tbody>\n",
       "</table>\n",
       "</div>"
      ],
      "text/plain": [
       "   user_id  group\n",
       "0     2877      1\n",
       "1     3824      1"
      ]
     },
     "execution_count": 43,
     "metadata": {},
     "output_type": "execute_result"
    }
   ],
   "source": [
    "ab_particip_contr.groupby('user_id').agg({'group':'nunique'}).reset_index()"
   ]
  },
  {
   "cell_type": "markdown",
   "id": "a149c22e",
   "metadata": {},
   "source": [
    "Видно, что среди групп нет пользователей, которые были бы в обеях группах."
   ]
  },
  {
   "cell_type": "code",
   "execution_count": 44,
   "id": "c72fe631",
   "metadata": {},
   "outputs": [
    {
     "data": {
      "text/html": [
       "<div>\n",
       "<style scoped>\n",
       "    .dataframe tbody tr th:only-of-type {\n",
       "        vertical-align: middle;\n",
       "    }\n",
       "\n",
       "    .dataframe tbody tr th {\n",
       "        vertical-align: top;\n",
       "    }\n",
       "\n",
       "    .dataframe thead th {\n",
       "        text-align: right;\n",
       "    }\n",
       "</style>\n",
       "<table border=\"1\" class=\"dataframe\">\n",
       "  <thead>\n",
       "    <tr style=\"text-align: right;\">\n",
       "      <th></th>\n",
       "      <th>ab_test</th>\n",
       "      <th>group</th>\n",
       "      <th>user_id</th>\n",
       "    </tr>\n",
       "  </thead>\n",
       "  <tbody>\n",
       "    <tr>\n",
       "      <th>0</th>\n",
       "      <td>recommender_system_test</td>\n",
       "      <td>A</td>\n",
       "      <td>3824</td>\n",
       "    </tr>\n",
       "    <tr>\n",
       "      <th>1</th>\n",
       "      <td>recommender_system_test</td>\n",
       "      <td>B</td>\n",
       "      <td>2877</td>\n",
       "    </tr>\n",
       "  </tbody>\n",
       "</table>\n",
       "</div>"
      ],
      "text/plain": [
       "                   ab_test group  user_id\n",
       "0  recommender_system_test     A     3824\n",
       "1  recommender_system_test     B     2877"
      ]
     },
     "execution_count": 44,
     "metadata": {},
     "output_type": "execute_result"
    }
   ],
   "source": [
    "ab_particip_contr"
   ]
  },
  {
   "cell_type": "markdown",
   "id": "6e9b78c7",
   "metadata": {},
   "source": [
    "<b>Вывод по проверке ТЗ:</b> В ходе проверки технического задания было обнаружено следующее:\n",
    "\n",
    "<b>1) в части даты проведения теста:</b>\n",
    "- начало проведения теста совпадает с началом регистрации новых пользователей и соответствует ТЗ;\n",
    "- дата окончания регистрации также соответствует заявленному в ТЗ. Однако время окончания теста, заявленного в ТЗ, не соответствует дате последнего события, сделанного пользователем;\n",
    "- была проведена фильтрация по периоду проведения теста. Пользователи, которые совершили первое событие после 14 дней, были отсечены;\n",
    "- важно отметить время проведения теста - это предновогодний период, который подразумевает собой активность пользователей при подготовке к праздникам. Дополнительно еще была проведена новогодняя маркетинговая акция. Результаты могут быть не информативными.\n",
    "\n",
    "<b>2) В части проверки количества новых пользователей:</b>\n",
    "- после фильтрации по периоду проведения исследования, в тесте принимают участие 3 675 пользователей. Большая часть участников из Европы. Доля новых пользователей региона EU составляет 8,22%, что не соответствует заявленной доли в ТЗ (15%).\n",
    "\n",
    "<b>3) в части пересечения пользователя по тестам:</b>\n",
    "- в ходе проверки пересечения участия пользователей в двух тестах было обнаружено, что в обоих тестах участвуют 1 602 пользователя. Было обнаружено, что в группе В конкурирующего теста принимали участие 783 пользователя. Распределение таких пользователей на группы А и В контрольного теста равномерное. Таким образом удалять таких пользователей не стали. \n",
    "- пересечение среди участников групп А и В контрольного теста не обнаружено.\n",
    "\n"
   ]
  },
  {
   "cell_type": "markdown",
   "id": "940ac1c8",
   "metadata": {},
   "source": [
    "### 4. Исследовательский анализ данных"
   ]
  },
  {
   "cell_type": "markdown",
   "id": "352d4dfa",
   "metadata": {},
   "source": [
    "<b><u>Распределение количества событий по дате"
   ]
  },
  {
   "cell_type": "code",
   "execution_count": 45,
   "id": "911c6d43",
   "metadata": {},
   "outputs": [
    {
     "data": {
      "image/png": "[encoded data removed]",
      "text/plain": [
       "<Figure size 1440x720 with 1 Axes>"
      ]
     },
     "metadata": {
      "needs_background": "light"
     },
     "output_type": "display_data"
    }
   ],
   "source": [
    "#построим гистограмму распределения событий по дате\n",
    "plt.figure(figsize=(20,10)) \n",
    "df['event_date'].hist(bins=22, edgecolor='black', grid=False)\n",
    "plt.title(f'Распеределение событий по дате', fontsize = 18)\n",
    "plt.ylabel('Количество событий', fontsize = 14)\n",
    "plt.xlabel('Дата', fontsize = 14)\n",
    "plt.show()"
   ]
  },
  {
   "cell_type": "markdown",
   "id": "03932a23",
   "metadata": {},
   "source": [
    "Из диаграммы видно, что всплеск активности происходит в период с 15.12 по 23.12 с пиком на 22.12. Опять таки, скорее всего это связано с предрождественской активностью."
   ]
  },
  {
   "cell_type": "code",
   "execution_count": 46,
   "id": "3c4d36ed",
   "metadata": {},
   "outputs": [
    {
     "data": {
      "text/plain": [
       "Timestamp('2020-12-21 23:59:39')"
      ]
     },
     "execution_count": 46,
     "metadata": {},
     "output_type": "execute_result"
    }
   ],
   "source": [
    "df_ev_dt = df[df['event_dt'] < '2020-12-22'].sort_values(by='event_dt')\n",
    "df_ev_dt['event_dt'].max()"
   ]
  },
  {
   "cell_type": "code",
   "execution_count": 47,
   "id": "b28e50c4",
   "metadata": {},
   "outputs": [
    {
     "data": {
      "image/png": "[encoded data removed]",
      "text/plain": [
       "<Figure size 1440x720 with 1 Axes>"
      ]
     },
     "metadata": {
      "needs_background": "light"
     },
     "output_type": "display_data"
    }
   ],
   "source": [
    "#построим гистограмму распределения пользователей групп по дням исследования по группам\n",
    "plt.figure(figsize=(20,10)) \n",
    "ax = sns.countplot(data=df_ev_dt, x='first_dt', hue='group');\n",
    "plt.title('Распределение новых пользователей по дате исследования по группам', fontsize = 18)\n",
    "plt.legend(['Группа B', 'Группа A'], fontsize = 14)\n",
    "plt.ylabel('Количество новых пользователей', fontsize = 14)\n",
    "plt.xlabel('Дата', fontsize = 14)\n",
    "plt.xticks(rotation = 45)\n",
    "plt.show()  "
   ]
  },
  {
   "cell_type": "markdown",
   "id": "92721a26",
   "metadata": {},
   "source": [
    "<div style=\"text-align: justify \">\n",
    "    Видно, что в первый день новых пользователей больше по группе В, однако, начиная со второго дня новых пользователей группы А стабильно больше. Пик набора новых пользователей группы В приходится на 07.12, группы А на 14.12, причем он почти в два раза больше. После 16.12 регистрация новых пользователей идет ровно. Количество новых пользователей группы А в разы превышает количество группы В."
   ]
  },
  {
   "cell_type": "markdown",
   "id": "f0c88bec",
   "metadata": {},
   "source": [
    "<b><u>Распределение событий, совершенных пользователями впервые, по периоду исследования"
   ]
  },
  {
   "cell_type": "code",
   "execution_count": 48,
   "id": "1fd70c2a",
   "metadata": {},
   "outputs": [
    {
     "data": {
      "image/png": "[encoded data removed]",
      "text/plain": [
       "<Figure size 1440x720 with 1 Axes>"
      ]
     },
     "metadata": {
      "needs_background": "light"
     },
     "output_type": "display_data"
    }
   ],
   "source": [
    "#построим гистограмму распределения событий по дням исследования\n",
    "plt.figure(figsize=(20,10)) \n",
    "df['first_ev'].hist(bins=14, edgecolor='black', grid=False)\n",
    "plt.title(f'Распеределение событий по дням исследования', fontsize = 18)\n",
    "plt.ylabel('Количество событий', fontsize = 14)\n",
    "plt.xlabel('День', fontsize = 14)\n",
    "plt.show()"
   ]
  },
  {
   "cell_type": "markdown",
   "id": "e784b280",
   "metadata": {},
   "source": [
    "Из графика видно, что большинство пользователей совершают первое событие в первый день. Далее по нисходящей."
   ]
  },
  {
   "cell_type": "code",
   "execution_count": 49,
   "id": "62e946ea",
   "metadata": {},
   "outputs": [
    {
     "data": {
      "image/png": "[encoded data removed]",
      "text/plain": [
       "<Figure size 1440x720 with 1 Axes>"
      ]
     },
     "metadata": {
      "needs_background": "light"
     },
     "output_type": "display_data"
    }
   ],
   "source": [
    "#построим гистограмму распределения пользователей групп по дням исследования по группам\n",
    "plt.figure(figsize=(20,10)) \n",
    "ax = sns.countplot(data=df, x='first_ev', hue='group');\n",
    "plt.title(f'Распределение пользователей по дням исследования по группам', fontsize = 18)\n",
    "plt.legend(['Группа B', 'Группа A'], fontsize = 14)\n",
    "plt.ylabel('Количество пользователей', fontsize = 14)\n",
    "plt.xlabel('Количество событий', fontsize = 14)\n",
    "plt.show()  "
   ]
  },
  {
   "cell_type": "markdown",
   "id": "fb5262f6",
   "metadata": {},
   "source": [
    "<b><u>Расчет среднего количества событий на одного пользователя"
   ]
  },
  {
   "cell_type": "markdown",
   "id": "1607cf88",
   "metadata": {},
   "source": [
    "Ранее уже был произведен анализ распределения пользователей по группам теста, которое показало, что рапределение между группами совсем неравномерное."
   ]
  },
  {
   "cell_type": "code",
   "execution_count": 50,
   "id": "0f49a4c9",
   "metadata": {},
   "outputs": [
    {
     "data": {
      "text/html": [
       "<div>\n",
       "<style scoped>\n",
       "    .dataframe tbody tr th:only-of-type {\n",
       "        vertical-align: middle;\n",
       "    }\n",
       "\n",
       "    .dataframe tbody tr th {\n",
       "        vertical-align: top;\n",
       "    }\n",
       "\n",
       "    .dataframe thead th {\n",
       "        text-align: right;\n",
       "    }\n",
       "</style>\n",
       "<table border=\"1\" class=\"dataframe\">\n",
       "  <thead>\n",
       "    <tr style=\"text-align: right;\">\n",
       "      <th></th>\n",
       "      <th>group</th>\n",
       "      <th>user_id</th>\n",
       "    </tr>\n",
       "  </thead>\n",
       "  <tbody>\n",
       "    <tr>\n",
       "      <th>0</th>\n",
       "      <td>A</td>\n",
       "      <td>2747</td>\n",
       "    </tr>\n",
       "    <tr>\n",
       "      <th>1</th>\n",
       "      <td>B</td>\n",
       "      <td>928</td>\n",
       "    </tr>\n",
       "  </tbody>\n",
       "</table>\n",
       "</div>"
      ],
      "text/plain": [
       "  group  user_id\n",
       "0     A     2747\n",
       "1     B      928"
      ]
     },
     "execution_count": 50,
     "metadata": {},
     "output_type": "execute_result"
    }
   ],
   "source": [
    "df.groupby('group').agg({'user_id':'nunique'}).reset_index()"
   ]
  },
  {
   "cell_type": "markdown",
   "id": "37056a39",
   "metadata": {},
   "source": [
    "Найдем среднее количество событий на одного пользователя"
   ]
  },
  {
   "cell_type": "code",
   "execution_count": 51,
   "id": "f08ceb6f",
   "metadata": {},
   "outputs": [
    {
     "data": {
      "text/html": [
       "<div>\n",
       "<style scoped>\n",
       "    .dataframe tbody tr th:only-of-type {\n",
       "        vertical-align: middle;\n",
       "    }\n",
       "\n",
       "    .dataframe tbody tr th {\n",
       "        vertical-align: top;\n",
       "    }\n",
       "\n",
       "    .dataframe thead th {\n",
       "        text-align: right;\n",
       "    }\n",
       "</style>\n",
       "<table border=\"1\" class=\"dataframe\">\n",
       "  <thead>\n",
       "    <tr style=\"text-align: right;\">\n",
       "      <th></th>\n",
       "      <th>user_id</th>\n",
       "      <th>group</th>\n",
       "      <th>count</th>\n",
       "    </tr>\n",
       "  </thead>\n",
       "  <tbody>\n",
       "    <tr>\n",
       "      <th>0</th>\n",
       "      <td>001064FEAAB631A1</td>\n",
       "      <td>B</td>\n",
       "      <td>6</td>\n",
       "    </tr>\n",
       "    <tr>\n",
       "      <th>1</th>\n",
       "      <td>0010A1C096941592</td>\n",
       "      <td>A</td>\n",
       "      <td>12</td>\n",
       "    </tr>\n",
       "    <tr>\n",
       "      <th>2</th>\n",
       "      <td>00341D8401F0F665</td>\n",
       "      <td>A</td>\n",
       "      <td>2</td>\n",
       "    </tr>\n",
       "    <tr>\n",
       "      <th>3</th>\n",
       "      <td>003DF44D7589BBD4</td>\n",
       "      <td>A</td>\n",
       "      <td>15</td>\n",
       "    </tr>\n",
       "    <tr>\n",
       "      <th>4</th>\n",
       "      <td>00505E15A9D81546</td>\n",
       "      <td>A</td>\n",
       "      <td>5</td>\n",
       "    </tr>\n",
       "    <tr>\n",
       "      <th>5</th>\n",
       "      <td>005E096DBD379BCF</td>\n",
       "      <td>B</td>\n",
       "      <td>4</td>\n",
       "    </tr>\n",
       "    <tr>\n",
       "      <th>6</th>\n",
       "      <td>006E3E4E232CE760</td>\n",
       "      <td>A</td>\n",
       "      <td>6</td>\n",
       "    </tr>\n",
       "    <tr>\n",
       "      <th>7</th>\n",
       "      <td>0082295A41A867B5</td>\n",
       "      <td>A</td>\n",
       "      <td>20</td>\n",
       "    </tr>\n",
       "    <tr>\n",
       "      <th>8</th>\n",
       "      <td>00A52DCF85F1BE03</td>\n",
       "      <td>A</td>\n",
       "      <td>2</td>\n",
       "    </tr>\n",
       "    <tr>\n",
       "      <th>9</th>\n",
       "      <td>00C1F5175586DFCF</td>\n",
       "      <td>A</td>\n",
       "      <td>9</td>\n",
       "    </tr>\n",
       "  </tbody>\n",
       "</table>\n",
       "</div>"
      ],
      "text/plain": [
       "            user_id group  count\n",
       "0  001064FEAAB631A1     B      6\n",
       "1  0010A1C096941592     A     12\n",
       "2  00341D8401F0F665     A      2\n",
       "3  003DF44D7589BBD4     A     15\n",
       "4  00505E15A9D81546     A      5\n",
       "5  005E096DBD379BCF     B      4\n",
       "6  006E3E4E232CE760     A      6\n",
       "7  0082295A41A867B5     A     20\n",
       "8  00A52DCF85F1BE03     A      2\n",
       "9  00C1F5175586DFCF     A      9"
      ]
     },
     "execution_count": 51,
     "metadata": {},
     "output_type": "execute_result"
    }
   ],
   "source": [
    "events_per_user = pd.pivot_table(df, index = ['user_id','group'], values = ['device'], aggfunc={'count'})\n",
    "events_per_user.columns = events_per_user.columns.droplevel(0)\n",
    "events_per_user = events_per_user.rename(columns={'device':'count'}).reset_index()\n",
    "events_per_user.head(10)"
   ]
  },
  {
   "cell_type": "code",
   "execution_count": 52,
   "id": "5648b417",
   "metadata": {},
   "outputs": [
    {
     "data": {
      "text/plain": [
       "count    3675.00\n",
       "mean        6.55\n",
       "std         3.76\n",
       "min         1.00\n",
       "25%         4.00\n",
       "50%         6.00\n",
       "75%         9.00\n",
       "max        24.00\n",
       "Name: count, dtype: float64"
      ]
     },
     "execution_count": 52,
     "metadata": {},
     "output_type": "execute_result"
    }
   ],
   "source": [
    "round(events_per_user['count'].describe(),2)"
   ]
  },
  {
   "cell_type": "markdown",
   "id": "c911df4a",
   "metadata": {},
   "source": [
    "В среднем пользователь по двум группам совершает почти 7 событий (6,55), медианное значение равно 6. Максимальное количество событий - 24."
   ]
  },
  {
   "cell_type": "code",
   "execution_count": 53,
   "id": "fcf00d50",
   "metadata": {},
   "outputs": [
    {
     "data": {
      "text/plain": [
       "count    2747.00\n",
       "mean        6.90\n",
       "std         3.84\n",
       "min         1.00\n",
       "25%         4.00\n",
       "50%         6.00\n",
       "75%         9.00\n",
       "max        24.00\n",
       "Name: count, dtype: float64"
      ]
     },
     "execution_count": 53,
     "metadata": {},
     "output_type": "execute_result"
    }
   ],
   "source": [
    "#найдем среднее количество событий на одного пользователя группы А\n",
    "events_per_user_A = events_per_user[events_per_user['group'] == 'A']\n",
    "round(events_per_user_A['count'].describe(),2)"
   ]
  },
  {
   "cell_type": "markdown",
   "id": "6244e7f6",
   "metadata": {},
   "source": [
    "В среднем пользователь группы А совершает также почти 7 событий, но значение чуть больше (6,90), медианное значение также равно 6. Максимальное количество событий - 24."
   ]
  },
  {
   "cell_type": "code",
   "execution_count": 54,
   "id": "4607e480",
   "metadata": {},
   "outputs": [
    {
     "data": {
      "text/plain": [
       "count    928.00\n",
       "mean       5.52\n",
       "std        3.30\n",
       "min        1.00\n",
       "25%        3.00\n",
       "50%        4.00\n",
       "75%        8.00\n",
       "max       24.00\n",
       "Name: count, dtype: float64"
      ]
     },
     "execution_count": 54,
     "metadata": {},
     "output_type": "execute_result"
    }
   ],
   "source": [
    "#найдем среднее количество событий на одного пользователя группы В\n",
    "events_per_user_B = events_per_user[events_per_user['group'] == 'B']\n",
    "round(events_per_user_B['count'].describe(),2)"
   ]
  },
  {
   "cell_type": "markdown",
   "id": "742848aa",
   "metadata": {},
   "source": [
    "В среднем пользователь группы B совершает меньше событий - 5,5, медианное значение равно 4. Максимальное количество событий - 24."
   ]
  },
  {
   "cell_type": "code",
   "execution_count": 55,
   "id": "e5ea8448",
   "metadata": {},
   "outputs": [
    {
     "data": {
      "image/png": "[encoded data removed]",
      "text/plain": [
       "<Figure size 1440x720 with 1 Axes>"
      ]
     },
     "metadata": {
      "needs_background": "light"
     },
     "output_type": "display_data"
    }
   ],
   "source": [
    "#построим гистограмму распределения пользователей по событиям\n",
    "plt.figure(figsize=(20,10)) \n",
    "ax = sns.countplot(data=events_per_user, x='count', hue='group');\n",
    "plt.title(f'Распределение пользователей по событиям', fontsize = 18)\n",
    "plt.legend(['Группа B', 'Группа A'], fontsize = 14)\n",
    "plt.ylabel('Количество пользователей', fontsize = 14)\n",
    "plt.xlabel('Количество событий', fontsize = 14)\n",
    "plt.show()  "
   ]
  },
  {
   "cell_type": "markdown",
   "id": "e884e0cc",
   "metadata": {},
   "source": [
    "График подтверждает, что пользователи группы А совершают событий больше."
   ]
  },
  {
   "cell_type": "markdown",
   "id": "17364b15",
   "metadata": {},
   "source": [
    "<b><u>Распределение пользователей по устройствам"
   ]
  },
  {
   "cell_type": "code",
   "execution_count": 56,
   "id": "9e2eb78e",
   "metadata": {},
   "outputs": [
    {
     "data": {
      "text/html": [
       "<div>\n",
       "<style scoped>\n",
       "    .dataframe tbody tr th:only-of-type {\n",
       "        vertical-align: middle;\n",
       "    }\n",
       "\n",
       "    .dataframe tbody tr th {\n",
       "        vertical-align: top;\n",
       "    }\n",
       "\n",
       "    .dataframe thead th {\n",
       "        text-align: right;\n",
       "    }\n",
       "</style>\n",
       "<table border=\"1\" class=\"dataframe\">\n",
       "  <thead>\n",
       "    <tr style=\"text-align: right;\">\n",
       "      <th></th>\n",
       "      <th>device</th>\n",
       "      <th>group</th>\n",
       "      <th>count</th>\n",
       "    </tr>\n",
       "  </thead>\n",
       "  <tbody>\n",
       "    <tr>\n",
       "      <th>0</th>\n",
       "      <td>Android</td>\n",
       "      <td>A</td>\n",
       "      <td>1197</td>\n",
       "    </tr>\n",
       "    <tr>\n",
       "      <th>1</th>\n",
       "      <td>Android</td>\n",
       "      <td>B</td>\n",
       "      <td>428</td>\n",
       "    </tr>\n",
       "    <tr>\n",
       "      <th>2</th>\n",
       "      <td>Mac</td>\n",
       "      <td>A</td>\n",
       "      <td>270</td>\n",
       "    </tr>\n",
       "    <tr>\n",
       "      <th>3</th>\n",
       "      <td>Mac</td>\n",
       "      <td>B</td>\n",
       "      <td>76</td>\n",
       "    </tr>\n",
       "    <tr>\n",
       "      <th>4</th>\n",
       "      <td>PC</td>\n",
       "      <td>A</td>\n",
       "      <td>726</td>\n",
       "    </tr>\n",
       "    <tr>\n",
       "      <th>5</th>\n",
       "      <td>PC</td>\n",
       "      <td>B</td>\n",
       "      <td>227</td>\n",
       "    </tr>\n",
       "    <tr>\n",
       "      <th>6</th>\n",
       "      <td>iPhone</td>\n",
       "      <td>A</td>\n",
       "      <td>554</td>\n",
       "    </tr>\n",
       "    <tr>\n",
       "      <th>7</th>\n",
       "      <td>iPhone</td>\n",
       "      <td>B</td>\n",
       "      <td>197</td>\n",
       "    </tr>\n",
       "  </tbody>\n",
       "</table>\n",
       "</div>"
      ],
      "text/plain": [
       "    device group  count\n",
       "0  Android     A   1197\n",
       "1  Android     B    428\n",
       "2      Mac     A    270\n",
       "3      Mac     B     76\n",
       "4       PC     A    726\n",
       "5       PC     B    227\n",
       "6   iPhone     A    554\n",
       "7   iPhone     B    197"
      ]
     },
     "execution_count": 56,
     "metadata": {},
     "output_type": "execute_result"
    }
   ],
   "source": [
    "events_per_diveces = pd.pivot_table(df, index = ['device','group'], values = ['user_id'], aggfunc={'nunique'})\n",
    "events_per_diveces.columns = events_per_diveces.columns.droplevel(1)\n",
    "events_per_diveces = events_per_diveces.rename(columns={'user_id':'count'}).reset_index()\n",
    "events_per_diveces"
   ]
  },
  {
   "cell_type": "markdown",
   "id": "96508f9e",
   "metadata": {},
   "source": [
    "Видно, что по устройствам пользователей группы В также сильно меньше группы А."
   ]
  },
  {
   "cell_type": "markdown",
   "id": "a7443f35",
   "metadata": {},
   "source": [
    "<b><u>Исследование воронки событий"
   ]
  },
  {
   "cell_type": "code",
   "execution_count": 57,
   "id": "ac3216ec",
   "metadata": {},
   "outputs": [
    {
     "data": {
      "text/html": [
       "<div>\n",
       "<style scoped>\n",
       "    .dataframe tbody tr th:only-of-type {\n",
       "        vertical-align: middle;\n",
       "    }\n",
       "\n",
       "    .dataframe tbody tr th {\n",
       "        vertical-align: top;\n",
       "    }\n",
       "\n",
       "    .dataframe thead th {\n",
       "        text-align: right;\n",
       "    }\n",
       "</style>\n",
       "<table border=\"1\" class=\"dataframe\">\n",
       "  <thead>\n",
       "    <tr style=\"text-align: right;\">\n",
       "      <th></th>\n",
       "      <th>index</th>\n",
       "      <th>event_name</th>\n",
       "    </tr>\n",
       "  </thead>\n",
       "  <tbody>\n",
       "    <tr>\n",
       "      <th>0</th>\n",
       "      <td>login</td>\n",
       "      <td>10893</td>\n",
       "    </tr>\n",
       "    <tr>\n",
       "      <th>1</th>\n",
       "      <td>product_page</td>\n",
       "      <td>6746</td>\n",
       "    </tr>\n",
       "    <tr>\n",
       "      <th>2</th>\n",
       "      <td>purchase</td>\n",
       "      <td>3253</td>\n",
       "    </tr>\n",
       "    <tr>\n",
       "      <th>3</th>\n",
       "      <td>product_cart</td>\n",
       "      <td>3178</td>\n",
       "    </tr>\n",
       "  </tbody>\n",
       "</table>\n",
       "</div>"
      ],
      "text/plain": [
       "          index  event_name\n",
       "0         login       10893\n",
       "1  product_page        6746\n",
       "2      purchase        3253\n",
       "3  product_cart        3178"
      ]
     },
     "execution_count": 57,
     "metadata": {},
     "output_type": "execute_result"
    }
   ],
   "source": [
    "# сортировка событий по количеству повторений\n",
    "filt_user_per_all = df['event_name'].value_counts().reset_index()\n",
    "filt_user_per_all"
   ]
  },
  {
   "cell_type": "code",
   "execution_count": 58,
   "id": "828b79b3",
   "metadata": {},
   "outputs": [
    {
     "data": {
      "text/html": [
       "<div>\n",
       "<style scoped>\n",
       "    .dataframe tbody tr th:only-of-type {\n",
       "        vertical-align: middle;\n",
       "    }\n",
       "\n",
       "    .dataframe tbody tr th {\n",
       "        vertical-align: top;\n",
       "    }\n",
       "\n",
       "    .dataframe thead th {\n",
       "        text-align: right;\n",
       "    }\n",
       "</style>\n",
       "<table border=\"1\" class=\"dataframe\">\n",
       "  <thead>\n",
       "    <tr style=\"text-align: right;\">\n",
       "      <th></th>\n",
       "      <th>event_name</th>\n",
       "      <th>user_id</th>\n",
       "    </tr>\n",
       "  </thead>\n",
       "  <tbody>\n",
       "    <tr>\n",
       "      <th>0</th>\n",
       "      <td>login</td>\n",
       "      <td>3674</td>\n",
       "    </tr>\n",
       "    <tr>\n",
       "      <th>1</th>\n",
       "      <td>product_page</td>\n",
       "      <td>2303</td>\n",
       "    </tr>\n",
       "    <tr>\n",
       "      <th>3</th>\n",
       "      <td>product_cart</td>\n",
       "      <td>1079</td>\n",
       "    </tr>\n",
       "    <tr>\n",
       "      <th>2</th>\n",
       "      <td>purchase</td>\n",
       "      <td>1128</td>\n",
       "    </tr>\n",
       "  </tbody>\n",
       "</table>\n",
       "</div>"
      ],
      "text/plain": [
       "     event_name  user_id\n",
       "0         login     3674\n",
       "1  product_page     2303\n",
       "3  product_cart     1079\n",
       "2      purchase     1128"
      ]
     },
     "execution_count": 58,
     "metadata": {},
     "output_type": "execute_result"
    }
   ],
   "source": [
    "# сортировка событий по количеству совершеннных событий\n",
    "filt_user_per_event = df.groupby('event_name')['user_id'].nunique().sort_values(ascending=False).to_frame().reset_index()\n",
    "filt_user_per_event = filt_user_per_event.reindex([0,1,3,2])\n",
    "filt_user_per_event"
   ]
  },
  {
   "cell_type": "code",
   "execution_count": 59,
   "id": "58ca9646",
   "metadata": {},
   "outputs": [
    {
     "data": {
      "text/html": [
       "<style  type=\"text/css\" >\n",
       "#T_2dfe9_row0_col1,#T_2dfe9_row0_col2{\n",
       "            background-color:  #b40426;\n",
       "            color:  #f1f1f1;\n",
       "        }#T_2dfe9_row1_col1,#T_2dfe9_row1_col2{\n",
       "            background-color:  #d5dbe5;\n",
       "            color:  #000000;\n",
       "        }#T_2dfe9_row2_col1,#T_2dfe9_row2_col2{\n",
       "            background-color:  #3b4cc0;\n",
       "            color:  #f1f1f1;\n",
       "        }#T_2dfe9_row3_col1,#T_2dfe9_row3_col2{\n",
       "            background-color:  #3f53c6;\n",
       "            color:  #f1f1f1;\n",
       "        }</style><table id=\"T_2dfe9_\" ><thead>    <tr>        <th class=\"blank level0\" ></th>        <th class=\"col_heading level0 col0\" >event_name</th>        <th class=\"col_heading level0 col1\" >user_id</th>        <th class=\"col_heading level0 col2\" >percent</th>    </tr></thead><tbody>\n",
       "                <tr>\n",
       "                        <th id=\"T_2dfe9_level0_row0\" class=\"row_heading level0 row0\" >0</th>\n",
       "                        <td id=\"T_2dfe9_row0_col0\" class=\"data row0 col0\" >login</td>\n",
       "                        <td id=\"T_2dfe9_row0_col1\" class=\"data row0 col1\" >3674</td>\n",
       "                        <td id=\"T_2dfe9_row0_col2\" class=\"data row0 col2\" >99.972789</td>\n",
       "            </tr>\n",
       "            <tr>\n",
       "                        <th id=\"T_2dfe9_level0_row1\" class=\"row_heading level0 row1\" >1</th>\n",
       "                        <td id=\"T_2dfe9_row1_col0\" class=\"data row1 col0\" >product_page</td>\n",
       "                        <td id=\"T_2dfe9_row1_col1\" class=\"data row1 col1\" >2303</td>\n",
       "                        <td id=\"T_2dfe9_row1_col2\" class=\"data row1 col2\" >62.666667</td>\n",
       "            </tr>\n",
       "            <tr>\n",
       "                        <th id=\"T_2dfe9_level0_row2\" class=\"row_heading level0 row2\" >3</th>\n",
       "                        <td id=\"T_2dfe9_row2_col0\" class=\"data row2 col0\" >product_cart</td>\n",
       "                        <td id=\"T_2dfe9_row2_col1\" class=\"data row2 col1\" >1079</td>\n",
       "                        <td id=\"T_2dfe9_row2_col2\" class=\"data row2 col2\" >29.360544</td>\n",
       "            </tr>\n",
       "            <tr>\n",
       "                        <th id=\"T_2dfe9_level0_row3\" class=\"row_heading level0 row3\" >2</th>\n",
       "                        <td id=\"T_2dfe9_row3_col0\" class=\"data row3 col0\" >purchase</td>\n",
       "                        <td id=\"T_2dfe9_row3_col1\" class=\"data row3 col1\" >1128</td>\n",
       "                        <td id=\"T_2dfe9_row3_col2\" class=\"data row3 col2\" >30.693878</td>\n",
       "            </tr>\n",
       "    </tbody></table>"
      ],
      "text/plain": [
       "<pandas.io.formats.style.Styler at 0x7f7ab054ad90>"
      ]
     },
     "execution_count": 59,
     "metadata": {},
     "output_type": "execute_result"
    }
   ],
   "source": [
    "# подсчет процентов пройденных событий пользователями\n",
    "filt_user_per_event['percent'] = (filt_user_per_event['user_id'] / df['user_id'].nunique()) * 100 \n",
    "filt_user_per_event.style.background_gradient('coolwarm')"
   ]
  },
  {
   "cell_type": "code",
   "execution_count": 60,
   "id": "8a4dc0d8",
   "metadata": {},
   "outputs": [
    {
     "data": {
      "text/html": [
       "<div>\n",
       "<style scoped>\n",
       "    .dataframe tbody tr th:only-of-type {\n",
       "        vertical-align: middle;\n",
       "    }\n",
       "\n",
       "    .dataframe tbody tr th {\n",
       "        vertical-align: top;\n",
       "    }\n",
       "\n",
       "    .dataframe thead tr th {\n",
       "        text-align: left;\n",
       "    }\n",
       "\n",
       "    .dataframe thead tr:last-of-type th {\n",
       "        text-align: right;\n",
       "    }\n",
       "</style>\n",
       "<table border=\"1\" class=\"dataframe\">\n",
       "  <thead>\n",
       "    <tr>\n",
       "      <th></th>\n",
       "      <th colspan=\"2\" halign=\"left\">count</th>\n",
       "      <th colspan=\"2\" halign=\"left\">nunique</th>\n",
       "    </tr>\n",
       "    <tr>\n",
       "      <th>group</th>\n",
       "      <th>A</th>\n",
       "      <th>B</th>\n",
       "      <th>A</th>\n",
       "      <th>B</th>\n",
       "    </tr>\n",
       "    <tr>\n",
       "      <th>event_name</th>\n",
       "      <th></th>\n",
       "      <th></th>\n",
       "      <th></th>\n",
       "      <th></th>\n",
       "    </tr>\n",
       "  </thead>\n",
       "  <tbody>\n",
       "    <tr>\n",
       "      <th>login</th>\n",
       "      <td>8400</td>\n",
       "      <td>2493</td>\n",
       "      <td>2747</td>\n",
       "      <td>927</td>\n",
       "    </tr>\n",
       "    <tr>\n",
       "      <th>product_cart</th>\n",
       "      <td>2519</td>\n",
       "      <td>659</td>\n",
       "      <td>824</td>\n",
       "      <td>255</td>\n",
       "    </tr>\n",
       "    <tr>\n",
       "      <th>product_page</th>\n",
       "      <td>5415</td>\n",
       "      <td>1331</td>\n",
       "      <td>1780</td>\n",
       "      <td>523</td>\n",
       "    </tr>\n",
       "    <tr>\n",
       "      <th>purchase</th>\n",
       "      <td>2613</td>\n",
       "      <td>640</td>\n",
       "      <td>872</td>\n",
       "      <td>256</td>\n",
       "    </tr>\n",
       "  </tbody>\n",
       "</table>\n",
       "</div>"
      ],
      "text/plain": [
       "             count       nunique     \n",
       "group            A     B       A    B\n",
       "event_name                           \n",
       "login         8400  2493    2747  927\n",
       "product_cart  2519   659     824  255\n",
       "product_page  5415  1331    1780  523\n",
       "purchase      2613   640     872  256"
      ]
     },
     "execution_count": 60,
     "metadata": {},
     "output_type": "execute_result"
    }
   ],
   "source": [
    "filt_user_per_gr = df.pivot_table(index='event_name', columns='group',values='user_id',aggfunc={'count','nunique'})\n",
    "filt_user_per_gr                    "
   ]
  },
  {
   "cell_type": "code",
   "execution_count": 61,
   "id": "197780f6",
   "metadata": {},
   "outputs": [
    {
     "data": {
      "text/html": [
       "<style  type=\"text/css\" >\n",
       "#T_e05be_row0_col1,#T_e05be_row0_col2{\n",
       "            background-color:  #b40426;\n",
       "            color:  #f1f1f1;\n",
       "        }#T_e05be_row1_col1,#T_e05be_row1_col2{\n",
       "            background-color:  #dcdddd;\n",
       "            color:  #000000;\n",
       "        }#T_e05be_row2_col1,#T_e05be_row2_col2{\n",
       "            background-color:  #3b4cc0;\n",
       "            color:  #f1f1f1;\n",
       "        }#T_e05be_row3_col1,#T_e05be_row3_col2{\n",
       "            background-color:  #4257c9;\n",
       "            color:  #f1f1f1;\n",
       "        }</style><table id=\"T_e05be_\" ><thead>    <tr>        <th class=\"blank level0\" ></th>        <th class=\"col_heading level0 col0\" >event_name</th>        <th class=\"col_heading level0 col1\" >user_id</th>        <th class=\"col_heading level0 col2\" >percent</th>    </tr></thead><tbody>\n",
       "                <tr>\n",
       "                        <th id=\"T_e05be_level0_row0\" class=\"row_heading level0 row0\" >0</th>\n",
       "                        <td id=\"T_e05be_row0_col0\" class=\"data row0 col0\" >login</td>\n",
       "                        <td id=\"T_e05be_row0_col1\" class=\"data row0 col1\" >2747</td>\n",
       "                        <td id=\"T_e05be_row0_col2\" class=\"data row0 col2\" >100.000000</td>\n",
       "            </tr>\n",
       "            <tr>\n",
       "                        <th id=\"T_e05be_level0_row1\" class=\"row_heading level0 row1\" >1</th>\n",
       "                        <td id=\"T_e05be_row1_col0\" class=\"data row1 col0\" >product_page</td>\n",
       "                        <td id=\"T_e05be_row1_col1\" class=\"data row1 col1\" >1780</td>\n",
       "                        <td id=\"T_e05be_row1_col2\" class=\"data row1 col2\" >64.797961</td>\n",
       "            </tr>\n",
       "            <tr>\n",
       "                        <th id=\"T_e05be_level0_row2\" class=\"row_heading level0 row2\" >3</th>\n",
       "                        <td id=\"T_e05be_row2_col0\" class=\"data row2 col0\" >product_cart</td>\n",
       "                        <td id=\"T_e05be_row2_col1\" class=\"data row2 col1\" >824</td>\n",
       "                        <td id=\"T_e05be_row2_col2\" class=\"data row2 col2\" >29.996360</td>\n",
       "            </tr>\n",
       "            <tr>\n",
       "                        <th id=\"T_e05be_level0_row3\" class=\"row_heading level0 row3\" >2</th>\n",
       "                        <td id=\"T_e05be_row3_col0\" class=\"data row3 col0\" >purchase</td>\n",
       "                        <td id=\"T_e05be_row3_col1\" class=\"data row3 col1\" >872</td>\n",
       "                        <td id=\"T_e05be_row3_col2\" class=\"data row3 col2\" >31.743720</td>\n",
       "            </tr>\n",
       "    </tbody></table>"
      ],
      "text/plain": [
       "<pandas.io.formats.style.Styler at 0x7f7ab038cf10>"
      ]
     },
     "execution_count": 61,
     "metadata": {},
     "output_type": "execute_result"
    }
   ],
   "source": [
    "# сортировка событий по количеству совершеннных событий группы А\n",
    "df_A = df[df['group'] == 'A']\n",
    "filt_user_per_event_A = df_A.groupby('event_name')['user_id'].nunique().sort_values(ascending=False).to_frame().reset_index()\n",
    "filt_user_per_event_A = filt_user_per_event_A.reindex([0,1,3,2])\n",
    "\n",
    "# подсчет процентов пройденных событий пользователями\n",
    "filt_user_per_event_A['percent'] = (filt_user_per_event_A['user_id'] / df[df['group'] == 'A']['user_id'].nunique()) * 100 \n",
    "filt_user_per_event_A.style.background_gradient('coolwarm')"
   ]
  },
  {
   "cell_type": "code",
   "execution_count": 62,
   "id": "5ccdd5f3",
   "metadata": {},
   "outputs": [
    {
     "data": {
      "text/html": [
       "<style  type=\"text/css\" >\n",
       "#T_eef7f_row0_col1,#T_eef7f_row0_col2{\n",
       "            background-color:  #b40426;\n",
       "            color:  #f1f1f1;\n",
       "        }#T_eef7f_row1_col1,#T_eef7f_row1_col2{\n",
       "            background-color:  #c0d4f5;\n",
       "            color:  #000000;\n",
       "        }#T_eef7f_row2_col1,#T_eef7f_row2_col2,#T_eef7f_row3_col1,#T_eef7f_row3_col2{\n",
       "            background-color:  #3b4cc0;\n",
       "            color:  #f1f1f1;\n",
       "        }</style><table id=\"T_eef7f_\" ><thead>    <tr>        <th class=\"blank level0\" ></th>        <th class=\"col_heading level0 col0\" >event_name</th>        <th class=\"col_heading level0 col1\" >user_id</th>        <th class=\"col_heading level0 col2\" >percent</th>    </tr></thead><tbody>\n",
       "                <tr>\n",
       "                        <th id=\"T_eef7f_level0_row0\" class=\"row_heading level0 row0\" >0</th>\n",
       "                        <td id=\"T_eef7f_row0_col0\" class=\"data row0 col0\" >login</td>\n",
       "                        <td id=\"T_eef7f_row0_col1\" class=\"data row0 col1\" >927</td>\n",
       "                        <td id=\"T_eef7f_row0_col2\" class=\"data row0 col2\" >99.892241</td>\n",
       "            </tr>\n",
       "            <tr>\n",
       "                        <th id=\"T_eef7f_level0_row1\" class=\"row_heading level0 row1\" >1</th>\n",
       "                        <td id=\"T_eef7f_row1_col0\" class=\"data row1 col0\" >product_page</td>\n",
       "                        <td id=\"T_eef7f_row1_col1\" class=\"data row1 col1\" >523</td>\n",
       "                        <td id=\"T_eef7f_row1_col2\" class=\"data row1 col2\" >56.357759</td>\n",
       "            </tr>\n",
       "            <tr>\n",
       "                        <th id=\"T_eef7f_level0_row2\" class=\"row_heading level0 row2\" >3</th>\n",
       "                        <td id=\"T_eef7f_row2_col0\" class=\"data row2 col0\" >product_cart</td>\n",
       "                        <td id=\"T_eef7f_row2_col1\" class=\"data row2 col1\" >255</td>\n",
       "                        <td id=\"T_eef7f_row2_col2\" class=\"data row2 col2\" >27.478448</td>\n",
       "            </tr>\n",
       "            <tr>\n",
       "                        <th id=\"T_eef7f_level0_row3\" class=\"row_heading level0 row3\" >2</th>\n",
       "                        <td id=\"T_eef7f_row3_col0\" class=\"data row3 col0\" >purchase</td>\n",
       "                        <td id=\"T_eef7f_row3_col1\" class=\"data row3 col1\" >256</td>\n",
       "                        <td id=\"T_eef7f_row3_col2\" class=\"data row3 col2\" >27.586207</td>\n",
       "            </tr>\n",
       "    </tbody></table>"
      ],
      "text/plain": [
       "<pandas.io.formats.style.Styler at 0x7f7ab03f0d00>"
      ]
     },
     "execution_count": 62,
     "metadata": {},
     "output_type": "execute_result"
    }
   ],
   "source": [
    "# сортировка событий по количеству совершеннных событий группы B\n",
    "df_B = df[df['group'] == 'B']\n",
    "filt_user_per_event_B = df_B.groupby('event_name')['user_id'].nunique().sort_values(ascending=False).to_frame().reset_index()\n",
    "filt_user_per_event_B = filt_user_per_event_B.reindex([0,1,3,2])\n",
    "\n",
    "# подсчет процентов пройденных событий пользователями\n",
    "filt_user_per_event_B['percent'] = (filt_user_per_event_B['user_id'] / df[df['group'] == 'B']['user_id'].nunique()) * 100 \n",
    "filt_user_per_event_B.style.background_gradient('coolwarm')"
   ]
  },
  {
   "cell_type": "markdown",
   "id": "00f0ec40",
   "metadata": {},
   "source": [
    "Всего 4 события:\n",
    "\n",
    "<b>login</b> - регистрация<br>\n",
    "<b>product_page</b> - страница продукта<br>\n",
    "<b>purchase</b> - покупка<br>\n",
    "<b>product_cart</b> - просмотр корзины"
   ]
  },
  {
   "cell_type": "markdown",
   "id": "4910b98d",
   "metadata": {},
   "source": [
    "<div style=\"text-align: justify \">\n",
    "<b>Краткий вывод: </b> Имеется 4 события, самое популярное ожидаемо регистрация (почти 100%), далее идет просмотр страницы (63%). Интересным является факт, что покупка имеет больший процент посещения (31%), чем просмотр корзины (29%). Возможно это связано с функцией быстрой покупки, которая подразумевает собой покупку без перехода в корзину.<br>\n",
    "При детальном рассмотрении каждой группы теста можнно отметить, что процент удержания пользователей группы В ниже, чем у группы А - на страницу продукта группы В переходит 56% пользователей, у группы А - 65%, на страницу корзины у группы В - 27%, у группы А - 30%, покупку совершают 28% пользователей группы В и 32% группы А. "
   ]
  },
  {
   "cell_type": "markdown",
   "id": "736f7e02",
   "metadata": {},
   "source": [
    "<u><b> Расчет процента пользователей, перешедших на следующий этап"
   ]
  },
  {
   "cell_type": "code",
   "execution_count": 63,
   "id": "6290fb34",
   "metadata": {},
   "outputs": [
    {
     "data": {
      "text/html": [
       "<style  type=\"text/css\" >\n",
       "#T_88076_row0_col1,#T_88076_row0_col2,#T_88076_row2_col3{\n",
       "            background-color:  #b40426;\n",
       "            color:  #f1f1f1;\n",
       "        }#T_88076_row0_col3,#T_88076_row2_col1,#T_88076_row2_col2{\n",
       "            background-color:  #3b4cc0;\n",
       "            color:  #f1f1f1;\n",
       "        }#T_88076_row1_col1,#T_88076_row1_col2{\n",
       "            background-color:  #d5dbe5;\n",
       "            color:  #000000;\n",
       "        }#T_88076_row1_col3{\n",
       "            background-color:  #f6bda2;\n",
       "            color:  #000000;\n",
       "        }#T_88076_row3_col1,#T_88076_row3_col2{\n",
       "            background-color:  #3f53c6;\n",
       "            color:  #f1f1f1;\n",
       "        }#T_88076_row3_col3{\n",
       "            background-color:  #dedcdb;\n",
       "            color:  #000000;\n",
       "        }</style><table id=\"T_88076_\" ><thead>    <tr>        <th class=\"blank level0\" ></th>        <th class=\"col_heading level0 col0\" >event_name</th>        <th class=\"col_heading level0 col1\" >user_id</th>        <th class=\"col_heading level0 col2\" >percent</th>        <th class=\"col_heading level0 col3\" >funnel</th>    </tr></thead><tbody>\n",
       "                <tr>\n",
       "                        <th id=\"T_88076_level0_row0\" class=\"row_heading level0 row0\" >0</th>\n",
       "                        <td id=\"T_88076_row0_col0\" class=\"data row0 col0\" >login</td>\n",
       "                        <td id=\"T_88076_row0_col1\" class=\"data row0 col1\" >3674</td>\n",
       "                        <td id=\"T_88076_row0_col2\" class=\"data row0 col2\" >99.972789</td>\n",
       "                        <td id=\"T_88076_row0_col3\" class=\"data row0 col3\" >1.000000</td>\n",
       "            </tr>\n",
       "            <tr>\n",
       "                        <th id=\"T_88076_level0_row1\" class=\"row_heading level0 row1\" >1</th>\n",
       "                        <td id=\"T_88076_row1_col0\" class=\"data row1 col0\" >product_page</td>\n",
       "                        <td id=\"T_88076_row1_col1\" class=\"data row1 col1\" >2303</td>\n",
       "                        <td id=\"T_88076_row1_col2\" class=\"data row1 col2\" >62.666667</td>\n",
       "                        <td id=\"T_88076_row1_col3\" class=\"data row1 col3\" >62.683723</td>\n",
       "            </tr>\n",
       "            <tr>\n",
       "                        <th id=\"T_88076_level0_row2\" class=\"row_heading level0 row2\" >3</th>\n",
       "                        <td id=\"T_88076_row2_col0\" class=\"data row2 col0\" >product_cart</td>\n",
       "                        <td id=\"T_88076_row2_col1\" class=\"data row2 col1\" >1079</td>\n",
       "                        <td id=\"T_88076_row2_col2\" class=\"data row2 col2\" >29.360544</td>\n",
       "                        <td id=\"T_88076_row2_col3\" class=\"data row2 col3\" >95.656028</td>\n",
       "            </tr>\n",
       "            <tr>\n",
       "                        <th id=\"T_88076_level0_row3\" class=\"row_heading level0 row3\" >2</th>\n",
       "                        <td id=\"T_88076_row3_col0\" class=\"data row3 col0\" >purchase</td>\n",
       "                        <td id=\"T_88076_row3_col1\" class=\"data row3 col1\" >1128</td>\n",
       "                        <td id=\"T_88076_row3_col2\" class=\"data row3 col2\" >30.693878</td>\n",
       "                        <td id=\"T_88076_row3_col3\" class=\"data row3 col3\" >48.979592</td>\n",
       "            </tr>\n",
       "    </tbody></table>"
      ],
      "text/plain": [
       "<pandas.io.formats.style.Styler at 0x7f7ab038c5e0>"
      ]
     },
     "execution_count": 63,
     "metadata": {},
     "output_type": "execute_result"
    }
   ],
   "source": [
    "#Для всех пользователей\n",
    "filt_user_per_event['funnel'] = 1\n",
    "for i in range(1, 4):\n",
    "    filt_user_per_event.loc[i, 'funnel'] = filt_user_per_event.loc[i, 'user_id'] / (filt_user_per_event.loc[i-1, 'user_id'])*100\n",
    "\n",
    "filt_user_per_event.style.background_gradient('coolwarm')"
   ]
  },
  {
   "cell_type": "code",
   "execution_count": 64,
   "id": "1a43a9fc",
   "metadata": {},
   "outputs": [
    {
     "data": {
      "text/html": [
       "<style  type=\"text/css\" >\n",
       "#T_7167b_row0_col1,#T_7167b_row0_col2,#T_7167b_row2_col3{\n",
       "            background-color:  #b40426;\n",
       "            color:  #f1f1f1;\n",
       "        }#T_7167b_row0_col3,#T_7167b_row2_col1,#T_7167b_row2_col2{\n",
       "            background-color:  #3b4cc0;\n",
       "            color:  #f1f1f1;\n",
       "        }#T_7167b_row1_col1,#T_7167b_row1_col2{\n",
       "            background-color:  #dcdddd;\n",
       "            color:  #000000;\n",
       "        }#T_7167b_row1_col3{\n",
       "            background-color:  #f7b396;\n",
       "            color:  #000000;\n",
       "        }#T_7167b_row3_col1,#T_7167b_row3_col2{\n",
       "            background-color:  #4257c9;\n",
       "            color:  #f1f1f1;\n",
       "        }#T_7167b_row3_col3{\n",
       "            background-color:  #e0dbd8;\n",
       "            color:  #000000;\n",
       "        }</style><table id=\"T_7167b_\" ><thead>    <tr>        <th class=\"blank level0\" ></th>        <th class=\"col_heading level0 col0\" >event_name</th>        <th class=\"col_heading level0 col1\" >user_id</th>        <th class=\"col_heading level0 col2\" >percent</th>        <th class=\"col_heading level0 col3\" >funnel</th>    </tr></thead><tbody>\n",
       "                <tr>\n",
       "                        <th id=\"T_7167b_level0_row0\" class=\"row_heading level0 row0\" >0</th>\n",
       "                        <td id=\"T_7167b_row0_col0\" class=\"data row0 col0\" >login</td>\n",
       "                        <td id=\"T_7167b_row0_col1\" class=\"data row0 col1\" >2747</td>\n",
       "                        <td id=\"T_7167b_row0_col2\" class=\"data row0 col2\" >100.000000</td>\n",
       "                        <td id=\"T_7167b_row0_col3\" class=\"data row0 col3\" >1.000000</td>\n",
       "            </tr>\n",
       "            <tr>\n",
       "                        <th id=\"T_7167b_level0_row1\" class=\"row_heading level0 row1\" >1</th>\n",
       "                        <td id=\"T_7167b_row1_col0\" class=\"data row1 col0\" >product_page</td>\n",
       "                        <td id=\"T_7167b_row1_col1\" class=\"data row1 col1\" >1780</td>\n",
       "                        <td id=\"T_7167b_row1_col2\" class=\"data row1 col2\" >64.797961</td>\n",
       "                        <td id=\"T_7167b_row1_col3\" class=\"data row1 col3\" >64.797961</td>\n",
       "            </tr>\n",
       "            <tr>\n",
       "                        <th id=\"T_7167b_level0_row2\" class=\"row_heading level0 row2\" >3</th>\n",
       "                        <td id=\"T_7167b_row2_col0\" class=\"data row2 col0\" >product_cart</td>\n",
       "                        <td id=\"T_7167b_row2_col1\" class=\"data row2 col1\" >824</td>\n",
       "                        <td id=\"T_7167b_row2_col2\" class=\"data row2 col2\" >29.996360</td>\n",
       "                        <td id=\"T_7167b_row2_col3\" class=\"data row2 col3\" >94.495413</td>\n",
       "            </tr>\n",
       "            <tr>\n",
       "                        <th id=\"T_7167b_level0_row3\" class=\"row_heading level0 row3\" >2</th>\n",
       "                        <td id=\"T_7167b_row3_col0\" class=\"data row3 col0\" >purchase</td>\n",
       "                        <td id=\"T_7167b_row3_col1\" class=\"data row3 col1\" >872</td>\n",
       "                        <td id=\"T_7167b_row3_col2\" class=\"data row3 col2\" >31.743720</td>\n",
       "                        <td id=\"T_7167b_row3_col3\" class=\"data row3 col3\" >48.988764</td>\n",
       "            </tr>\n",
       "    </tbody></table>"
      ],
      "text/plain": [
       "<pandas.io.formats.style.Styler at 0x7f7ab061c490>"
      ]
     },
     "execution_count": 64,
     "metadata": {},
     "output_type": "execute_result"
    }
   ],
   "source": [
    "#Для группы А\n",
    "filt_user_per_event_A['funnel'] = 1\n",
    "for i in range(1, 4):\n",
    "    filt_user_per_event_A.loc[i, 'funnel'] = filt_user_per_event_A.loc[i, 'user_id']/(filt_user_per_event_A.loc[i-1, 'user_id'])*100\n",
    "\n",
    "filt_user_per_event_A.style.background_gradient('coolwarm')"
   ]
  },
  {
   "cell_type": "code",
   "execution_count": 65,
   "id": "46f42be8",
   "metadata": {},
   "outputs": [
    {
     "data": {
      "text/html": [
       "<style  type=\"text/css\" >\n",
       "#T_690b4_row0_col1,#T_690b4_row0_col2,#T_690b4_row2_col3{\n",
       "            background-color:  #b40426;\n",
       "            color:  #f1f1f1;\n",
       "        }#T_690b4_row0_col3,#T_690b4_row2_col1,#T_690b4_row2_col2,#T_690b4_row3_col1,#T_690b4_row3_col2{\n",
       "            background-color:  #3b4cc0;\n",
       "            color:  #f1f1f1;\n",
       "        }#T_690b4_row1_col1,#T_690b4_row1_col2{\n",
       "            background-color:  #c0d4f5;\n",
       "            color:  #000000;\n",
       "        }#T_690b4_row1_col3{\n",
       "            background-color:  #ebd3c6;\n",
       "            color:  #000000;\n",
       "        }#T_690b4_row3_col3{\n",
       "            background-color:  #d9dce1;\n",
       "            color:  #000000;\n",
       "        }</style><table id=\"T_690b4_\" ><thead>    <tr>        <th class=\"blank level0\" ></th>        <th class=\"col_heading level0 col0\" >event_name</th>        <th class=\"col_heading level0 col1\" >user_id</th>        <th class=\"col_heading level0 col2\" >percent</th>        <th class=\"col_heading level0 col3\" >funnel</th>    </tr></thead><tbody>\n",
       "                <tr>\n",
       "                        <th id=\"T_690b4_level0_row0\" class=\"row_heading level0 row0\" >0</th>\n",
       "                        <td id=\"T_690b4_row0_col0\" class=\"data row0 col0\" >login</td>\n",
       "                        <td id=\"T_690b4_row0_col1\" class=\"data row0 col1\" >927</td>\n",
       "                        <td id=\"T_690b4_row0_col2\" class=\"data row0 col2\" >99.892241</td>\n",
       "                        <td id=\"T_690b4_row0_col3\" class=\"data row0 col3\" >1.000000</td>\n",
       "            </tr>\n",
       "            <tr>\n",
       "                        <th id=\"T_690b4_level0_row1\" class=\"row_heading level0 row1\" >1</th>\n",
       "                        <td id=\"T_690b4_row1_col0\" class=\"data row1 col0\" >product_page</td>\n",
       "                        <td id=\"T_690b4_row1_col1\" class=\"data row1 col1\" >523</td>\n",
       "                        <td id=\"T_690b4_row1_col2\" class=\"data row1 col2\" >56.357759</td>\n",
       "                        <td id=\"T_690b4_row1_col3\" class=\"data row1 col3\" >56.418554</td>\n",
       "            </tr>\n",
       "            <tr>\n",
       "                        <th id=\"T_690b4_level0_row2\" class=\"row_heading level0 row2\" >3</th>\n",
       "                        <td id=\"T_690b4_row2_col0\" class=\"data row2 col0\" >product_cart</td>\n",
       "                        <td id=\"T_690b4_row2_col1\" class=\"data row2 col1\" >255</td>\n",
       "                        <td id=\"T_690b4_row2_col2\" class=\"data row2 col2\" >27.478448</td>\n",
       "                        <td id=\"T_690b4_row2_col3\" class=\"data row2 col3\" >99.609375</td>\n",
       "            </tr>\n",
       "            <tr>\n",
       "                        <th id=\"T_690b4_level0_row3\" class=\"row_heading level0 row3\" >2</th>\n",
       "                        <td id=\"T_690b4_row3_col0\" class=\"data row3 col0\" >purchase</td>\n",
       "                        <td id=\"T_690b4_row3_col1\" class=\"data row3 col1\" >256</td>\n",
       "                        <td id=\"T_690b4_row3_col2\" class=\"data row3 col2\" >27.586207</td>\n",
       "                        <td id=\"T_690b4_row3_col3\" class=\"data row3 col3\" >48.948375</td>\n",
       "            </tr>\n",
       "    </tbody></table>"
      ],
      "text/plain": [
       "<pandas.io.formats.style.Styler at 0x7f7ab0395c70>"
      ]
     },
     "execution_count": 65,
     "metadata": {},
     "output_type": "execute_result"
    }
   ],
   "source": [
    "#Для группы В\n",
    "filt_user_per_event_B['funnel'] = 1\n",
    "for i in range(1, 4):\n",
    "    filt_user_per_event_B.loc[i, 'funnel'] = filt_user_per_event_B.loc[i, 'user_id']/(filt_user_per_event_B.loc[i-1, 'user_id'])*100\n",
    "\n",
    "filt_user_per_event_B.style.background_gradient('coolwarm')"
   ]
  },
  {
   "cell_type": "markdown",
   "id": "397ef2f3",
   "metadata": {},
   "source": [
    "<div style=\"text-align: justify \">\n",
    "<b>Краткий вывод: </b> Из проведенного анализа можно отметить, что после логина на страницу продукта переходит 63% пользователей. В просмотр корзины после просмотра страницу продукта переходит 49% пользователей. 96% пользователей затем переходят на страницу с оплатой. Данный нонсенс возможно связан с функцией быстрой покупки."
   ]
  },
  {
   "cell_type": "markdown",
   "id": "f8f1ec98",
   "metadata": {},
   "source": [
    "<u><b> Поиск этапа с наибольшими потерями пользователей"
   ]
  },
  {
   "cell_type": "code",
   "execution_count": 66,
   "id": "dabd42a1",
   "metadata": {},
   "outputs": [
    {
     "data": {
      "image/png": "[encoded data removed]",
      "text/plain": [
       "<Figure size 1440x720 with 1 Axes>"
      ]
     },
     "metadata": {
      "needs_background": "light"
     },
     "output_type": "display_data"
    }
   ],
   "source": [
    "plt.figure(figsize =(20, 10))\n",
    "sns.barplot(data=filt_user_per_event, x='event_name', y='user_id')\n",
    "plt.title('График потерь пользователей по этапам', fontsize = 18)\n",
    "plt.xlabel('События', fontsize = 16)\n",
    "plt.ylabel('Количество пользователей', fontsize = 16)\n",
    "plt.show()"
   ]
  },
  {
   "cell_type": "code",
   "execution_count": 67,
   "id": "59802a38",
   "metadata": {},
   "outputs": [],
   "source": [
    "#подготовка сводной таблицы для граика\n",
    "pt_2 = pd.pivot_table(df, index = ['event_name','group'], values = ['user_id'], aggfunc={'nunique'})\n",
    "pt_2.columns = pt_2.columns.droplevel(0)\n",
    "pt_2 = pt_2.rename(columns={'device':'count'}).reset_index()"
   ]
  },
  {
   "cell_type": "code",
   "execution_count": 68,
   "id": "9a10922b",
   "metadata": {},
   "outputs": [
    {
     "data": {
      "image/png": "[encoded data removed]",
      "text/plain": [
       "<Figure size 1440x720 with 1 Axes>"
      ]
     },
     "metadata": {
      "needs_background": "light"
     },
     "output_type": "display_data"
    }
   ],
   "source": [
    "plt.figure(figsize =(20, 10))\n",
    "sns.barplot(data=pt_2, x='event_name', y='nunique', hue='group')\n",
    "plt.title('График потерь пользователей по этапам по группам', fontsize = 18)\n",
    "plt.xlabel('События', fontsize = 16)\n",
    "plt.ylabel('Количество пользователей', fontsize = 16)\n",
    "plt.show()"
   ]
  },
  {
   "cell_type": "markdown",
   "id": "5b51b023",
   "metadata": {},
   "source": [
    "<div style=\"text-align: justify \">\n",
    "<b>Краткий вывод: </b> Как видно из графика и раннее проведенного анализа наибольшие потери наблюдаются при переходе с логина  на страницу продукта (около 37%). По группам наблюдается такая же тенденция. Также из второго графика хорошо видно, насколько большая разница между группами."
   ]
  },
  {
   "cell_type": "markdown",
   "id": "e39ab4d3",
   "metadata": {},
   "source": [
    "<u><b> Подсчет доли пользователей, которые доходит от первого события до оплаты"
   ]
  },
  {
   "attachments": {
    "image.png": {
     "image/png": "[encoded data removed]"
    }
   },
   "cell_type": "markdown",
   "id": "7ae59abe",
   "metadata": {},
   "source": [
    "![image.png](attachment:image.png)"
   ]
  },
  {
   "attachments": {
    "image.png": {
     "image/png": "[encoded data removed]"
    }
   },
   "cell_type": "markdown",
   "id": "5c90a4cc",
   "metadata": {},
   "source": [
    "![image.png](attachment:image.png)"
   ]
  },
  {
   "attachments": {
    "image.png": {
     "image/png": "[encoded data removed]"
    }
   },
   "cell_type": "markdown",
   "id": "9e51e4ad",
   "metadata": {},
   "source": [
    "![image.png](attachment:image.png)"
   ]
  },
  {
   "cell_type": "markdown",
   "id": "30337c13",
   "metadata": {},
   "source": [
    "<div style=\"text-align: justify \">\n",
    "<b>Краткий вывод: </b> Из построенной воронки событий и проведенного раннее анализа видно, что после логина до страницы с оплатой доходят 31% пользователей. У группы А такой процент выше - 32%, у группы В наоборот ниже. Хотя корзину просматривают меньше, но в группе процент просмотра корзины такой же, как и у покупки - 28%."
   ]
  },
  {
   "cell_type": "markdown",
   "id": "fae082c8",
   "metadata": {},
   "source": [
    "<div style=\"text-align: justify \">\n",
    "<b>Вывод: </b> Всего пользователи проходят 4 этапа событий: логин, страница продукта, корзина и оплата. Почти 100% производят логин. Больше всего пользователей теряется при преходе на страницу продукта (37%). Такая же тенденция наблюдается и среди групп отдельно. До страницы с оплатой доходит 32% пользователей. Инетресным является факт, что процент у страницы просмотра корзины меньше, чем у страницы с оплатой.\n",
    "При детальном рассмотрении каждой группы теста можнно отметить, что процент удержания пользователей группы В ниже, чем у группы А - на страницу продукта группы В переходит 56% пользователей, у группы А - 65%, на страницу корзины у группы В - 27%, у группы А - 30%, покупку совершают 28% пользователей группы В и 32% группы А. "
   ]
  },
  {
   "cell_type": "markdown",
   "id": "3a06300f",
   "metadata": {},
   "source": [
    "### 5. Проведение и оценка A/B-тестирования"
   ]
  },
  {
   "cell_type": "markdown",
   "id": "d300d6eb",
   "metadata": {},
   "source": [
    "На предыдуших этапах исследования уже было установлено, что пользователи распределены между группами А и В не равномерно."
   ]
  },
  {
   "cell_type": "code",
   "execution_count": 72,
   "id": "a412bab0",
   "metadata": {},
   "outputs": [
    {
     "data": {
      "text/html": [
       "<div>\n",
       "<style scoped>\n",
       "    .dataframe tbody tr th:only-of-type {\n",
       "        vertical-align: middle;\n",
       "    }\n",
       "\n",
       "    .dataframe tbody tr th {\n",
       "        vertical-align: top;\n",
       "    }\n",
       "\n",
       "    .dataframe thead th {\n",
       "        text-align: right;\n",
       "    }\n",
       "</style>\n",
       "<table border=\"1\" class=\"dataframe\">\n",
       "  <thead>\n",
       "    <tr style=\"text-align: right;\">\n",
       "      <th></th>\n",
       "      <th>group</th>\n",
       "      <th>user_id</th>\n",
       "    </tr>\n",
       "  </thead>\n",
       "  <tbody>\n",
       "    <tr>\n",
       "      <th>0</th>\n",
       "      <td>A</td>\n",
       "      <td>2747</td>\n",
       "    </tr>\n",
       "    <tr>\n",
       "      <th>1</th>\n",
       "      <td>B</td>\n",
       "      <td>928</td>\n",
       "    </tr>\n",
       "  </tbody>\n",
       "</table>\n",
       "</div>"
      ],
      "text/plain": [
       "  group  user_id\n",
       "0     A     2747\n",
       "1     B      928"
      ]
     },
     "execution_count": 72,
     "metadata": {},
     "output_type": "execute_result"
    }
   ],
   "source": [
    "df_z = df.groupby('group')['user_id'].nunique().reset_index()\n",
    "df_z"
   ]
  },
  {
   "cell_type": "code",
   "execution_count": 73,
   "id": "d6c956a9",
   "metadata": {},
   "outputs": [
    {
     "data": {
      "text/html": [
       "<div>\n",
       "<style scoped>\n",
       "    .dataframe tbody tr th:only-of-type {\n",
       "        vertical-align: middle;\n",
       "    }\n",
       "\n",
       "    .dataframe tbody tr th {\n",
       "        vertical-align: top;\n",
       "    }\n",
       "\n",
       "    .dataframe thead th {\n",
       "        text-align: right;\n",
       "    }\n",
       "</style>\n",
       "<table border=\"1\" class=\"dataframe\">\n",
       "  <thead>\n",
       "    <tr style=\"text-align: right;\">\n",
       "      <th>group</th>\n",
       "      <th>A</th>\n",
       "      <th>B</th>\n",
       "    </tr>\n",
       "    <tr>\n",
       "      <th>event_name</th>\n",
       "      <th></th>\n",
       "      <th></th>\n",
       "    </tr>\n",
       "  </thead>\n",
       "  <tbody>\n",
       "    <tr>\n",
       "      <th>login</th>\n",
       "      <td>2747</td>\n",
       "      <td>927</td>\n",
       "    </tr>\n",
       "    <tr>\n",
       "      <th>product_cart</th>\n",
       "      <td>824</td>\n",
       "      <td>255</td>\n",
       "    </tr>\n",
       "    <tr>\n",
       "      <th>product_page</th>\n",
       "      <td>1780</td>\n",
       "      <td>523</td>\n",
       "    </tr>\n",
       "    <tr>\n",
       "      <th>purchase</th>\n",
       "      <td>872</td>\n",
       "      <td>256</td>\n",
       "    </tr>\n",
       "  </tbody>\n",
       "</table>\n",
       "</div>"
      ],
      "text/plain": [
       "group            A    B\n",
       "event_name             \n",
       "login         2747  927\n",
       "product_cart   824  255\n",
       "product_page  1780  523\n",
       "purchase       872  256"
      ]
     },
     "execution_count": 73,
     "metadata": {},
     "output_type": "execute_result"
    }
   ],
   "source": [
    "#создадим сводную таблицу с числом пользователей по каждому событию и распределнию по группам\n",
    "pt = df.pivot_table(index='event_name', columns='group',values='user_id',aggfunc='nunique')\n",
    "pt"
   ]
  },
  {
   "cell_type": "markdown",
   "id": "2904ee10",
   "metadata": {},
   "source": [
    "<div style=\"text-align: justify \">\n",
    "Для проверки статистических критериев между группами подготовим функцию Z теста, так как выполнятся тест быдет не один раз. Также внесем поправку к уровням значимости, так как мы будем проводить мнонжественный тест. Для этого воспользуемся методом Бонферрони: уровни значимости в каждом из m сравнений в m раз меньше, чем уровень значимости, требуемый при единственном сравнении. Всего будет проведено 4 теста."
   ]
  },
  {
   "cell_type": "code",
   "execution_count": 74,
   "id": "b3185324",
   "metadata": {},
   "outputs": [],
   "source": [
    "#функция для статистической значимости\n",
    "\n",
    "def z_test(gr_1, gr_2, event_name, alpha):\n",
    "     \n",
    "        p1_logs = pt.loc[event_name, gr_1]\n",
    "        p2_logs = pt.loc[event_name, gr_2]\n",
    "        \n",
    "        p1_users = df_z.loc[df_z['group'] == gr_1, 'user_id'].values[0]\n",
    "        p2_users = df_z.loc[df_z['group'] == gr_2, 'user_id'].values[0]\n",
    "        \n",
    "        p1 = p1_logs /  p1_users\n",
    "        p2 = p2_logs /  p2_users\n",
    "        \n",
    "        print(p1_users, p2_users)\n",
    "        \n",
    "        p_combined = (p1_logs + p2_logs) / (p1_users + p2_users)\n",
    "        \n",
    "        difference = p1 - p2 \n",
    "        \n",
    "        z_value = difference / mth.sqrt(p_combined * (1 - p_combined) * (1/p1_users + 1/p2_users))\n",
    "        \n",
    "        distr = st.norm(0, 1) \n",
    "        \n",
    "        p_value = (1 - distr.cdf(abs(z_value))) * 2\n",
    "        \n",
    "        m_bonferroni = alpha/4\n",
    "        \n",
    "        print('Событие:', event_name)\n",
    "        print('p_value:', p_value)\n",
    "            \n",
    "        if p_value < m_bonferroni:\n",
    "            print('Отвергаем нулевую гипотезу')\n",
    "        else:\n",
    "            print('Не получилось отвергнуть нулевую гипотезу')\n",
    "            \n",
    "        print()    "
   ]
  },
  {
   "cell_type": "markdown",
   "id": "48c182ab",
   "metadata": {},
   "source": [
    "Еще раз проверим данные на наличие пользователей в обеих группах"
   ]
  },
  {
   "cell_type": "code",
   "execution_count": 75,
   "id": "f559045e",
   "metadata": {},
   "outputs": [
    {
     "data": {
      "text/plain": [
       "0"
      ]
     },
     "execution_count": 75,
     "metadata": {},
     "output_type": "execute_result"
    }
   ],
   "source": [
    "len(df.groupby('user_id')['group'].nunique().reset_index().query('group > 1'))"
   ]
  },
  {
   "cell_type": "markdown",
   "id": "508cf234",
   "metadata": {},
   "source": [
    "В выборки нет пользователей, которые попадали бы в несколько групп, можно приступать к выполнению теста.\n",
    "\n",
    "Посчитаем статистическую значимость различий между группами А и В.\n",
    "\n",
    "Нулевая $H_{0}$: значимых различий между долями нет, различия статистически не значимы. \n",
    "\n",
    "Альтернативная $H_{1}$: значимые различия между долями есть."
   ]
  },
  {
   "cell_type": "code",
   "execution_count": 76,
   "id": "7e8e6dfc",
   "metadata": {},
   "outputs": [
    {
     "name": "stdout",
     "output_type": "stream",
     "text": [
      "2747 928\n",
      "Событие: login\n",
      "p_value: 0.08529860212027773\n",
      "Не получилось отвергнуть нулевую гипотезу\n",
      "\n",
      "2747 928\n",
      "Событие: product_cart\n",
      "p_value: 0.14534814557238196\n",
      "Не получилось отвергнуть нулевую гипотезу\n",
      "\n",
      "2747 928\n",
      "Событие: product_page\n",
      "p_value: 4.310980554755872e-06\n",
      "Отвергаем нулевую гипотезу\n",
      "\n",
      "2747 928\n",
      "Событие: purchase\n",
      "p_value: 0.017592402663314743\n",
      "Не получилось отвергнуть нулевую гипотезу\n",
      "\n"
     ]
    }
   ],
   "source": [
    "for event_name in pt.index:\n",
    "    z_test('A', 'B', event_name, 0.05)"
   ]
  },
  {
   "cell_type": "markdown",
   "id": "d749b90e",
   "metadata": {},
   "source": [
    "Для проверки статистических критериев значимости различий был выбран уровень значимости, равный 5 процентам. Было проведено 4 проверки статистических гипотез. Дополнительно был применен метод Бонферрони, т.к. тест был множественным.\n",
    "\n",
    "Статистически значимых различий между событиями групп А и В по трем событиям не наблюдается. Можно утверждать, что значимые различия между долями групп А и В есть только по событию просмотр страницы товара. "
   ]
  },
  {
   "cell_type": "markdown",
   "id": "413913df",
   "metadata": {},
   "source": [
    "### 6. Итоги проведения А/В-теста"
   ]
  },
  {
   "cell_type": "markdown",
   "id": "bef494c0",
   "metadata": {},
   "source": [
    "В ходе проведения исследовательского анализа было выявлено следующее:\n",
    "- Всплеск активности происходит в период с 15.12 по 23.12 с пиком на 22.12, что вполне логично, т.к. тест проводиться для Европы и пользователи готовятся к Рождественским праздникам.\n",
    "- Большинство пользователей совершают первые действие в первый день после регистрации независимо от группы теста.\n",
    "- В среднем пользователь группы А совершает событий больше (почти 7 событий), чем пользователи группы В (5,5), медианное значение также выше - 6 против 4. Максимальное количество событий пользователей обеих групп равно 24.\n",
    "- Распределение по устройствам группы А также сильно выше.\n",
    "- При исследовании воронки событий было определено 4 события - самое популярное событие - регистрация (почти 100%), далее идет просмотр страницы (63%). После логина до страницы с оплатой доходят 31% пользователей. Интересным является факт, что покупка имеет больший процент посещения, чем просмотр корзины (29%). \n",
    "\n",
    "<div style=\"text-align: justify \">\n",
    "По итогам проверки проведенного А/В-теста можно сделать вывод, что экспериментальная группа не достигла поставленной цели по улучшению каждой метрики не менее, чем на 10%. При проведение z-теста было отмечено, что статистически значимых различий между событиями групп А и В по трем действиям не наблюдается. Значимые различия между долями групп А и В имеются только по событию просмотр страницы товара. Таким образом результаты проведенного тестирования можно считать не удовлетворительными, поставленные цели достигнуты не были.<br>\n",
    "Важно отметить, что период проведения теста выбран крайне неудачным, т.к. это время подготовки к Рождеству. Кроме того даты окончания теста не соответствуют заявленным в ТЗ датам. Желаемый процент новых пользователей из Европы - 8,22%, что почти в 2 раза меньше заявленной в ТЗ (15%). Ожидаемое количество участников также сильно ниже ожидаемых - чуть более 3,5 тыс. пользователей. Разница между количеством пользователей групп достаточно большая. Кроме того, во время прохождения теста проходила рождественская акция. Также параллельно проходил еще один тест. Все эти факторы могли сказаться на результатах проведения А/В-теста."
   ]
  },
  {
   "cell_type": "markdown",
   "id": "8e2d73ed",
   "metadata": {},
   "source": [
    "### 7. Общий вывод по проекту"
   ]
  },
  {
   "cell_type": "markdown",
   "id": "36e6851b",
   "metadata": {},
   "source": [
    "<b><i>1) В части ознакомления данных</i></b><br><br>\n",
    "Для анализа предоставлены 4 датасета:\n",
    "- <b>Календарь маркетинговых событий на 2020 год</b> содержит  14 мероприятий, явных дубликатов и пропусков не обнаружено.<br>\n",
    "- Масси данных о <b>пользователях, зарегистрировавшиеся с 7 до 21 декабря 2020 года</b> содержит информацию о 617330 участниках, явных дубликатов и пропусков также не обнаружено.<br>\n",
    "- Данные о <b>действиях новых пользователей в период с 7 декабря 2020 по 4 января 2021 года</b> содержит информацию о 440317 действий, явных дубликатов не обнаружено, имеется большой процент пропусков (86%) по столбцу <b>details</b>, но т.к. данная информация не является обязательной для заполнения и необходимой для анализа, прорабатывать дополнительно и заполнять/удалять такие пропуски не будем.<br>\n",
    "- <b>Таблица участников тестов</b> содержит 18 268 пользователей, явных дубликатов и пропусков не обнаружено.\n",
    "\n",
    "<b><i>2) В части предобработки данных</i></b><br>\n",
    "- в ходе предобработки данных неявных дубликатов обнаружено не было, среди новых пользователей повторений нет.  Были изменены форматы столбцов по всем массивам, содержащие информацию о дате. Таким столбцам был присвоен тип `data`.\n",
    "\n",
    "<b><i>3) В части проверки технического задания</i></b><br>\n",
    "- начало проведения теста совпадает с началом регистрации новых пользователей и соответствует ТЗ;\n",
    "- дата окончания регистрации также соответствует заявленному в ТЗ. Однако время окончания теста, заявленного в ТЗ, не соответствует дате последнего события, сделанного пользователем, возможно это связано с Рождественскими праздниками;\n",
    "- была проведена фильтрация по периоду проведения теста. Пользователи, которые совершили первое событие после 14 дней, были отсечены;\n",
    "- после фильтрации по периоду проведения исследования, в тесте принимают участие 3 675 пользователей, что меньше ожидаемого. Большая часть участников из Европы. Доля новых пользователей региона EU составляет 14,48%, что  также не соответствует заявленной доли в ТЗ;\n",
    "- в ходе проверки пересечения участия пользователей в двух тестах было обнаружено, что в обоих тестах участвуют 1602 пользователя. В группе В конкурирующего теста принимали участие 783 пользователя. Распределение таких пользователей на группы А и В контрольного теста равномерное, удалять таких пользователей не стали;\n",
    "- пересечение среди участников групп А и В контрольного теста не обнаружено.\n",
    "\n",
    "<b><i>4) В части исследовательского анализа данных</i></b><br>\n",
    "- всплеск активности происходит в период с 15.12 по 23.12 с пиком на 22.12, большинство пользователей совершают первое событие в первый же день, независимо от группы теста.\n",
    "- В первый день новых пользователей больше по группе В, однако, начиная со второго дня новых пользователей группы А стабильно больше. Пик набора новых пользователей группы В приходится на 07.12, группы А на 14.12, причем он почти в два раза больше. После 16.12 регистрация новых пользователей идет ровно. Количество новых пользователей группы А в разы превышает количество группы В.\n",
    "- В среднем пользователь группы А совершает событий больше (почти 7 событий), чем пользователи группы В (5,5), медианное значение также выше - 6 против 4. Максимальное количество событий пользователей обеих групп равно 24.\n",
    "- Распределение по устройствам группы А также сильно выше.\n",
    "- <div style=\"text-align: justify \"> При исследовании воронки событий было определено 4 события - самое популярное событие - регистрация (почти 100%), далее идет просмотр страницы (63%). После логина до страницы с оплатой доходят 31% пользователей. акая же тенденция наблюдается и среди групп отдельно. До страницы с оплатой доходит 32% пользователей. Инетресным является факт, что процент у корщины меньше, чем у страницы с оплатой.\n",
    "При детальном рассмотрении каждой группы теста можнно отметить, что процент удержания пользователей группы В ниже, чем у группы А - на страницу продукта группы В переходит 56% пользователей, у группы А - 65%, на страницу корзины у группы В - 27%, у группы А - 30%, покупку совершают 28% пользователей группы В и 32% группы А. \n",
    "\n",
    "<b><i>5) В части проверки гипотез</i></b><br><br>\n",
    "<div style=\"text-align: justify \">\n",
    "По итогам проверки проведенного А/В-теста можно сделать вывод, что экспериментальная группа не достигла поставленной цели по улучшению каждой метрики не менее, чем на 10%. При проведение z-теста было отмечено, что статистически значимых различий между событиями групп А и В по трем действиям не наблюдается. Значимые различия между долями групп А и В имеются только по событию просмотр страницы товара. Таким образом результаты проведенного тестирования можно считать не удовлетворительными, поставленные цели достигнуты не были.<br>\n",
    "Важно отметить, что период проведения теста выбран крайне неудачным, т.к. это время подготовки к Рождеству. Кроме того даты окончания теста не соответствуют заявленным в ТЗ датам. Желаемый процент новых пользователей из Европы - 8,22%, что почти в 2 раза меньше заявленной в ТЗ (15%). Ожидаемое количество участников также сильно ниже ожидаемых - чуть более 3,5 тыс. пользователей. Разница между количеством пользователей групп достаточно большая. Кроме того, во время прохождения теста проходила рождественская акция. Также параллельно проходил еще один тест. Все эти факторы могли сказаться на результатах проведения А/В-теста."
   ]
  }
 ],
 "metadata": {
  "ExecuteTimeLog": [
   {
    "duration": 130,
    "start_time": "2023-09-07T09:18:03.898Z"
   },
   {
    "duration": 1406,
    "start_time": "2023-09-07T09:19:11.103Z"
   },
   {
    "duration": 3,
    "start_time": "2023-09-07T09:19:21.758Z"
   },
   {
    "duration": 2035,
    "start_time": "2023-09-07T09:21:38.880Z"
   },
   {
    "duration": 6,
    "start_time": "2023-09-07T09:21:54.225Z"
   },
   {
    "duration": 5,
    "start_time": "2023-09-07T09:21:58.125Z"
   },
   {
    "duration": 27,
    "start_time": "2023-09-07T09:22:02.748Z"
   },
   {
    "duration": 94,
    "start_time": "2023-09-07T09:22:12.785Z"
   },
   {
    "duration": 533,
    "start_time": "2023-09-07T09:22:19.454Z"
   },
   {
    "duration": 35,
    "start_time": "2023-09-07T09:22:25.715Z"
   },
   {
    "duration": 3,
    "start_time": "2023-09-07T09:23:16.028Z"
   },
   {
    "duration": 11,
    "start_time": "2023-09-07T09:23:23.241Z"
   },
   {
    "duration": 28,
    "start_time": "2023-09-07T09:23:35.107Z"
   },
   {
    "duration": 8,
    "start_time": "2023-09-07T09:23:41.431Z"
   },
   {
    "duration": 36,
    "start_time": "2023-09-07T09:23:47.150Z"
   },
   {
    "duration": 16,
    "start_time": "2023-09-07T09:24:12.677Z"
   },
   {
    "duration": 28,
    "start_time": "2023-09-07T09:24:23.776Z"
   },
   {
    "duration": 169,
    "start_time": "2023-09-07T09:24:29.213Z"
   },
   {
    "duration": 140,
    "start_time": "2023-09-07T09:24:35.890Z"
   },
   {
    "duration": 104,
    "start_time": "2023-09-07T09:25:38.649Z"
   },
   {
    "duration": 473,
    "start_time": "2023-09-07T09:26:13.091Z"
   },
   {
    "duration": 118,
    "start_time": "2023-09-07T09:26:37.133Z"
   },
   {
    "duration": 98,
    "start_time": "2023-09-07T09:27:00.865Z"
   },
   {
    "duration": 6,
    "start_time": "2023-09-07T09:27:10.836Z"
   },
   {
    "duration": 5,
    "start_time": "2023-09-07T09:28:02.725Z"
   },
   {
    "duration": 12,
    "start_time": "2023-09-07T09:28:31.719Z"
   },
   {
    "duration": 19,
    "start_time": "2023-09-07T09:29:11.010Z"
   },
   {
    "duration": 78,
    "start_time": "2023-09-07T09:29:26.117Z"
   },
   {
    "duration": 79,
    "start_time": "2023-09-07T09:29:36.391Z"
   },
   {
    "duration": 88,
    "start_time": "2023-09-07T09:29:40.917Z"
   },
   {
    "duration": 11,
    "start_time": "2023-09-07T09:29:48.947Z"
   },
   {
    "duration": 22,
    "start_time": "2023-09-07T09:30:02.543Z"
   },
   {
    "duration": 10,
    "start_time": "2023-09-07T09:30:31.135Z"
   },
   {
    "duration": 12,
    "start_time": "2023-09-07T09:30:44.973Z"
   },
   {
    "duration": 10,
    "start_time": "2023-09-07T09:31:00.565Z"
   },
   {
    "duration": 28,
    "start_time": "2023-09-07T09:33:09.725Z"
   },
   {
    "duration": 195,
    "start_time": "2023-09-07T09:33:17.225Z"
   },
   {
    "duration": 82,
    "start_time": "2023-09-07T09:33:29.612Z"
   },
   {
    "duration": 30,
    "start_time": "2023-09-07T09:33:37.810Z"
   },
   {
    "duration": 8,
    "start_time": "2023-09-07T09:34:08.175Z"
   },
   {
    "duration": 31,
    "start_time": "2023-09-07T09:35:28.059Z"
   },
   {
    "duration": 5,
    "start_time": "2023-09-07T09:36:03.334Z"
   },
   {
    "duration": 11,
    "start_time": "2023-09-07T09:36:15.784Z"
   },
   {
    "duration": 16,
    "start_time": "2023-09-07T09:36:22.581Z"
   },
   {
    "duration": 7,
    "start_time": "2023-09-07T09:36:49.760Z"
   },
   {
    "duration": 90,
    "start_time": "2023-09-07T09:36:59.303Z"
   },
   {
    "duration": 14,
    "start_time": "2023-09-07T09:37:08.548Z"
   },
   {
    "duration": 6,
    "start_time": "2023-09-07T09:37:28.604Z"
   },
   {
    "duration": 13,
    "start_time": "2023-09-07T09:38:04.888Z"
   },
   {
    "duration": 20,
    "start_time": "2023-09-07T09:38:12.879Z"
   },
   {
    "duration": 5,
    "start_time": "2023-09-07T09:38:45.018Z"
   },
   {
    "duration": 12,
    "start_time": "2023-09-07T09:39:23.205Z"
   },
   {
    "duration": 13,
    "start_time": "2023-09-07T09:41:59.992Z"
   },
   {
    "duration": 137,
    "start_time": "2023-09-07T09:42:05.375Z"
   },
   {
    "duration": 7,
    "start_time": "2023-09-07T09:45:23.760Z"
   },
   {
    "duration": 404,
    "start_time": "2023-09-07T09:49:55.033Z"
   },
   {
    "duration": 14,
    "start_time": "2023-09-07T09:50:32.591Z"
   },
   {
    "duration": 358,
    "start_time": "2023-09-07T09:51:04.947Z"
   },
   {
    "duration": 255,
    "start_time": "2023-09-07T09:52:52.368Z"
   },
   {
    "duration": 166,
    "start_time": "2023-09-07T09:53:09.377Z"
   },
   {
    "duration": 337,
    "start_time": "2023-09-07T09:53:25.581Z"
   },
   {
    "duration": 24,
    "start_time": "2023-09-07T09:53:54.602Z"
   },
   {
    "duration": 37,
    "start_time": "2023-09-07T09:54:07.467Z"
   },
   {
    "duration": 10,
    "start_time": "2023-09-07T09:54:19.718Z"
   },
   {
    "duration": 76,
    "start_time": "2023-09-07T09:54:29.899Z"
   },
   {
    "duration": 13,
    "start_time": "2023-09-07T09:54:45.697Z"
   },
   {
    "duration": 10,
    "start_time": "2023-09-07T09:55:33.716Z"
   },
   {
    "duration": 381,
    "start_time": "2023-09-07T09:55:49.708Z"
   },
   {
    "duration": 29,
    "start_time": "2023-09-07T09:56:17.873Z"
   },
   {
    "duration": 15,
    "start_time": "2023-09-07T09:56:43.194Z"
   },
   {
    "duration": 15,
    "start_time": "2023-09-07T09:56:49.267Z"
   },
   {
    "duration": 66,
    "start_time": "2023-09-07T09:56:58.981Z"
   },
   {
    "duration": 30,
    "start_time": "2023-09-07T09:57:37.899Z"
   },
   {
    "duration": 32,
    "start_time": "2023-09-07T09:57:45.208Z"
   },
   {
    "duration": 25,
    "start_time": "2023-09-07T09:57:51.441Z"
   },
   {
    "duration": 221,
    "start_time": "2023-09-07T09:57:56.884Z"
   },
   {
    "duration": 17,
    "start_time": "2023-09-07T09:58:52.674Z"
   },
   {
    "duration": 18,
    "start_time": "2023-09-07T09:59:45.732Z"
   },
   {
    "duration": 18,
    "start_time": "2023-09-07T09:59:53.823Z"
   },
   {
    "duration": 190,
    "start_time": "2023-09-07T10:01:55.550Z"
   },
   {
    "duration": 23,
    "start_time": "2023-09-07T10:01:58.717Z"
   },
   {
    "duration": 294,
    "start_time": "2023-09-07T10:02:03.810Z"
   },
   {
    "duration": 285,
    "start_time": "2023-09-07T10:03:14.863Z"
   },
   {
    "duration": 15,
    "start_time": "2023-09-07T10:03:58.187Z"
   },
   {
    "duration": 12,
    "start_time": "2023-09-07T10:04:33.637Z"
   },
   {
    "duration": 15,
    "start_time": "2023-09-07T10:32:54.324Z"
   },
   {
    "duration": 24,
    "start_time": "2023-09-07T10:32:55.889Z"
   },
   {
    "duration": 6,
    "start_time": "2023-09-07T10:33:23.315Z"
   },
   {
    "duration": 71,
    "start_time": "2023-09-07T10:33:41.502Z"
   },
   {
    "duration": 17,
    "start_time": "2023-09-07T10:33:48.467Z"
   },
   {
    "duration": 14,
    "start_time": "2023-09-07T10:34:02.939Z"
   },
   {
    "duration": 1280,
    "start_time": "2023-09-07T10:38:41.501Z"
   },
   {
    "duration": 4,
    "start_time": "2023-09-07T10:38:42.783Z"
   },
   {
    "duration": 736,
    "start_time": "2023-09-07T10:38:42.789Z"
   },
   {
    "duration": 5,
    "start_time": "2023-09-07T10:38:43.527Z"
   },
   {
    "duration": 63,
    "start_time": "2023-09-07T10:38:43.534Z"
   },
   {
    "duration": 106,
    "start_time": "2023-09-07T10:38:43.599Z"
   },
   {
    "duration": 630,
    "start_time": "2023-09-07T10:38:43.707Z"
   },
   {
    "duration": 48,
    "start_time": "2023-09-07T10:38:44.339Z"
   },
   {
    "duration": 12,
    "start_time": "2023-09-07T10:38:44.389Z"
   },
   {
    "duration": 27,
    "start_time": "2023-09-07T10:38:44.404Z"
   },
   {
    "duration": 35,
    "start_time": "2023-09-07T10:38:44.433Z"
   },
   {
    "duration": 30,
    "start_time": "2023-09-07T10:38:44.470Z"
   },
   {
    "duration": 14,
    "start_time": "2023-09-07T10:38:44.503Z"
   },
   {
    "duration": 55,
    "start_time": "2023-09-07T10:38:44.519Z"
   },
   {
    "duration": 192,
    "start_time": "2023-09-07T10:38:44.577Z"
   },
   {
    "duration": 504,
    "start_time": "2023-09-07T10:38:44.770Z"
   },
   {
    "duration": 121,
    "start_time": "2023-09-07T10:38:45.275Z"
   },
   {
    "duration": 6,
    "start_time": "2023-09-07T10:38:45.398Z"
   },
   {
    "duration": 24,
    "start_time": "2023-09-07T10:38:45.406Z"
   },
   {
    "duration": 21,
    "start_time": "2023-09-07T10:38:45.432Z"
   },
   {
    "duration": 64,
    "start_time": "2023-09-07T10:38:45.455Z"
   },
   {
    "duration": 112,
    "start_time": "2023-09-07T10:38:45.521Z"
   },
   {
    "duration": 9,
    "start_time": "2023-09-07T10:38:45.634Z"
   },
   {
    "duration": 58,
    "start_time": "2023-09-07T10:38:45.645Z"
   },
   {
    "duration": 47,
    "start_time": "2023-09-07T10:38:45.705Z"
   },
   {
    "duration": 40,
    "start_time": "2023-09-07T10:38:45.754Z"
   },
   {
    "duration": 64,
    "start_time": "2023-09-07T10:38:45.796Z"
   },
   {
    "duration": 49,
    "start_time": "2023-09-07T10:38:45.866Z"
   },
   {
    "duration": 211,
    "start_time": "2023-09-07T10:38:45.918Z"
   },
   {
    "duration": 22,
    "start_time": "2023-09-07T10:38:46.131Z"
   },
   {
    "duration": 22,
    "start_time": "2023-09-07T10:38:46.155Z"
   },
   {
    "duration": 41,
    "start_time": "2023-09-07T10:38:46.179Z"
   },
   {
    "duration": 7,
    "start_time": "2023-09-07T10:38:46.222Z"
   },
   {
    "duration": 36,
    "start_time": "2023-09-07T10:38:46.231Z"
   },
   {
    "duration": 18,
    "start_time": "2023-09-07T10:38:46.269Z"
   },
   {
    "duration": 23,
    "start_time": "2023-09-07T10:38:46.289Z"
   },
   {
    "duration": 35,
    "start_time": "2023-09-07T10:38:46.314Z"
   },
   {
    "duration": 11,
    "start_time": "2023-09-07T10:38:46.351Z"
   },
   {
    "duration": 29,
    "start_time": "2023-09-07T10:38:46.364Z"
   },
   {
    "duration": 38,
    "start_time": "2023-09-07T10:38:46.396Z"
   },
   {
    "duration": 65,
    "start_time": "2023-09-07T10:38:46.436Z"
   },
   {
    "duration": 39,
    "start_time": "2023-09-07T10:38:46.504Z"
   },
   {
    "duration": 32,
    "start_time": "2023-09-07T10:38:46.545Z"
   },
   {
    "duration": 22,
    "start_time": "2023-09-07T10:38:46.580Z"
   },
   {
    "duration": 377,
    "start_time": "2023-09-07T10:38:46.604Z"
   },
   {
    "duration": 15,
    "start_time": "2023-09-07T10:38:46.984Z"
   },
   {
    "duration": 391,
    "start_time": "2023-09-07T10:38:47.001Z"
   },
   {
    "duration": 235,
    "start_time": "2023-09-07T10:38:47.394Z"
   },
   {
    "duration": 357,
    "start_time": "2023-09-07T10:38:47.631Z"
   },
   {
    "duration": 17,
    "start_time": "2023-09-07T10:38:47.990Z"
   },
   {
    "duration": 118,
    "start_time": "2023-09-07T10:38:48.010Z"
   },
   {
    "duration": 9,
    "start_time": "2023-09-07T10:38:48.130Z"
   },
   {
    "duration": 48,
    "start_time": "2023-09-07T10:38:48.141Z"
   },
   {
    "duration": 17,
    "start_time": "2023-09-07T10:38:48.190Z"
   },
   {
    "duration": 398,
    "start_time": "2023-09-07T10:38:48.209Z"
   },
   {
    "duration": 30,
    "start_time": "2023-09-07T10:38:48.609Z"
   },
   {
    "duration": 28,
    "start_time": "2023-09-07T10:38:48.641Z"
   },
   {
    "duration": 48,
    "start_time": "2023-09-07T10:38:48.671Z"
   },
   {
    "duration": 95,
    "start_time": "2023-09-07T10:38:48.721Z"
   },
   {
    "duration": 31,
    "start_time": "2023-09-07T10:38:48.818Z"
   },
   {
    "duration": 47,
    "start_time": "2023-09-07T10:38:48.851Z"
   },
   {
    "duration": 36,
    "start_time": "2023-09-07T10:38:48.900Z"
   },
   {
    "duration": 35,
    "start_time": "2023-09-07T10:38:48.938Z"
   },
   {
    "duration": 21,
    "start_time": "2023-09-07T10:38:48.974Z"
   },
   {
    "duration": 34,
    "start_time": "2023-09-07T10:38:48.997Z"
   },
   {
    "duration": 328,
    "start_time": "2023-09-07T10:38:49.033Z"
   },
   {
    "duration": 25,
    "start_time": "2023-09-07T10:38:49.363Z"
   },
   {
    "duration": 264,
    "start_time": "2023-09-07T10:38:49.390Z"
   },
   {
    "duration": 159,
    "start_time": "2023-09-07T10:38:49.656Z"
   },
   {
    "duration": 14,
    "start_time": "2023-09-07T10:38:49.817Z"
   },
   {
    "duration": 14,
    "start_time": "2023-09-07T10:38:49.868Z"
   },
   {
    "duration": 26,
    "start_time": "2023-09-07T10:38:49.884Z"
   },
   {
    "duration": 87,
    "start_time": "2023-09-07T10:38:49.913Z"
   },
   {
    "duration": 14,
    "start_time": "2023-09-07T10:38:50.002Z"
   },
   {
    "duration": 59,
    "start_time": "2023-09-07T10:38:50.019Z"
   },
   {
    "duration": 14,
    "start_time": "2023-09-07T10:38:50.080Z"
   }
  ],
  "kernelspec": {
   "display_name": "Python 3 (ipykernel)",
   "language": "python",
   "name": "python3"
  },
  "language_info": {
   "codemirror_mode": {
    "name": "ipython",
    "version": 3
   },
   "file_extension": ".py",
   "mimetype": "text/x-python",
   "name": "python",
   "nbconvert_exporter": "python",
   "pygments_lexer": "ipython3",
   "version": "3.9.5"
  },
  "toc": {
   "base_numbering": 1,
   "nav_menu": {},
   "number_sections": true,
   "sideBar": true,
   "skip_h1_title": true,
   "title_cell": "Table of Contents",
   "title_sidebar": "Contents",
   "toc_cell": false,
   "toc_position": {},
   "toc_section_display": true,
   "toc_window_display": false
  }
 },
 "nbformat": 4,
 "nbformat_minor": 5
}
