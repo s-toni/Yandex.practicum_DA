{
 "cells": [
  {
   "cell_type": "markdown",
   "id": "0e3e2bcf",
   "metadata": {},
   "source": [
    "# Анализ поведения пользователей мобильного приложения"
   ]
  },
  {
   "cell_type": "markdown",
   "id": "a57d653c",
   "metadata": {},
   "source": [
    "<b>Цель исследования: </b><br>\n",
    "1) разобраться, как ведут себя пользователи мобильного приложения стартапа, который продаёт продукты питания.<br> \n",
    "2) изучить воронку продаж, узнать, как пользователи доходят до покупки. Сколько пользователей доходит до покупки, а сколько — «застревает» на предыдущих шагах и на каких именно?<br>\n",
    "3) исследовать результаты A/A/B-эксперимента. \n",
    "\n",
    "<b>A/A/B-эксперимент: </b><br>\n",
    "дизайнеры захотели поменять шрифты во всём приложении, а менеджеры испугались, что пользователям будет непривычно. Договорились принять решение по результатам A/A/B-теста. Пользователей разбили на 3 группы: 2 контрольные со старыми шрифтами и одну экспериментальную — с новыми. Необходимо выяснить, какой шрифт лучше.\n",
    "\n",
    "<b>Ход исследования: </b>\n",
    "1) Обзор данных.<br>\n",
    "2) Предобработка данных:<br>\n",
    "3) Исследовательский анализ:<br>\n",
    "- Сколько всего событий в логе?<br>\n",
    "- Сколько всего пользователей в логе?<br>\n",
    "- Сколько в среднем событий приходится на пользователя?<br>\n",
    "- За какой период данные? Определить максимальную и минимальную дату. Построить гистограмму по дате и времени. Проверить одинаково ли полные данные за весь период? <i>(Технически в логи новых дней по некоторым пользователям могут «доезжать» события из прошлого — это может «перекашивать данные»)</i>. Определить, с какого момента данные полные и отбросить более старые. Данные за какой период времени предоставлены?<br>\n",
    "- Много ли событий и пользователей были потеряны в результате очистки от \"старых\" данных?<br>\n",
    "- Проверить, что есть пользователи из всех трёх экспериментальных групп.<br>\n",
    "\n",
    "4) Анализ воронки событий:<br>\n",
    "- Просмотреть, какие события есть в логах, как часто они встречаются. Отсортировать события по частоте.<br>\n",
    "- Посчитать, сколько пользователей совершали каждое из этих событий. Отсортировать события по числу пользователей. Посчитать долю пользователей, которые хоть раз совершали событие.<br>\n",
    "- Сделать предположение, в каком порядке происходят события. Все ли они выстраиваются в последовательную цепочку? .<br>\n",
    "- Посчитать по воронке событий, какая доля пользователей проходит на следующий шаг воронки <i>(от числа пользователей на предыдущем). (То есть для последовательности событий A → B → C посчитайте отношение числа пользователей с событием B к количеству пользователей с событием A, а также отношение числа пользователей с событием C к количеству пользователей с событием B)</i>.<br>\n",
    "- На каком шаге теряется больше всего пользователей?<br>\n",
    "- Какая доля пользователей доходит от первого события до оплаты?\n",
    "\n",
    "5) Анализ результатов эксперимента:<br>\n",
    "- Сколько пользователей в каждой экспериментальной группе?<br>\n",
    "- Есть 2 контрольные группы для А/А-эксперимента, чтобы проверить корректность всех механизмов и расчётов. Проверить, находят ли статистические критерии разницу между выборками 246 и 247.<br>\n",
    "- Выбрать самое популярное событие. Посчитать число пользователей, совершивших это событие в каждой из контрольных групп. Посчитать долю пользователей, совершивших это событие. Проверить, будет ли отличие между группами статистически достоверным. Проделать то же самое для всех других событий. Можно ли сказать, что разбиение на группы работает корректно?<br>\n",
    "- Аналогично сделать с группой с изменённым шрифтом. Сравнить результаты с каждой из контрольных групп в отдельности по каждому событию. Сравнить результаты с объединённой контрольной группой. Какие выводы из эксперимента можно сделать?<br>\n",
    "- Определить уровень значимости при проверке статистических гипотез выше? Посчитать, сколько проверок статистических гипотез было сделано. При уровне значимости 0.1 каждый десятый раз можно получать ложный результат. Какой уровень значимости стоит применить?<br>\n",
    "\n",
    "6) Подготовка общего вывода."
   ]
  },
  {
   "cell_type": "markdown",
   "id": "cdecc583",
   "metadata": {},
   "source": [
    "<b>Описание данных:</b>\n",
    "\n",
    "<b>EventName</b> — название события;<br>\n",
    "<b>DeviceIDHash</b> — уникальный идентификатор пользователя;<br>\n",
    "<b>EventTimestamp</b> — время события;<br>\n",
    "<b>ExpId</b> — номер эксперимента: \n",
    "- 246 и 247 — контрольные группы;\n",
    "- 248 — экспериментальная."
   ]
  },
  {
   "cell_type": "markdown",
   "id": "c401085c",
   "metadata": {},
   "source": [
    "### 1. Обзор данных"
   ]
  },
  {
   "cell_type": "code",
   "execution_count": 1,
   "id": "a2de8c46",
   "metadata": {},
   "outputs": [],
   "source": [
    "#Подключим необходимые библиотеки\n",
    "import pandas as pd\n",
    "import scipy.stats as stats\n",
    "import datetime as dt\n",
    "import numpy as np\n",
    "import matplotlib.pyplot as plt\n",
    "import seaborn as sns\n",
    "import math as mth \n",
    "from plotly import graph_objects as go\n",
    "import warnings"
   ]
  },
  {
   "cell_type": "code",
   "execution_count": 2,
   "id": "225f861f",
   "metadata": {},
   "outputs": [],
   "source": [
    "#задаем исходные настройки\n",
    "pd.set_option('display.max_columns', None)\n",
    "warnings.filterwarnings(\"ignore\")"
   ]
  },
  {
   "cell_type": "code",
   "execution_count": 3,
   "id": "88a19cf3",
   "metadata": {},
   "outputs": [],
   "source": [
    "#Загрузим данные\n",
    "logo = pd.read_csv('/datasets/logs_exp.csv', sep='\\t')"
   ]
  },
  {
   "cell_type": "code",
   "execution_count": 4,
   "id": "1d967deb",
   "metadata": {},
   "outputs": [],
   "source": [
    "#Базовая функция для ознакомления с данными: инфо о типах, пропусках, явных дубликатах\n",
    "def show_data(df):\n",
    "    display(df.head(20))\n",
    "    print('-----')\n",
    "    print('Информация о типах данных')\n",
    "    df.info()\n",
    "    print('-----')\n",
    "    for col in df.columns:\n",
    "        print('Название:', col, '\\nПропусков:\\t', df[col].isna().sum(), 'Процент пропусков:\\t', round(df[col].isna().sum() *100 / len(df[col])))\n",
    "    round(df[col].isna().sum() *100 / len(df[col]))\n",
    "    print('-----')\n",
    "    print('Явных дубликатов')\n",
    "    print(df.duplicated().sum())"
   ]
  },
  {
   "cell_type": "code",
   "execution_count": 5,
   "id": "7cb4fea5",
   "metadata": {},
   "outputs": [
    {
     "data": {
      "text/html": [
       "<div>\n",
       "<style scoped>\n",
       "    .dataframe tbody tr th:only-of-type {\n",
       "        vertical-align: middle;\n",
       "    }\n",
       "\n",
       "    .dataframe tbody tr th {\n",
       "        vertical-align: top;\n",
       "    }\n",
       "\n",
       "    .dataframe thead th {\n",
       "        text-align: right;\n",
       "    }\n",
       "</style>\n",
       "<table border=\"1\" class=\"dataframe\">\n",
       "  <thead>\n",
       "    <tr style=\"text-align: right;\">\n",
       "      <th></th>\n",
       "      <th>EventName</th>\n",
       "      <th>DeviceIDHash</th>\n",
       "      <th>EventTimestamp</th>\n",
       "      <th>ExpId</th>\n",
       "    </tr>\n",
       "  </thead>\n",
       "  <tbody>\n",
       "    <tr>\n",
       "      <th>0</th>\n",
       "      <td>MainScreenAppear</td>\n",
       "      <td>4575588528974610257</td>\n",
       "      <td>1564029816</td>\n",
       "      <td>246</td>\n",
       "    </tr>\n",
       "    <tr>\n",
       "      <th>1</th>\n",
       "      <td>MainScreenAppear</td>\n",
       "      <td>7416695313311560658</td>\n",
       "      <td>1564053102</td>\n",
       "      <td>246</td>\n",
       "    </tr>\n",
       "    <tr>\n",
       "      <th>2</th>\n",
       "      <td>PaymentScreenSuccessful</td>\n",
       "      <td>3518123091307005509</td>\n",
       "      <td>1564054127</td>\n",
       "      <td>248</td>\n",
       "    </tr>\n",
       "    <tr>\n",
       "      <th>3</th>\n",
       "      <td>CartScreenAppear</td>\n",
       "      <td>3518123091307005509</td>\n",
       "      <td>1564054127</td>\n",
       "      <td>248</td>\n",
       "    </tr>\n",
       "    <tr>\n",
       "      <th>4</th>\n",
       "      <td>PaymentScreenSuccessful</td>\n",
       "      <td>6217807653094995999</td>\n",
       "      <td>1564055322</td>\n",
       "      <td>248</td>\n",
       "    </tr>\n",
       "    <tr>\n",
       "      <th>5</th>\n",
       "      <td>CartScreenAppear</td>\n",
       "      <td>6217807653094995999</td>\n",
       "      <td>1564055323</td>\n",
       "      <td>248</td>\n",
       "    </tr>\n",
       "    <tr>\n",
       "      <th>6</th>\n",
       "      <td>OffersScreenAppear</td>\n",
       "      <td>8351860793733343758</td>\n",
       "      <td>1564066242</td>\n",
       "      <td>246</td>\n",
       "    </tr>\n",
       "    <tr>\n",
       "      <th>7</th>\n",
       "      <td>MainScreenAppear</td>\n",
       "      <td>5682100281902512875</td>\n",
       "      <td>1564085677</td>\n",
       "      <td>246</td>\n",
       "    </tr>\n",
       "    <tr>\n",
       "      <th>8</th>\n",
       "      <td>MainScreenAppear</td>\n",
       "      <td>1850981295691852772</td>\n",
       "      <td>1564086702</td>\n",
       "      <td>247</td>\n",
       "    </tr>\n",
       "    <tr>\n",
       "      <th>9</th>\n",
       "      <td>MainScreenAppear</td>\n",
       "      <td>5407636962369102641</td>\n",
       "      <td>1564112112</td>\n",
       "      <td>246</td>\n",
       "    </tr>\n",
       "    <tr>\n",
       "      <th>10</th>\n",
       "      <td>MainScreenAppear</td>\n",
       "      <td>948465712512390382</td>\n",
       "      <td>1564119214</td>\n",
       "      <td>247</td>\n",
       "    </tr>\n",
       "    <tr>\n",
       "      <th>11</th>\n",
       "      <td>MainScreenAppear</td>\n",
       "      <td>2547684315586332355</td>\n",
       "      <td>1564123826</td>\n",
       "      <td>248</td>\n",
       "    </tr>\n",
       "    <tr>\n",
       "      <th>12</th>\n",
       "      <td>MainScreenAppear</td>\n",
       "      <td>8885295911290764495</td>\n",
       "      <td>1564124085</td>\n",
       "      <td>248</td>\n",
       "    </tr>\n",
       "    <tr>\n",
       "      <th>13</th>\n",
       "      <td>MainScreenAppear</td>\n",
       "      <td>2140904690380565988</td>\n",
       "      <td>1564125732</td>\n",
       "      <td>247</td>\n",
       "    </tr>\n",
       "    <tr>\n",
       "      <th>14</th>\n",
       "      <td>MainScreenAppear</td>\n",
       "      <td>4444236400320272864</td>\n",
       "      <td>1564135560</td>\n",
       "      <td>246</td>\n",
       "    </tr>\n",
       "    <tr>\n",
       "      <th>15</th>\n",
       "      <td>MainScreenAppear</td>\n",
       "      <td>8947220251154009657</td>\n",
       "      <td>1564140668</td>\n",
       "      <td>248</td>\n",
       "    </tr>\n",
       "    <tr>\n",
       "      <th>16</th>\n",
       "      <td>MainScreenAppear</td>\n",
       "      <td>5839517684026830712</td>\n",
       "      <td>1564141421</td>\n",
       "      <td>247</td>\n",
       "    </tr>\n",
       "    <tr>\n",
       "      <th>17</th>\n",
       "      <td>MainScreenAppear</td>\n",
       "      <td>7540130374989658208</td>\n",
       "      <td>1564144283</td>\n",
       "      <td>248</td>\n",
       "    </tr>\n",
       "    <tr>\n",
       "      <th>18</th>\n",
       "      <td>CartScreenAppear</td>\n",
       "      <td>2575393697599976818</td>\n",
       "      <td>1564148945</td>\n",
       "      <td>247</td>\n",
       "    </tr>\n",
       "    <tr>\n",
       "      <th>19</th>\n",
       "      <td>MainScreenAppear</td>\n",
       "      <td>4651149533106703820</td>\n",
       "      <td>1564149866</td>\n",
       "      <td>246</td>\n",
       "    </tr>\n",
       "  </tbody>\n",
       "</table>\n",
       "</div>"
      ],
      "text/plain": [
       "                  EventName         DeviceIDHash  EventTimestamp  ExpId\n",
       "0          MainScreenAppear  4575588528974610257      1564029816    246\n",
       "1          MainScreenAppear  7416695313311560658      1564053102    246\n",
       "2   PaymentScreenSuccessful  3518123091307005509      1564054127    248\n",
       "3          CartScreenAppear  3518123091307005509      1564054127    248\n",
       "4   PaymentScreenSuccessful  6217807653094995999      1564055322    248\n",
       "5          CartScreenAppear  6217807653094995999      1564055323    248\n",
       "6        OffersScreenAppear  8351860793733343758      1564066242    246\n",
       "7          MainScreenAppear  5682100281902512875      1564085677    246\n",
       "8          MainScreenAppear  1850981295691852772      1564086702    247\n",
       "9          MainScreenAppear  5407636962369102641      1564112112    246\n",
       "10         MainScreenAppear   948465712512390382      1564119214    247\n",
       "11         MainScreenAppear  2547684315586332355      1564123826    248\n",
       "12         MainScreenAppear  8885295911290764495      1564124085    248\n",
       "13         MainScreenAppear  2140904690380565988      1564125732    247\n",
       "14         MainScreenAppear  4444236400320272864      1564135560    246\n",
       "15         MainScreenAppear  8947220251154009657      1564140668    248\n",
       "16         MainScreenAppear  5839517684026830712      1564141421    247\n",
       "17         MainScreenAppear  7540130374989658208      1564144283    248\n",
       "18         CartScreenAppear  2575393697599976818      1564148945    247\n",
       "19         MainScreenAppear  4651149533106703820      1564149866    246"
      ]
     },
     "metadata": {},
     "output_type": "display_data"
    },
    {
     "name": "stdout",
     "output_type": "stream",
     "text": [
      "-----\n",
      "Информация о типах данных\n",
      "<class 'pandas.core.frame.DataFrame'>\n",
      "RangeIndex: 244126 entries, 0 to 244125\n",
      "Data columns (total 4 columns):\n",
      " #   Column          Non-Null Count   Dtype \n",
      "---  ------          --------------   ----- \n",
      " 0   EventName       244126 non-null  object\n",
      " 1   DeviceIDHash    244126 non-null  int64 \n",
      " 2   EventTimestamp  244126 non-null  int64 \n",
      " 3   ExpId           244126 non-null  int64 \n",
      "dtypes: int64(3), object(1)\n",
      "memory usage: 7.5+ MB\n",
      "-----\n",
      "Название: EventName \n",
      "Пропусков:\t 0 Процент пропусков:\t 0\n",
      "Название: DeviceIDHash \n",
      "Пропусков:\t 0 Процент пропусков:\t 0\n",
      "Название: EventTimestamp \n",
      "Пропусков:\t 0 Процент пропусков:\t 0\n",
      "Название: ExpId \n",
      "Пропусков:\t 0 Процент пропусков:\t 0\n",
      "-----\n",
      "Явных дубликатов\n",
      "413\n"
     ]
    }
   ],
   "source": [
    "show_data(logo)"
   ]
  },
  {
   "cell_type": "code",
   "execution_count": 6,
   "id": "ee90d27e",
   "metadata": {},
   "outputs": [
    {
     "data": {
      "text/plain": [
       "248    85747\n",
       "246    80304\n",
       "247    78075\n",
       "Name: ExpId, dtype: int64"
      ]
     },
     "execution_count": 6,
     "metadata": {},
     "output_type": "execute_result"
    }
   ],
   "source": [
    "logo['ExpId'].value_counts()"
   ]
  },
  {
   "cell_type": "markdown",
   "id": "92525676",
   "metadata": {},
   "source": [
    "В каждой группе почти равное количество пользователей."
   ]
  },
  {
   "cell_type": "markdown",
   "id": "ba6a87ff",
   "metadata": {},
   "source": [
    "<b>Краткий вывод: </b>В ходе предварительного просмотра данных пропусков не обнаружено, были обнаружены явные дубликаты (413), которые будут удалены на следующем этапе исследования. В каждой группе почти равное количество участников."
   ]
  },
  {
   "cell_type": "markdown",
   "id": "d1252bd1",
   "metadata": {},
   "source": [
    "### 2. Предобработка данных"
   ]
  },
  {
   "cell_type": "markdown",
   "id": "bb2d7e2b",
   "metadata": {},
   "source": [
    "<u><b>Удаление явных дубликатов"
   ]
  },
  {
   "cell_type": "code",
   "execution_count": 7,
   "id": "81005423",
   "metadata": {},
   "outputs": [
    {
     "data": {
      "text/plain": [
       "0"
      ]
     },
     "execution_count": 7,
     "metadata": {},
     "output_type": "execute_result"
    }
   ],
   "source": [
    "logo = logo.drop_duplicates().reset_index(drop=True)\n",
    "logo.duplicated().sum()"
   ]
  },
  {
   "cell_type": "markdown",
   "id": "5b7c9eec",
   "metadata": {},
   "source": [
    "<u><b>Привидение наименования столбцов в \"змеиный\" формат"
   ]
  },
  {
   "cell_type": "code",
   "execution_count": 8,
   "id": "f9782e5f",
   "metadata": {},
   "outputs": [
    {
     "data": {
      "text/plain": [
       "Index(['event_name', 'device_id', 'event_time_stamp', 'group_id'], dtype='object')"
      ]
     },
     "execution_count": 8,
     "metadata": {},
     "output_type": "execute_result"
    }
   ],
   "source": [
    "logo.rename(columns={'EventName':'event_name', 'DeviceIDHash':'device_id', 'EventTimestamp':'event_time_stamp', 'ExpId':'group_id'}, inplace=True)\n",
    "logo.columns"
   ]
  },
  {
   "cell_type": "markdown",
   "id": "3c1ba3a2",
   "metadata": {},
   "source": [
    "<u><b> Преобразование типов данных"
   ]
  },
  {
   "cell_type": "markdown",
   "id": "de5b3764",
   "metadata": {},
   "source": [
    "Выделим из столбца `event_time_stamp` дату и время, а также отдельно дату."
   ]
  },
  {
   "cell_type": "code",
   "execution_count": 9,
   "id": "8a332d8b",
   "metadata": {},
   "outputs": [
    {
     "data": {
      "text/html": [
       "<div>\n",
       "<style scoped>\n",
       "    .dataframe tbody tr th:only-of-type {\n",
       "        vertical-align: middle;\n",
       "    }\n",
       "\n",
       "    .dataframe tbody tr th {\n",
       "        vertical-align: top;\n",
       "    }\n",
       "\n",
       "    .dataframe thead th {\n",
       "        text-align: right;\n",
       "    }\n",
       "</style>\n",
       "<table border=\"1\" class=\"dataframe\">\n",
       "  <thead>\n",
       "    <tr style=\"text-align: right;\">\n",
       "      <th></th>\n",
       "      <th>event_name</th>\n",
       "      <th>device_id</th>\n",
       "      <th>event_time_stamp</th>\n",
       "      <th>group_id</th>\n",
       "      <th>date_time</th>\n",
       "      <th>date</th>\n",
       "    </tr>\n",
       "  </thead>\n",
       "  <tbody>\n",
       "    <tr>\n",
       "      <th>0</th>\n",
       "      <td>MainScreenAppear</td>\n",
       "      <td>4575588528974610257</td>\n",
       "      <td>1564029816</td>\n",
       "      <td>246</td>\n",
       "      <td>2019-07-25 04:43:36</td>\n",
       "      <td>2019-07-25</td>\n",
       "    </tr>\n",
       "    <tr>\n",
       "      <th>1</th>\n",
       "      <td>MainScreenAppear</td>\n",
       "      <td>7416695313311560658</td>\n",
       "      <td>1564053102</td>\n",
       "      <td>246</td>\n",
       "      <td>2019-07-25 11:11:42</td>\n",
       "      <td>2019-07-25</td>\n",
       "    </tr>\n",
       "    <tr>\n",
       "      <th>2</th>\n",
       "      <td>PaymentScreenSuccessful</td>\n",
       "      <td>3518123091307005509</td>\n",
       "      <td>1564054127</td>\n",
       "      <td>248</td>\n",
       "      <td>2019-07-25 11:28:47</td>\n",
       "      <td>2019-07-25</td>\n",
       "    </tr>\n",
       "    <tr>\n",
       "      <th>3</th>\n",
       "      <td>CartScreenAppear</td>\n",
       "      <td>3518123091307005509</td>\n",
       "      <td>1564054127</td>\n",
       "      <td>248</td>\n",
       "      <td>2019-07-25 11:28:47</td>\n",
       "      <td>2019-07-25</td>\n",
       "    </tr>\n",
       "    <tr>\n",
       "      <th>4</th>\n",
       "      <td>PaymentScreenSuccessful</td>\n",
       "      <td>6217807653094995999</td>\n",
       "      <td>1564055322</td>\n",
       "      <td>248</td>\n",
       "      <td>2019-07-25 11:48:42</td>\n",
       "      <td>2019-07-25</td>\n",
       "    </tr>\n",
       "  </tbody>\n",
       "</table>\n",
       "</div>"
      ],
      "text/plain": [
       "                event_name            device_id  event_time_stamp  group_id  \\\n",
       "0         MainScreenAppear  4575588528974610257        1564029816       246   \n",
       "1         MainScreenAppear  7416695313311560658        1564053102       246   \n",
       "2  PaymentScreenSuccessful  3518123091307005509        1564054127       248   \n",
       "3         CartScreenAppear  3518123091307005509        1564054127       248   \n",
       "4  PaymentScreenSuccessful  6217807653094995999        1564055322       248   \n",
       "\n",
       "            date_time        date  \n",
       "0 2019-07-25 04:43:36  2019-07-25  \n",
       "1 2019-07-25 11:11:42  2019-07-25  \n",
       "2 2019-07-25 11:28:47  2019-07-25  \n",
       "3 2019-07-25 11:28:47  2019-07-25  \n",
       "4 2019-07-25 11:48:42  2019-07-25  "
      ]
     },
     "execution_count": 9,
     "metadata": {},
     "output_type": "execute_result"
    }
   ],
   "source": [
    "logo['date_time'] = pd.to_datetime(logo['event_time_stamp'], unit='s') \n",
    "logo['date'] = logo['date_time'].dt.date\n",
    "logo.head()"
   ]
  },
  {
   "cell_type": "markdown",
   "id": "d3049f0b",
   "metadata": {},
   "source": [
    "<div style=\"text-align: justify \">\n",
    "<b>Вывод: </b> В ходе ознакомления и предобработки данных стало известно, что имеется массив данных <b>logs_exp</b>, который содержит данные о названии события, уникальном идентификаторе пользователя, времени события и номер группы эксперимента: 246 и 247 — контрольные группы, а 248 — экспериментальная. Из столбца <b>event_time_stamp</b> были выделены дата и время, а также просто дата. Для \"красоты\" отображения наименования столбцов переведено в \"змеиный\" формат. В ходе предварительного просмотра данных пропусков не обнаружено, были обнаружены и удалены 413 явных дубликата. Каждая группа содержит почти равное количество участников."
   ]
  },
  {
   "cell_type": "markdown",
   "id": "6f46108f",
   "metadata": {},
   "source": [
    "### 3. Исследовательский анализ данных"
   ]
  },
  {
   "cell_type": "markdown",
   "id": "095814e8",
   "metadata": {},
   "source": [
    "<u><b> Количество событий в логе"
   ]
  },
  {
   "cell_type": "code",
   "execution_count": 10,
   "id": "009b37b1",
   "metadata": {},
   "outputs": [
    {
     "name": "stdout",
     "output_type": "stream",
     "text": [
      "Всего 243713 событий в логе\n",
      "Всего 5 уникальных событий в логе\n"
     ]
    },
    {
     "data": {
      "text/html": [
       "<div>\n",
       "<style scoped>\n",
       "    .dataframe tbody tr th:only-of-type {\n",
       "        vertical-align: middle;\n",
       "    }\n",
       "\n",
       "    .dataframe tbody tr th {\n",
       "        vertical-align: top;\n",
       "    }\n",
       "\n",
       "    .dataframe thead th {\n",
       "        text-align: right;\n",
       "    }\n",
       "</style>\n",
       "<table border=\"1\" class=\"dataframe\">\n",
       "  <thead>\n",
       "    <tr style=\"text-align: right;\">\n",
       "      <th></th>\n",
       "      <th>index</th>\n",
       "      <th>event_name</th>\n",
       "    </tr>\n",
       "  </thead>\n",
       "  <tbody>\n",
       "    <tr>\n",
       "      <th>0</th>\n",
       "      <td>MainScreenAppear</td>\n",
       "      <td>119101</td>\n",
       "    </tr>\n",
       "    <tr>\n",
       "      <th>1</th>\n",
       "      <td>OffersScreenAppear</td>\n",
       "      <td>46808</td>\n",
       "    </tr>\n",
       "    <tr>\n",
       "      <th>2</th>\n",
       "      <td>CartScreenAppear</td>\n",
       "      <td>42668</td>\n",
       "    </tr>\n",
       "    <tr>\n",
       "      <th>3</th>\n",
       "      <td>PaymentScreenSuccessful</td>\n",
       "      <td>34118</td>\n",
       "    </tr>\n",
       "    <tr>\n",
       "      <th>4</th>\n",
       "      <td>Tutorial</td>\n",
       "      <td>1018</td>\n",
       "    </tr>\n",
       "  </tbody>\n",
       "</table>\n",
       "</div>"
      ],
      "text/plain": [
       "                     index  event_name\n",
       "0         MainScreenAppear      119101\n",
       "1       OffersScreenAppear       46808\n",
       "2         CartScreenAppear       42668\n",
       "3  PaymentScreenSuccessful       34118\n",
       "4                 Tutorial        1018"
      ]
     },
     "execution_count": 10,
     "metadata": {},
     "output_type": "execute_result"
    }
   ],
   "source": [
    "print('Всего', logo['event_name'].count(), 'событий в логе')\n",
    "print('Всего', len(logo['event_name'].unique()), 'уникальных событий в логе')\n",
    "logo['event_name'].value_counts().reset_index()"
   ]
  },
  {
   "cell_type": "markdown",
   "id": "71b22a86",
   "metadata": {},
   "source": [
    "<b>Краткий вывод: </b>Всего в логе 243 713 события пяти различных типов. Больше всего событий \"главный экран\" (119 101), меньше всего \"обучения\" (1018)."
   ]
  },
  {
   "cell_type": "markdown",
   "id": "cffc3d0c",
   "metadata": {},
   "source": [
    "<u><b> Количество пользователей в логе"
   ]
  },
  {
   "cell_type": "code",
   "execution_count": 11,
   "id": "c61b499d",
   "metadata": {},
   "outputs": [
    {
     "name": "stdout",
     "output_type": "stream",
     "text": [
      "Всего 7551 пользователей в логе\n"
     ]
    }
   ],
   "source": [
    "print('Всего', len(logo['device_id'].unique()), 'пользователей в логе')"
   ]
  },
  {
   "cell_type": "markdown",
   "id": "f30a804b",
   "metadata": {},
   "source": [
    "<u><b> Среднее количество событий на одного пользователя"
   ]
  },
  {
   "cell_type": "code",
   "execution_count": 12,
   "id": "805c7433",
   "metadata": {},
   "outputs": [
    {
     "name": "stdout",
     "output_type": "stream",
     "text": [
      "В среднем на одного пользователя приходится 32 события.\n"
     ]
    }
   ],
   "source": [
    "print('В среднем на одного пользователя приходится', int(len(logo) / len(logo['device_id'].unique())), 'события.')"
   ]
  },
  {
   "cell_type": "code",
   "execution_count": 13,
   "id": "14e7e0bc",
   "metadata": {},
   "outputs": [
    {
     "data": {
      "text/plain": [
       "count    7551.000000\n",
       "mean       32.275593\n",
       "std        65.154219\n",
       "min         1.000000\n",
       "25%         9.000000\n",
       "50%        20.000000\n",
       "75%        37.000000\n",
       "max      2307.000000\n",
       "Name: event_name, dtype: float64"
      ]
     },
     "execution_count": 13,
     "metadata": {},
     "output_type": "execute_result"
    }
   ],
   "source": [
    "event_per_user = logo.groupby('device_id')['event_name'].count()\n",
    "event_per_user.describe()"
   ]
  },
  {
   "cell_type": "code",
   "execution_count": 14,
   "id": "1c38f7a1",
   "metadata": {},
   "outputs": [
    {
     "data": {
      "image/png": "[encoded data removed]",
      "text/plain": [
       "<Figure size 1080x504 with 1 Axes>"
      ]
     },
     "metadata": {
      "needs_background": "light"
     },
     "output_type": "display_data"
    }
   ],
   "source": [
    "plt.figure(figsize=(15, 7))\n",
    "plt.hist(event_per_user, bins=100, range=(150,2300), edgecolor='black') \n",
    "plt.xlabel('Количество пользователей', fontsize = 14)\n",
    "plt.ylabel('Количество событий', fontsize = 14)\n",
    "plt.title('Среднее количество событий на одного пользователя', fontsize = 16);"
   ]
  },
  {
   "cell_type": "markdown",
   "id": "2c8010cb",
   "metadata": {},
   "source": [
    "<b>Краткий вывод: </b> В среднем на одного пользователя приходится 32 события. Интересен факт, что максимальным числом действия на одного пользователя было 2 307 событий."
   ]
  },
  {
   "cell_type": "markdown",
   "id": "6d4a705b",
   "metadata": {},
   "source": [
    "<u><b> Временной период анализа данных"
   ]
  },
  {
   "cell_type": "code",
   "execution_count": 15,
   "id": "7254a020",
   "metadata": {},
   "outputs": [
    {
     "name": "stdout",
     "output_type": "stream",
     "text": [
      "Старт исследования:  2019-07-25 04:43:36\n",
      "Конец исследования:  2019-08-07 21:15:17\n",
      "Период исследования:  13 days 16:31:41\n"
     ]
    }
   ],
   "source": [
    "print('Старт исследования: ', logo['date_time'].min())\n",
    "print('Конец исследования: ', logo['date_time'].max())\n",
    "print('Период исследования: ', logo['date_time'].max() - logo['date_time'].min())"
   ]
  },
  {
   "cell_type": "markdown",
   "id": "64ba51dc",
   "metadata": {},
   "source": [
    "Для исследования предоставлены данные почти за 14 дней. Исследование стартовало 25 июня 2019г. и закончилось 7 августа 2019г."
   ]
  },
  {
   "cell_type": "code",
   "execution_count": 16,
   "id": "c7857863",
   "metadata": {},
   "outputs": [
    {
     "data": {
      "image/png": "[encoded data removed]",
      "text/plain": [
       "<Figure size 1080x504 with 1 Axes>"
      ]
     },
     "metadata": {
      "needs_background": "light"
     },
     "output_type": "display_data"
    }
   ],
   "source": [
    "plt.figure(figsize =(15, 7))\n",
    "logo['date'].hist(bins=14, edgecolor='black')                \n",
    "plt.title('Распределение событий по дате', fontsize = 16)\n",
    "plt.xticks(rotation=90)\n",
    "plt.xlabel('Дата', fontsize = 14)\n",
    "plt.ylabel('Количество событий', fontsize = 14)\n",
    "plt.grid();"
   ]
  },
  {
   "cell_type": "markdown",
   "id": "7781d293",
   "metadata": {},
   "source": [
    "Как видно из гистограммы, с 1 августа 2019г. наблюдается резкий всплеск событий, который сохраняется до конца исследования. Возможно это связано с донастройкой параметров теста. Отсечем неполные данные из нашего анализа."
   ]
  },
  {
   "cell_type": "code",
   "execution_count": 17,
   "id": "dbde593d",
   "metadata": {},
   "outputs": [
    {
     "data": {
      "text/html": [
       "<div>\n",
       "<style scoped>\n",
       "    .dataframe tbody tr th:only-of-type {\n",
       "        vertical-align: middle;\n",
       "    }\n",
       "\n",
       "    .dataframe tbody tr th {\n",
       "        vertical-align: top;\n",
       "    }\n",
       "\n",
       "    .dataframe thead th {\n",
       "        text-align: right;\n",
       "    }\n",
       "</style>\n",
       "<table border=\"1\" class=\"dataframe\">\n",
       "  <thead>\n",
       "    <tr style=\"text-align: right;\">\n",
       "      <th></th>\n",
       "      <th>event_name</th>\n",
       "      <th>device_id</th>\n",
       "      <th>event_time_stamp</th>\n",
       "      <th>group_id</th>\n",
       "      <th>date_time</th>\n",
       "      <th>date</th>\n",
       "    </tr>\n",
       "  </thead>\n",
       "  <tbody>\n",
       "    <tr>\n",
       "      <th>2826</th>\n",
       "      <td>Tutorial</td>\n",
       "      <td>3737462046622621720</td>\n",
       "      <td>1564618048</td>\n",
       "      <td>246</td>\n",
       "      <td>2019-08-01 00:07:28</td>\n",
       "      <td>2019-08-01</td>\n",
       "    </tr>\n",
       "    <tr>\n",
       "      <th>2827</th>\n",
       "      <td>MainScreenAppear</td>\n",
       "      <td>3737462046622621720</td>\n",
       "      <td>1564618080</td>\n",
       "      <td>246</td>\n",
       "      <td>2019-08-01 00:08:00</td>\n",
       "      <td>2019-08-01</td>\n",
       "    </tr>\n",
       "    <tr>\n",
       "      <th>2828</th>\n",
       "      <td>MainScreenAppear</td>\n",
       "      <td>3737462046622621720</td>\n",
       "      <td>1564618135</td>\n",
       "      <td>246</td>\n",
       "      <td>2019-08-01 00:08:55</td>\n",
       "      <td>2019-08-01</td>\n",
       "    </tr>\n",
       "    <tr>\n",
       "      <th>2829</th>\n",
       "      <td>OffersScreenAppear</td>\n",
       "      <td>3737462046622621720</td>\n",
       "      <td>1564618138</td>\n",
       "      <td>246</td>\n",
       "      <td>2019-08-01 00:08:58</td>\n",
       "      <td>2019-08-01</td>\n",
       "    </tr>\n",
       "    <tr>\n",
       "      <th>2830</th>\n",
       "      <td>MainScreenAppear</td>\n",
       "      <td>1433840883824088890</td>\n",
       "      <td>1564618139</td>\n",
       "      <td>247</td>\n",
       "      <td>2019-08-01 00:08:59</td>\n",
       "      <td>2019-08-01</td>\n",
       "    </tr>\n",
       "    <tr>\n",
       "      <th>...</th>\n",
       "      <td>...</td>\n",
       "      <td>...</td>\n",
       "      <td>...</td>\n",
       "      <td>...</td>\n",
       "      <td>...</td>\n",
       "      <td>...</td>\n",
       "    </tr>\n",
       "    <tr>\n",
       "      <th>243708</th>\n",
       "      <td>MainScreenAppear</td>\n",
       "      <td>4599628364049201812</td>\n",
       "      <td>1565212345</td>\n",
       "      <td>247</td>\n",
       "      <td>2019-08-07 21:12:25</td>\n",
       "      <td>2019-08-07</td>\n",
       "    </tr>\n",
       "    <tr>\n",
       "      <th>243709</th>\n",
       "      <td>MainScreenAppear</td>\n",
       "      <td>5849806612437486590</td>\n",
       "      <td>1565212439</td>\n",
       "      <td>246</td>\n",
       "      <td>2019-08-07 21:13:59</td>\n",
       "      <td>2019-08-07</td>\n",
       "    </tr>\n",
       "    <tr>\n",
       "      <th>243710</th>\n",
       "      <td>MainScreenAppear</td>\n",
       "      <td>5746969938801999050</td>\n",
       "      <td>1565212483</td>\n",
       "      <td>246</td>\n",
       "      <td>2019-08-07 21:14:43</td>\n",
       "      <td>2019-08-07</td>\n",
       "    </tr>\n",
       "    <tr>\n",
       "      <th>243711</th>\n",
       "      <td>MainScreenAppear</td>\n",
       "      <td>5746969938801999050</td>\n",
       "      <td>1565212498</td>\n",
       "      <td>246</td>\n",
       "      <td>2019-08-07 21:14:58</td>\n",
       "      <td>2019-08-07</td>\n",
       "    </tr>\n",
       "    <tr>\n",
       "      <th>243712</th>\n",
       "      <td>OffersScreenAppear</td>\n",
       "      <td>5746969938801999050</td>\n",
       "      <td>1565212517</td>\n",
       "      <td>246</td>\n",
       "      <td>2019-08-07 21:15:17</td>\n",
       "      <td>2019-08-07</td>\n",
       "    </tr>\n",
       "  </tbody>\n",
       "</table>\n",
       "<p>240887 rows × 6 columns</p>\n",
       "</div>"
      ],
      "text/plain": [
       "                event_name            device_id  event_time_stamp  group_id  \\\n",
       "2826              Tutorial  3737462046622621720        1564618048       246   \n",
       "2827      MainScreenAppear  3737462046622621720        1564618080       246   \n",
       "2828      MainScreenAppear  3737462046622621720        1564618135       246   \n",
       "2829    OffersScreenAppear  3737462046622621720        1564618138       246   \n",
       "2830      MainScreenAppear  1433840883824088890        1564618139       247   \n",
       "...                    ...                  ...               ...       ...   \n",
       "243708    MainScreenAppear  4599628364049201812        1565212345       247   \n",
       "243709    MainScreenAppear  5849806612437486590        1565212439       246   \n",
       "243710    MainScreenAppear  5746969938801999050        1565212483       246   \n",
       "243711    MainScreenAppear  5746969938801999050        1565212498       246   \n",
       "243712  OffersScreenAppear  5746969938801999050        1565212517       246   \n",
       "\n",
       "                 date_time        date  \n",
       "2826   2019-08-01 00:07:28  2019-08-01  \n",
       "2827   2019-08-01 00:08:00  2019-08-01  \n",
       "2828   2019-08-01 00:08:55  2019-08-01  \n",
       "2829   2019-08-01 00:08:58  2019-08-01  \n",
       "2830   2019-08-01 00:08:59  2019-08-01  \n",
       "...                    ...         ...  \n",
       "243708 2019-08-07 21:12:25  2019-08-07  \n",
       "243709 2019-08-07 21:13:59  2019-08-07  \n",
       "243710 2019-08-07 21:14:43  2019-08-07  \n",
       "243711 2019-08-07 21:14:58  2019-08-07  \n",
       "243712 2019-08-07 21:15:17  2019-08-07  \n",
       "\n",
       "[240887 rows x 6 columns]"
      ]
     },
     "execution_count": 17,
     "metadata": {},
     "output_type": "execute_result"
    }
   ],
   "source": [
    "start_date = pd.to_datetime('2019-08-01', format = '%Y-%m-%d')\n",
    "logo_filt = logo[logo['date_time'] >= start_date]\n",
    "logo_filt"
   ]
  },
  {
   "cell_type": "code",
   "execution_count": 18,
   "id": "1d5fdcff",
   "metadata": {},
   "outputs": [
    {
     "data": {
      "image/png": "[encoded data removed]",
      "text/plain": [
       "<Figure size 1080x504 with 1 Axes>"
      ]
     },
     "metadata": {
      "needs_background": "light"
     },
     "output_type": "display_data"
    }
   ],
   "source": [
    "# распределение событий по дате и времени\n",
    "plt.figure(figsize =(15, 7))\n",
    "logo_filt['date_time'].hist(bins=168, edgecolor='black')\n",
    "plt.title('Распределение событий по дате и времени', fontsize = 16)\n",
    "plt.ylabel(\"Дата\", fontsize = 14)\n",
    "plt.ylabel(\"Количество событий\", fontsize = 14)\n",
    "plt.xticks(rotation=90)\n",
    "plt.grid();"
   ]
  },
  {
   "cell_type": "markdown",
   "id": "efddd072",
   "metadata": {},
   "source": [
    "<b>Краткий вывод: </b> Для анализа были предоставлены данные за 14 дней за период с 25 июля по 7 августа 2019 года. Однако наблюдается сильный рост событий с 1 августа. Для продолжения исследования возьмем период с 1 по 7 августа на 7 дней."
   ]
  },
  {
   "cell_type": "markdown",
   "id": "454e50e2",
   "metadata": {},
   "source": [
    "<u><b> Оценка процента \"потерянных\" данных после \"очистки\""
   ]
  },
  {
   "cell_type": "code",
   "execution_count": 19,
   "id": "30bf6d65",
   "metadata": {},
   "outputs": [
    {
     "name": "stdout",
     "output_type": "stream",
     "text": [
      "Количество \"потерянных\" пользователей: 17\n",
      "Процент \"потерянных\" пользователей: 0.23 %\n"
     ]
    }
   ],
   "source": [
    "# оцнка количества \"потерянных\" пользователей\n",
    "\n",
    "print('Количество \"потерянных\" пользователей:',logo['device_id'].nunique()-logo_filt['device_id'].nunique())\n",
    "print('Процент \"потерянных\" пользователей:', round(100-logo_filt['device_id'].nunique()/logo['device_id'].nunique()*100, 2), '%')"
   ]
  },
  {
   "cell_type": "code",
   "execution_count": 20,
   "id": "35e00ae2",
   "metadata": {},
   "outputs": [
    {
     "name": "stdout",
     "output_type": "stream",
     "text": [
      "Количество \"потерянных\" событий: 2826\n",
      "Процент \"потерянных\" событий: 1.16 %\n"
     ]
    }
   ],
   "source": [
    "# оцнка количества \"потерянных\" событий\n",
    "\n",
    "print('Количество \"потерянных\" событий:',len(logo)-len(logo_filt))\n",
    "print('Процент \"потерянных\" событий:', round(100-len(logo_filt)/len(logo)*100, 2), '%')"
   ]
  },
  {
   "cell_type": "markdown",
   "id": "2f230091",
   "metadata": {},
   "source": [
    "<b>Краткий вывод: </b> Всего из анализа было удалено 17 пользователей и 2 826 события. Процент \"потерянных\" данных чуть более 1%, что не скажется на резултьтах анализа. "
   ]
  },
  {
   "cell_type": "markdown",
   "id": "34ece52e",
   "metadata": {},
   "source": [
    "<u><b> Проверка пользователей по группам."
   ]
  },
  {
   "cell_type": "code",
   "execution_count": 21,
   "id": "cb9e024d",
   "metadata": {},
   "outputs": [
    {
     "data": {
      "text/html": [
       "<div>\n",
       "<style scoped>\n",
       "    .dataframe tbody tr th:only-of-type {\n",
       "        vertical-align: middle;\n",
       "    }\n",
       "\n",
       "    .dataframe tbody tr th {\n",
       "        vertical-align: top;\n",
       "    }\n",
       "\n",
       "    .dataframe thead th {\n",
       "        text-align: right;\n",
       "    }\n",
       "</style>\n",
       "<table border=\"1\" class=\"dataframe\">\n",
       "  <thead>\n",
       "    <tr style=\"text-align: right;\">\n",
       "      <th></th>\n",
       "      <th>index</th>\n",
       "      <th>group_id</th>\n",
       "    </tr>\n",
       "  </thead>\n",
       "  <tbody>\n",
       "    <tr>\n",
       "      <th>0</th>\n",
       "      <td>248</td>\n",
       "      <td>84563</td>\n",
       "    </tr>\n",
       "    <tr>\n",
       "      <th>1</th>\n",
       "      <td>246</td>\n",
       "      <td>79302</td>\n",
       "    </tr>\n",
       "    <tr>\n",
       "      <th>2</th>\n",
       "      <td>247</td>\n",
       "      <td>77022</td>\n",
       "    </tr>\n",
       "  </tbody>\n",
       "</table>\n",
       "</div>"
      ],
      "text/plain": [
       "   index  group_id\n",
       "0    248     84563\n",
       "1    246     79302\n",
       "2    247     77022"
      ]
     },
     "execution_count": 21,
     "metadata": {},
     "output_type": "execute_result"
    }
   ],
   "source": [
    "logo_filt['group_id'].value_counts().reset_index()"
   ]
  },
  {
   "cell_type": "markdown",
   "id": "db5f962d",
   "metadata": {},
   "source": [
    "<b>Краткий вывод: </b> После фильтрации данных, в каждой группе соотношение событий по группам сохранилось примерно тем же. "
   ]
  },
  {
   "cell_type": "markdown",
   "id": "2dcfc920",
   "metadata": {},
   "source": [
    "<div style=\"text-align: justify \">\n",
    "<b>Вывод: </b> Всего в логе пройдено 243 713 событий пяти разных типов. Больше всего событий \"главный экран\" (119 101), меньше всего \"обучения\" (1018). Всего в логе 7 551 пользователя, распределенных почти равномерно по трем группам. В среднем на одного пользователя приходится 32 события. Для анализа были предоставлены данные за 2 недели за период с 25 июля по 7 августа 2019 года. В ходе дополнительной проверки было определено, что полный набор информации начинается с 1 августа. Таким образом для исследования будет взят период в одну неделю, остальные данные будут откинуты.<br>\n",
    "В результате фильтрации данных из массива данных было удалено 17 пользователей и 2 826 события. Процент \"потерянных\" данных чуть более 1%, что не скажется на результатах анализа."
   ]
  },
  {
   "cell_type": "markdown",
   "id": "8cdcc7f9",
   "metadata": {},
   "source": [
    "### 4. Анализ воронки событий"
   ]
  },
  {
   "cell_type": "markdown",
   "id": "3aeee879",
   "metadata": {},
   "source": [
    "<u><b> Анализ событий в логах"
   ]
  },
  {
   "cell_type": "code",
   "execution_count": 22,
   "id": "486a732e",
   "metadata": {},
   "outputs": [
    {
     "data": {
      "text/html": [
       "<div>\n",
       "<style scoped>\n",
       "    .dataframe tbody tr th:only-of-type {\n",
       "        vertical-align: middle;\n",
       "    }\n",
       "\n",
       "    .dataframe tbody tr th {\n",
       "        vertical-align: top;\n",
       "    }\n",
       "\n",
       "    .dataframe thead th {\n",
       "        text-align: right;\n",
       "    }\n",
       "</style>\n",
       "<table border=\"1\" class=\"dataframe\">\n",
       "  <thead>\n",
       "    <tr style=\"text-align: right;\">\n",
       "      <th></th>\n",
       "      <th>index</th>\n",
       "      <th>event_name</th>\n",
       "    </tr>\n",
       "  </thead>\n",
       "  <tbody>\n",
       "    <tr>\n",
       "      <th>0</th>\n",
       "      <td>MainScreenAppear</td>\n",
       "      <td>117328</td>\n",
       "    </tr>\n",
       "    <tr>\n",
       "      <th>1</th>\n",
       "      <td>OffersScreenAppear</td>\n",
       "      <td>46333</td>\n",
       "    </tr>\n",
       "    <tr>\n",
       "      <th>2</th>\n",
       "      <td>CartScreenAppear</td>\n",
       "      <td>42303</td>\n",
       "    </tr>\n",
       "    <tr>\n",
       "      <th>3</th>\n",
       "      <td>PaymentScreenSuccessful</td>\n",
       "      <td>33918</td>\n",
       "    </tr>\n",
       "    <tr>\n",
       "      <th>4</th>\n",
       "      <td>Tutorial</td>\n",
       "      <td>1005</td>\n",
       "    </tr>\n",
       "  </tbody>\n",
       "</table>\n",
       "</div>"
      ],
      "text/plain": [
       "                     index  event_name\n",
       "0         MainScreenAppear      117328\n",
       "1       OffersScreenAppear       46333\n",
       "2         CartScreenAppear       42303\n",
       "3  PaymentScreenSuccessful       33918\n",
       "4                 Tutorial        1005"
      ]
     },
     "execution_count": 22,
     "metadata": {},
     "output_type": "execute_result"
    }
   ],
   "source": [
    "# сортировка событий по количеству повторений\n",
    "filt_user_per_logs = logo_filt['event_name'].value_counts().reset_index()\n",
    "filt_user_per_logs"
   ]
  },
  {
   "cell_type": "markdown",
   "id": "79832b16",
   "metadata": {},
   "source": [
    "Всего 5 событий:\n",
    "\n",
    "<b>MainScreenAppear</b> - просмотр главного экрана<br>\n",
    "<b>OffersScreenAppear</b> - просмотр предложений<br>\n",
    "<b>CartScreenAppear</b> - просмотр корзины<br>\n",
    "<b>PaymentScreenSuccessful</b> - переход на страницу оплаты<br>\n",
    "<b>Tutorial</b> - просмотр обучающей информации"
   ]
  },
  {
   "cell_type": "markdown",
   "id": "575c67e6",
   "metadata": {},
   "source": [
    "<u><b> Анализ пользователей по количеству совершеннных событий в логах"
   ]
  },
  {
   "cell_type": "code",
   "execution_count": 23,
   "id": "d79fd440",
   "metadata": {},
   "outputs": [
    {
     "data": {
      "text/html": [
       "<div>\n",
       "<style scoped>\n",
       "    .dataframe tbody tr th:only-of-type {\n",
       "        vertical-align: middle;\n",
       "    }\n",
       "\n",
       "    .dataframe tbody tr th {\n",
       "        vertical-align: top;\n",
       "    }\n",
       "\n",
       "    .dataframe thead th {\n",
       "        text-align: right;\n",
       "    }\n",
       "</style>\n",
       "<table border=\"1\" class=\"dataframe\">\n",
       "  <thead>\n",
       "    <tr style=\"text-align: right;\">\n",
       "      <th></th>\n",
       "      <th>event_name</th>\n",
       "      <th>device_id</th>\n",
       "    </tr>\n",
       "  </thead>\n",
       "  <tbody>\n",
       "    <tr>\n",
       "      <th>0</th>\n",
       "      <td>MainScreenAppear</td>\n",
       "      <td>7419</td>\n",
       "    </tr>\n",
       "    <tr>\n",
       "      <th>1</th>\n",
       "      <td>OffersScreenAppear</td>\n",
       "      <td>4593</td>\n",
       "    </tr>\n",
       "    <tr>\n",
       "      <th>2</th>\n",
       "      <td>CartScreenAppear</td>\n",
       "      <td>3734</td>\n",
       "    </tr>\n",
       "    <tr>\n",
       "      <th>3</th>\n",
       "      <td>PaymentScreenSuccessful</td>\n",
       "      <td>3539</td>\n",
       "    </tr>\n",
       "    <tr>\n",
       "      <th>4</th>\n",
       "      <td>Tutorial</td>\n",
       "      <td>840</td>\n",
       "    </tr>\n",
       "  </tbody>\n",
       "</table>\n",
       "</div>"
      ],
      "text/plain": [
       "                event_name  device_id\n",
       "0         MainScreenAppear       7419\n",
       "1       OffersScreenAppear       4593\n",
       "2         CartScreenAppear       3734\n",
       "3  PaymentScreenSuccessful       3539\n",
       "4                 Tutorial        840"
      ]
     },
     "execution_count": 23,
     "metadata": {},
     "output_type": "execute_result"
    }
   ],
   "source": [
    "# сортировка пользователей по количеству повторений\n",
    "filt_user_per_event = logo_filt.groupby('event_name')['device_id'].nunique().sort_values(ascending=False).to_frame().reset_index()\n",
    "filt_user_per_event"
   ]
  },
  {
   "cell_type": "code",
   "execution_count": 24,
   "id": "69e837fe",
   "metadata": {},
   "outputs": [
    {
     "data": {
      "text/html": [
       "<style  type=\"text/css\" >\n",
       "#T_cf601_row0_col1,#T_cf601_row0_col2{\n",
       "            background-color:  #b40426;\n",
       "            color:  #f1f1f1;\n",
       "        }#T_cf601_row1_col1,#T_cf601_row1_col2{\n",
       "            background-color:  #edd1c2;\n",
       "            color:  #000000;\n",
       "        }#T_cf601_row2_col1,#T_cf601_row2_col2{\n",
       "            background-color:  #ccd9ed;\n",
       "            color:  #000000;\n",
       "        }#T_cf601_row3_col1,#T_cf601_row3_col2{\n",
       "            background-color:  #c4d5f3;\n",
       "            color:  #000000;\n",
       "        }#T_cf601_row4_col1,#T_cf601_row4_col2{\n",
       "            background-color:  #3b4cc0;\n",
       "            color:  #f1f1f1;\n",
       "        }</style><table id=\"T_cf601_\" ><thead>    <tr>        <th class=\"blank level0\" ></th>        <th class=\"col_heading level0 col0\" >event_name</th>        <th class=\"col_heading level0 col1\" >device_id</th>        <th class=\"col_heading level0 col2\" >percent</th>    </tr></thead><tbody>\n",
       "                <tr>\n",
       "                        <th id=\"T_cf601_level0_row0\" class=\"row_heading level0 row0\" >0</th>\n",
       "                        <td id=\"T_cf601_row0_col0\" class=\"data row0 col0\" >MainScreenAppear</td>\n",
       "                        <td id=\"T_cf601_row0_col1\" class=\"data row0 col1\" >7419</td>\n",
       "                        <td id=\"T_cf601_row0_col2\" class=\"data row0 col2\" >98.473586</td>\n",
       "            </tr>\n",
       "            <tr>\n",
       "                        <th id=\"T_cf601_level0_row1\" class=\"row_heading level0 row1\" >1</th>\n",
       "                        <td id=\"T_cf601_row1_col0\" class=\"data row1 col0\" >OffersScreenAppear</td>\n",
       "                        <td id=\"T_cf601_row1_col1\" class=\"data row1 col1\" >4593</td>\n",
       "                        <td id=\"T_cf601_row1_col2\" class=\"data row1 col2\" >60.963632</td>\n",
       "            </tr>\n",
       "            <tr>\n",
       "                        <th id=\"T_cf601_level0_row2\" class=\"row_heading level0 row2\" >2</th>\n",
       "                        <td id=\"T_cf601_row2_col0\" class=\"data row2 col0\" >CartScreenAppear</td>\n",
       "                        <td id=\"T_cf601_row2_col1\" class=\"data row2 col1\" >3734</td>\n",
       "                        <td id=\"T_cf601_row2_col2\" class=\"data row2 col2\" >49.561986</td>\n",
       "            </tr>\n",
       "            <tr>\n",
       "                        <th id=\"T_cf601_level0_row3\" class=\"row_heading level0 row3\" >3</th>\n",
       "                        <td id=\"T_cf601_row3_col0\" class=\"data row3 col0\" >PaymentScreenSuccessful</td>\n",
       "                        <td id=\"T_cf601_row3_col1\" class=\"data row3 col1\" >3539</td>\n",
       "                        <td id=\"T_cf601_row3_col2\" class=\"data row3 col2\" >46.973719</td>\n",
       "            </tr>\n",
       "            <tr>\n",
       "                        <th id=\"T_cf601_level0_row4\" class=\"row_heading level0 row4\" >4</th>\n",
       "                        <td id=\"T_cf601_row4_col0\" class=\"data row4 col0\" >Tutorial</td>\n",
       "                        <td id=\"T_cf601_row4_col1\" class=\"data row4 col1\" >840</td>\n",
       "                        <td id=\"T_cf601_row4_col2\" class=\"data row4 col2\" >11.149456</td>\n",
       "            </tr>\n",
       "    </tbody></table>"
      ],
      "text/plain": [
       "<pandas.io.formats.style.Styler at 0x7f4904adfe80>"
      ]
     },
     "execution_count": 24,
     "metadata": {},
     "output_type": "execute_result"
    }
   ],
   "source": [
    "# подсчет процентов пройденных событий пользователями\n",
    "filt_user_per_event['percent'] = (filt_user_per_event['device_id'] / logo_filt['device_id'].nunique()) * 100 \n",
    "filt_user_per_event.style.background_gradient('coolwarm')"
   ]
  },
  {
   "cell_type": "markdown",
   "id": "2c88c39e",
   "metadata": {},
   "source": [
    "<b>Краткий вывод: </b> В логе присутствует 5 событий, самое популярное - просмотр главной страницы приложения (почти 99%). Самое непопулярное событие это обучающие материалы (около 11%). Можно предположить, что приложение довольно легкое в использовании и какого-либо обучения пользователям не требуется."
   ]
  },
  {
   "cell_type": "markdown",
   "id": "0f27c471",
   "metadata": {},
   "source": [
    "<u><b> Анализ порядка проведения событий"
   ]
  },
  {
   "cell_type": "markdown",
   "id": "f69654af",
   "metadata": {},
   "source": [
    "<div style=\"text-align: justify \">\n",
    "Из проведенного анализа наблюдается, что изначально пользователь заходит и просматривает главную/стартовую страницу, далее пользователь переходит на страницу с предложениями продукта. Затем просмотр корзины и переход на страницу оплаты. Стоит отметить, что процент пользователей, просмотревших корзину, и пользователей, перешедших на страницу оплаты, примерно равный - разница менее 3%. Также возможно, что просмотр туториала расположен сразу за просмотром стартовой страницу, несмотря на маленький процент. Небольшой процент просмотра возможно связан либо с возможностью его пропуска, либо с расположением его на стартовой странице. В любом случае просмотр туториала не является обязательным. Большинство пользователей в таком случае предпочитают пропустить данный этап. Для более конкретного вывода по данному вопросу необходимо просмотр приложения. "
   ]
  },
  {
   "cell_type": "markdown",
   "id": "8fd6cfee",
   "metadata": {},
   "source": [
    "<u><b> Расчет процент пользователей, перешедших на следующий этап"
   ]
  },
  {
   "cell_type": "markdown",
   "id": "5e49193f",
   "metadata": {},
   "source": [
    "Для более корректного анализа исключим события с просмотром обучающей информации, т.к. процент перешедших бользователей довольно низкий, что в свою очередь может исказить результаты анализа"
   ]
  },
  {
   "cell_type": "code",
   "execution_count": 25,
   "id": "f91938a6",
   "metadata": {},
   "outputs": [
    {
     "data": {
      "text/html": [
       "<div>\n",
       "<style scoped>\n",
       "    .dataframe tbody tr th:only-of-type {\n",
       "        vertical-align: middle;\n",
       "    }\n",
       "\n",
       "    .dataframe tbody tr th {\n",
       "        vertical-align: top;\n",
       "    }\n",
       "\n",
       "    .dataframe thead th {\n",
       "        text-align: right;\n",
       "    }\n",
       "</style>\n",
       "<table border=\"1\" class=\"dataframe\">\n",
       "  <thead>\n",
       "    <tr style=\"text-align: right;\">\n",
       "      <th></th>\n",
       "      <th>event_name</th>\n",
       "      <th>device_id</th>\n",
       "      <th>percent</th>\n",
       "    </tr>\n",
       "  </thead>\n",
       "  <tbody>\n",
       "    <tr>\n",
       "      <th>0</th>\n",
       "      <td>MainScreenAppear</td>\n",
       "      <td>7419</td>\n",
       "      <td>98.473586</td>\n",
       "    </tr>\n",
       "    <tr>\n",
       "      <th>1</th>\n",
       "      <td>OffersScreenAppear</td>\n",
       "      <td>4593</td>\n",
       "      <td>60.963632</td>\n",
       "    </tr>\n",
       "    <tr>\n",
       "      <th>2</th>\n",
       "      <td>CartScreenAppear</td>\n",
       "      <td>3734</td>\n",
       "      <td>49.561986</td>\n",
       "    </tr>\n",
       "    <tr>\n",
       "      <th>3</th>\n",
       "      <td>PaymentScreenSuccessful</td>\n",
       "      <td>3539</td>\n",
       "      <td>46.973719</td>\n",
       "    </tr>\n",
       "  </tbody>\n",
       "</table>\n",
       "</div>"
      ],
      "text/plain": [
       "                event_name  device_id    percent\n",
       "0         MainScreenAppear       7419  98.473586\n",
       "1       OffersScreenAppear       4593  60.963632\n",
       "2         CartScreenAppear       3734  49.561986\n",
       "3  PaymentScreenSuccessful       3539  46.973719"
      ]
     },
     "execution_count": 25,
     "metadata": {},
     "output_type": "execute_result"
    }
   ],
   "source": [
    "filt_user_per_event.drop([4], axis=0, inplace=True)\n",
    "filt_user_per_event"
   ]
  },
  {
   "cell_type": "code",
   "execution_count": 26,
   "id": "7522f7f9",
   "metadata": {},
   "outputs": [
    {
     "data": {
      "text/html": [
       "<style  type=\"text/css\" >\n",
       "#T_77403_row0_col1,#T_77403_row0_col2,#T_77403_row0_col3{\n",
       "            background-color:  #b40426;\n",
       "            color:  #f1f1f1;\n",
       "        }#T_77403_row1_col1,#T_77403_row1_col2{\n",
       "            background-color:  #94b6ff;\n",
       "            color:  #000000;\n",
       "        }#T_77403_row1_col3,#T_77403_row3_col1,#T_77403_row3_col2{\n",
       "            background-color:  #3b4cc0;\n",
       "            color:  #f1f1f1;\n",
       "        }#T_77403_row2_col1,#T_77403_row2_col2{\n",
       "            background-color:  #4961d2;\n",
       "            color:  #f1f1f1;\n",
       "        }#T_77403_row2_col3{\n",
       "            background-color:  #dfdbd9;\n",
       "            color:  #000000;\n",
       "        }#T_77403_row3_col3{\n",
       "            background-color:  #e16751;\n",
       "            color:  #000000;\n",
       "        }</style><table id=\"T_77403_\" ><thead>    <tr>        <th class=\"blank level0\" ></th>        <th class=\"col_heading level0 col0\" >event_name</th>        <th class=\"col_heading level0 col1\" >device_id</th>        <th class=\"col_heading level0 col2\" >percent</th>        <th class=\"col_heading level0 col3\" >funnel</th>    </tr></thead><tbody>\n",
       "                <tr>\n",
       "                        <th id=\"T_77403_level0_row0\" class=\"row_heading level0 row0\" >0</th>\n",
       "                        <td id=\"T_77403_row0_col0\" class=\"data row0 col0\" >MainScreenAppear</td>\n",
       "                        <td id=\"T_77403_row0_col1\" class=\"data row0 col1\" >7419</td>\n",
       "                        <td id=\"T_77403_row0_col2\" class=\"data row0 col2\" >98.473586</td>\n",
       "                        <td id=\"T_77403_row0_col3\" class=\"data row0 col3\" >1.000000</td>\n",
       "            </tr>\n",
       "            <tr>\n",
       "                        <th id=\"T_77403_level0_row1\" class=\"row_heading level0 row1\" >1</th>\n",
       "                        <td id=\"T_77403_row1_col0\" class=\"data row1 col0\" >OffersScreenAppear</td>\n",
       "                        <td id=\"T_77403_row1_col1\" class=\"data row1 col1\" >4593</td>\n",
       "                        <td id=\"T_77403_row1_col2\" class=\"data row1 col2\" >60.963632</td>\n",
       "                        <td id=\"T_77403_row1_col3\" class=\"data row1 col3\" >0.619086</td>\n",
       "            </tr>\n",
       "            <tr>\n",
       "                        <th id=\"T_77403_level0_row2\" class=\"row_heading level0 row2\" >2</th>\n",
       "                        <td id=\"T_77403_row2_col0\" class=\"data row2 col0\" >CartScreenAppear</td>\n",
       "                        <td id=\"T_77403_row2_col1\" class=\"data row2 col1\" >3734</td>\n",
       "                        <td id=\"T_77403_row2_col2\" class=\"data row2 col2\" >49.561986</td>\n",
       "                        <td id=\"T_77403_row2_col3\" class=\"data row2 col3\" >0.812976</td>\n",
       "            </tr>\n",
       "            <tr>\n",
       "                        <th id=\"T_77403_level0_row3\" class=\"row_heading level0 row3\" >3</th>\n",
       "                        <td id=\"T_77403_row3_col0\" class=\"data row3 col0\" >PaymentScreenSuccessful</td>\n",
       "                        <td id=\"T_77403_row3_col1\" class=\"data row3 col1\" >3539</td>\n",
       "                        <td id=\"T_77403_row3_col2\" class=\"data row3 col2\" >46.973719</td>\n",
       "                        <td id=\"T_77403_row3_col3\" class=\"data row3 col3\" >0.947777</td>\n",
       "            </tr>\n",
       "    </tbody></table>"
      ],
      "text/plain": [
       "<pandas.io.formats.style.Styler at 0x7f49048eea00>"
      ]
     },
     "execution_count": 26,
     "metadata": {},
     "output_type": "execute_result"
    }
   ],
   "source": [
    "filt_user_per_event['funnel'] = 1\n",
    "for i in range(1, 4):\n",
    "    filt_user_per_event.loc[i, 'funnel'] = filt_user_per_event.loc[i, 'device_id'] / (filt_user_per_event.loc[i-1, 'device_id'])\n",
    "\n",
    "filt_user_per_event.style.background_gradient('coolwarm')"
   ]
  },
  {
   "cell_type": "markdown",
   "id": "047a92b5",
   "metadata": {},
   "source": [
    "<b>Краткий вывод: </b> Из проведенного анализа можно отметить, что с просмотра главной страницы на страницу с предложениями переходит 62% пользователей. В просмотр корзины после просмотра продукции переходит 82% пользователей. Почти 95% пользователей затем переходят на страницу с оплатой. Процент довольно высокий."
   ]
  },
  {
   "cell_type": "markdown",
   "id": "6489f60b",
   "metadata": {},
   "source": [
    "<u><b> Поиск этапа с наибольшими потерями пользователей"
   ]
  },
  {
   "cell_type": "code",
   "execution_count": 27,
   "id": "160bef32",
   "metadata": {},
   "outputs": [
    {
     "data": {
      "image/png": "[encoded data removed]",
      "text/plain": [
       "<Figure size 1080x504 with 1 Axes>"
      ]
     },
     "metadata": {
      "needs_background": "light"
     },
     "output_type": "display_data"
    }
   ],
   "source": [
    "plt.figure(figsize =(15, 7))\n",
    "sns.barplot(data=filt_user_per_event, x='event_name', y='device_id')\n",
    "plt.title('График потерь пользователей по этапам', fontsize = 16)\n",
    "plt.xlabel('События', fontsize = 14)\n",
    "plt.ylabel('Количество пользователей', fontsize = 14);"
   ]
  },
  {
   "cell_type": "markdown",
   "id": "2bbf75e0",
   "metadata": {},
   "source": [
    "<b>Краткий вывод: </b> Как видно из графика и раннее проведенного анализа наибольшие потери наблюдаются при переходе с главной страницы на страницы с предложениями (около 38%)."
   ]
  },
  {
   "cell_type": "markdown",
   "id": "d91c9c25",
   "metadata": {},
   "source": [
    "<u><b> Подсчет доли пользователей, которые доходит от первого события до оплаты"
   ]
  },
  {
   "attachments": {
    "image-2.png": {
     "image/png": "[encoded data removed]"
    }
   },
   "cell_type": "markdown",
   "id": "b4625217",
   "metadata": {},
   "source": [
    "![image-2.png](attachment:image-2.png)"
   ]
  },
  {
   "cell_type": "markdown",
   "id": "843a88e6",
   "metadata": {},
   "source": [
    "<b>Краткий вывод: </b> Из графика  и проведенного раннее анализа видно, что со стартовой страницы до страницы с оплатой доходят 48% пользователей."
   ]
  },
  {
   "cell_type": "markdown",
   "id": "1813d78f",
   "metadata": {},
   "source": [
    "<div style=\"text-align: justify \">\n",
    "<b>Вывод: </b> В логе имеется 5 различных событий, самое популярное - просмотр главной страницы приложения (почти 99% пользователей просматривают главную страницу). Самое непопулярное событие это обучающие материалы (около 11%). С просмотра главной страницы на страницу с предложениями переходит 62% пользователей. В просмотр корзины после просмотра продукции переходит 82% пользователей. Почти 95% пользователей затем переходят на страницу с оплатой. Наибольшие потери наблюдаются при переходе с главной страницы на страницы с предложениями (около 38%), до страницы с оплатой со стартовой страницы доходит 48% пользователей.\n",
    "    \n",
    "<div style=\"text-align: justify \">\n",
    "Из проведенного анализа наблюдается, что изначально пользователь заходит и просматривает главную/стартовую страницу, далее пользователь переходит на страницу с предложениями продукта. Затем просмотр корзины и переход на страницу оплаты. Стоит отметить, что процент пользователей, просмотревших корзину, и пользователей, перешедших на страницу оплаты, примерно равный - разница менее 3%."
   ]
  },
  {
   "cell_type": "markdown",
   "id": "6f0e23e1",
   "metadata": {},
   "source": [
    "### 5. Анализ результатов эксперимента"
   ]
  },
  {
   "cell_type": "markdown",
   "id": "4b89b1d1",
   "metadata": {},
   "source": [
    "<u><b>Анализ числа пользователей в каждой экспериментальной группе"
   ]
  },
  {
   "cell_type": "code",
   "execution_count": 29,
   "id": "a374de73",
   "metadata": {},
   "outputs": [
    {
     "data": {
      "text/html": [
       "<div>\n",
       "<style scoped>\n",
       "    .dataframe tbody tr th:only-of-type {\n",
       "        vertical-align: middle;\n",
       "    }\n",
       "\n",
       "    .dataframe tbody tr th {\n",
       "        vertical-align: top;\n",
       "    }\n",
       "\n",
       "    .dataframe thead th {\n",
       "        text-align: right;\n",
       "    }\n",
       "</style>\n",
       "<table border=\"1\" class=\"dataframe\">\n",
       "  <thead>\n",
       "    <tr style=\"text-align: right;\">\n",
       "      <th></th>\n",
       "      <th>group_id</th>\n",
       "      <th>device_id</th>\n",
       "    </tr>\n",
       "  </thead>\n",
       "  <tbody>\n",
       "    <tr>\n",
       "      <th>0</th>\n",
       "      <td>246</td>\n",
       "      <td>2484</td>\n",
       "    </tr>\n",
       "    <tr>\n",
       "      <th>1</th>\n",
       "      <td>247</td>\n",
       "      <td>2513</td>\n",
       "    </tr>\n",
       "    <tr>\n",
       "      <th>2</th>\n",
       "      <td>248</td>\n",
       "      <td>2537</td>\n",
       "    </tr>\n",
       "  </tbody>\n",
       "</table>\n",
       "</div>"
      ],
      "text/plain": [
       "   group_id  device_id\n",
       "0       246       2484\n",
       "1       247       2513\n",
       "2       248       2537"
      ]
     },
     "execution_count": 29,
     "metadata": {},
     "output_type": "execute_result"
    }
   ],
   "source": [
    "devices = logo_filt.groupby('group_id')['device_id'].nunique().reset_index()\n",
    "devices"
   ]
  },
  {
   "cell_type": "code",
   "execution_count": 30,
   "id": "0d2f7287",
   "metadata": {},
   "outputs": [
    {
     "data": {
      "text/html": [
       "<div>\n",
       "<style scoped>\n",
       "    .dataframe tbody tr th:only-of-type {\n",
       "        vertical-align: middle;\n",
       "    }\n",
       "\n",
       "    .dataframe tbody tr th {\n",
       "        vertical-align: top;\n",
       "    }\n",
       "\n",
       "    .dataframe thead th {\n",
       "        text-align: right;\n",
       "    }\n",
       "</style>\n",
       "<table border=\"1\" class=\"dataframe\">\n",
       "  <thead>\n",
       "    <tr style=\"text-align: right;\">\n",
       "      <th></th>\n",
       "      <th>group_id</th>\n",
       "      <th>device_id</th>\n",
       "    </tr>\n",
       "  </thead>\n",
       "  <tbody>\n",
       "    <tr>\n",
       "      <th>0</th>\n",
       "      <td>246</td>\n",
       "      <td>2484</td>\n",
       "    </tr>\n",
       "    <tr>\n",
       "      <th>1</th>\n",
       "      <td>247</td>\n",
       "      <td>2513</td>\n",
       "    </tr>\n",
       "    <tr>\n",
       "      <th>2</th>\n",
       "      <td>248</td>\n",
       "      <td>2537</td>\n",
       "    </tr>\n",
       "    <tr>\n",
       "      <th>3</th>\n",
       "      <td>240</td>\n",
       "      <td>4997</td>\n",
       "    </tr>\n",
       "  </tbody>\n",
       "</table>\n",
       "</div>"
      ],
      "text/plain": [
       "   group_id  device_id\n",
       "0       246       2484\n",
       "1       247       2513\n",
       "2       248       2537\n",
       "3       240       4997"
      ]
     },
     "execution_count": 30,
     "metadata": {},
     "output_type": "execute_result"
    }
   ],
   "source": [
    "gr_240 = {'group_id': 240, 'device_id': 4997}\n",
    "devices = devices.append(gr_240, ignore_index = True)\n",
    "devices"
   ]
  },
  {
   "cell_type": "markdown",
   "id": "b1a174e5",
   "metadata": {},
   "source": [
    "<b>Краткий вывод: </b> Во всех трех группах примерно одинаковое количество пользователей."
   ]
  },
  {
   "cell_type": "markdown",
   "id": "728003cb",
   "metadata": {},
   "source": [
    "<u><b>Проверка статистических критериев между выборками 246 и 247"
   ]
  },
  {
   "cell_type": "markdown",
   "id": "f772876f",
   "metadata": {},
   "source": [
    "Подготовим сводная таблицу с количеством пользователей совершивших каждое из событий, дополним столбцом с объединенными группами 246 и 247. Уберем события Tutorial из анализа."
   ]
  },
  {
   "cell_type": "code",
   "execution_count": 31,
   "id": "2fab60e6",
   "metadata": {},
   "outputs": [
    {
     "data": {
      "text/html": [
       "<div>\n",
       "<style scoped>\n",
       "    .dataframe tbody tr th:only-of-type {\n",
       "        vertical-align: middle;\n",
       "    }\n",
       "\n",
       "    .dataframe tbody tr th {\n",
       "        vertical-align: top;\n",
       "    }\n",
       "\n",
       "    .dataframe thead th {\n",
       "        text-align: right;\n",
       "    }\n",
       "</style>\n",
       "<table border=\"1\" class=\"dataframe\">\n",
       "  <thead>\n",
       "    <tr style=\"text-align: right;\">\n",
       "      <th>group_id</th>\n",
       "      <th>246</th>\n",
       "      <th>247</th>\n",
       "      <th>248</th>\n",
       "      <th>240</th>\n",
       "    </tr>\n",
       "    <tr>\n",
       "      <th>event_name</th>\n",
       "      <th></th>\n",
       "      <th></th>\n",
       "      <th></th>\n",
       "      <th></th>\n",
       "    </tr>\n",
       "  </thead>\n",
       "  <tbody>\n",
       "    <tr>\n",
       "      <th>MainScreenAppear</th>\n",
       "      <td>2450</td>\n",
       "      <td>2476</td>\n",
       "      <td>2493</td>\n",
       "      <td>4926</td>\n",
       "    </tr>\n",
       "    <tr>\n",
       "      <th>OffersScreenAppear</th>\n",
       "      <td>1542</td>\n",
       "      <td>1520</td>\n",
       "      <td>1531</td>\n",
       "      <td>3062</td>\n",
       "    </tr>\n",
       "    <tr>\n",
       "      <th>CartScreenAppear</th>\n",
       "      <td>1266</td>\n",
       "      <td>1238</td>\n",
       "      <td>1230</td>\n",
       "      <td>2504</td>\n",
       "    </tr>\n",
       "    <tr>\n",
       "      <th>PaymentScreenSuccessful</th>\n",
       "      <td>1200</td>\n",
       "      <td>1158</td>\n",
       "      <td>1181</td>\n",
       "      <td>2358</td>\n",
       "    </tr>\n",
       "  </tbody>\n",
       "</table>\n",
       "</div>"
      ],
      "text/plain": [
       "group_id                  246   247   248   240\n",
       "event_name                                     \n",
       "MainScreenAppear         2450  2476  2493  4926\n",
       "OffersScreenAppear       1542  1520  1531  3062\n",
       "CartScreenAppear         1266  1238  1230  2504\n",
       "PaymentScreenSuccessful  1200  1158  1181  2358"
      ]
     },
     "execution_count": 31,
     "metadata": {},
     "output_type": "execute_result"
    }
   ],
   "source": [
    "# уберем туториал из датафрейма\n",
    "logo_filt = logo_filt.query('event_name != \"Tutorial\"')\n",
    "\n",
    "#создадим сводную таблицу с числом пользователей по каждому событию\n",
    "pt = logo_filt.pivot_table(index='event_name', columns='group_id',values='device_id',aggfunc='nunique').sort_values(246,ascending=False)\n",
    "pt[240] = pt[246] + pt[247]\n",
    "pt"
   ]
  },
  {
   "cell_type": "markdown",
   "id": "97f9484d",
   "metadata": {},
   "source": [
    "<div style=\"text-align: justify \">\n",
    "Для проверки статистических критериев между группами подготовим функцию Z-теста, так как выполнятся тест быдет не один раз. Также внесем поправку к уровням значимости, так как мы будем проводить мнонжественный тест. Для этого воспользуемся методом Бонферрони: уровни значимости в каждом из m сравнений в m раз меньше, чем уровень значимости, требуемый при единственном сравнении. Всего будет проведено 16 тестов. "
   ]
  },
  {
   "cell_type": "code",
   "execution_count": 32,
   "id": "b3e72341",
   "metadata": {},
   "outputs": [
    {
     "data": {
      "text/html": [
       "<div>\n",
       "<style scoped>\n",
       "    .dataframe tbody tr th:only-of-type {\n",
       "        vertical-align: middle;\n",
       "    }\n",
       "\n",
       "    .dataframe tbody tr th {\n",
       "        vertical-align: top;\n",
       "    }\n",
       "\n",
       "    .dataframe thead th {\n",
       "        text-align: right;\n",
       "    }\n",
       "</style>\n",
       "<table border=\"1\" class=\"dataframe\">\n",
       "  <thead>\n",
       "    <tr style=\"text-align: right;\">\n",
       "      <th></th>\n",
       "      <th>group_id</th>\n",
       "      <th>device_id</th>\n",
       "    </tr>\n",
       "  </thead>\n",
       "  <tbody>\n",
       "    <tr>\n",
       "      <th>0</th>\n",
       "      <td>246</td>\n",
       "      <td>2484</td>\n",
       "    </tr>\n",
       "    <tr>\n",
       "      <th>1</th>\n",
       "      <td>247</td>\n",
       "      <td>2513</td>\n",
       "    </tr>\n",
       "    <tr>\n",
       "      <th>2</th>\n",
       "      <td>248</td>\n",
       "      <td>2537</td>\n",
       "    </tr>\n",
       "    <tr>\n",
       "      <th>3</th>\n",
       "      <td>240</td>\n",
       "      <td>4997</td>\n",
       "    </tr>\n",
       "  </tbody>\n",
       "</table>\n",
       "</div>"
      ],
      "text/plain": [
       "   group_id  device_id\n",
       "0       246       2484\n",
       "1       247       2513\n",
       "2       248       2537\n",
       "3       240       4997"
      ]
     },
     "execution_count": 32,
     "metadata": {},
     "output_type": "execute_result"
    }
   ],
   "source": [
    "devices"
   ]
  },
  {
   "cell_type": "code",
   "execution_count": 33,
   "id": "767199a4",
   "metadata": {},
   "outputs": [],
   "source": [
    "#функция для статистической значимости\n",
    "\n",
    "def z_test(gr_1, gr_2, event_name, alpha):\n",
    "     \n",
    "        p1_logs = pt.loc[event_name, gr_1]\n",
    "        p2_logs = pt.loc[event_name, gr_2]\n",
    "        \n",
    "        p1_devices = devices.loc[devices['group_id'] == gr_1, 'device_id'].values[0]\n",
    "        p2_devices = devices.loc[devices['group_id'] == gr_2, 'device_id'].values[0]\n",
    "        \n",
    "        p1 = p1_logs /  p1_devices\n",
    "        p2 = p2_logs /  p2_devices\n",
    "        \n",
    "        p_combined = (p1_logs + p2_logs) / (p1_devices + p2_devices)\n",
    "        \n",
    "        difference = p1 - p2 \n",
    "        \n",
    "        z_value = difference / mth.sqrt(p_combined * (1 - p_combined) * (1/p1_devices + 1/p2_devices))\n",
    "        \n",
    "        distr = stats.norm(0, 1) \n",
    "        \n",
    "        p_value = (1 - distr.cdf(abs(z_value))) * 2\n",
    "        \n",
    "        m_bonferroni = alpha/16\n",
    "        \n",
    "        print('Событие:', event_name)\n",
    "        print('p_value:', p_value)\n",
    "            \n",
    "        if p_value < m_bonferroni:\n",
    "            print('Отвергаем нулевую гипотезу')\n",
    "        else:\n",
    "            print('Не получилось отвергнуть нулевую гипотезу')\n",
    "            \n",
    "        print()"
   ]
  },
  {
   "cell_type": "markdown",
   "id": "807ddefe",
   "metadata": {},
   "source": [
    "<i>Для упешного выполнения успешного A/A-теста необходимо, чтобы выполнялись следующие условия:</i><br> \n",
    "- Количество пользователей в различных группах различается не более, чем на 1%;<br>\n",
    "- Для всех групп фиксируют и отправляют в системы аналитики данные об одном и том же;<br>\n",
    "- Различие ключевых метрик по группам не превышает 1% и не имеет статистической значимости;<br>\n",
    "- Попавший в одну из групп посетитель остаётся в этой группе до конца теста.<br>"
   ]
  },
  {
   "cell_type": "code",
   "execution_count": 34,
   "id": "c10deda3",
   "metadata": {},
   "outputs": [
    {
     "data": {
      "text/plain": [
       "1.15"
      ]
     },
     "execution_count": 34,
     "metadata": {},
     "output_type": "execute_result"
    }
   ],
   "source": [
    "# подсчет разинцы в количестве пользователей между группами\n",
    "group_246 = logo_filt.query('group_id == 246').groupby('group_id')['device_id'].nunique().reset_index()\n",
    "group_247 = logo_filt.query('group_id == 247').groupby('group_id')['device_id'].nunique().reset_index()\n",
    "diff = round((1 - group_246.loc[0]['device_id'] / group_247.loc[0]['device_id'])*100, 2)\n",
    "diff"
   ]
  },
  {
   "cell_type": "markdown",
   "id": "78555029",
   "metadata": {},
   "source": [
    "Количество пользователей в группах составляет 1,15%, что удовлетворяет первому критерию, т.к. 0,15% является погрешностью."
   ]
  },
  {
   "cell_type": "code",
   "execution_count": 35,
   "id": "390b82d3",
   "metadata": {},
   "outputs": [
    {
     "data": {
      "text/plain": [
       "0"
      ]
     },
     "execution_count": 35,
     "metadata": {},
     "output_type": "execute_result"
    }
   ],
   "source": [
    "# проверка на наличии пользователей в нескольких группах\n",
    "len(logo_filt.groupby('device_id')['group_id'].nunique().reset_index().query('group_id > 1'))"
   ]
  },
  {
   "cell_type": "markdown",
   "id": "a8e07a01",
   "metadata": {},
   "source": [
    "В выборки нет пользователей, которые попадали бы в несколько групп, четвертый критерий успешного теста также выполняется."
   ]
  },
  {
   "cell_type": "markdown",
   "id": "52de3698",
   "metadata": {},
   "source": [
    "Посчитаем статистическую значимость различий между группами 246 и 247.\n",
    "\n",
    "Нулевая $H_{0}$: значимых различий между долями нет, различия статистически не значимы. \n",
    "\n",
    "Альтернативная $H_{1}$: значимые различия между долями есть."
   ]
  },
  {
   "cell_type": "code",
   "execution_count": 36,
   "id": "73f0588c",
   "metadata": {},
   "outputs": [
    {
     "name": "stdout",
     "output_type": "stream",
     "text": [
      "Событие: MainScreenAppear\n",
      "p_value: 0.7570597232046099\n",
      "Не получилось отвергнуть нулевую гипотезу\n",
      "\n",
      "Событие: OffersScreenAppear\n",
      "p_value: 0.2480954578522181\n",
      "Не получилось отвергнуть нулевую гипотезу\n",
      "\n",
      "Событие: CartScreenAppear\n",
      "p_value: 0.22883372237997213\n",
      "Не получилось отвергнуть нулевую гипотезу\n",
      "\n",
      "Событие: PaymentScreenSuccessful\n",
      "p_value: 0.11456679313141849\n",
      "Не получилось отвергнуть нулевую гипотезу\n",
      "\n"
     ]
    }
   ],
   "source": [
    "for event_name in pt.index:\n",
    "    z_test(246, 247, event_name, 0.05)"
   ]
  },
  {
   "cell_type": "markdown",
   "id": "72f125aa",
   "metadata": {},
   "source": [
    "<div style=\"text-align: justify \">\n",
    "<b>Краткий вывод: </b> Все критерии для успешного выполнения А/А теста выполнены: во всех трех группах примерно одинаковое количество пользователей, в выборки нет пользователей, которые попадали бы в несколько групп, статистически значимых различий между группами на всех этапах не обнаружено. Таким образом, можно сделать вывод, что разбиение на группы 246 и 247 произведено корректно."
   ]
  },
  {
   "cell_type": "markdown",
   "id": "35e85ab3",
   "metadata": {},
   "source": [
    "<u><b>Проверка статистических критериев между выборками 246 и 248"
   ]
  },
  {
   "cell_type": "markdown",
   "id": "4bfb6557",
   "metadata": {},
   "source": [
    "Посчитаем статистическую значимость различий между группами 246 и 248.\n",
    "\n",
    "Нулевая $H_{0}$: значимых различий между долями нет, различия статистически не значимы. \n",
    "\n",
    "Альтернативная $H_{1}$: значимые различия между долями есть."
   ]
  },
  {
   "cell_type": "code",
   "execution_count": 37,
   "id": "ad6cbec2",
   "metadata": {},
   "outputs": [
    {
     "name": "stdout",
     "output_type": "stream",
     "text": [
      "Событие: MainScreenAppear\n",
      "p_value: 0.2949721933554552\n",
      "Не получилось отвергнуть нулевую гипотезу\n",
      "\n",
      "Событие: OffersScreenAppear\n",
      "p_value: 0.20836205402738917\n",
      "Не получилось отвергнуть нулевую гипотезу\n",
      "\n",
      "Событие: CartScreenAppear\n",
      "p_value: 0.07842923237520116\n",
      "Не получилось отвергнуть нулевую гипотезу\n",
      "\n",
      "Событие: PaymentScreenSuccessful\n",
      "p_value: 0.2122553275697796\n",
      "Не получилось отвергнуть нулевую гипотезу\n",
      "\n"
     ]
    }
   ],
   "source": [
    "# проверка статистических критериев между группами\n",
    "for event_name in pt.index:\n",
    "    z_test(246, 248, event_name, 0.05)"
   ]
  },
  {
   "cell_type": "markdown",
   "id": "e3cafb82",
   "metadata": {},
   "source": [
    "Как видно из проведенного эксперимента ни при одном событии не удалось отвергнуть нулевую гипотезу, статистически значимых различий между группами 246 и 248 нет. Посмотрим, имеются ли различия между 247 и 248 группами."
   ]
  },
  {
   "cell_type": "markdown",
   "id": "63d0eb7a",
   "metadata": {},
   "source": [
    "<u><b>Проверка статистических критериев между выборками 247 и 248"
   ]
  },
  {
   "cell_type": "markdown",
   "id": "b0c4dfc0",
   "metadata": {},
   "source": [
    "Посчитаем статистическую значимость различий между группами 247 и 248.\n",
    "\n",
    "Нулевая $H_{0}$: значимых различий между долями нет, различия статистически не значимы. \n",
    "\n",
    "Альтернативная $H_{1}$: значимые различия между долями есть."
   ]
  },
  {
   "cell_type": "code",
   "execution_count": 38,
   "id": "d9c67b50",
   "metadata": {},
   "outputs": [
    {
     "name": "stdout",
     "output_type": "stream",
     "text": [
      "Событие: MainScreenAppear\n",
      "p_value: 0.4587053616621515\n",
      "Не получилось отвергнуть нулевую гипотезу\n",
      "\n",
      "Событие: OffersScreenAppear\n",
      "p_value: 0.9197817830592261\n",
      "Не получилось отвергнуть нулевую гипотезу\n",
      "\n",
      "Событие: CartScreenAppear\n",
      "p_value: 0.5786197879539783\n",
      "Не получилось отвергнуть нулевую гипотезу\n",
      "\n",
      "Событие: PaymentScreenSuccessful\n",
      "p_value: 0.7373415053803964\n",
      "Не получилось отвергнуть нулевую гипотезу\n",
      "\n"
     ]
    }
   ],
   "source": [
    "# проверка статистических критериев между группами\n",
    "for event_name in pt.index:\n",
    "    z_test(247, 248, event_name, 0.05)"
   ]
  },
  {
   "cell_type": "markdown",
   "id": "0733a43e",
   "metadata": {},
   "source": [
    "Статистически значимых различий между событиями групп 247 и 248 также нет. Посмотрим, имеются ли различия между объединенными группами 246 и 247 и  группой 248."
   ]
  },
  {
   "cell_type": "markdown",
   "id": "3b449a43",
   "metadata": {},
   "source": [
    "<u><b>Проверка статистических критериев между выборками объединенными группами 246 и 247 и группой 248"
   ]
  },
  {
   "cell_type": "markdown",
   "id": "18b36cff",
   "metadata": {},
   "source": [
    "Посчитаем статистическую значимость различий между объединенными группами 246 и 247 и группой 248.\n",
    "\n",
    "Нулевая $H_{0}$: значимых различий между долями нет, различия статистически не значимы. \n",
    "\n",
    "Альтернативная $H_{1}$: значимые различия между долями есть."
   ]
  },
  {
   "cell_type": "markdown",
   "id": "b4602eff",
   "metadata": {},
   "source": [
    "Ранее уже была создана группа 240, в которых были объединены группы 246 и 247."
   ]
  },
  {
   "cell_type": "code",
   "execution_count": 39,
   "id": "ae9a9b16",
   "metadata": {},
   "outputs": [
    {
     "name": "stdout",
     "output_type": "stream",
     "text": [
      "Событие: MainScreenAppear\n",
      "p_value: 0.29424526837179577\n",
      "Не получилось отвергнуть нулевую гипотезу\n",
      "\n",
      "Событие: OffersScreenAppear\n",
      "p_value: 0.43425549655188256\n",
      "Не получилось отвергнуть нулевую гипотезу\n",
      "\n",
      "Событие: CartScreenAppear\n",
      "p_value: 0.18175875284404386\n",
      "Не получилось отвергнуть нулевую гипотезу\n",
      "\n",
      "Событие: PaymentScreenSuccessful\n",
      "p_value: 0.6004294282308704\n",
      "Не получилось отвергнуть нулевую гипотезу\n",
      "\n"
     ]
    }
   ],
   "source": [
    "# проверка статистических критериев между группами\n",
    "for event_name in pt.index:\n",
    "    z_test(240, 248, event_name, 0.05)"
   ]
  },
  {
   "cell_type": "markdown",
   "id": "6b8fa389",
   "metadata": {},
   "source": [
    "Статистически значимых различий между событиями объединенных групп 246 и 247 и группой 248 также не наблюдаются. Таким образом можно сделать вывод, что изменения шрифтов приложения результатов не принесет."
   ]
  },
  {
   "cell_type": "markdown",
   "id": "93434013",
   "metadata": {},
   "source": [
    "<u><b>Уровень значимости при проверке статистических гипотез"
   ]
  },
  {
   "cell_type": "markdown",
   "id": "a12f073e",
   "metadata": {},
   "source": [
    "<div style=\"text-align: justify \">\n",
    "Для проверки статистических критериев значимости различий был выбран уровень значимости, равный 5 процентам. Было проведено 16 проверок статистических гипотез, 4 из которых в рамках проведения А/А теста. Дополнительно был применен метод Бонферрони, т.к. тест был множественным"
   ]
  },
  {
   "cell_type": "markdown",
   "id": "64308b47",
   "metadata": {},
   "source": [
    "<div style=\"text-align: justify \">\n",
    "<b>Вывод: </b> В каждой экспериментальной группе после \"очистки\" данных примерно одинаковое количество пользователей. Разбиение на группы 246 и 247 произведено корректно, т.к все критерии для успешного выполнения А/А теста выполнены: во всех трех группах примерно одинаковое количество пользователей, в выборки нет пользователей, которые попадали бы в несколько групп одновременно, статистически значимых различий между группами на всех этапах не обнаружено.<br>\n",
    "При проверки статистически значимых различий между группами 246 и 248, 247 и 248, а также объединенными группами 246 и 247 и группой 248 каких-либо различий не наблюдается. Для проверки статистических критериев значимости различий был выбран уровень значимости, равный 5 процентам. Так как было проведено множество тестов, дополнительно был применен метод Бонферрони. Было проведено 16 проверок статистических гипотез, 4 из которых в рамках проведения А/А теста. Таким образом можно сделать вывод, что изменения шрифтов приложения результатов не принесет."
   ]
  },
  {
   "cell_type": "markdown",
   "id": "eb30eb5f",
   "metadata": {},
   "source": [
    "### 6. Общий вывод по пректу"
   ]
  },
  {
   "cell_type": "markdown",
   "id": "518b7299",
   "metadata": {},
   "source": [
    "<div style=\"text-align: justify \">\n",
    "<b><i>1) В части предобработки данных</i></b><br><br>\n",
    "В ходе ознакомления и предобработки данных стало известно, что имеется массив данных <b>logs_exp</b>, который содержит данные о названии события, уникальном идентификаторе пользователя, времени события и номер группы эксперимента: 246 и 247 — контрольные группы, а 248 — экспериментальная. Из столбца <b>event_time_stamp</b> были выделены дата и время, а также просто дата. Для \"красоты\" отображения наименования столбцов переведено в \"змеиный\" формат. В ходе предварительного просмотра данных пропусков не обнаружено, были обнаружены и удалены 413 явных дубликата. Каждая группа содержит почти равное количество участников.<br><br>\n",
    "\n",
    "<div style=\"text-align: justify \">\n",
    "<b><i>2) В части изучения и проверки данных</i></b><br><br>\n",
    "Всего в логе пройдено 243 713 событий пяти различных типов. Больше всего событий \"главный экран\" (119 101), меньше всего \"обучения\" (1 018). Всего в логе 7 551 пользователя, распределенных почти равномерно по трем группам. В среднем на одного пользователя приходится 32 события. Для анализа были предоставлены данные за 2 недели на период с 25 июля по 7 августа 2019 года. В ходе дополнительной проверки было определено, что полный набор информации начинается с 1 августа. Таким образом для исследования будет взят период в одну неделю, остальные данные будут откинуты. В результате фильтрации данных из массива было удалено 17 пользователей и 2 826 события. Процент \"потерянных\" данных чуть более 1%, что не скажется на результатах исследования.<br><br>\n",
    "    \n",
    "<b><i>3) В части анализа воронки событий</i></b>\n",
    "<div style=\"text-align: justify \"> <br>   \n",
    "В логе присутствует 5 различных типов событий, самое популярное - просмотр главной страницы приложения (почти 99% пользователей просматривают главную страницу). Самое непопулярное событие это обучающие материалы (около 11%). С просмотра главной страницы на страницу с предложениями переходит 62% пользователей. В просмотр корзины после просмотра продукции переходит 82% пользователей. Почти 95% пользователей затем переходят на страницу с оплатой. Наибольшие потери наблюдаются при переходе с главной страницы на страницы с предложениями (около 38%), до страницы с оплатой со стартовой страницы доходит 48% пользователей.<br>\n",
    "Из проведенного анализа можно отметить, что изначально пользователь заходит и просматривает главную/стартовую страницу, далее пользователь переходит на страницу с предложениями продукта. Затем просмотр корзины и переход на страницу оплаты. Стоит отметить, что процент пользователей, просмотревших корзину, и пользователей, перешедших на страницу оплаты, примерно равный - разница менее 3%.<br><br>\n",
    "   \n",
    "<b><i>4) Вывод по проведенному А/В тесту</i></b>\n",
    " <div style=\"text-align: justify \">    <br>\n",
    "В каждой экспериментальной группе после \"очистки\" данных примерно одинаковое количество пользователей. Разбиение на группы 246 и 247 произведено корректно, т.к все критерии для успешного выполнения А/А теста выполнены: во всех трех группах примерно одинаковое количество пользователей, в выборки нет пользователей, которые попадали бы в несколько групп одновременно, статистически значимых различий между группами на всех этапах не обнаружено.\n",
    "При проверки статистически значимых различий между группами 246 и 248, 247 и 248, а также объединенными группами 246 и 247 и группой 248 каких-либо различий не наблюдается. Для проверки статистических критериев значимости различий был выбран уровень значимости, равный 5 процентам. Дополнительно был применен метод Бонферрони для множественных тестов. Было проведено 16 проверок статистических гипотез, 4 из которых в рамках проведения А/А теста. Таким образом можно сделать вывод, что изменения шрифтов приложения результатов не принесет.<br><br>\n",
    "\n",
    "<div style=\"text-align: justify \">\n",
    "<b><i>5) Рекомендации</i></b><br><br>\n",
    "Исходя из проведенного А/В теста можно рекомендуется не принимать предложение по изменению шрифтов приложения, т.к. каких-либо видимых результатов это не принесет. Финансовые расходы и трудозатраты не окупятся.<br>\n",
    "Также стоит обратить внимание на очень сильную просадку при переходе с главной страницы на страницы с предложениями. Возможно улучшение процента удержания на данном этапе принесет хороший рост дохода компании."
   ]
  }
 ],
 "metadata": {
  "ExecuteTimeLog": [
   {
    "duration": 1264,
    "start_time": "2023-09-04T14:00:10.373Z"
   },
   {
    "duration": 3,
    "start_time": "2023-09-04T14:00:25.061Z"
   },
   {
    "duration": 3,
    "start_time": "2023-09-04T14:00:32.508Z"
   },
   {
    "duration": 4,
    "start_time": "2023-09-04T14:00:38.062Z"
   },
   {
    "duration": 521,
    "start_time": "2023-09-04T14:04:14.636Z"
   },
   {
    "duration": 5,
    "start_time": "2023-09-04T14:04:37.397Z"
   },
   {
    "duration": 113,
    "start_time": "2023-09-04T14:04:44.885Z"
   },
   {
    "duration": 8,
    "start_time": "2023-09-04T14:06:22.595Z"
   },
   {
    "duration": 127,
    "start_time": "2023-09-04T14:07:23.141Z"
   },
   {
    "duration": 5,
    "start_time": "2023-09-04T14:08:12.085Z"
   },
   {
    "duration": 247,
    "start_time": "2023-09-04T14:10:05.601Z"
   },
   {
    "duration": 79,
    "start_time": "2023-09-04T14:10:14.946Z"
   },
   {
    "duration": 52,
    "start_time": "2023-09-04T14:12:54.930Z"
   },
   {
    "duration": 199,
    "start_time": "2023-09-04T14:13:40.848Z"
   },
   {
    "duration": 71,
    "start_time": "2023-09-04T14:13:56.424Z"
   },
   {
    "duration": 6,
    "start_time": "2023-09-04T14:14:38.363Z"
   },
   {
    "duration": 5,
    "start_time": "2023-09-04T14:14:55.747Z"
   },
   {
    "duration": 5,
    "start_time": "2023-09-04T14:15:08.917Z"
   },
   {
    "duration": 24,
    "start_time": "2023-09-04T14:15:15.869Z"
   },
   {
    "duration": 266,
    "start_time": "2023-09-04T14:16:02.418Z"
   },
   {
    "duration": 8,
    "start_time": "2023-09-04T14:16:37.702Z"
   },
   {
    "duration": 495,
    "start_time": "2023-09-04T14:17:04.759Z"
   },
   {
    "duration": 408,
    "start_time": "2023-09-04T14:17:10.008Z"
   },
   {
    "duration": 35,
    "start_time": "2023-09-04T14:17:48.241Z"
   },
   {
    "duration": 378,
    "start_time": "2023-09-04T14:18:28.783Z"
   },
   {
    "duration": 16,
    "start_time": "2023-09-04T14:18:55.178Z"
   },
   {
    "duration": 4,
    "start_time": "2023-09-04T14:19:06.240Z"
   },
   {
    "duration": 9,
    "start_time": "2023-09-04T14:24:05.589Z"
   },
   {
    "duration": 25,
    "start_time": "2023-09-04T14:25:39.860Z"
   },
   {
    "duration": 56,
    "start_time": "2023-09-04T14:26:14.632Z"
   },
   {
    "duration": 46,
    "start_time": "2023-09-04T14:26:21.821Z"
   },
   {
    "duration": 10,
    "start_time": "2023-09-04T14:28:39.079Z"
   },
   {
    "duration": 15,
    "start_time": "2023-09-04T14:28:46.919Z"
   },
   {
    "duration": 220,
    "start_time": "2023-09-04T14:38:28.894Z"
   },
   {
    "duration": 219,
    "start_time": "2023-09-04T14:41:10.000Z"
   },
   {
    "duration": 44,
    "start_time": "2023-09-04T14:47:56.028Z"
   },
   {
    "duration": 9,
    "start_time": "2023-09-04T14:48:17.253Z"
   },
   {
    "duration": 10,
    "start_time": "2023-09-04T14:49:30.425Z"
   },
   {
    "duration": 10,
    "start_time": "2023-09-04T14:49:46.084Z"
   },
   {
    "duration": 32,
    "start_time": "2023-09-04T14:49:54.857Z"
   },
   {
    "duration": 8,
    "start_time": "2023-09-04T14:49:57.632Z"
   },
   {
    "duration": 88,
    "start_time": "2023-09-04T14:51:50.500Z"
   },
   {
    "duration": 6,
    "start_time": "2023-09-04T14:52:40.809Z"
   },
   {
    "duration": 6,
    "start_time": "2023-09-04T14:52:53.143Z"
   },
   {
    "duration": 38,
    "start_time": "2023-09-04T14:54:12.704Z"
   },
   {
    "duration": 35,
    "start_time": "2023-09-04T14:54:33.613Z"
   },
   {
    "duration": 12,
    "start_time": "2023-09-04T14:54:57.186Z"
   },
   {
    "duration": 5,
    "start_time": "2023-09-04T14:55:25.879Z"
   },
   {
    "duration": 2084,
    "start_time": "2023-09-04T14:55:28.361Z"
   },
   {
    "duration": 6,
    "start_time": "2023-09-04T14:55:51.250Z"
   },
   {
    "duration": 11,
    "start_time": "2023-09-04T14:55:54.127Z"
   },
   {
    "duration": 12,
    "start_time": "2023-09-04T14:56:47.699Z"
   },
   {
    "duration": 14,
    "start_time": "2023-09-04T14:57:17.158Z"
   },
   {
    "duration": 12,
    "start_time": "2023-09-04T14:58:14.985Z"
   },
   {
    "duration": 1162,
    "start_time": "2023-09-04T15:05:23.332Z"
   },
   {
    "duration": 3,
    "start_time": "2023-09-04T15:05:24.496Z"
   },
   {
    "duration": 211,
    "start_time": "2023-09-04T15:05:24.501Z"
   },
   {
    "duration": 6,
    "start_time": "2023-09-04T15:05:24.714Z"
   },
   {
    "duration": 136,
    "start_time": "2023-09-04T15:05:24.722Z"
   },
   {
    "duration": 8,
    "start_time": "2023-09-04T15:05:24.861Z"
   },
   {
    "duration": 155,
    "start_time": "2023-09-04T15:05:24.871Z"
   },
   {
    "duration": 5,
    "start_time": "2023-09-04T15:05:25.028Z"
   },
   {
    "duration": 118,
    "start_time": "2023-09-04T15:05:25.034Z"
   },
   {
    "duration": 61,
    "start_time": "2023-09-04T15:05:25.155Z"
   },
   {
    "duration": 7,
    "start_time": "2023-09-04T15:05:25.217Z"
   },
   {
    "duration": 24,
    "start_time": "2023-09-04T15:05:25.225Z"
   },
   {
    "duration": 25,
    "start_time": "2023-09-04T15:05:25.251Z"
   },
   {
    "duration": 295,
    "start_time": "2023-09-04T15:05:25.277Z"
   },
   {
    "duration": 7,
    "start_time": "2023-09-04T15:05:25.574Z"
   },
   {
    "duration": 591,
    "start_time": "2023-09-04T15:05:25.583Z"
   },
   {
    "duration": 35,
    "start_time": "2023-09-04T15:05:26.176Z"
   },
   {
    "duration": 472,
    "start_time": "2023-09-04T15:05:26.213Z"
   },
   {
    "duration": 18,
    "start_time": "2023-09-04T15:05:26.687Z"
   },
   {
    "duration": 69,
    "start_time": "2023-09-04T15:05:26.706Z"
   },
   {
    "duration": 20,
    "start_time": "2023-09-04T15:05:26.777Z"
   },
   {
    "duration": 62,
    "start_time": "2023-09-04T15:05:26.799Z"
   },
   {
    "duration": 59,
    "start_time": "2023-09-04T15:05:26.863Z"
   },
   {
    "duration": 100,
    "start_time": "2023-09-04T15:05:26.924Z"
   },
   {
    "duration": 11,
    "start_time": "2023-09-04T15:05:27.026Z"
   },
   {
    "duration": 77,
    "start_time": "2023-09-04T15:05:27.038Z"
   },
   {
    "duration": 179,
    "start_time": "2023-09-04T15:05:27.117Z"
   },
   {
    "duration": 219,
    "start_time": "2023-09-04T15:05:27.300Z"
   },
   {
    "duration": 54,
    "start_time": "2023-09-04T15:05:27.521Z"
   },
   {
    "duration": 8,
    "start_time": "2023-09-04T15:05:27.577Z"
   },
   {
    "duration": 171,
    "start_time": "2023-09-04T15:05:27.587Z"
   },
   {
    "duration": 6,
    "start_time": "2023-09-04T15:05:27.759Z"
   },
   {
    "duration": 20,
    "start_time": "2023-09-04T15:05:27.766Z"
   },
   {
    "duration": 65,
    "start_time": "2023-09-04T15:05:27.788Z"
   },
   {
    "duration": 36,
    "start_time": "2023-09-04T15:05:27.854Z"
   },
   {
    "duration": 13,
    "start_time": "2023-09-04T15:05:27.892Z"
   },
   {
    "duration": 32,
    "start_time": "2023-09-04T15:05:27.907Z"
   },
   {
    "duration": 38,
    "start_time": "2023-09-04T15:05:27.940Z"
   },
   {
    "duration": 14,
    "start_time": "2023-09-04T15:05:27.980Z"
   }
  ],
  "kernelspec": {
   "display_name": "Python 3 (ipykernel)",
   "language": "python",
   "name": "python3"
  },
  "language_info": {
   "codemirror_mode": {
    "name": "ipython",
    "version": 3
   },
   "file_extension": ".py",
   "mimetype": "text/x-python",
   "name": "python",
   "nbconvert_exporter": "python",
   "pygments_lexer": "ipython3",
   "version": "3.9.5"
  },
  "toc": {
   "base_numbering": 1,
   "nav_menu": {},
   "number_sections": true,
   "sideBar": true,
   "skip_h1_title": true,
   "title_cell": "Table of Contents",
   "title_sidebar": "Contents",
   "toc_cell": false,
   "toc_position": {},
   "toc_section_display": true,
   "toc_window_display": false
  }
 },
 "nbformat": 4,
 "nbformat_minor": 5
}
