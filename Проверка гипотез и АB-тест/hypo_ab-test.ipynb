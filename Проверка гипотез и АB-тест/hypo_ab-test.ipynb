{
 "cells": [
  {
   "cell_type": "markdown",
   "id": "0314a042",
   "metadata": {},
   "source": [
    "# Проверка и приоритизация гипотиз для увеличения выручки интернет-магазина"
   ]
  },
  {
   "cell_type": "markdown",
   "id": "bc49db9f",
   "metadata": {},
   "source": [
    "Вместе с отделом маркетинга был подготовлен список гипотез для увеличения выручки."
   ]
  },
  {
   "cell_type": "markdown",
   "id": "d05d8c4f",
   "metadata": {},
   "source": [
    "<b>Цель исследования: </b>Необходимо приоритизировать гипотезы, провести A/B-тест и проанализировать полученные результаты. \n",
    "\n",
    "<b>Ход исследования: </b>\n",
    "1) Обзор данных.<br>\n",
    "2) Предобработка данных.<br>\n",
    "3) Приоритизация гипотез.<br>\n",
    "- применение фреймворка <b>ICE</b> для приоритизации гипотез;<br>\n",
    "- применение фреймворка <b>RICE</b> для приоритизации гипотез/;<br>\n",
    "- анализ измениния приоритизация гипотез при применении <b>RICE</b> вместо <b>ICE</b>.<br>\n",
    "\n",
    "4) Проведение A/B-теста:<br>\n",
    "- построение графика кумулятивной выручки по группам;<br>\n",
    "- построение графика кумулятивного среднего чека по группам;<br>\n",
    "- построение графика относительного изменения кумулятивного среднего чека группы B к группе A;<br>\n",
    "- построение графика кумулятивного среднего количества заказов на посетителя по группам;<br>\n",
    "- построение графика относительного изменения кумулятивного среднего количества заказов на посетителя группы B к группе A;<br>\n",
    "- построение точечного графика количества заказов по пользователям;<br>\n",
    "- расчет 95-й и 99-й перцентили количества заказов на пользователя;<br>\n",
    "- построение точечный график стоимостей заказов;<br>\n",
    "- расчет 95-й и 99-й перцентили стоимости заказов;<br>\n",
    "- расчет статистической значимости различий в среднем количестве заказов на посетителя между группами по «сырым» данным;<br>\n",
    "- расчет статистической значимости различий в среднем чеке заказа между группами по «сырым» данным;<br>\n",
    "- расчет статистической значимости различий в среднем количестве заказов на посетителя между группами по «очищенным» данным;<br>\n",
    "- расчет статистической значимости различий в среднем чеке заказа между группами по «очищенным» данным.<br>\n",
    "\n",
    "5) Анализ решения по результатам теста и его объяснение.<br>\n",
    "6) Подготовка общего вывода."
   ]
  },
  {
   "cell_type": "markdown",
   "id": "5f69a092",
   "metadata": {},
   "source": [
    "<b>Описание данных:</b>\n",
    "\n",
    "<b>1) Hypothesis:</b><br>\n",
    "\n",
    "<b>Hypothesis</b> — краткое описание гипотезы;<br>\n",
    "<b>Reach</b> — охват пользователей по 10-балльной шкале;<br>\n",
    "<b>Impact</b> — влияние на пользователей по 10-балльной шкале;<br>\n",
    "<b>Confidence</b> — уверенность в гипотезе по 10-балльной шкале;<br>\n",
    "<b>Efforts</b> — затраты ресурсов на проверку гипотезы по 10-балльной шкале. Чем больше значение <b>Efforts</b>, тем дороже проверка гипотезы.<br>\n",
    "\n",
    "<b>2) Orders:</b><br>\n",
    "\n",
    "<b>transactionId</b> — идентификатор заказа;<br>\n",
    "<b>visitorId</b> — идентификатор пользователя, совершившего заказ;<br>\n",
    "<b>date</b> — дата, когда был совершён заказ;<br>\n",
    "<b>revenue</b> — выручка заказа<br>\n",
    "<b>group</b> — группа A/B-теста, в которую попал заказ.<br>\n",
    "\n",
    "<b>3) Visitors:</b><br>\n",
    "\n",
    "<b>date</b> — дата;<br>\n",
    "<b>group</b> — группа A/B-теста; <br>\n",
    "<b>visitors</b> — количество пользователей в указанную дату в указанной группе A/B-теста."
   ]
  },
  {
   "cell_type": "markdown",
   "id": "b4d9f142",
   "metadata": {},
   "source": [
    "### 1. Обзор данных"
   ]
  },
  {
   "cell_type": "code",
   "execution_count": 1,
   "id": "06ebef84",
   "metadata": {},
   "outputs": [],
   "source": [
    "#Подключим необходимые библиотеки\n",
    "import pandas as pd\n",
    "import scipy.stats as stats\n",
    "import datetime as dt\n",
    "import numpy as np\n",
    "import matplotlib.pyplot as plt\n",
    "import warnings"
   ]
  },
  {
   "cell_type": "code",
   "execution_count": 2,
   "id": "b64e43ba",
   "metadata": {},
   "outputs": [],
   "source": [
    "#задаем исходные настройки\n",
    "pd.set_option('max_colwidth', 130)\n",
    "warnings.filterwarnings(\"ignore\")"
   ]
  },
  {
   "cell_type": "code",
   "execution_count": 3,
   "id": "494932fc",
   "metadata": {},
   "outputs": [],
   "source": [
    "#Загрузим данные\n",
    "hypo = pd.read_csv('/datasets/hypothesis.csv')\n",
    "orders = pd.read_csv('/datasets/orders.csv')\n",
    "visitors = pd.read_csv('/datasets/visitors.csv')"
   ]
  },
  {
   "cell_type": "code",
   "execution_count": 4,
   "id": "9174e197",
   "metadata": {},
   "outputs": [],
   "source": [
    "#Базовая функция для ознакомления с данными: инфо о типах, пропусках, явных дубликатах\n",
    "def show_data(df):\n",
    "    display(df.head(20))\n",
    "    print('-----')\n",
    "    print('Информация о типах данных')\n",
    "    df.info()\n",
    "    print('-----')\n",
    "    for col in df.columns:\n",
    "        print('Название:', col, '\\nПропусков:\\t', df[col].isna().sum(), 'Процент пропусков:\\t', round(df[col].isna().sum() *100 / len(df[col])))\n",
    "    round(df[col].isna().sum() *100 / len(df[col]))\n",
    "    print('-----')\n",
    "    print('Явных дубликатов')\n",
    "    print(df.duplicated().sum())"
   ]
  },
  {
   "cell_type": "code",
   "execution_count": 5,
   "id": "df7a851c",
   "metadata": {},
   "outputs": [
    {
     "data": {
      "text/html": [
       "<div>\n",
       "<style scoped>\n",
       "    .dataframe tbody tr th:only-of-type {\n",
       "        vertical-align: middle;\n",
       "    }\n",
       "\n",
       "    .dataframe tbody tr th {\n",
       "        vertical-align: top;\n",
       "    }\n",
       "\n",
       "    .dataframe thead th {\n",
       "        text-align: right;\n",
       "    }\n",
       "</style>\n",
       "<table border=\"1\" class=\"dataframe\">\n",
       "  <thead>\n",
       "    <tr style=\"text-align: right;\">\n",
       "      <th></th>\n",
       "      <th>Hypothesis</th>\n",
       "      <th>Reach</th>\n",
       "      <th>Impact</th>\n",
       "      <th>Confidence</th>\n",
       "      <th>Efforts</th>\n",
       "    </tr>\n",
       "  </thead>\n",
       "  <tbody>\n",
       "    <tr>\n",
       "      <th>0</th>\n",
       "      <td>Добавить два новых канала привлечения трафика, что позволит привлекать на 30% больше пользователей</td>\n",
       "      <td>3</td>\n",
       "      <td>10</td>\n",
       "      <td>8</td>\n",
       "      <td>6</td>\n",
       "    </tr>\n",
       "    <tr>\n",
       "      <th>1</th>\n",
       "      <td>Запустить собственную службу доставки, что сократит срок доставки заказов</td>\n",
       "      <td>2</td>\n",
       "      <td>5</td>\n",
       "      <td>4</td>\n",
       "      <td>10</td>\n",
       "    </tr>\n",
       "    <tr>\n",
       "      <th>2</th>\n",
       "      <td>Добавить блоки рекомендаций товаров на сайт интернет магазина, чтобы повысить конверсию и средний чек заказа</td>\n",
       "      <td>8</td>\n",
       "      <td>3</td>\n",
       "      <td>7</td>\n",
       "      <td>3</td>\n",
       "    </tr>\n",
       "    <tr>\n",
       "      <th>3</th>\n",
       "      <td>Изменить структура категорий, что увеличит конверсию, т.к. пользователи быстрее найдут нужный товар</td>\n",
       "      <td>8</td>\n",
       "      <td>3</td>\n",
       "      <td>3</td>\n",
       "      <td>8</td>\n",
       "    </tr>\n",
       "    <tr>\n",
       "      <th>4</th>\n",
       "      <td>Изменить цвет фона главной страницы, чтобы увеличить вовлеченность пользователей</td>\n",
       "      <td>3</td>\n",
       "      <td>1</td>\n",
       "      <td>1</td>\n",
       "      <td>1</td>\n",
       "    </tr>\n",
       "    <tr>\n",
       "      <th>5</th>\n",
       "      <td>Добавить страницу отзывов клиентов о магазине, что позволит увеличить количество заказов</td>\n",
       "      <td>3</td>\n",
       "      <td>2</td>\n",
       "      <td>2</td>\n",
       "      <td>3</td>\n",
       "    </tr>\n",
       "    <tr>\n",
       "      <th>6</th>\n",
       "      <td>Показать на главной странице баннеры с актуальными акциями и распродажами, чтобы увеличить конверсию</td>\n",
       "      <td>5</td>\n",
       "      <td>3</td>\n",
       "      <td>8</td>\n",
       "      <td>3</td>\n",
       "    </tr>\n",
       "    <tr>\n",
       "      <th>7</th>\n",
       "      <td>Добавить форму подписки на все основные страницы, чтобы собрать базу клиентов для email-рассылок</td>\n",
       "      <td>10</td>\n",
       "      <td>7</td>\n",
       "      <td>8</td>\n",
       "      <td>5</td>\n",
       "    </tr>\n",
       "    <tr>\n",
       "      <th>8</th>\n",
       "      <td>Запустить акцию, дающую скидку на товар в день рождения</td>\n",
       "      <td>1</td>\n",
       "      <td>9</td>\n",
       "      <td>9</td>\n",
       "      <td>5</td>\n",
       "    </tr>\n",
       "  </tbody>\n",
       "</table>\n",
       "</div>"
      ],
      "text/plain": [
       "                                                                                                     Hypothesis  \\\n",
       "0            Добавить два новых канала привлечения трафика, что позволит привлекать на 30% больше пользователей   \n",
       "1                                     Запустить собственную службу доставки, что сократит срок доставки заказов   \n",
       "2  Добавить блоки рекомендаций товаров на сайт интернет магазина, чтобы повысить конверсию и средний чек заказа   \n",
       "3           Изменить структура категорий, что увеличит конверсию, т.к. пользователи быстрее найдут нужный товар   \n",
       "4                              Изменить цвет фона главной страницы, чтобы увеличить вовлеченность пользователей   \n",
       "5                      Добавить страницу отзывов клиентов о магазине, что позволит увеличить количество заказов   \n",
       "6          Показать на главной странице баннеры с актуальными акциями и распродажами, чтобы увеличить конверсию   \n",
       "7              Добавить форму подписки на все основные страницы, чтобы собрать базу клиентов для email-рассылок   \n",
       "8                                                       Запустить акцию, дающую скидку на товар в день рождения   \n",
       "\n",
       "   Reach  Impact  Confidence  Efforts  \n",
       "0      3      10           8        6  \n",
       "1      2       5           4       10  \n",
       "2      8       3           7        3  \n",
       "3      8       3           3        8  \n",
       "4      3       1           1        1  \n",
       "5      3       2           2        3  \n",
       "6      5       3           8        3  \n",
       "7     10       7           8        5  \n",
       "8      1       9           9        5  "
      ]
     },
     "metadata": {},
     "output_type": "display_data"
    },
    {
     "name": "stdout",
     "output_type": "stream",
     "text": [
      "-----\n",
      "Информация о типах данных\n",
      "<class 'pandas.core.frame.DataFrame'>\n",
      "RangeIndex: 9 entries, 0 to 8\n",
      "Data columns (total 5 columns):\n",
      " #   Column      Non-Null Count  Dtype \n",
      "---  ------      --------------  ----- \n",
      " 0   Hypothesis  9 non-null      object\n",
      " 1   Reach       9 non-null      int64 \n",
      " 2   Impact      9 non-null      int64 \n",
      " 3   Confidence  9 non-null      int64 \n",
      " 4   Efforts     9 non-null      int64 \n",
      "dtypes: int64(4), object(1)\n",
      "memory usage: 488.0+ bytes\n",
      "-----\n",
      "Название: Hypothesis \n",
      "Пропусков:\t 0 Процент пропусков:\t 0\n",
      "Название: Reach \n",
      "Пропусков:\t 0 Процент пропусков:\t 0\n",
      "Название: Impact \n",
      "Пропусков:\t 0 Процент пропусков:\t 0\n",
      "Название: Confidence \n",
      "Пропусков:\t 0 Процент пропусков:\t 0\n",
      "Название: Efforts \n",
      "Пропусков:\t 0 Процент пропусков:\t 0\n",
      "-----\n",
      "Явных дубликатов\n",
      "0\n"
     ]
    }
   ],
   "source": [
    "show_data(hypo)"
   ]
  },
  {
   "cell_type": "code",
   "execution_count": 6,
   "id": "dd9fc1a6",
   "metadata": {},
   "outputs": [
    {
     "data": {
      "text/html": [
       "<div>\n",
       "<style scoped>\n",
       "    .dataframe tbody tr th:only-of-type {\n",
       "        vertical-align: middle;\n",
       "    }\n",
       "\n",
       "    .dataframe tbody tr th {\n",
       "        vertical-align: top;\n",
       "    }\n",
       "\n",
       "    .dataframe thead th {\n",
       "        text-align: right;\n",
       "    }\n",
       "</style>\n",
       "<table border=\"1\" class=\"dataframe\">\n",
       "  <thead>\n",
       "    <tr style=\"text-align: right;\">\n",
       "      <th></th>\n",
       "      <th>transactionId</th>\n",
       "      <th>visitorId</th>\n",
       "      <th>date</th>\n",
       "      <th>revenue</th>\n",
       "      <th>group</th>\n",
       "    </tr>\n",
       "  </thead>\n",
       "  <tbody>\n",
       "    <tr>\n",
       "      <th>0</th>\n",
       "      <td>3667963787</td>\n",
       "      <td>3312258926</td>\n",
       "      <td>2019-08-15</td>\n",
       "      <td>1650</td>\n",
       "      <td>B</td>\n",
       "    </tr>\n",
       "    <tr>\n",
       "      <th>1</th>\n",
       "      <td>2804400009</td>\n",
       "      <td>3642806036</td>\n",
       "      <td>2019-08-15</td>\n",
       "      <td>730</td>\n",
       "      <td>B</td>\n",
       "    </tr>\n",
       "    <tr>\n",
       "      <th>2</th>\n",
       "      <td>2961555356</td>\n",
       "      <td>4069496402</td>\n",
       "      <td>2019-08-15</td>\n",
       "      <td>400</td>\n",
       "      <td>A</td>\n",
       "    </tr>\n",
       "    <tr>\n",
       "      <th>3</th>\n",
       "      <td>3797467345</td>\n",
       "      <td>1196621759</td>\n",
       "      <td>2019-08-15</td>\n",
       "      <td>9759</td>\n",
       "      <td>B</td>\n",
       "    </tr>\n",
       "    <tr>\n",
       "      <th>4</th>\n",
       "      <td>2282983706</td>\n",
       "      <td>2322279887</td>\n",
       "      <td>2019-08-15</td>\n",
       "      <td>2308</td>\n",
       "      <td>B</td>\n",
       "    </tr>\n",
       "    <tr>\n",
       "      <th>5</th>\n",
       "      <td>182168103</td>\n",
       "      <td>935554773</td>\n",
       "      <td>2019-08-15</td>\n",
       "      <td>2210</td>\n",
       "      <td>B</td>\n",
       "    </tr>\n",
       "    <tr>\n",
       "      <th>6</th>\n",
       "      <td>398296753</td>\n",
       "      <td>2900797465</td>\n",
       "      <td>2019-08-15</td>\n",
       "      <td>1860</td>\n",
       "      <td>B</td>\n",
       "    </tr>\n",
       "    <tr>\n",
       "      <th>7</th>\n",
       "      <td>2626614568</td>\n",
       "      <td>78758296</td>\n",
       "      <td>2019-08-15</td>\n",
       "      <td>1044</td>\n",
       "      <td>A</td>\n",
       "    </tr>\n",
       "    <tr>\n",
       "      <th>8</th>\n",
       "      <td>1576988021</td>\n",
       "      <td>295230930</td>\n",
       "      <td>2019-08-15</td>\n",
       "      <td>13710</td>\n",
       "      <td>A</td>\n",
       "    </tr>\n",
       "    <tr>\n",
       "      <th>9</th>\n",
       "      <td>1506739906</td>\n",
       "      <td>1882260405</td>\n",
       "      <td>2019-08-15</td>\n",
       "      <td>1855</td>\n",
       "      <td>B</td>\n",
       "    </tr>\n",
       "    <tr>\n",
       "      <th>10</th>\n",
       "      <td>3649131742</td>\n",
       "      <td>879864040</td>\n",
       "      <td>2019-08-15</td>\n",
       "      <td>4008</td>\n",
       "      <td>A</td>\n",
       "    </tr>\n",
       "    <tr>\n",
       "      <th>11</th>\n",
       "      <td>1919444843</td>\n",
       "      <td>927791387</td>\n",
       "      <td>2019-08-15</td>\n",
       "      <td>4499</td>\n",
       "      <td>B</td>\n",
       "    </tr>\n",
       "    <tr>\n",
       "      <th>12</th>\n",
       "      <td>2809384911</td>\n",
       "      <td>3213223594</td>\n",
       "      <td>2019-08-15</td>\n",
       "      <td>7370</td>\n",
       "      <td>A</td>\n",
       "    </tr>\n",
       "    <tr>\n",
       "      <th>13</th>\n",
       "      <td>3044797713</td>\n",
       "      <td>728063420</td>\n",
       "      <td>2019-08-15</td>\n",
       "      <td>11985</td>\n",
       "      <td>B</td>\n",
       "    </tr>\n",
       "    <tr>\n",
       "      <th>14</th>\n",
       "      <td>3859315276</td>\n",
       "      <td>1565034404</td>\n",
       "      <td>2019-08-15</td>\n",
       "      <td>10980</td>\n",
       "      <td>A</td>\n",
       "    </tr>\n",
       "    <tr>\n",
       "      <th>15</th>\n",
       "      <td>2550768810</td>\n",
       "      <td>2742574263</td>\n",
       "      <td>2019-08-15</td>\n",
       "      <td>15277</td>\n",
       "      <td>B</td>\n",
       "    </tr>\n",
       "    <tr>\n",
       "      <th>16</th>\n",
       "      <td>1820531107</td>\n",
       "      <td>2973109265</td>\n",
       "      <td>2019-08-15</td>\n",
       "      <td>1060</td>\n",
       "      <td>B</td>\n",
       "    </tr>\n",
       "    <tr>\n",
       "      <th>17</th>\n",
       "      <td>1108180333</td>\n",
       "      <td>222718357</td>\n",
       "      <td>2019-08-15</td>\n",
       "      <td>990</td>\n",
       "      <td>B</td>\n",
       "    </tr>\n",
       "    <tr>\n",
       "      <th>18</th>\n",
       "      <td>1822256754</td>\n",
       "      <td>4227830084</td>\n",
       "      <td>2019-08-15</td>\n",
       "      <td>16490</td>\n",
       "      <td>A</td>\n",
       "    </tr>\n",
       "    <tr>\n",
       "      <th>19</th>\n",
       "      <td>674584210</td>\n",
       "      <td>3207734412</td>\n",
       "      <td>2019-08-15</td>\n",
       "      <td>1190</td>\n",
       "      <td>A</td>\n",
       "    </tr>\n",
       "  </tbody>\n",
       "</table>\n",
       "</div>"
      ],
      "text/plain": [
       "    transactionId   visitorId        date  revenue group\n",
       "0      3667963787  3312258926  2019-08-15     1650     B\n",
       "1      2804400009  3642806036  2019-08-15      730     B\n",
       "2      2961555356  4069496402  2019-08-15      400     A\n",
       "3      3797467345  1196621759  2019-08-15     9759     B\n",
       "4      2282983706  2322279887  2019-08-15     2308     B\n",
       "5       182168103   935554773  2019-08-15     2210     B\n",
       "6       398296753  2900797465  2019-08-15     1860     B\n",
       "7      2626614568    78758296  2019-08-15     1044     A\n",
       "8      1576988021   295230930  2019-08-15    13710     A\n",
       "9      1506739906  1882260405  2019-08-15     1855     B\n",
       "10     3649131742   879864040  2019-08-15     4008     A\n",
       "11     1919444843   927791387  2019-08-15     4499     B\n",
       "12     2809384911  3213223594  2019-08-15     7370     A\n",
       "13     3044797713   728063420  2019-08-15    11985     B\n",
       "14     3859315276  1565034404  2019-08-15    10980     A\n",
       "15     2550768810  2742574263  2019-08-15    15277     B\n",
       "16     1820531107  2973109265  2019-08-15     1060     B\n",
       "17     1108180333   222718357  2019-08-15      990     B\n",
       "18     1822256754  4227830084  2019-08-15    16490     A\n",
       "19      674584210  3207734412  2019-08-15     1190     A"
      ]
     },
     "metadata": {},
     "output_type": "display_data"
    },
    {
     "name": "stdout",
     "output_type": "stream",
     "text": [
      "-----\n",
      "Информация о типах данных\n",
      "<class 'pandas.core.frame.DataFrame'>\n",
      "RangeIndex: 1197 entries, 0 to 1196\n",
      "Data columns (total 5 columns):\n",
      " #   Column         Non-Null Count  Dtype \n",
      "---  ------         --------------  ----- \n",
      " 0   transactionId  1197 non-null   int64 \n",
      " 1   visitorId      1197 non-null   int64 \n",
      " 2   date           1197 non-null   object\n",
      " 3   revenue        1197 non-null   int64 \n",
      " 4   group          1197 non-null   object\n",
      "dtypes: int64(3), object(2)\n",
      "memory usage: 46.9+ KB\n",
      "-----\n",
      "Название: transactionId \n",
      "Пропусков:\t 0 Процент пропусков:\t 0\n",
      "Название: visitorId \n",
      "Пропусков:\t 0 Процент пропусков:\t 0\n",
      "Название: date \n",
      "Пропусков:\t 0 Процент пропусков:\t 0\n",
      "Название: revenue \n",
      "Пропусков:\t 0 Процент пропусков:\t 0\n",
      "Название: group \n",
      "Пропусков:\t 0 Процент пропусков:\t 0\n",
      "-----\n",
      "Явных дубликатов\n",
      "0\n"
     ]
    }
   ],
   "source": [
    "show_data(orders)"
   ]
  },
  {
   "cell_type": "code",
   "execution_count": 7,
   "id": "d7c9f61c",
   "metadata": {},
   "outputs": [
    {
     "data": {
      "text/html": [
       "<div>\n",
       "<style scoped>\n",
       "    .dataframe tbody tr th:only-of-type {\n",
       "        vertical-align: middle;\n",
       "    }\n",
       "\n",
       "    .dataframe tbody tr th {\n",
       "        vertical-align: top;\n",
       "    }\n",
       "\n",
       "    .dataframe thead th {\n",
       "        text-align: right;\n",
       "    }\n",
       "</style>\n",
       "<table border=\"1\" class=\"dataframe\">\n",
       "  <thead>\n",
       "    <tr style=\"text-align: right;\">\n",
       "      <th></th>\n",
       "      <th>date</th>\n",
       "      <th>group</th>\n",
       "      <th>visitors</th>\n",
       "    </tr>\n",
       "  </thead>\n",
       "  <tbody>\n",
       "    <tr>\n",
       "      <th>0</th>\n",
       "      <td>2019-08-01</td>\n",
       "      <td>A</td>\n",
       "      <td>719</td>\n",
       "    </tr>\n",
       "    <tr>\n",
       "      <th>1</th>\n",
       "      <td>2019-08-02</td>\n",
       "      <td>A</td>\n",
       "      <td>619</td>\n",
       "    </tr>\n",
       "    <tr>\n",
       "      <th>2</th>\n",
       "      <td>2019-08-03</td>\n",
       "      <td>A</td>\n",
       "      <td>507</td>\n",
       "    </tr>\n",
       "    <tr>\n",
       "      <th>3</th>\n",
       "      <td>2019-08-04</td>\n",
       "      <td>A</td>\n",
       "      <td>717</td>\n",
       "    </tr>\n",
       "    <tr>\n",
       "      <th>4</th>\n",
       "      <td>2019-08-05</td>\n",
       "      <td>A</td>\n",
       "      <td>756</td>\n",
       "    </tr>\n",
       "    <tr>\n",
       "      <th>5</th>\n",
       "      <td>2019-08-06</td>\n",
       "      <td>A</td>\n",
       "      <td>667</td>\n",
       "    </tr>\n",
       "    <tr>\n",
       "      <th>6</th>\n",
       "      <td>2019-08-07</td>\n",
       "      <td>A</td>\n",
       "      <td>644</td>\n",
       "    </tr>\n",
       "    <tr>\n",
       "      <th>7</th>\n",
       "      <td>2019-08-08</td>\n",
       "      <td>A</td>\n",
       "      <td>610</td>\n",
       "    </tr>\n",
       "    <tr>\n",
       "      <th>8</th>\n",
       "      <td>2019-08-09</td>\n",
       "      <td>A</td>\n",
       "      <td>617</td>\n",
       "    </tr>\n",
       "    <tr>\n",
       "      <th>9</th>\n",
       "      <td>2019-08-10</td>\n",
       "      <td>A</td>\n",
       "      <td>406</td>\n",
       "    </tr>\n",
       "    <tr>\n",
       "      <th>10</th>\n",
       "      <td>2019-08-11</td>\n",
       "      <td>A</td>\n",
       "      <td>718</td>\n",
       "    </tr>\n",
       "    <tr>\n",
       "      <th>11</th>\n",
       "      <td>2019-08-12</td>\n",
       "      <td>A</td>\n",
       "      <td>595</td>\n",
       "    </tr>\n",
       "    <tr>\n",
       "      <th>12</th>\n",
       "      <td>2019-08-13</td>\n",
       "      <td>A</td>\n",
       "      <td>748</td>\n",
       "    </tr>\n",
       "    <tr>\n",
       "      <th>13</th>\n",
       "      <td>2019-08-14</td>\n",
       "      <td>A</td>\n",
       "      <td>735</td>\n",
       "    </tr>\n",
       "    <tr>\n",
       "      <th>14</th>\n",
       "      <td>2019-08-15</td>\n",
       "      <td>A</td>\n",
       "      <td>628</td>\n",
       "    </tr>\n",
       "    <tr>\n",
       "      <th>15</th>\n",
       "      <td>2019-08-16</td>\n",
       "      <td>A</td>\n",
       "      <td>361</td>\n",
       "    </tr>\n",
       "    <tr>\n",
       "      <th>16</th>\n",
       "      <td>2019-08-17</td>\n",
       "      <td>A</td>\n",
       "      <td>412</td>\n",
       "    </tr>\n",
       "    <tr>\n",
       "      <th>17</th>\n",
       "      <td>2019-08-18</td>\n",
       "      <td>A</td>\n",
       "      <td>668</td>\n",
       "    </tr>\n",
       "    <tr>\n",
       "      <th>18</th>\n",
       "      <td>2019-08-19</td>\n",
       "      <td>A</td>\n",
       "      <td>502</td>\n",
       "    </tr>\n",
       "    <tr>\n",
       "      <th>19</th>\n",
       "      <td>2019-08-20</td>\n",
       "      <td>A</td>\n",
       "      <td>575</td>\n",
       "    </tr>\n",
       "  </tbody>\n",
       "</table>\n",
       "</div>"
      ],
      "text/plain": [
       "          date group  visitors\n",
       "0   2019-08-01     A       719\n",
       "1   2019-08-02     A       619\n",
       "2   2019-08-03     A       507\n",
       "3   2019-08-04     A       717\n",
       "4   2019-08-05     A       756\n",
       "5   2019-08-06     A       667\n",
       "6   2019-08-07     A       644\n",
       "7   2019-08-08     A       610\n",
       "8   2019-08-09     A       617\n",
       "9   2019-08-10     A       406\n",
       "10  2019-08-11     A       718\n",
       "11  2019-08-12     A       595\n",
       "12  2019-08-13     A       748\n",
       "13  2019-08-14     A       735\n",
       "14  2019-08-15     A       628\n",
       "15  2019-08-16     A       361\n",
       "16  2019-08-17     A       412\n",
       "17  2019-08-18     A       668\n",
       "18  2019-08-19     A       502\n",
       "19  2019-08-20     A       575"
      ]
     },
     "metadata": {},
     "output_type": "display_data"
    },
    {
     "name": "stdout",
     "output_type": "stream",
     "text": [
      "-----\n",
      "Информация о типах данных\n",
      "<class 'pandas.core.frame.DataFrame'>\n",
      "RangeIndex: 62 entries, 0 to 61\n",
      "Data columns (total 3 columns):\n",
      " #   Column    Non-Null Count  Dtype \n",
      "---  ------    --------------  ----- \n",
      " 0   date      62 non-null     object\n",
      " 1   group     62 non-null     object\n",
      " 2   visitors  62 non-null     int64 \n",
      "dtypes: int64(1), object(2)\n",
      "memory usage: 1.6+ KB\n",
      "-----\n",
      "Название: date \n",
      "Пропусков:\t 0 Процент пропусков:\t 0\n",
      "Название: group \n",
      "Пропусков:\t 0 Процент пропусков:\t 0\n",
      "Название: visitors \n",
      "Пропусков:\t 0 Процент пропусков:\t 0\n",
      "-----\n",
      "Явных дубликатов\n",
      "0\n"
     ]
    }
   ],
   "source": [
    "show_data(visitors)"
   ]
  },
  {
   "cell_type": "markdown",
   "id": "8ed97903",
   "metadata": {},
   "source": [
    "<b>Краткий вывод: </b>В ходе предварительного просмотра данных пропусков не обнаружено, явные дубликаты отсутствуют. Имеется несоответствие типов данных, нужно будет перевести в тип \"дата\"."
   ]
  },
  {
   "cell_type": "markdown",
   "id": "6e6844dc",
   "metadata": {},
   "source": [
    "### 2. Предобработка данных"
   ]
  },
  {
   "cell_type": "markdown",
   "id": "e8327c59",
   "metadata": {},
   "source": [
    "<u><b>Привидение наименования столбцов в \"змеиный\" формат"
   ]
  },
  {
   "cell_type": "code",
   "execution_count": 8,
   "id": "8cc75eb0",
   "metadata": {},
   "outputs": [
    {
     "data": {
      "text/html": [
       "<div>\n",
       "<style scoped>\n",
       "    .dataframe tbody tr th:only-of-type {\n",
       "        vertical-align: middle;\n",
       "    }\n",
       "\n",
       "    .dataframe tbody tr th {\n",
       "        vertical-align: top;\n",
       "    }\n",
       "\n",
       "    .dataframe thead th {\n",
       "        text-align: right;\n",
       "    }\n",
       "</style>\n",
       "<table border=\"1\" class=\"dataframe\">\n",
       "  <thead>\n",
       "    <tr style=\"text-align: right;\">\n",
       "      <th></th>\n",
       "      <th>hypothesis</th>\n",
       "      <th>reach</th>\n",
       "      <th>impact</th>\n",
       "      <th>confidence</th>\n",
       "      <th>efforts</th>\n",
       "    </tr>\n",
       "  </thead>\n",
       "  <tbody>\n",
       "    <tr>\n",
       "      <th>0</th>\n",
       "      <td>Добавить два новых канала привлечения трафика, что позволит привлекать на 30% больше пользователей</td>\n",
       "      <td>3</td>\n",
       "      <td>10</td>\n",
       "      <td>8</td>\n",
       "      <td>6</td>\n",
       "    </tr>\n",
       "    <tr>\n",
       "      <th>1</th>\n",
       "      <td>Запустить собственную службу доставки, что сократит срок доставки заказов</td>\n",
       "      <td>2</td>\n",
       "      <td>5</td>\n",
       "      <td>4</td>\n",
       "      <td>10</td>\n",
       "    </tr>\n",
       "    <tr>\n",
       "      <th>2</th>\n",
       "      <td>Добавить блоки рекомендаций товаров на сайт интернет магазина, чтобы повысить конверсию и средний чек заказа</td>\n",
       "      <td>8</td>\n",
       "      <td>3</td>\n",
       "      <td>7</td>\n",
       "      <td>3</td>\n",
       "    </tr>\n",
       "    <tr>\n",
       "      <th>3</th>\n",
       "      <td>Изменить структура категорий, что увеличит конверсию, т.к. пользователи быстрее найдут нужный товар</td>\n",
       "      <td>8</td>\n",
       "      <td>3</td>\n",
       "      <td>3</td>\n",
       "      <td>8</td>\n",
       "    </tr>\n",
       "    <tr>\n",
       "      <th>4</th>\n",
       "      <td>Изменить цвет фона главной страницы, чтобы увеличить вовлеченность пользователей</td>\n",
       "      <td>3</td>\n",
       "      <td>1</td>\n",
       "      <td>1</td>\n",
       "      <td>1</td>\n",
       "    </tr>\n",
       "    <tr>\n",
       "      <th>5</th>\n",
       "      <td>Добавить страницу отзывов клиентов о магазине, что позволит увеличить количество заказов</td>\n",
       "      <td>3</td>\n",
       "      <td>2</td>\n",
       "      <td>2</td>\n",
       "      <td>3</td>\n",
       "    </tr>\n",
       "    <tr>\n",
       "      <th>6</th>\n",
       "      <td>Показать на главной странице баннеры с актуальными акциями и распродажами, чтобы увеличить конверсию</td>\n",
       "      <td>5</td>\n",
       "      <td>3</td>\n",
       "      <td>8</td>\n",
       "      <td>3</td>\n",
       "    </tr>\n",
       "    <tr>\n",
       "      <th>7</th>\n",
       "      <td>Добавить форму подписки на все основные страницы, чтобы собрать базу клиентов для email-рассылок</td>\n",
       "      <td>10</td>\n",
       "      <td>7</td>\n",
       "      <td>8</td>\n",
       "      <td>5</td>\n",
       "    </tr>\n",
       "    <tr>\n",
       "      <th>8</th>\n",
       "      <td>Запустить акцию, дающую скидку на товар в день рождения</td>\n",
       "      <td>1</td>\n",
       "      <td>9</td>\n",
       "      <td>9</td>\n",
       "      <td>5</td>\n",
       "    </tr>\n",
       "  </tbody>\n",
       "</table>\n",
       "</div>"
      ],
      "text/plain": [
       "                                                                                                     hypothesis  \\\n",
       "0            Добавить два новых канала привлечения трафика, что позволит привлекать на 30% больше пользователей   \n",
       "1                                     Запустить собственную службу доставки, что сократит срок доставки заказов   \n",
       "2  Добавить блоки рекомендаций товаров на сайт интернет магазина, чтобы повысить конверсию и средний чек заказа   \n",
       "3           Изменить структура категорий, что увеличит конверсию, т.к. пользователи быстрее найдут нужный товар   \n",
       "4                              Изменить цвет фона главной страницы, чтобы увеличить вовлеченность пользователей   \n",
       "5                      Добавить страницу отзывов клиентов о магазине, что позволит увеличить количество заказов   \n",
       "6          Показать на главной странице баннеры с актуальными акциями и распродажами, чтобы увеличить конверсию   \n",
       "7              Добавить форму подписки на все основные страницы, чтобы собрать базу клиентов для email-рассылок   \n",
       "8                                                       Запустить акцию, дающую скидку на товар в день рождения   \n",
       "\n",
       "   reach  impact  confidence  efforts  \n",
       "0      3      10           8        6  \n",
       "1      2       5           4       10  \n",
       "2      8       3           7        3  \n",
       "3      8       3           3        8  \n",
       "4      3       1           1        1  \n",
       "5      3       2           2        3  \n",
       "6      5       3           8        3  \n",
       "7     10       7           8        5  \n",
       "8      1       9           9        5  "
      ]
     },
     "execution_count": 8,
     "metadata": {},
     "output_type": "execute_result"
    }
   ],
   "source": [
    "hypo.columns = hypo.columns.str.lower()\n",
    "hypo"
   ]
  },
  {
   "cell_type": "code",
   "execution_count": 9,
   "id": "708889a7",
   "metadata": {},
   "outputs": [
    {
     "data": {
      "text/plain": [
       "Index(['transaction_id', 'visitor_id', 'date', 'revenue', 'group'], dtype='object')"
      ]
     },
     "execution_count": 9,
     "metadata": {},
     "output_type": "execute_result"
    }
   ],
   "source": [
    "orders.rename(columns={'transactionId':'transaction_id', 'visitorId':'visitor_id'}, inplace=True)\n",
    "orders.columns"
   ]
  },
  {
   "cell_type": "markdown",
   "id": "8ddc2220",
   "metadata": {},
   "source": [
    "<u><b> Преобразование типов данных"
   ]
  },
  {
   "cell_type": "markdown",
   "id": "a58604d6",
   "metadata": {},
   "source": [
    "В датафреймах столбцы с датами имеют тип \"object\", изменим тип на \"data\""
   ]
  },
  {
   "cell_type": "code",
   "execution_count": 10,
   "id": "7bda6528",
   "metadata": {},
   "outputs": [
    {
     "name": "stdout",
     "output_type": "stream",
     "text": [
      "<class 'pandas.core.frame.DataFrame'>\n",
      "RangeIndex: 1197 entries, 0 to 1196\n",
      "Data columns (total 5 columns):\n",
      " #   Column          Non-Null Count  Dtype         \n",
      "---  ------          --------------  -----         \n",
      " 0   transaction_id  1197 non-null   int64         \n",
      " 1   visitor_id      1197 non-null   int64         \n",
      " 2   date            1197 non-null   datetime64[ns]\n",
      " 3   revenue         1197 non-null   int64         \n",
      " 4   group           1197 non-null   object        \n",
      "dtypes: datetime64[ns](1), int64(3), object(1)\n",
      "memory usage: 46.9+ KB\n"
     ]
    }
   ],
   "source": [
    "orders['date'] = pd.to_datetime(orders['date'], format='%Y-%m-%d')\n",
    "orders.info()"
   ]
  },
  {
   "cell_type": "code",
   "execution_count": 11,
   "id": "28635ec8",
   "metadata": {},
   "outputs": [
    {
     "name": "stdout",
     "output_type": "stream",
     "text": [
      "<class 'pandas.core.frame.DataFrame'>\n",
      "RangeIndex: 62 entries, 0 to 61\n",
      "Data columns (total 3 columns):\n",
      " #   Column    Non-Null Count  Dtype         \n",
      "---  ------    --------------  -----         \n",
      " 0   date      62 non-null     datetime64[ns]\n",
      " 1   group     62 non-null     object        \n",
      " 2   visitors  62 non-null     int64         \n",
      "dtypes: datetime64[ns](1), int64(1), object(1)\n",
      "memory usage: 1.6+ KB\n"
     ]
    }
   ],
   "source": [
    "visitors['date'] = pd.to_datetime(visitors['date'], format='%Y-%m-%d')\n",
    "visitors.info()"
   ]
  },
  {
   "cell_type": "markdown",
   "id": "cd833921",
   "metadata": {},
   "source": [
    "Проверим количество пользователей, которые относятся к обеим группам."
   ]
  },
  {
   "cell_type": "code",
   "execution_count": 12,
   "id": "8ad106b7",
   "metadata": {},
   "outputs": [
    {
     "data": {
      "text/plain": [
       "58"
      ]
     },
     "execution_count": 12,
     "metadata": {},
     "output_type": "execute_result"
    }
   ],
   "source": [
    "doubles = orders.groupby(['visitor_id']).agg({'group' : 'nunique', 'transaction_id' : 'count', 'revenue' : 'sum'}).reset_index()\n",
    "doubles_users = doubles[doubles.group != 1][\"visitor_id\"].count()\n",
    "doubles_users"
   ]
  },
  {
   "cell_type": "markdown",
   "id": "ea1d6044",
   "metadata": {},
   "source": [
    "58 пользователей относятся к обеим группам. Однако из общего датафрейма исключать их не будем, т.к. нас интересует только сумма заказа"
   ]
  },
  {
   "cell_type": "markdown",
   "id": "34e2e3ae",
   "metadata": {},
   "source": [
    "<div style=\"text-align: justify \">\n",
    "<b>Вывод: </b> В ходе ознакомления и предобработки данных стало известно, что имеется три массива данных. <b>Hypothesis</b> содержит данные о гипотезах, охвате пользователей, влиянии на пользователей, уверенности в гипотезе по 10-балльной шкале, затратах ресурсов на проверку гипотезы. <b>Orders</b> содержит данные о идентификаторах заказа и пользователя, дате и выручки заказа, группах A/B-теста, в которую попал заказ. <b>Visitors</b> содержит данные о дате, группе A/B-теста, количестве пользователей в указанную дату в указанной группе A/B-теста. Столбцы с данными о дате были преобразованы в тип \"data\". Для \"красоты\" отображения наименования столбцов переведено в \"змеиный\" формат. В датафрейме имеется 58 пользователей, которые относятся и к группе А и к группе В, однако исключать данных пользователей не имеет смысла, т.к. для анализа нам интересны только детали транзакций."
   ]
  },
  {
   "cell_type": "markdown",
   "id": "57955b16",
   "metadata": {},
   "source": [
    "### 3. Приоритизация гипотиз"
   ]
  },
  {
   "cell_type": "markdown",
   "id": "d53e7f54",
   "metadata": {},
   "source": [
    "<u><b>ICE"
   ]
  },
  {
   "cell_type": "markdown",
   "id": "03d4e8cc",
   "metadata": {},
   "source": [
    "Применим фреймворк ICE для приоритизации гипотез и отсортируем их по убыванию приоритета."
   ]
  },
  {
   "cell_type": "code",
   "execution_count": 13,
   "id": "5a8c51f7",
   "metadata": {},
   "outputs": [
    {
     "data": {
      "text/html": [
       "<div>\n",
       "<style scoped>\n",
       "    .dataframe tbody tr th:only-of-type {\n",
       "        vertical-align: middle;\n",
       "    }\n",
       "\n",
       "    .dataframe tbody tr th {\n",
       "        vertical-align: top;\n",
       "    }\n",
       "\n",
       "    .dataframe thead th {\n",
       "        text-align: right;\n",
       "    }\n",
       "</style>\n",
       "<table border=\"1\" class=\"dataframe\">\n",
       "  <thead>\n",
       "    <tr style=\"text-align: right;\">\n",
       "      <th></th>\n",
       "      <th>hypothesis</th>\n",
       "      <th>ICE</th>\n",
       "    </tr>\n",
       "  </thead>\n",
       "  <tbody>\n",
       "    <tr>\n",
       "      <th>8</th>\n",
       "      <td>Запустить акцию, дающую скидку на товар в день рождения</td>\n",
       "      <td>16.20</td>\n",
       "    </tr>\n",
       "    <tr>\n",
       "      <th>0</th>\n",
       "      <td>Добавить два новых канала привлечения трафика, что позволит привлекать на 30% больше пользователей</td>\n",
       "      <td>13.33</td>\n",
       "    </tr>\n",
       "    <tr>\n",
       "      <th>7</th>\n",
       "      <td>Добавить форму подписки на все основные страницы, чтобы собрать базу клиентов для email-рассылок</td>\n",
       "      <td>11.20</td>\n",
       "    </tr>\n",
       "    <tr>\n",
       "      <th>6</th>\n",
       "      <td>Показать на главной странице баннеры с актуальными акциями и распродажами, чтобы увеличить конверсию</td>\n",
       "      <td>8.00</td>\n",
       "    </tr>\n",
       "    <tr>\n",
       "      <th>2</th>\n",
       "      <td>Добавить блоки рекомендаций товаров на сайт интернет магазина, чтобы повысить конверсию и средний чек заказа</td>\n",
       "      <td>7.00</td>\n",
       "    </tr>\n",
       "    <tr>\n",
       "      <th>1</th>\n",
       "      <td>Запустить собственную службу доставки, что сократит срок доставки заказов</td>\n",
       "      <td>2.00</td>\n",
       "    </tr>\n",
       "    <tr>\n",
       "      <th>5</th>\n",
       "      <td>Добавить страницу отзывов клиентов о магазине, что позволит увеличить количество заказов</td>\n",
       "      <td>1.33</td>\n",
       "    </tr>\n",
       "    <tr>\n",
       "      <th>3</th>\n",
       "      <td>Изменить структура категорий, что увеличит конверсию, т.к. пользователи быстрее найдут нужный товар</td>\n",
       "      <td>1.12</td>\n",
       "    </tr>\n",
       "    <tr>\n",
       "      <th>4</th>\n",
       "      <td>Изменить цвет фона главной страницы, чтобы увеличить вовлеченность пользователей</td>\n",
       "      <td>1.00</td>\n",
       "    </tr>\n",
       "  </tbody>\n",
       "</table>\n",
       "</div>"
      ],
      "text/plain": [
       "                                                                                                     hypothesis  \\\n",
       "8                                                       Запустить акцию, дающую скидку на товар в день рождения   \n",
       "0            Добавить два новых канала привлечения трафика, что позволит привлекать на 30% больше пользователей   \n",
       "7              Добавить форму подписки на все основные страницы, чтобы собрать базу клиентов для email-рассылок   \n",
       "6          Показать на главной странице баннеры с актуальными акциями и распродажами, чтобы увеличить конверсию   \n",
       "2  Добавить блоки рекомендаций товаров на сайт интернет магазина, чтобы повысить конверсию и средний чек заказа   \n",
       "1                                     Запустить собственную службу доставки, что сократит срок доставки заказов   \n",
       "5                      Добавить страницу отзывов клиентов о магазине, что позволит увеличить количество заказов   \n",
       "3           Изменить структура категорий, что увеличит конверсию, т.к. пользователи быстрее найдут нужный товар   \n",
       "4                              Изменить цвет фона главной страницы, чтобы увеличить вовлеченность пользователей   \n",
       "\n",
       "     ICE  \n",
       "8  16.20  \n",
       "0  13.33  \n",
       "7  11.20  \n",
       "6   8.00  \n",
       "2   7.00  \n",
       "1   2.00  \n",
       "5   1.33  \n",
       "3   1.12  \n",
       "4   1.00  "
      ]
     },
     "execution_count": 13,
     "metadata": {},
     "output_type": "execute_result"
    }
   ],
   "source": [
    "hypo['ICE'] = ((hypo['impact'] * hypo['confidence']) / hypo['efforts']).round(2)\n",
    "hypo[['hypothesis', 'ICE']].sort_values(by='ICE', ascending=False)"
   ]
  },
  {
   "cell_type": "markdown",
   "id": "a0baa37f",
   "metadata": {},
   "source": [
    "<u><b>RICE"
   ]
  },
  {
   "cell_type": "markdown",
   "id": "feb2a269",
   "metadata": {},
   "source": [
    "Применим фреймворк RICE для приоритизации гипотез и отсортируем их по убыванию приоритета."
   ]
  },
  {
   "cell_type": "code",
   "execution_count": 14,
   "id": "e09b5617",
   "metadata": {},
   "outputs": [
    {
     "data": {
      "text/html": [
       "<div>\n",
       "<style scoped>\n",
       "    .dataframe tbody tr th:only-of-type {\n",
       "        vertical-align: middle;\n",
       "    }\n",
       "\n",
       "    .dataframe tbody tr th {\n",
       "        vertical-align: top;\n",
       "    }\n",
       "\n",
       "    .dataframe thead th {\n",
       "        text-align: right;\n",
       "    }\n",
       "</style>\n",
       "<table border=\"1\" class=\"dataframe\">\n",
       "  <thead>\n",
       "    <tr style=\"text-align: right;\">\n",
       "      <th></th>\n",
       "      <th>hypothesis</th>\n",
       "      <th>RICE</th>\n",
       "    </tr>\n",
       "  </thead>\n",
       "  <tbody>\n",
       "    <tr>\n",
       "      <th>7</th>\n",
       "      <td>Добавить форму подписки на все основные страницы, чтобы собрать базу клиентов для email-рассылок</td>\n",
       "      <td>112.0</td>\n",
       "    </tr>\n",
       "    <tr>\n",
       "      <th>2</th>\n",
       "      <td>Добавить блоки рекомендаций товаров на сайт интернет магазина, чтобы повысить конверсию и средний чек заказа</td>\n",
       "      <td>56.0</td>\n",
       "    </tr>\n",
       "    <tr>\n",
       "      <th>0</th>\n",
       "      <td>Добавить два новых канала привлечения трафика, что позволит привлекать на 30% больше пользователей</td>\n",
       "      <td>40.0</td>\n",
       "    </tr>\n",
       "    <tr>\n",
       "      <th>6</th>\n",
       "      <td>Показать на главной странице баннеры с актуальными акциями и распродажами, чтобы увеличить конверсию</td>\n",
       "      <td>40.0</td>\n",
       "    </tr>\n",
       "    <tr>\n",
       "      <th>8</th>\n",
       "      <td>Запустить акцию, дающую скидку на товар в день рождения</td>\n",
       "      <td>16.2</td>\n",
       "    </tr>\n",
       "    <tr>\n",
       "      <th>3</th>\n",
       "      <td>Изменить структура категорий, что увеличит конверсию, т.к. пользователи быстрее найдут нужный товар</td>\n",
       "      <td>9.0</td>\n",
       "    </tr>\n",
       "    <tr>\n",
       "      <th>1</th>\n",
       "      <td>Запустить собственную службу доставки, что сократит срок доставки заказов</td>\n",
       "      <td>4.0</td>\n",
       "    </tr>\n",
       "    <tr>\n",
       "      <th>5</th>\n",
       "      <td>Добавить страницу отзывов клиентов о магазине, что позволит увеличить количество заказов</td>\n",
       "      <td>4.0</td>\n",
       "    </tr>\n",
       "    <tr>\n",
       "      <th>4</th>\n",
       "      <td>Изменить цвет фона главной страницы, чтобы увеличить вовлеченность пользователей</td>\n",
       "      <td>3.0</td>\n",
       "    </tr>\n",
       "  </tbody>\n",
       "</table>\n",
       "</div>"
      ],
      "text/plain": [
       "                                                                                                     hypothesis  \\\n",
       "7              Добавить форму подписки на все основные страницы, чтобы собрать базу клиентов для email-рассылок   \n",
       "2  Добавить блоки рекомендаций товаров на сайт интернет магазина, чтобы повысить конверсию и средний чек заказа   \n",
       "0            Добавить два новых канала привлечения трафика, что позволит привлекать на 30% больше пользователей   \n",
       "6          Показать на главной странице баннеры с актуальными акциями и распродажами, чтобы увеличить конверсию   \n",
       "8                                                       Запустить акцию, дающую скидку на товар в день рождения   \n",
       "3           Изменить структура категорий, что увеличит конверсию, т.к. пользователи быстрее найдут нужный товар   \n",
       "1                                     Запустить собственную службу доставки, что сократит срок доставки заказов   \n",
       "5                      Добавить страницу отзывов клиентов о магазине, что позволит увеличить количество заказов   \n",
       "4                              Изменить цвет фона главной страницы, чтобы увеличить вовлеченность пользователей   \n",
       "\n",
       "    RICE  \n",
       "7  112.0  \n",
       "2   56.0  \n",
       "0   40.0  \n",
       "6   40.0  \n",
       "8   16.2  \n",
       "3    9.0  \n",
       "1    4.0  \n",
       "5    4.0  \n",
       "4    3.0  "
      ]
     },
     "execution_count": 14,
     "metadata": {},
     "output_type": "execute_result"
    }
   ],
   "source": [
    "hypo['RICE'] = (hypo['reach'] * hypo['impact'] * hypo['confidence']) / hypo['efforts']\n",
    "hypo[['hypothesis', 'RICE']].sort_values(by='RICE', ascending=False)"
   ]
  },
  {
   "cell_type": "code",
   "execution_count": 15,
   "id": "bc9f6350",
   "metadata": {},
   "outputs": [
    {
     "data": {
      "text/html": [
       "<div>\n",
       "<style scoped>\n",
       "    .dataframe tbody tr th:only-of-type {\n",
       "        vertical-align: middle;\n",
       "    }\n",
       "\n",
       "    .dataframe tbody tr th {\n",
       "        vertical-align: top;\n",
       "    }\n",
       "\n",
       "    .dataframe thead th {\n",
       "        text-align: right;\n",
       "    }\n",
       "</style>\n",
       "<table border=\"1\" class=\"dataframe\">\n",
       "  <thead>\n",
       "    <tr style=\"text-align: right;\">\n",
       "      <th></th>\n",
       "      <th>hypothesis</th>\n",
       "      <th>reach</th>\n",
       "      <th>impact</th>\n",
       "      <th>confidence</th>\n",
       "      <th>efforts</th>\n",
       "      <th>ICE</th>\n",
       "      <th>RICE</th>\n",
       "    </tr>\n",
       "  </thead>\n",
       "  <tbody>\n",
       "    <tr>\n",
       "      <th>7</th>\n",
       "      <td>Добавить форму подписки на все основные страницы, чтобы собрать базу клиентов для email-рассылок</td>\n",
       "      <td>10</td>\n",
       "      <td>7</td>\n",
       "      <td>8</td>\n",
       "      <td>5</td>\n",
       "      <td>11.20</td>\n",
       "      <td>112.0</td>\n",
       "    </tr>\n",
       "    <tr>\n",
       "      <th>2</th>\n",
       "      <td>Добавить блоки рекомендаций товаров на сайт интернет магазина, чтобы повысить конверсию и средний чек заказа</td>\n",
       "      <td>8</td>\n",
       "      <td>3</td>\n",
       "      <td>7</td>\n",
       "      <td>3</td>\n",
       "      <td>7.00</td>\n",
       "      <td>56.0</td>\n",
       "    </tr>\n",
       "    <tr>\n",
       "      <th>0</th>\n",
       "      <td>Добавить два новых канала привлечения трафика, что позволит привлекать на 30% больше пользователей</td>\n",
       "      <td>3</td>\n",
       "      <td>10</td>\n",
       "      <td>8</td>\n",
       "      <td>6</td>\n",
       "      <td>13.33</td>\n",
       "      <td>40.0</td>\n",
       "    </tr>\n",
       "    <tr>\n",
       "      <th>6</th>\n",
       "      <td>Показать на главной странице баннеры с актуальными акциями и распродажами, чтобы увеличить конверсию</td>\n",
       "      <td>5</td>\n",
       "      <td>3</td>\n",
       "      <td>8</td>\n",
       "      <td>3</td>\n",
       "      <td>8.00</td>\n",
       "      <td>40.0</td>\n",
       "    </tr>\n",
       "    <tr>\n",
       "      <th>8</th>\n",
       "      <td>Запустить акцию, дающую скидку на товар в день рождения</td>\n",
       "      <td>1</td>\n",
       "      <td>9</td>\n",
       "      <td>9</td>\n",
       "      <td>5</td>\n",
       "      <td>16.20</td>\n",
       "      <td>16.2</td>\n",
       "    </tr>\n",
       "    <tr>\n",
       "      <th>3</th>\n",
       "      <td>Изменить структура категорий, что увеличит конверсию, т.к. пользователи быстрее найдут нужный товар</td>\n",
       "      <td>8</td>\n",
       "      <td>3</td>\n",
       "      <td>3</td>\n",
       "      <td>8</td>\n",
       "      <td>1.12</td>\n",
       "      <td>9.0</td>\n",
       "    </tr>\n",
       "    <tr>\n",
       "      <th>1</th>\n",
       "      <td>Запустить собственную службу доставки, что сократит срок доставки заказов</td>\n",
       "      <td>2</td>\n",
       "      <td>5</td>\n",
       "      <td>4</td>\n",
       "      <td>10</td>\n",
       "      <td>2.00</td>\n",
       "      <td>4.0</td>\n",
       "    </tr>\n",
       "    <tr>\n",
       "      <th>5</th>\n",
       "      <td>Добавить страницу отзывов клиентов о магазине, что позволит увеличить количество заказов</td>\n",
       "      <td>3</td>\n",
       "      <td>2</td>\n",
       "      <td>2</td>\n",
       "      <td>3</td>\n",
       "      <td>1.33</td>\n",
       "      <td>4.0</td>\n",
       "    </tr>\n",
       "    <tr>\n",
       "      <th>4</th>\n",
       "      <td>Изменить цвет фона главной страницы, чтобы увеличить вовлеченность пользователей</td>\n",
       "      <td>3</td>\n",
       "      <td>1</td>\n",
       "      <td>1</td>\n",
       "      <td>1</td>\n",
       "      <td>1.00</td>\n",
       "      <td>3.0</td>\n",
       "    </tr>\n",
       "  </tbody>\n",
       "</table>\n",
       "</div>"
      ],
      "text/plain": [
       "                                                                                                     hypothesis  \\\n",
       "7              Добавить форму подписки на все основные страницы, чтобы собрать базу клиентов для email-рассылок   \n",
       "2  Добавить блоки рекомендаций товаров на сайт интернет магазина, чтобы повысить конверсию и средний чек заказа   \n",
       "0            Добавить два новых канала привлечения трафика, что позволит привлекать на 30% больше пользователей   \n",
       "6          Показать на главной странице баннеры с актуальными акциями и распродажами, чтобы увеличить конверсию   \n",
       "8                                                       Запустить акцию, дающую скидку на товар в день рождения   \n",
       "3           Изменить структура категорий, что увеличит конверсию, т.к. пользователи быстрее найдут нужный товар   \n",
       "1                                     Запустить собственную службу доставки, что сократит срок доставки заказов   \n",
       "5                      Добавить страницу отзывов клиентов о магазине, что позволит увеличить количество заказов   \n",
       "4                              Изменить цвет фона главной страницы, чтобы увеличить вовлеченность пользователей   \n",
       "\n",
       "   reach  impact  confidence  efforts    ICE   RICE  \n",
       "7     10       7           8        5  11.20  112.0  \n",
       "2      8       3           7        3   7.00   56.0  \n",
       "0      3      10           8        6  13.33   40.0  \n",
       "6      5       3           8        3   8.00   40.0  \n",
       "8      1       9           9        5  16.20   16.2  \n",
       "3      8       3           3        8   1.12    9.0  \n",
       "1      2       5           4       10   2.00    4.0  \n",
       "5      3       2           2        3   1.33    4.0  \n",
       "4      3       1           1        1   1.00    3.0  "
      ]
     },
     "execution_count": 15,
     "metadata": {},
     "output_type": "execute_result"
    }
   ],
   "source": [
    "hypo.sort_values(by='RICE', ascending=False)"
   ]
  },
  {
   "cell_type": "markdown",
   "id": "942bdff9",
   "metadata": {},
   "source": [
    "<div style=\"text-align: justify \">\n",
    "<b>Вывод: </b> Для анализа мы имеем 9 гипотез. При расчете фреймворка <b>ICE</b> на первом месте стоит гипотеза №8 \"Запустить акцию, дающую скидку на товар в день рождения\", при расчете фреймворка <b>RICE</b> на первом месте стоит гипотеза №7 \"Добавить форму подписки на все основные страницы, чтобы собрать базу клиентов для email-рассылок\". Стоит отметить, что гипотеза №7 и гипотеза №0 \"Добавить два новых канала привлечения трафика, что позволит привлекать на 30% больше пользователей\" держится в тройке в обоих случаях. Гипотеза №7 при расчете фреймворка <b>RICE</b> выходит на первое место, т.к. охват пользователей данной гипотезы самый высокий, в то время, как при расчете фреймворка <b>ICE</b> гипотеза №8 имеет самое высокие влияние на пользователя и уверенность в такой гипотезе. Однако при расчете <b>RICE</b> гипотеза №8 сильно спускается по рейтингу, возможно это связано с низким охватом пользователя во время проведения исследования. Затраты по обеим гипотезам не сверх высокие. Гипотезы №6 и №4 при расчете обоих фреймворков остаются на своих позициях.\n",
    "\n",
    "Т.к. фреймворк <b>RICE</b> учитывает охват пользователей, для приоритезации гипотез предпочтительнее брать данный метод."
   ]
  },
  {
   "cell_type": "markdown",
   "id": "34b72a05",
   "metadata": {},
   "source": [
    "### 4. Анализ А/В теста"
   ]
  },
  {
   "cell_type": "markdown",
   "id": "034ab8db",
   "metadata": {},
   "source": [
    "<u><b>График кумулятивной выручки по группам"
   ]
  },
  {
   "cell_type": "markdown",
   "id": "080904d4",
   "metadata": {},
   "source": [
    "Создадим массив уникальных пар значений дат и групп теста"
   ]
  },
  {
   "cell_type": "code",
   "execution_count": 16,
   "id": "3c57580e",
   "metadata": {},
   "outputs": [
    {
     "data": {
      "text/html": [
       "<div>\n",
       "<style scoped>\n",
       "    .dataframe tbody tr th:only-of-type {\n",
       "        vertical-align: middle;\n",
       "    }\n",
       "\n",
       "    .dataframe tbody tr th {\n",
       "        vertical-align: top;\n",
       "    }\n",
       "\n",
       "    .dataframe thead th {\n",
       "        text-align: right;\n",
       "    }\n",
       "</style>\n",
       "<table border=\"1\" class=\"dataframe\">\n",
       "  <thead>\n",
       "    <tr style=\"text-align: right;\">\n",
       "      <th></th>\n",
       "      <th>date</th>\n",
       "      <th>group</th>\n",
       "      <th>orders</th>\n",
       "      <th>buyers</th>\n",
       "      <th>revenue</th>\n",
       "      <th>visitors</th>\n",
       "    </tr>\n",
       "  </thead>\n",
       "  <tbody>\n",
       "    <tr>\n",
       "      <th>0</th>\n",
       "      <td>2019-08-01</td>\n",
       "      <td>A</td>\n",
       "      <td>24</td>\n",
       "      <td>20</td>\n",
       "      <td>148579</td>\n",
       "      <td>719</td>\n",
       "    </tr>\n",
       "    <tr>\n",
       "      <th>1</th>\n",
       "      <td>2019-08-01</td>\n",
       "      <td>B</td>\n",
       "      <td>21</td>\n",
       "      <td>20</td>\n",
       "      <td>101217</td>\n",
       "      <td>713</td>\n",
       "    </tr>\n",
       "    <tr>\n",
       "      <th>2</th>\n",
       "      <td>2019-08-02</td>\n",
       "      <td>A</td>\n",
       "      <td>44</td>\n",
       "      <td>38</td>\n",
       "      <td>242401</td>\n",
       "      <td>1338</td>\n",
       "    </tr>\n",
       "    <tr>\n",
       "      <th>3</th>\n",
       "      <td>2019-08-02</td>\n",
       "      <td>B</td>\n",
       "      <td>45</td>\n",
       "      <td>43</td>\n",
       "      <td>266748</td>\n",
       "      <td>1294</td>\n",
       "    </tr>\n",
       "    <tr>\n",
       "      <th>4</th>\n",
       "      <td>2019-08-03</td>\n",
       "      <td>A</td>\n",
       "      <td>68</td>\n",
       "      <td>62</td>\n",
       "      <td>354874</td>\n",
       "      <td>1845</td>\n",
       "    </tr>\n",
       "    <tr>\n",
       "      <th>5</th>\n",
       "      <td>2019-08-03</td>\n",
       "      <td>B</td>\n",
       "      <td>61</td>\n",
       "      <td>59</td>\n",
       "      <td>380996</td>\n",
       "      <td>1803</td>\n",
       "    </tr>\n",
       "    <tr>\n",
       "      <th>6</th>\n",
       "      <td>2019-08-04</td>\n",
       "      <td>A</td>\n",
       "      <td>84</td>\n",
       "      <td>77</td>\n",
       "      <td>425699</td>\n",
       "      <td>2562</td>\n",
       "    </tr>\n",
       "    <tr>\n",
       "      <th>7</th>\n",
       "      <td>2019-08-04</td>\n",
       "      <td>B</td>\n",
       "      <td>78</td>\n",
       "      <td>75</td>\n",
       "      <td>489567</td>\n",
       "      <td>2573</td>\n",
       "    </tr>\n",
       "    <tr>\n",
       "      <th>8</th>\n",
       "      <td>2019-08-05</td>\n",
       "      <td>A</td>\n",
       "      <td>109</td>\n",
       "      <td>100</td>\n",
       "      <td>549917</td>\n",
       "      <td>3318</td>\n",
       "    </tr>\n",
       "    <tr>\n",
       "      <th>9</th>\n",
       "      <td>2019-08-05</td>\n",
       "      <td>B</td>\n",
       "      <td>101</td>\n",
       "      <td>98</td>\n",
       "      <td>581995</td>\n",
       "      <td>3280</td>\n",
       "    </tr>\n",
       "    <tr>\n",
       "      <th>10</th>\n",
       "      <td>2019-08-06</td>\n",
       "      <td>A</td>\n",
       "      <td>127</td>\n",
       "      <td>114</td>\n",
       "      <td>598401</td>\n",
       "      <td>3985</td>\n",
       "    </tr>\n",
       "    <tr>\n",
       "      <th>11</th>\n",
       "      <td>2019-08-06</td>\n",
       "      <td>B</td>\n",
       "      <td>129</td>\n",
       "      <td>123</td>\n",
       "      <td>824337</td>\n",
       "      <td>3935</td>\n",
       "    </tr>\n",
       "    <tr>\n",
       "      <th>12</th>\n",
       "      <td>2019-08-07</td>\n",
       "      <td>A</td>\n",
       "      <td>145</td>\n",
       "      <td>131</td>\n",
       "      <td>740818</td>\n",
       "      <td>4629</td>\n",
       "    </tr>\n",
       "    <tr>\n",
       "      <th>13</th>\n",
       "      <td>2019-08-07</td>\n",
       "      <td>B</td>\n",
       "      <td>153</td>\n",
       "      <td>146</td>\n",
       "      <td>1049671</td>\n",
       "      <td>4644</td>\n",
       "    </tr>\n",
       "    <tr>\n",
       "      <th>14</th>\n",
       "      <td>2019-08-08</td>\n",
       "      <td>A</td>\n",
       "      <td>161</td>\n",
       "      <td>146</td>\n",
       "      <td>837097</td>\n",
       "      <td>5239</td>\n",
       "    </tr>\n",
       "  </tbody>\n",
       "</table>\n",
       "</div>"
      ],
      "text/plain": [
       "         date group  orders  buyers  revenue  visitors\n",
       "0  2019-08-01     A      24      20   148579       719\n",
       "1  2019-08-01     B      21      20   101217       713\n",
       "2  2019-08-02     A      44      38   242401      1338\n",
       "3  2019-08-02     B      45      43   266748      1294\n",
       "4  2019-08-03     A      68      62   354874      1845\n",
       "5  2019-08-03     B      61      59   380996      1803\n",
       "6  2019-08-04     A      84      77   425699      2562\n",
       "7  2019-08-04     B      78      75   489567      2573\n",
       "8  2019-08-05     A     109     100   549917      3318\n",
       "9  2019-08-05     B     101      98   581995      3280\n",
       "10 2019-08-06     A     127     114   598401      3985\n",
       "11 2019-08-06     B     129     123   824337      3935\n",
       "12 2019-08-07     A     145     131   740818      4629\n",
       "13 2019-08-07     B     153     146  1049671      4644\n",
       "14 2019-08-08     A     161     146   837097      5239"
      ]
     },
     "execution_count": 16,
     "metadata": {},
     "output_type": "execute_result"
    }
   ],
   "source": [
    "#создаем массив уникальных пар значений дат и групп теста методом drop_duplicates\n",
    "dates_groups = orders[['date', 'group']].drop_duplicates()\n",
    "\n",
    "# получаем агрегированные кумулятивные по дням данные о заказах \n",
    "orders_aggregated = dates_groups.apply(\n",
    "    lambda x: orders[\n",
    "        np.logical_and(\n",
    "            orders['date'] <= x['date'], orders['group'] == x['group']\n",
    "        )\n",
    "    ].agg(\n",
    "        {\n",
    "            'date': 'max',\n",
    "            'group': 'max',\n",
    "            'transaction_id': 'nunique',\n",
    "            'visitor_id': 'nunique',\n",
    "            'revenue': 'sum',\n",
    "        }\n",
    "    ),\n",
    "    axis=1,\n",
    ").sort_values(by=['date', 'group'])\n",
    "\n",
    "# получаем агрегированные кумулятивные по дням данные о посетителях интернет-магазина \n",
    "visitors_aggregated = dates_groups.apply(\n",
    "    lambda x: visitors[\n",
    "        np.logical_and(\n",
    "            visitors['date'] <= x['date'], visitors['group'] == x['group']\n",
    "        )\n",
    "    ].agg({'date': 'max', 'group': 'max', 'visitors': 'sum'}),\n",
    "    axis=1,\n",
    ").sort_values(by=['date', 'group'])\n",
    "\n",
    "# объединяем кумулятивные данные в одной таблице и присваиваем ее столбцам понятные названия\n",
    "cumulative_data = orders_aggregated.merge(\n",
    "    visitors_aggregated, left_on=['date', 'group'], right_on=['date', 'group']\n",
    ")\n",
    "cumulative_data.columns = ['date', 'group', 'orders', 'buyers', 'revenue','visitors']\n",
    "\n",
    "cumulative_data.head(15)"
   ]
  },
  {
   "cell_type": "markdown",
   "id": "fe04e5f8",
   "metadata": {},
   "source": [
    "Построим графики кумулятивной выручки по дням и группам A/B-тестирования"
   ]
  },
  {
   "cell_type": "code",
   "execution_count": 17,
   "id": "554efdef",
   "metadata": {},
   "outputs": [
    {
     "data": {
      "image/png": "[encoded data removed]",
      "text/plain": [
       "<Figure size 1440x720 with 1 Axes>"
      ]
     },
     "metadata": {
      "needs_background": "light"
     },
     "output_type": "display_data"
    }
   ],
   "source": [
    "# датафрейм с кумулятивным количеством заказов и кумулятивной выручкой по дням в группе А\n",
    "cumulative_revenue_a = cumulative_data[cumulative_data['group']=='A'][['date','revenue', 'orders']]\n",
    "\n",
    "# датафрейм с кумулятивным количеством заказов и кумулятивной выручкой по дням в группе B\n",
    "cumulative_revenue_b = cumulative_data[cumulative_data['group']=='B'][['date','revenue', 'orders']]\n",
    "\n",
    "plt.subplots(figsize =(20,10))\n",
    "\n",
    "# Строим график выручки группы А\n",
    "plt.plot(cumulative_revenue_a['date'], cumulative_revenue_a['revenue'], label='A')\n",
    "\n",
    "# Строим график выручки группы B\n",
    "plt.plot(cumulative_revenue_b['date'], cumulative_revenue_b['revenue'], label='B')\n",
    "plt.xlabel('Дата', fontsize = 14)\n",
    "plt.ylabel('Выручка', fontsize = 14)\n",
    "plt.title('Изменение кумулятивной выручки по группам', fontsize = 16)\n",
    "plt.legend(); "
   ]
  },
  {
   "cell_type": "markdown",
   "id": "7faf981d",
   "metadata": {},
   "source": [
    "<b>Краткий вывод: </b> из графика видно, что выручка почти равномерно увеличивается в течение всего теста. Однако заметен резкий прирост по выручке группы В в середине месяца. Это может сигнализировать о всплесках числа заказов, или о появлении очень дорогих заказов в выборке."
   ]
  },
  {
   "cell_type": "markdown",
   "id": "ee85df8d",
   "metadata": {},
   "source": [
    "<u><b>График кумулятивного среднего чека по группам"
   ]
  },
  {
   "cell_type": "markdown",
   "id": "d098fb67",
   "metadata": {},
   "source": [
    "Построим графики среднего чека по группам для этого разделим кумулятивную выручку на кумулятивное число заказов"
   ]
  },
  {
   "cell_type": "code",
   "execution_count": 18,
   "id": "6b022e47",
   "metadata": {},
   "outputs": [
    {
     "data": {
      "image/png": "[encoded data removed]",
      "text/plain": [
       "<Figure size 1440x720 with 1 Axes>"
      ]
     },
     "metadata": {
      "needs_background": "light"
     },
     "output_type": "display_data"
    }
   ],
   "source": [
    "plt.subplots(figsize =(20,10))\n",
    "plt.plot(cumulative_revenue_a['date'], cumulative_revenue_a['revenue']/cumulative_revenue_a['orders'], label='A')\n",
    "plt.plot(cumulative_revenue_b['date'], cumulative_revenue_b['revenue']/cumulative_revenue_b['orders'], label='B')\n",
    "plt.xlabel('Дата', fontsize = 14)\n",
    "plt.ylabel('Средний чек', fontsize = 14)\n",
    "plt.title('Изменение величины среднего чека по группам', fontsize = 16)\n",
    "plt.legend();"
   ]
  },
  {
   "cell_type": "markdown",
   "id": "2964b6aa",
   "metadata": {},
   "source": [
    "<b>Краткий вывод: </b> из графика видно, что величина среднего чека группы А в первые дни проваливается, затем ближе к концу \"успокаивается\" и почти равномерно увеличивается ближе к концу теста. В группе В наоборот нет никакой плавности, в середине месяца наблюдается сильный рост, который возможно связан с аномально большим чеком. Далее кумулятивное среднее равномерно снижается. Стоит отметить, что результаты группы В выше"
   ]
  },
  {
   "cell_type": "markdown",
   "id": "5d91579e",
   "metadata": {},
   "source": [
    "<u><b>График относительного изменения кумулятивного среднего чека группы B к группе A"
   ]
  },
  {
   "cell_type": "code",
   "execution_count": 19,
   "id": "3e197762",
   "metadata": {},
   "outputs": [
    {
     "data": {
      "image/png": "[encoded data removed]",
      "text/plain": [
       "<Figure size 1440x720 with 1 Axes>"
      ]
     },
     "metadata": {
      "needs_background": "light"
     },
     "output_type": "display_data"
    }
   ],
   "source": [
    "# собираем данные в одном датафрейме\n",
    "merged_cumulative_revenue = cumulative_revenue_a.merge(cumulative_revenue_b, left_on='date', right_on='date', how='left', suffixes=['A', 'B'])\n",
    "\n",
    "plt.subplots(figsize =(20,10))\n",
    "# cтроим отношение средних чеков\n",
    "plt.plot(merged_cumulative_revenue['date'], (merged_cumulative_revenue['revenueB']/merged_cumulative_revenue['ordersB'])/(merged_cumulative_revenue['revenueA']/merged_cumulative_revenue['ordersA'])-1)\n",
    "\n",
    "plt.xlabel('Дата', fontsize = 14)\n",
    "plt.ylabel('Относительное изменение кумулятивной конверсии', fontsize = 14)\n",
    "plt.title('Относительный прирост кумулятивного среднего чека группы B к группе A', fontsize = 16)\n",
    "# добавляем ось X\n",
    "plt.axhline(y=0, color='black', linestyle='--');"
   ]
  },
  {
   "cell_type": "markdown",
   "id": "1aefb8c2",
   "metadata": {},
   "source": [
    "<b>Краткий вывод: </b> На графике видно, что разница в сегментах имеет сильные скачки. Средний чек группы В больше. Скорее всего имеются аномалии в данных. Данный фактор необходимо будет проверить на дальнейшей стадии исследования."
   ]
  },
  {
   "cell_type": "markdown",
   "id": "4bf51854",
   "metadata": {},
   "source": [
    "<u><b>График кумулятивного среднего количества заказов на посетителя по группам"
   ]
  },
  {
   "cell_type": "markdown",
   "id": "4bd8e639",
   "metadata": {},
   "source": [
    "Построим график кумулятивной конверсии для каждой группы. "
   ]
  },
  {
   "cell_type": "code",
   "execution_count": 20,
   "id": "e141194c",
   "metadata": {},
   "outputs": [
    {
     "data": {
      "image/png": "[encoded data removed]",
      "text/plain": [
       "<Figure size 1440x720 with 1 Axes>"
      ]
     },
     "metadata": {
      "needs_background": "light"
     },
     "output_type": "display_data"
    }
   ],
   "source": [
    "# считаем кумулятивную конверсию\n",
    "cumulative_data['conversion'] = cumulative_data['orders']/cumulative_data['visitors']\n",
    "\n",
    "# отделяем данные по группе A\n",
    "cumulative_data_a = cumulative_data[cumulative_data['group']=='A']\n",
    "\n",
    "# отделяем данные по группе B\n",
    "cumulative_data_b = cumulative_data[cumulative_data['group']=='B']\n",
    "\n",
    "# строим графики\n",
    "plt.subplots(figsize =(20,10))\n",
    "plt.plot(cumulative_data_a['date'], cumulative_data_a['conversion'], label='A')\n",
    "plt.plot(cumulative_data_b['date'], cumulative_data_b['conversion'], label='B')\n",
    "\n",
    "plt.xlabel('Дата', fontsize = 14)\n",
    "plt.ylabel('Количество заказов', fontsize = 14)\n",
    "plt.title('Изменение кумулятивного среднего количества заказов по группам', fontsize = 16)\n",
    "plt.legend();"
   ]
  },
  {
   "cell_type": "markdown",
   "id": "4d91b43d",
   "metadata": {},
   "source": [
    "<b>Краткий вывод: </b> На графике видно, что колебания по обоим сегментам сохраняются в первые десять дней. Затем изменение кумулятивного среднего количества заказов по группе А успокаивается и заканчивается небольшим снижением. По группе В видимые колебания сохраняются до середины месяца, затем виден тренд на снижение. Также, стоит отметить, что количество заказов группы В значительно выше А."
   ]
  },
  {
   "cell_type": "markdown",
   "id": "82f17fa5",
   "metadata": {},
   "source": [
    "<u><b>График относительного изменения кумулятивного среднего количества заказов на посетителя группы B к группе A"
   ]
  },
  {
   "cell_type": "markdown",
   "id": "3e6cdd00",
   "metadata": {},
   "source": [
    "Построим график относительного различия кумулятивных конверсий"
   ]
  },
  {
   "cell_type": "code",
   "execution_count": 21,
   "id": "1dffca2d",
   "metadata": {},
   "outputs": [
    {
     "data": {
      "image/png": "[encoded data removed]",
      "text/plain": [
       "<Figure size 1440x720 with 1 Axes>"
      ]
     },
     "metadata": {
      "needs_background": "light"
     },
     "output_type": "display_data"
    }
   ],
   "source": [
    "merged_cumulative_conversions = cumulative_data_a[['date','conversion']].merge(cumulative_data_b[['date','conversion']], left_on='date', right_on='date', how='left', suffixes=['A', 'B'])\n",
    "\n",
    "plt.subplots(figsize =(20,10))\n",
    "plt.plot(merged_cumulative_conversions['date'], merged_cumulative_conversions['conversionB']/merged_cumulative_conversions['conversionA']-1)\n",
    "\n",
    "plt.xlabel('Дата', fontsize = 14)\n",
    "plt.ylabel('Относительное изменение количества заказов', fontsize = 14)\n",
    "plt.title('Относительное изменение кумулятивного среднего количества заказов на посетителя группы B к группе A', fontsize = 16)\n",
    "plt.axhline(y=0, color='black', linestyle='--');"
   ]
  },
  {
   "cell_type": "markdown",
   "id": "c9aa1b0a",
   "metadata": {},
   "source": [
    "<b>Краткий вывод: </b> На старте проведения теста видно, что группа В сильно отстает от А, затем наблюдается резкий скачок, падение и опять сильный подъем. Далее прирост относительного кумулятивного среднего количества заказов группы B относительно группы A стабилизируется и устанавливается в районе 15%."
   ]
  },
  {
   "cell_type": "markdown",
   "id": "11c22578",
   "metadata": {},
   "source": [
    "<u><b>Графики количества заказов по пользователям"
   ]
  },
  {
   "cell_type": "markdown",
   "id": "7fd9f15b",
   "metadata": {},
   "source": [
    "Изучим количество заказов по пользователям."
   ]
  },
  {
   "cell_type": "code",
   "execution_count": 22,
   "id": "a74def62",
   "metadata": {},
   "outputs": [
    {
     "data": {
      "text/html": [
       "<div>\n",
       "<style scoped>\n",
       "    .dataframe tbody tr th:only-of-type {\n",
       "        vertical-align: middle;\n",
       "    }\n",
       "\n",
       "    .dataframe tbody tr th {\n",
       "        vertical-align: top;\n",
       "    }\n",
       "\n",
       "    .dataframe thead th {\n",
       "        text-align: right;\n",
       "    }\n",
       "</style>\n",
       "<table border=\"1\" class=\"dataframe\">\n",
       "  <thead>\n",
       "    <tr style=\"text-align: right;\">\n",
       "      <th></th>\n",
       "      <th>user_id</th>\n",
       "      <th>orders</th>\n",
       "    </tr>\n",
       "  </thead>\n",
       "  <tbody>\n",
       "    <tr>\n",
       "      <th>1023</th>\n",
       "      <td>4256040402</td>\n",
       "      <td>11</td>\n",
       "    </tr>\n",
       "    <tr>\n",
       "      <th>591</th>\n",
       "      <td>2458001652</td>\n",
       "      <td>11</td>\n",
       "    </tr>\n",
       "    <tr>\n",
       "      <th>569</th>\n",
       "      <td>2378935119</td>\n",
       "      <td>9</td>\n",
       "    </tr>\n",
       "    <tr>\n",
       "      <th>487</th>\n",
       "      <td>2038680547</td>\n",
       "      <td>8</td>\n",
       "    </tr>\n",
       "    <tr>\n",
       "      <th>44</th>\n",
       "      <td>199603092</td>\n",
       "      <td>5</td>\n",
       "    </tr>\n",
       "    <tr>\n",
       "      <th>744</th>\n",
       "      <td>3062433592</td>\n",
       "      <td>5</td>\n",
       "    </tr>\n",
       "    <tr>\n",
       "      <th>55</th>\n",
       "      <td>237748145</td>\n",
       "      <td>5</td>\n",
       "    </tr>\n",
       "    <tr>\n",
       "      <th>917</th>\n",
       "      <td>3803269165</td>\n",
       "      <td>5</td>\n",
       "    </tr>\n",
       "    <tr>\n",
       "      <th>299</th>\n",
       "      <td>1230306981</td>\n",
       "      <td>5</td>\n",
       "    </tr>\n",
       "    <tr>\n",
       "      <th>897</th>\n",
       "      <td>3717692402</td>\n",
       "      <td>5</td>\n",
       "    </tr>\n",
       "    <tr>\n",
       "      <th>393</th>\n",
       "      <td>1614305549</td>\n",
       "      <td>4</td>\n",
       "    </tr>\n",
       "    <tr>\n",
       "      <th>114</th>\n",
       "      <td>457167155</td>\n",
       "      <td>4</td>\n",
       "    </tr>\n",
       "    <tr>\n",
       "      <th>619</th>\n",
       "      <td>2587333274</td>\n",
       "      <td>4</td>\n",
       "    </tr>\n",
       "    <tr>\n",
       "      <th>340</th>\n",
       "      <td>1404934699</td>\n",
       "      <td>3</td>\n",
       "    </tr>\n",
       "    <tr>\n",
       "      <th>937</th>\n",
       "      <td>3908431265</td>\n",
       "      <td>3</td>\n",
       "    </tr>\n",
       "  </tbody>\n",
       "</table>\n",
       "</div>"
      ],
      "text/plain": [
       "         user_id  orders\n",
       "1023  4256040402      11\n",
       "591   2458001652      11\n",
       "569   2378935119       9\n",
       "487   2038680547       8\n",
       "44     199603092       5\n",
       "744   3062433592       5\n",
       "55     237748145       5\n",
       "917   3803269165       5\n",
       "299   1230306981       5\n",
       "897   3717692402       5\n",
       "393   1614305549       4\n",
       "114    457167155       4\n",
       "619   2587333274       4\n",
       "340   1404934699       3\n",
       "937   3908431265       3"
      ]
     },
     "execution_count": 22,
     "metadata": {},
     "output_type": "execute_result"
    }
   ],
   "source": [
    "orders_per_user = (\n",
    "    orders.groupby('visitor_id', as_index=False)\n",
    "    .agg({'transaction_id': 'nunique'}))\n",
    "orders_per_user.columns = ['user_id', 'orders']\n",
    "orders_per_user.sort_values(by='orders', ascending=False).head(15)"
   ]
  },
  {
   "cell_type": "markdown",
   "id": "bfb0b3b5",
   "metadata": {},
   "source": [
    "Наблюдаются пользователи, которые совершали 5, 8, 9 и 11 заказов. Количество заказов кажется большим, относительно среднего пользователя.\n",
    "\n",
    "Изучим гистограмму распределения количества заказов на одного пользователя."
   ]
  },
  {
   "cell_type": "code",
   "execution_count": 23,
   "id": "2ea25e21",
   "metadata": {},
   "outputs": [
    {
     "data": {
      "image/png": "[encoded data removed]",
      "text/plain": [
       "<Figure size 936x504 with 1 Axes>"
      ]
     },
     "metadata": {
      "needs_background": "light"
     },
     "output_type": "display_data"
    }
   ],
   "source": [
    "plt.subplots(figsize =(13,7))\n",
    "plt.hist(orders_per_user['orders'])\n",
    "plt.xlabel('Количество заказов', fontsize = 14)\n",
    "plt.ylabel('Количество пользователей', fontsize = 14)\n",
    "plt.title('Количество заказов по пользователям', fontsize = 16);"
   ]
  },
  {
   "cell_type": "markdown",
   "id": "4e5ec09e",
   "metadata": {},
   "source": [
    "Большинство покупателей заказывали только один раз. Однако доля пользователей с 2-3 заказами тоже заметна. \n",
    "\n",
    "Построим точечную диаграмму числа заказов на одного пользователя."
   ]
  },
  {
   "cell_type": "code",
   "execution_count": 24,
   "id": "37a8cdea",
   "metadata": {},
   "outputs": [
    {
     "data": {
      "image/png": "[encoded data removed]",
      "text/plain": [
       "<Figure size 936x504 with 1 Axes>"
      ]
     },
     "metadata": {
      "needs_background": "light"
     },
     "output_type": "display_data"
    }
   ],
   "source": [
    "x_values = pd.Series(range(0,len(orders_per_user)))\n",
    "\n",
    "plt.subplots(figsize =(13,7))\n",
    "plt.scatter(x_values, orders_per_user['orders'])\n",
    "plt.xlabel('Количество пользователей', fontsize = 14)\n",
    "plt.ylabel('Количество заказов', fontsize = 14)\n",
    "plt.title('Диаграмма рассеивания числа заказов на одного пользователя', fontsize = 16);"
   ]
  },
  {
   "cell_type": "markdown",
   "id": "e4716f1d",
   "metadata": {},
   "source": [
    "Из диаграммы видно, что  пользователей с 2-3 заказами достаточно много. Их точная доля не ясна. Для более наглядного результата посчитаем выборочные перцентили количества заказов на одного пользователя."
   ]
  },
  {
   "cell_type": "markdown",
   "id": "3204e5ef",
   "metadata": {},
   "source": [
    "<u><b>Расчет 95-ого и 99-ого перцентилей количества заказов на пользователя"
   ]
  },
  {
   "cell_type": "code",
   "execution_count": 25,
   "id": "4e695e34",
   "metadata": {},
   "outputs": [
    {
     "data": {
      "text/plain": [
       "array([1., 2., 4.])"
      ]
     },
     "execution_count": 25,
     "metadata": {},
     "output_type": "execute_result"
    }
   ],
   "source": [
    "np.percentile(orders_per_user['orders'], [90, 95, 99])"
   ]
  },
  {
   "cell_type": "markdown",
   "id": "71bd24fd",
   "metadata": {},
   "source": [
    "<b>Краткий вывод: </b> Не более 5% пользователей оформляли больше чем 2 заказа. И 10% пользователей заказывали более одного раз. \n",
    "Можно предположить, что более двух заказов считается аномальным. За верхнюю границу числа заказов возьмем не более двух, остальные заказы логично будет отсечь."
   ]
  },
  {
   "cell_type": "markdown",
   "id": "a9c381d6",
   "metadata": {},
   "source": [
    "<u><b>Графики стоимостей заказов"
   ]
  },
  {
   "cell_type": "markdown",
   "id": "f2cc4309",
   "metadata": {},
   "source": [
    "Изучим данные о заказах."
   ]
  },
  {
   "cell_type": "code",
   "execution_count": 26,
   "id": "fe31c56a",
   "metadata": {},
   "outputs": [
    {
     "data": {
      "text/html": [
       "<div>\n",
       "<style scoped>\n",
       "    .dataframe tbody tr th:only-of-type {\n",
       "        vertical-align: middle;\n",
       "    }\n",
       "\n",
       "    .dataframe tbody tr th {\n",
       "        vertical-align: top;\n",
       "    }\n",
       "\n",
       "    .dataframe thead th {\n",
       "        text-align: right;\n",
       "    }\n",
       "</style>\n",
       "<table border=\"1\" class=\"dataframe\">\n",
       "  <thead>\n",
       "    <tr style=\"text-align: right;\">\n",
       "      <th></th>\n",
       "      <th>visitor_id</th>\n",
       "      <th>revenue</th>\n",
       "    </tr>\n",
       "  </thead>\n",
       "  <tbody>\n",
       "    <tr>\n",
       "      <th>425</th>\n",
       "      <td>1920142716</td>\n",
       "      <td>1294500</td>\n",
       "    </tr>\n",
       "    <tr>\n",
       "      <th>1196</th>\n",
       "      <td>2108080724</td>\n",
       "      <td>202740</td>\n",
       "    </tr>\n",
       "    <tr>\n",
       "      <th>858</th>\n",
       "      <td>1316129916</td>\n",
       "      <td>93940</td>\n",
       "    </tr>\n",
       "    <tr>\n",
       "      <th>1136</th>\n",
       "      <td>1307669133</td>\n",
       "      <td>92550</td>\n",
       "    </tr>\n",
       "    <tr>\n",
       "      <th>744</th>\n",
       "      <td>888512513</td>\n",
       "      <td>86620</td>\n",
       "    </tr>\n",
       "    <tr>\n",
       "      <th>682</th>\n",
       "      <td>4266935830</td>\n",
       "      <td>78990</td>\n",
       "    </tr>\n",
       "    <tr>\n",
       "      <th>662</th>\n",
       "      <td>4266935830</td>\n",
       "      <td>78990</td>\n",
       "    </tr>\n",
       "    <tr>\n",
       "      <th>743</th>\n",
       "      <td>4133034833</td>\n",
       "      <td>67990</td>\n",
       "    </tr>\n",
       "    <tr>\n",
       "      <th>1103</th>\n",
       "      <td>1164614297</td>\n",
       "      <td>66350</td>\n",
       "    </tr>\n",
       "    <tr>\n",
       "      <th>1099</th>\n",
       "      <td>148427295</td>\n",
       "      <td>65710</td>\n",
       "    </tr>\n",
       "    <tr>\n",
       "      <th>949</th>\n",
       "      <td>887908475</td>\n",
       "      <td>60450</td>\n",
       "    </tr>\n",
       "    <tr>\n",
       "      <th>940</th>\n",
       "      <td>4003628586</td>\n",
       "      <td>58550</td>\n",
       "    </tr>\n",
       "    <tr>\n",
       "      <th>1029</th>\n",
       "      <td>2378935119</td>\n",
       "      <td>58220</td>\n",
       "    </tr>\n",
       "    <tr>\n",
       "      <th>873</th>\n",
       "      <td>4256040402</td>\n",
       "      <td>58220</td>\n",
       "    </tr>\n",
       "    <tr>\n",
       "      <th>60</th>\n",
       "      <td>4256040402</td>\n",
       "      <td>56650</td>\n",
       "    </tr>\n",
       "  </tbody>\n",
       "</table>\n",
       "</div>"
      ],
      "text/plain": [
       "      visitor_id  revenue\n",
       "425   1920142716  1294500\n",
       "1196  2108080724   202740\n",
       "858   1316129916    93940\n",
       "1136  1307669133    92550\n",
       "744    888512513    86620\n",
       "682   4266935830    78990\n",
       "662   4266935830    78990\n",
       "743   4133034833    67990\n",
       "1103  1164614297    66350\n",
       "1099   148427295    65710\n",
       "949    887908475    60450\n",
       "940   4003628586    58550\n",
       "1029  2378935119    58220\n",
       "873   4256040402    58220\n",
       "60    4256040402    56650"
      ]
     },
     "execution_count": 26,
     "metadata": {},
     "output_type": "execute_result"
    }
   ],
   "source": [
    "orders[['visitor_id','revenue']].sort_values(by='revenue', ascending=False).head(15)"
   ]
  },
  {
   "cell_type": "markdown",
   "id": "28c2ed90",
   "metadata": {},
   "source": [
    "Наблюдаются пользователи, которые совершали покупку более чем на 1 млн. Также есть пользователь, который совершил заказ более, чем 200 тыс. Данные суммы кажется большими, изучим гистограмму стоимостей заказов."
   ]
  },
  {
   "cell_type": "code",
   "execution_count": 27,
   "id": "909a032e",
   "metadata": {},
   "outputs": [
    {
     "data": {
      "image/png": "[encoded data removed]",
      "text/plain": [
       "<Figure size 864x432 with 1 Axes>"
      ]
     },
     "metadata": {
      "needs_background": "light"
     },
     "output_type": "display_data"
    }
   ],
   "source": [
    "orders['revenue'].hist(figsize=(12,6), range=(0,100000))\n",
    "plt.xlabel('Стоимость заказа', fontsize = 14)\n",
    "plt.ylabel('Количество пользователей', fontsize = 14)\n",
    "plt.title('Гистограмма стоимостей заказов', fontsize = 16);"
   ]
  },
  {
   "cell_type": "markdown",
   "id": "4b6d7ce6",
   "metadata": {},
   "source": [
    "Из гистограммы видно, что в основном стоимость заказов до 20 тыс., возможно для анализа расширим горизонт до 60 тыс.\n",
    "\n",
    "Построим точечную диаграмму величины заказа."
   ]
  },
  {
   "cell_type": "code",
   "execution_count": 28,
   "id": "c25ed8f3",
   "metadata": {},
   "outputs": [
    {
     "data": {
      "image/png": "[encoded data removed]",
      "text/plain": [
       "<Figure size 936x504 with 1 Axes>"
      ]
     },
     "metadata": {
      "needs_background": "light"
     },
     "output_type": "display_data"
    }
   ],
   "source": [
    "x_values = pd.Series(range(0,len(orders)))\n",
    "\n",
    "plt.subplots(figsize =(13,7))\n",
    "plt.scatter(x_values, orders['revenue'])\n",
    "plt.xlabel('Количество пользователей', fontsize = 14)\n",
    "plt.ylabel('Стоимость заказа', fontsize = 14)\n",
    "plt.title('Диаграмма рассеивания величины заказа', fontsize = 16);"
   ]
  },
  {
   "cell_type": "markdown",
   "id": "baed313f",
   "metadata": {},
   "source": [
    "Видно, что аномально большие заказы стоимостью выше 200 тыс. Изменим масштаб точечной диаграммы."
   ]
  },
  {
   "cell_type": "code",
   "execution_count": 29,
   "id": "7dead71e",
   "metadata": {},
   "outputs": [
    {
     "data": {
      "image/png": "[encoded data removed]",
      "text/plain": [
       "<Figure size 936x504 with 1 Axes>"
      ]
     },
     "metadata": {
      "needs_background": "light"
     },
     "output_type": "display_data"
    }
   ],
   "source": [
    "x_values = pd.Series(range(0,len(orders)))\n",
    "\n",
    "plt.subplots(figsize =(13,7))\n",
    "plt.scatter(x_values, orders['revenue'])\n",
    "plt.ylim(0,100000)\n",
    "plt.xlabel('Количество пользователей', fontsize = 14)\n",
    "plt.ylabel('Стоимость заказа', fontsize = 14)\n",
    "plt.title('Диаграмма рассеивания величины заказа', fontsize = 16);"
   ]
  },
  {
   "cell_type": "markdown",
   "id": "2b0f90a1",
   "metadata": {},
   "source": [
    "Из диаграммы рассеивания видно, что максимальная плотность стоимости заказа расположена до 20 тыс. Также можно отметить заметную величину до 40 тыс. Для более наглядного результата посчитаем выборочные перцентили."
   ]
  },
  {
   "cell_type": "code",
   "execution_count": 30,
   "id": "ec090951",
   "metadata": {},
   "outputs": [
    {
     "data": {
      "text/plain": [
       "array([18168. , 28000. , 58233.2])"
      ]
     },
     "execution_count": 30,
     "metadata": {},
     "output_type": "execute_result"
    }
   ],
   "source": [
    "np.percentile(orders['revenue'], [90, 95, 99])"
   ]
  },
  {
   "cell_type": "markdown",
   "id": "992c776d",
   "metadata": {},
   "source": [
    "<b>Краткий вывод: </b> По результам можно скакзать, что более 10% составляют заказы стоимостью до 18,2 тыс. Не более 5% составляют заказы до 28 тыс. Заказы стоимотью более 28 тыс. уберем из анализа, т.к. их меньше 5%."
   ]
  },
  {
   "cell_type": "markdown",
   "id": "53db5a3d",
   "metadata": {},
   "source": [
    "<u><b>Подсчет статистической значимости различий в среднем количестве заказов на посетителя между группами по «сырым» данным"
   ]
  },
  {
   "cell_type": "markdown",
   "id": "f49887bb",
   "metadata": {},
   "source": [
    "Посчитаем статистическую значимость различий в среднем числе заказов на пользователя между группами по «сырым» данным — без удаления аномальных пользователей.\n",
    "\n",
    "Сформулируем гипотезы.\n",
    "\n",
    "Нулевая $H_{0}$: различий в среднем количестве заказов между группами нет. \n",
    "\n",
    "Альтернативная $H_{1}$: различия в среднем количестве заказов между группами есть."
   ]
  },
  {
   "cell_type": "code",
   "execution_count": 31,
   "id": "2a9b8f4d",
   "metadata": {},
   "outputs": [
    {
     "data": {
      "text/html": [
       "<div>\n",
       "<style scoped>\n",
       "    .dataframe tbody tr th:only-of-type {\n",
       "        vertical-align: middle;\n",
       "    }\n",
       "\n",
       "    .dataframe tbody tr th {\n",
       "        vertical-align: top;\n",
       "    }\n",
       "\n",
       "    .dataframe thead th {\n",
       "        text-align: right;\n",
       "    }\n",
       "</style>\n",
       "<table border=\"1\" class=\"dataframe\">\n",
       "  <thead>\n",
       "    <tr style=\"text-align: right;\">\n",
       "      <th></th>\n",
       "      <th>date</th>\n",
       "      <th>orders_per_date_a</th>\n",
       "      <th>revenue_per_date_a</th>\n",
       "      <th>orders_per_date_b_x</th>\n",
       "      <th>revenue_per_date_b_x</th>\n",
       "      <th>orders_cummulative_b</th>\n",
       "      <th>revenue_cummulative_b</th>\n",
       "      <th>orders_per_date_b_y</th>\n",
       "      <th>revenue_per_date_b_y</th>\n",
       "      <th>visitors_per_date_a</th>\n",
       "      <th>visitors_per_date_b</th>\n",
       "      <th>visitors_cummulative_a</th>\n",
       "      <th>visitors_cummulative_b</th>\n",
       "    </tr>\n",
       "  </thead>\n",
       "  <tbody>\n",
       "    <tr>\n",
       "      <th>0</th>\n",
       "      <td>2019-08-01</td>\n",
       "      <td>24</td>\n",
       "      <td>148579</td>\n",
       "      <td>21</td>\n",
       "      <td>101217</td>\n",
       "      <td>24</td>\n",
       "      <td>148579</td>\n",
       "      <td>21</td>\n",
       "      <td>101217</td>\n",
       "      <td>719</td>\n",
       "      <td>713</td>\n",
       "      <td>719</td>\n",
       "      <td>713</td>\n",
       "    </tr>\n",
       "    <tr>\n",
       "      <th>1</th>\n",
       "      <td>2019-08-02</td>\n",
       "      <td>20</td>\n",
       "      <td>93822</td>\n",
       "      <td>24</td>\n",
       "      <td>165531</td>\n",
       "      <td>44</td>\n",
       "      <td>242401</td>\n",
       "      <td>45</td>\n",
       "      <td>266748</td>\n",
       "      <td>619</td>\n",
       "      <td>581</td>\n",
       "      <td>1338</td>\n",
       "      <td>1294</td>\n",
       "    </tr>\n",
       "    <tr>\n",
       "      <th>2</th>\n",
       "      <td>2019-08-03</td>\n",
       "      <td>24</td>\n",
       "      <td>112473</td>\n",
       "      <td>16</td>\n",
       "      <td>114248</td>\n",
       "      <td>68</td>\n",
       "      <td>354874</td>\n",
       "      <td>61</td>\n",
       "      <td>380996</td>\n",
       "      <td>507</td>\n",
       "      <td>509</td>\n",
       "      <td>1845</td>\n",
       "      <td>1803</td>\n",
       "    </tr>\n",
       "    <tr>\n",
       "      <th>3</th>\n",
       "      <td>2019-08-04</td>\n",
       "      <td>16</td>\n",
       "      <td>70825</td>\n",
       "      <td>17</td>\n",
       "      <td>108571</td>\n",
       "      <td>84</td>\n",
       "      <td>425699</td>\n",
       "      <td>78</td>\n",
       "      <td>489567</td>\n",
       "      <td>717</td>\n",
       "      <td>770</td>\n",
       "      <td>2562</td>\n",
       "      <td>2573</td>\n",
       "    </tr>\n",
       "    <tr>\n",
       "      <th>4</th>\n",
       "      <td>2019-08-05</td>\n",
       "      <td>25</td>\n",
       "      <td>124218</td>\n",
       "      <td>23</td>\n",
       "      <td>92428</td>\n",
       "      <td>109</td>\n",
       "      <td>549917</td>\n",
       "      <td>101</td>\n",
       "      <td>581995</td>\n",
       "      <td>756</td>\n",
       "      <td>707</td>\n",
       "      <td>3318</td>\n",
       "      <td>3280</td>\n",
       "    </tr>\n",
       "  </tbody>\n",
       "</table>\n",
       "</div>"
      ],
      "text/plain": [
       "        date  orders_per_date_a  revenue_per_date_a  orders_per_date_b_x  \\\n",
       "0 2019-08-01                 24              148579                   21   \n",
       "1 2019-08-02                 20               93822                   24   \n",
       "2 2019-08-03                 24              112473                   16   \n",
       "3 2019-08-04                 16               70825                   17   \n",
       "4 2019-08-05                 25              124218                   23   \n",
       "\n",
       "   revenue_per_date_b_x  orders_cummulative_b  revenue_cummulative_b  \\\n",
       "0                101217                    24                 148579   \n",
       "1                165531                    44                 242401   \n",
       "2                114248                    68                 354874   \n",
       "3                108571                    84                 425699   \n",
       "4                 92428                   109                 549917   \n",
       "\n",
       "   orders_per_date_b_y  revenue_per_date_b_y  visitors_per_date_a  \\\n",
       "0                   21                101217                  719   \n",
       "1                   45                266748                  619   \n",
       "2                   61                380996                  507   \n",
       "3                   78                489567                  717   \n",
       "4                  101                581995                  756   \n",
       "\n",
       "   visitors_per_date_b  visitors_cummulative_a  visitors_cummulative_b  \n",
       "0                  713                     719                     713  \n",
       "1                  581                    1338                    1294  \n",
       "2                  509                    1845                    1803  \n",
       "3                  770                    2562                    2573  \n",
       "4                  707                    3318                    3280  "
      ]
     },
     "execution_count": 31,
     "metadata": {},
     "output_type": "execute_result"
    }
   ],
   "source": [
    "visitors_daily_a = visitors[visitors['group'] == 'A'][['date', 'visitors']]\n",
    "visitors_daily_a.columns = ['date', 'visitors_per_date_a']\n",
    "\n",
    "visitors_a_cummulative = visitors_daily_a.apply(\n",
    "    lambda x: visitors_daily_a[visitors_daily_a['date'] <= x['date']].agg(\n",
    "        {'date': 'max', 'visitors_per_date_a': 'sum'}\n",
    "    ),\n",
    "    axis=1,\n",
    ")\n",
    "visitors_a_cummulative.columns = ['date', 'visitors_cummulative_a']\n",
    "\n",
    "visitors_daily_b = visitors[visitors['group'] == 'B'][['date', 'visitors']]\n",
    "visitors_daily_b.columns = ['date', 'visitors_per_date_b']\n",
    "\n",
    "visitors_b_cummulative = visitors_daily_b.apply(\n",
    "    lambda x: visitors_daily_b[visitors_daily_b['date'] <= x['date']].agg(\n",
    "        {'date': 'max', 'visitors_per_date_b': 'sum'}\n",
    "    ),\n",
    "    axis=1,\n",
    ")\n",
    "visitors_b_cummulative.columns = ['date', 'visitors_cummulative_b']\n",
    "\n",
    "orders_daily_a = (\n",
    "    orders[orders['group'] == 'A'][['date', 'transaction_id', 'visitor_id', 'revenue']]\n",
    "    .groupby('date', as_index=False)\n",
    "    .agg({'transaction_id': pd.Series.nunique, 'revenue': 'sum'})\n",
    ")\n",
    "orders_daily_a.columns = ['date', 'orders_per_date_a', 'revenue_per_date_a']\n",
    "\n",
    "orders_a_cummulative = orders_daily_a.apply(\n",
    "    lambda x: orders_daily_a[orders_daily_a['date'] <= x['date']].agg(\n",
    "        {'date': 'max', 'orders_per_date_a': 'sum', 'revenue_per_date_a': 'sum'}\n",
    "    ),\n",
    "    axis=1,\n",
    ").sort_values(by=['date'])\n",
    "orders_a_cummulative.columns = [\n",
    "    'date',\n",
    "    'orders_cummulative_a',\n",
    "    'revenue_cummulative_a',\n",
    "]\n",
    "\n",
    "orders_daily_b = (\n",
    "    orders[orders['group'] == 'B'][['date', 'transaction_id', 'visitor_id', 'revenue']]\n",
    "    .groupby('date', as_index=False)\n",
    "    .agg({'transaction_id': pd.Series.nunique, 'revenue': 'sum'})\n",
    ")\n",
    "orders_daily_b.columns = ['date', 'orders_per_date_b', 'revenue_per_date_b']\n",
    "\n",
    "orders_b_cummulative = orders_daily_b.apply(\n",
    "    lambda x: orders_daily_b[orders_daily_b['date'] <= x['date']].agg(\n",
    "        {'date': 'max', 'orders_per_date_b': 'sum', 'revenue_per_date_b': 'sum'}\n",
    "    ),\n",
    "    axis=1,\n",
    ").sort_values(by=['date'])\n",
    "orders_a_cummulative.columns = [\n",
    "    'date',\n",
    "    'orders_cummulative_b',\n",
    "    'revenue_cummulative_b',\n",
    "]\n",
    "\n",
    "data = (\n",
    "    orders_daily_a.merge(\n",
    "        orders_daily_b, left_on='date', right_on='date', how='left'\n",
    "    )\n",
    "    .merge(orders_a_cummulative, left_on='date', right_on='date', how='left')\n",
    "    .merge(orders_b_cummulative, left_on='date', right_on='date', how='left')\n",
    "    .merge(visitors_daily_a, left_on='date', right_on='date', how='left')\n",
    "    .merge(visitors_daily_b, left_on='date', right_on='date', how='left')\n",
    "    .merge(visitors_a_cummulative, left_on='date', right_on='date', how='left')\n",
    "    .merge(visitors_b_cummulative, left_on='date', right_on='date', how='left')\n",
    ")\n",
    "\n",
    "data.head()"
   ]
  },
  {
   "cell_type": "markdown",
   "id": "b38c9eff",
   "metadata": {},
   "source": [
    "Посчитаем статистическую значимость различия в среднем количестве заказов между группами."
   ]
  },
  {
   "cell_type": "code",
   "execution_count": 32,
   "id": "170facbc",
   "metadata": {},
   "outputs": [],
   "source": [
    "orders_by_users_a = (\n",
    "    orders[orders['group'] == 'A']\n",
    "    .groupby('visitor_id', as_index=False)\n",
    "    .agg({'transaction_id': pd.Series.nunique})\n",
    ")\n",
    "orders_by_users_a.columns = ['visitor_id', 'orders']\n",
    "\n",
    "orders_by_users_b = (\n",
    "    orders[orders['group'] == 'B']\n",
    "    .groupby('visitor_id', as_index=False)\n",
    "    .agg({'transaction_id': pd.Series.nunique})\n",
    ")\n",
    "orders_by_users_b.columns = ['visitor_id', 'orders']\n",
    "\n",
    "#Объявим переменные, в которых пользователям из разных групп будет соответствовать количество заказов. \n",
    "#Тем, кто ничего не заказал, будут соответствовать нули.\n",
    "sample_a = pd.concat([orders_by_users_a['orders'],pd.Series(0, index=np.arange(\n",
    "    data['visitors_per_date_a'].sum() - len(orders_by_users_a['orders'])), name='orders')],axis=0)\n",
    "\n",
    "sample_b = pd.concat([orders_by_users_b['orders'],pd.Series(0, index=np.arange(\n",
    "    data['visitors_per_date_b'].sum() - len(orders_by_users_b['orders'])), name='orders')],axis=0)"
   ]
  },
  {
   "cell_type": "markdown",
   "id": "8790c804",
   "metadata": {},
   "source": [
    "Зададим порог статистической значимости равной 5%."
   ]
  },
  {
   "cell_type": "code",
   "execution_count": 33,
   "id": "dc3a87be",
   "metadata": {},
   "outputs": [
    {
     "name": "stdout",
     "output_type": "stream",
     "text": [
      "p-value по \"сырым\" данным равно 0.017\n",
      "Отвергаем нулевую гипотезу\n",
      "Относительный выигрыш группы B: 0.138\n"
     ]
    }
   ],
   "source": [
    "alpha = 0.05\n",
    "\n",
    "p_value = stats.mannwhitneyu(sample_a, sample_b)[1]\n",
    "print('p-value по \"сырым\" данным равно', \"{0:.3f}\".format(p_value))\n",
    "if (p_value < alpha):\n",
    "    print(\"Отвергаем нулевую гипотезу\")\n",
    "else:\n",
    "    print(\"Не получилось отвергнуть нулевую гипотезу\")\n",
    "    \n",
    "print(\"Относительный выигрыш группы B:\",\"{0:.3f}\".format(sample_b.mean() / sample_a.mean() - 1))"
   ]
  },
  {
   "cell_type": "markdown",
   "id": "5b269bab",
   "metadata": {},
   "source": [
    "<b>Краткий вывод: </b>  По «сырым» данным различия в среднем числе заказов групп A и B есть.<br>\n",
    "Первое число — p-value = 0.017 меньше 0.05. Значит, нулевую гипотезу о том, что статистически значимых различий в среднем числе заказов между группами нет, отвергаем. Относительный выигрыш группы B равен 13.8%."
   ]
  },
  {
   "cell_type": "markdown",
   "id": "5bb8a32a",
   "metadata": {},
   "source": [
    "<u><b>Подсчет статистической значимости различий в среднем чеке заказа между группами по «сырым» данным"
   ]
  },
  {
   "cell_type": "markdown",
   "id": "5b05c76f",
   "metadata": {},
   "source": [
    "Посчитаем статистическую значимость различий в среднем чеке между сегментами. \n",
    "\n",
    "Нулевая $H_{0}$: различий в среднем чеке между группами нет. \n",
    "\n",
    "Альтернативная $H_{1}$: различия в среднем чеке между группами есть.  "
   ]
  },
  {
   "cell_type": "code",
   "execution_count": 34,
   "id": "ac4b943f",
   "metadata": {},
   "outputs": [
    {
     "name": "stdout",
     "output_type": "stream",
     "text": [
      "p-value по \"сырым\" данным равно 0.729\n",
      "Не получилось отвергнуть нулевую гипотезу\n",
      "Относительный выигрыш группы B: 0.259\n"
     ]
    }
   ],
   "source": [
    "alpha = 0.05\n",
    "\n",
    "p_value_check = stats.mannwhitneyu(orders[orders['group']=='A']['revenue'], orders[orders['group']=='B']['revenue'])[1]\n",
    "print('p-value по \"сырым\" данным равно', \"{0:.3f}\".format(p_value_check))\n",
    "if (p_value_check < alpha):\n",
    "    print(\"Отвергаем нулевую гипотезу\")\n",
    "else:\n",
    "    print(\"Не получилось отвергнуть нулевую гипотезу\")\n",
    "    \n",
    "print(\"Относительный выигрыш группы B:\",\"{0:.3f}\".format(orders[orders['group']=='B']['revenue'].mean()/\n",
    "                                                         orders[orders['group']=='A']['revenue'].mean() - 1))"
   ]
  },
  {
   "cell_type": "markdown",
   "id": "c5989cb7",
   "metadata": {},
   "source": [
    "<b>Краткий вывод: </b>  По «сырым» данным различий в среднем чеке заказа между группами A и B нет.<br>\n",
    "Первое число — p-value = 0.73, что больше 0.05. Значит, нулевую гипотезу о том, что статистически значимых различий в среднем числе заказов между группами нет, отвергнуть не можеи. Средний чек группы B на 25.9% больше группы А."
   ]
  },
  {
   "cell_type": "markdown",
   "id": "bc933292",
   "metadata": {},
   "source": [
    "<u><b>Подсчет статистической значимости различий в среднем количестве заказов на посетителя между группами по «очищенным» данным"
   ]
  },
  {
   "cell_type": "markdown",
   "id": "f7a507ba",
   "metadata": {},
   "source": [
    "Посчитаем статистическую значимость различий в среднем числе заказов на пользователя между группами по «очищенным» данным. Ранее было принято решение, что количество заказов больше 2, а также сумма чека более 28 тыс. будут считаться аномальными. Уберем такие значения из анализа."
   ]
  },
  {
   "cell_type": "code",
   "execution_count": 35,
   "id": "81f9a18b",
   "metadata": {},
   "outputs": [
    {
     "name": "stdout",
     "output_type": "stream",
     "text": [
      "1099    148427295\n",
      "18      199603092\n",
      "928     204675465\n",
      "23      237748145\n",
      "37      249864742\n",
      "Name: visitor_id, dtype: int64\n",
      "74\n"
     ]
    }
   ],
   "source": [
    "users_big_orders = pd.concat(\n",
    "    [\n",
    "        orders_by_users_a[orders_by_users_a['orders'] > 2]['visitor_id'],\n",
    "        orders_by_users_b[orders_by_users_b['orders'] > 2]['visitor_id'],\n",
    "    ],\n",
    "    axis=0,\n",
    ")\n",
    "users_expens_orders = orders[orders['revenue'] > 28000]['visitor_id']\n",
    "abnorma_users = (\n",
    "    pd.concat([users_big_orders, users_expens_orders], axis=0)\n",
    "    .drop_duplicates()\n",
    "    .sort_values()\n",
    ")\n",
    "print(abnorma_users.head(5))\n",
    "print(abnorma_users.shape[0])"
   ]
  },
  {
   "cell_type": "markdown",
   "id": "180732e1",
   "metadata": {},
   "source": [
    "Всего 74 \"аномальных\" покупателей, уберем таких покупателей из датафрейма."
   ]
  },
  {
   "cell_type": "code",
   "execution_count": 36,
   "id": "6546734f",
   "metadata": {},
   "outputs": [],
   "source": [
    "sample_a_filtered = pd.concat(\n",
    "    [\n",
    "        orders_by_users_a[\n",
    "            np.logical_not(orders_by_users_a['visitor_id'].isin(abnorma_users))\n",
    "        ]['orders'],\n",
    "        pd.Series(\n",
    "            0,\n",
    "            index=np.arange(\n",
    "                data['visitors_per_date_a'].sum() - len(orders_by_users_a['orders'])\n",
    "            ),\n",
    "            name='orders',\n",
    "        ),\n",
    "    ],\n",
    "    axis=0,\n",
    ")\n",
    "\n",
    "sample_b_filtered = pd.concat(\n",
    "    [\n",
    "        orders_by_users_b[\n",
    "            np.logical_not(orders_by_users_b['visitor_id'].isin(abnorma_users))\n",
    "        ]['orders'],\n",
    "        pd.Series(\n",
    "            0,\n",
    "            index=np.arange(\n",
    "                data['visitors_per_date_b'].sum() - len(orders_by_users_b['orders'])\n",
    "            ),\n",
    "            name='orders',\n",
    "        ),\n",
    "    ],\n",
    "    axis=0,\n",
    ")"
   ]
  },
  {
   "cell_type": "markdown",
   "id": "26b002d6",
   "metadata": {},
   "source": [
    "Сформулируем гипотезы.\n",
    "\n",
    "Нулевая $H_{0}$: различий в среднем количестве заказов между группами нет. \n",
    "\n",
    "Альтернативная $H_{1}$: различия в среднем количестве заказов между группами есть.\n",
    "\n",
    "Применим статистический критерий Манна-Уитни к полученным выборкам:"
   ]
  },
  {
   "cell_type": "code",
   "execution_count": 37,
   "id": "4ab9897e",
   "metadata": {},
   "outputs": [
    {
     "name": "stdout",
     "output_type": "stream",
     "text": [
      "p-value по \"сырым\" данным равно 0.013\n",
      "Отвергаем нулевую гипотезу\n",
      "Относительный выигрыш группы B: 0.173\n"
     ]
    }
   ],
   "source": [
    "alpha = 0.05\n",
    "\n",
    "p_value_filtered = stats.mannwhitneyu(sample_a_filtered, sample_b_filtered)[1]\n",
    "print('p-value по \"сырым\" данным равно', \"{0:.3f}\".format(p_value_filtered))\n",
    "if (p_value_filtered < alpha):\n",
    "    print(\"Отвергаем нулевую гипотезу\")\n",
    "else:\n",
    "    print(\"Не получилось отвергнуть нулевую гипотезу\")\n",
    "    \n",
    "print(\"Относительный выигрыш группы B:\",\"{0:.3f}\".format(sample_b_filtered.mean() / sample_a_filtered.mean() - 1))"
   ]
  },
  {
   "cell_type": "markdown",
   "id": "9c364955",
   "metadata": {},
   "source": [
    "<b>Краткий вывод: </b>  По «очищенным» данным различия в среднем числе заказов групп A и B также присутствуют.<br>\n",
    "Первое число — p-value = 0.013 меньше 0.05. Значит, нулевую гипотезу о том, что статистически значимых различий в среднем числе заказов между группами нет, отвергаем. Выигрыш группы B немного увеличился и стал 17.3%."
   ]
  },
  {
   "cell_type": "markdown",
   "id": "2b29efa9",
   "metadata": {},
   "source": [
    "<u><b>Подсчет статистической значимости различий в среднем чеке заказа между группами по «очищенным» данным"
   ]
  },
  {
   "cell_type": "markdown",
   "id": "97b8d0a2",
   "metadata": {},
   "source": [
    "Посчитаем статистическую значимость различий в среднем чеке между сегментами  по «очищенным» данным.\n",
    "\n",
    "Сформулируем гипотезы.\n",
    "\n",
    "Нулевая $H_{0}$: различий в среднем чеке между группами нет. \n",
    "\n",
    "Альтернативная $H_{1}$: различия в среднем чеке между группами есть.  "
   ]
  },
  {
   "cell_type": "code",
   "execution_count": 38,
   "id": "ba0732f6",
   "metadata": {},
   "outputs": [
    {
     "name": "stdout",
     "output_type": "stream",
     "text": [
      "p-value по \"сырым\" данным равно 0.738\n",
      "Не получилось отвергнуть нулевую гипотезу\n",
      "Относительный выигрыш группы B: -0.020\n"
     ]
    }
   ],
   "source": [
    "alpha = 0.05\n",
    "\n",
    "p_value_check_filt = stats.mannwhitneyu(orders[\n",
    "                np.logical_and(\n",
    "                    orders['group'] == 'A',\n",
    "                    np.logical_not(orders['visitor_id'].isin(abnorma_users)),\n",
    "                )\n",
    "            ]['revenue'],orders[\n",
    "                np.logical_and(\n",
    "                    orders['group'] == 'B',\n",
    "                    np.logical_not(orders['visitor_id'].isin(abnorma_users)),\n",
    "                )\n",
    "            ]['revenue'],\n",
    "        )[1]\n",
    "print('p-value по \"сырым\" данным равно', \"{0:.3f}\".format(p_value_check_filt))\n",
    "if (p_value_check < alpha):\n",
    "    print(\"Отвергаем нулевую гипотезу\")\n",
    "else:\n",
    "    print(\"Не получилось отвергнуть нулевую гипотезу\")\n",
    "    \n",
    "print(\"Относительный выигрыш группы B:\",\"{0:.3f}\".format(orders[\n",
    "            np.logical_and(\n",
    "                orders['group'] == 'B',\n",
    "                np.logical_not(orders['visitor_id'].isin(abnorma_users)),\n",
    "            )\n",
    "        ]['revenue'].mean()\n",
    "        / orders[\n",
    "            np.logical_and(\n",
    "                orders['group'] == 'A',\n",
    "                np.logical_not(orders['visitor_id'].isin(abnorma_users)),\n",
    "            )\n",
    "        ]['revenue'].mean() - 1))"
   ]
  },
  {
   "cell_type": "markdown",
   "id": "8772a728",
   "metadata": {},
   "source": [
    "<b>Краткий вывод: </b>  По «очищенным» данным различий в среднем чеке заказа между группами A и B также не наблюдается.<br>\n",
    "Первое число практически такое же — p-value = 0.74, что больше 0.05. Значит, нулевую гипотезу о том, что статистически значимых различий в среднем числе заказов между группами нет, отвергнуть не можеи. Однако средний чек группы B оказался ниже - на 2%."
   ]
  },
  {
   "cell_type": "markdown",
   "id": "a6f79e97",
   "metadata": {},
   "source": [
    "### 5. Вывод по проведенному А/В тесту"
   ]
  },
  {
   "cell_type": "markdown",
   "id": "7d6d5cb5",
   "metadata": {},
   "source": [
    "1) Cтатистически значимые различия по среднему количеству заказов между группами по «сырым» и «очищенным» данным присутствуют. Различия между «сырыми» (0,017) и «очищенными» (0,013) даннымы не существенны;<br> \n",
    "2) Нет статистически значимого различия по среднему чеку между группами ни по «сырым» и «очищенным» данным. Различия между «сырыми» (0,729) и «очищенными» (0,738) данными также не существенны;<br> \n",
    "3) График различия среднего количества заказов между группами сообщает, что результаты группы B лучше группы A и наблюдается  тенденция к улучшению:"
   ]
  },
  {
   "cell_type": "code",
   "execution_count": 39,
   "id": "889c8613",
   "metadata": {},
   "outputs": [
    {
     "data": {
      "image/png": "[encoded data removed]",
      "text/plain": [
       "<Figure size 1440x720 with 1 Axes>"
      ]
     },
     "metadata": {
      "needs_background": "light"
     },
     "output_type": "display_data"
    }
   ],
   "source": [
    "plt.subplots(figsize =(20,10))\n",
    "plt.plot(merged_cumulative_conversions['date'], merged_cumulative_conversions['conversionB']/merged_cumulative_conversions['conversionA']-1)\n",
    "\n",
    "plt.xlabel('Дата', fontsize=14)\n",
    "plt.ylabel('Относительное изменение кумулятивной конверсии', fontsize=14)\n",
    "plt.title('Относительный прирост конверсии группы B относительно группы A', fontsize=16)\n",
    "plt.axhline(y=0, color='black', linestyle='--');"
   ]
  },
  {
   "cell_type": "markdown",
   "id": "9e767fc3",
   "metadata": {},
   "source": [
    "4) График различия среднего чека говорит о том, что результаты группы B лучше, чем у группы А. Под конец месяца разница была в 30%:"
   ]
  },
  {
   "cell_type": "code",
   "execution_count": 40,
   "id": "39fa09fe",
   "metadata": {},
   "outputs": [
    {
     "data": {
      "image/png": "[encoded data removed]",
      "text/plain": [
       "<Figure size 1440x720 with 1 Axes>"
      ]
     },
     "metadata": {
      "needs_background": "light"
     },
     "output_type": "display_data"
    }
   ],
   "source": [
    "plt.subplots(figsize =(20,10))\n",
    "plt.plot(merged_cumulative_revenue['date'], (merged_cumulative_revenue['revenueB']/merged_cumulative_revenue['ordersB'])/(merged_cumulative_revenue['revenueA']/merged_cumulative_revenue['ordersA'])-1)\n",
    "plt.xlabel('Дата', fontsize=14)\n",
    "plt.ylabel('Относительное изменение кумулятивной конверсии', fontsize=14)\n",
    "plt.title('Относительный прирост  кумулятивного среднего чека группы B к группе A', fontsize=16)\n",
    "plt.axhline(y=0, color='black', linestyle='--');"
   ]
  },
  {
   "cell_type": "markdown",
   "id": "150480ee",
   "metadata": {},
   "source": [
    "Исходя из обнаруженных фактов, тест следует остановить и признать его успешным. В группе B кумулятивная конверсия заметно выше. Стоит отметить и статистическую значимость различий в конверсии между этими группами. Результаты группы В выше, чем группы А."
   ]
  },
  {
   "cell_type": "markdown",
   "id": "e004aa8e",
   "metadata": {},
   "source": [
    "### 6. Общий вывов по пректу"
   ]
  },
  {
   "cell_type": "markdown",
   "id": "f6ad78d4",
   "metadata": {},
   "source": [
    "<div style=\"text-align: justify \">\n",
    "<b><i>1) В части предобработки данных</i></b><br><br>\n",
    "В ходе ознакомления и предобработки данных стало известно, что имеется три массива данных. <b>Hypothesis</b> содержит данные о гипотезах, охвате пользователей, влиянии на пользователей, уверенности в гипотезе по 10-балльной шкале, затратах ресурсов на проверку гипотезы. <b>Orders</b> содержит данные о идентификаторах заказа и пользователя, дате и выручки заказа, группе A/B-теста, в которую попал заказ. <b>Visitors</b> содержит данные о дате, группе A/B-теста, количестве пользователей в указанную дату в указанной группе A/B-теста. Столбцы с данными о дате были преобразованы в тип \"data\". Для \"красоты\" отображения наименования столбцов переведено в \"змеиный\" формат. В датафрейме имеется 58 пользователей, которые относятся и к группе А и к группе В, однако исключать данных пользователей не имеет смысла, т.к. для анализа нам интересны только детали транзакций.<br><br>\n",
    "\n",
    "<div style=\"text-align: justify \">\n",
    "<b><i>2) В части приоритезации гипотез</i></b><br><br>\n",
    "Датафрейм содержит 9 гипотез. Для пиритизации гипотез были использованы методы <b>ICE</b> и <b>RICE</b> При расчете фреймворка <b>ICE</b> на первом месте стоит гипотеза №8 \"Запустить акцию, дающую скидку на товар в день рождения\", при расчете фреймворка <b>RICE</b> на первом месте стоит гипотеза №7 \"Добавить форму подписки на все основные страницы, чтобы собрать базу клиентов для email-рассылок\". Стоит отметить, что гипотеза №7, а также гипотеза №0 \"Добавить два новых канала привлечения трафика, что позволит привлекать на 30% больше пользователей\" держится в тройке лидеров в обоих случаях. Гипотеза №7 при расчете фреймворка <b>RICE</b> выходит на первое место, т.к. охват пользователей данной гипотезы самый высокий, в то время, как при расчете фреймворка <b>ICE</b> гипотеза №8 имеет самое высокие влияние на пользователя и уверенность в такой гипотезе. Однако при расчете <b>RICE</b> гипотеза №8 сильно спускается по рейтингу, возможно это связано с низким охватом пользователя во время проведения исследования. Затраты по обеим гипотезам не сверх высокие. Гипотезы №6 и №4 при расчете обоих фреймворков остаются на своих позициях. Т.к. фреймворк RICE в том числе учитывает охват пользователей, для приоритезации гипотез предпочтительнее брать данный метод.\n",
    "\n",
    "Т.к. фреймворк <b>RICE</b> в том числе учитывает охват пользователей, для приоритезации гипотез предпочтительнее брать данный метод.<br><br>\n",
    "\n",
    "    \n",
    "<div style=\"text-align: justify \">\n",
    "<b><i>3) В части проведенного А/В теста</i></b><br>\n",
    "    \n",
    "- из графика изменение кумулятивной выручки по группам видно, что выручка почти равномерно увеличивается в течение всего теста. Однако заметен резкий прирост по выручке группы В в середине месяца. Это может сигнализировать о всплесках числа заказов, или о появлении очень дорогих заказов в выборке;<br>\n",
    "- из графика изменение величины среднего чека по группам видно, что величина среднего чека группы А в первые дни проваливается, затем ближе к концу \"успокаивается\" и почти равномерно увеличивается ближе к концу теста. В группе В наоборот нет никакой плавности, в середине месяца наблюдается сильный рост, который возможно связан с аномально большим чеком. Но стоит отметить, что результаты группы В выше;<br>\n",
    "- из графика изменения относительного изменения кумулятивного среднего чека группы B к группе A видно, что разница в сегментах имеет сильные скачки. Средний чек группы В больше.<br>\n",
    "- из графика кумулятивного среднего количества заказов на посетителя по группам видно, что колебания по обоим сегментам сохраняются в первые десять дней. Затем изменение кумулятивного среднего количества заказов по группе А успокаивается и заканчивается небольшим снижением. По группе В видимые колебания сохраняются до середины месяца, затем виден тренд на снижение. Также, стоит отметить, что количество заказов группы В значительно выше А;<br>\n",
    "- из графика относительного изменения кумулятивного среднего количества заказов на посетителя группы B к группе A видно, что на старте проведения теста группа В сильно отстает от А, затем наблюдается резкий скачок, падение и опять сильный подъем.  К концу теста прирост относительного кумулятивного среднего количества заказов группы B относительно группы A стабилизируется и устанавливается в районе 15%;<br>\n",
    "- при анализе массива данных и рассмотрении перцентилей было отмечено, что в основном один посетитель делает два заказа не более 28 000. Клиенты с превышающими показателями были отсеяны;<br>\n",
    "\n",
    "<b><i>4) Вывод по проведенному А/В тесту</i></b><br>\n",
    "\n",
    "- статистически значимые различия по среднему количеству заказов между группами по «сырым» и «очищенным» данным присутствуют. Различия между «сырыми» (0,017) и «очищенными» (0,013) данными не существенны. Относительный выигрыш группы B немного вырос;<br> \n",
    "- нет статистически значимого различия по среднему чеку между группами ни по «сырым» и «очищенным» данным. Различия между «сырыми» (0,729) и «очищенными» (0,738) данными также не существенны. Средний чек группы B при «очищенных» данных оказался ниже - на 2%;<br> \n",
    "- график различия среднего количества заказов между группами сообщает, что результаты группы B намного лучше группы A и наблюдается тенденция к улучшению;<br>\n",
    "- график различия среднего чека говорит о том, что результаты группы B лучше, чем у группы А. Под конец теста разница достигла 30%.\n",
    "\n",
    "<b><i>5) Рекомендации</i></b><br><br>\n",
    "Исходя из обнаруженных фактов, А/В тест следует остановить и признать его успешным. В группе B кумулятивная конверсия заметно выше. Стоит отметить и статистическую значимость различий в конверсии между этими группами. Результаты группы В выше, чем группы А."
   ]
  },
  {
   "cell_type": "code",
   "execution_count": null,
   "id": "57faab17",
   "metadata": {},
   "outputs": [],
   "source": []
  }
 ],
 "metadata": {
  "ExecuteTimeLog": [
   {
    "duration": 1129,
    "start_time": "2023-09-03T18:26:34.162Z"
   },
   {
    "duration": 3,
    "start_time": "2023-09-03T18:26:41.714Z"
   },
   {
    "duration": 308,
    "start_time": "2023-09-03T18:26:58.345Z"
   },
   {
    "duration": 4,
    "start_time": "2023-09-03T18:27:15.442Z"
   },
   {
    "duration": 29,
    "start_time": "2023-09-03T18:27:57.559Z"
   },
   {
    "duration": 24,
    "start_time": "2023-09-03T18:28:15.603Z"
   },
   {
    "duration": 19,
    "start_time": "2023-09-03T18:28:31.958Z"
   },
   {
    "duration": 3,
    "start_time": "2023-09-03T18:33:48.420Z"
   },
   {
    "duration": 20,
    "start_time": "2023-09-03T18:33:51.674Z"
   },
   {
    "duration": 7,
    "start_time": "2023-09-03T18:34:26.524Z"
   },
   {
    "duration": 9,
    "start_time": "2023-09-03T18:34:39.122Z"
   },
   {
    "duration": 11,
    "start_time": "2023-09-03T18:35:19.637Z"
   },
   {
    "duration": 11,
    "start_time": "2023-09-03T18:36:26.885Z"
   },
   {
    "duration": 11,
    "start_time": "2023-09-03T18:37:01.856Z"
   },
   {
    "duration": 11,
    "start_time": "2023-09-03T18:39:42.347Z"
   },
   {
    "duration": 10,
    "start_time": "2023-09-03T18:40:13.422Z"
   },
   {
    "duration": 10,
    "start_time": "2023-09-03T18:40:29.399Z"
   },
   {
    "duration": 72,
    "start_time": "2023-09-03T18:41:37.708Z"
   },
   {
    "duration": 264,
    "start_time": "2023-09-03T18:42:01.743Z"
   },
   {
    "duration": 73,
    "start_time": "2023-09-03T18:42:10.062Z"
   },
   {
    "duration": 290,
    "start_time": "2023-09-03T18:42:17.115Z"
   },
   {
    "duration": 225,
    "start_time": "2023-09-03T18:42:55.483Z"
   },
   {
    "duration": 220,
    "start_time": "2023-09-03T18:43:39.886Z"
   },
   {
    "duration": 390,
    "start_time": "2023-09-03T18:44:32.546Z"
   },
   {
    "duration": 266,
    "start_time": "2023-09-03T18:45:21.270Z"
   },
   {
    "duration": 337,
    "start_time": "2023-09-03T18:46:30.183Z"
   },
   {
    "duration": 10,
    "start_time": "2023-09-03T18:47:07.346Z"
   },
   {
    "duration": 130,
    "start_time": "2023-09-03T18:47:45.354Z"
   },
   {
    "duration": 141,
    "start_time": "2023-09-03T18:48:14.319Z"
   },
   {
    "duration": 5,
    "start_time": "2023-09-03T18:48:56.729Z"
   },
   {
    "duration": 77,
    "start_time": "2023-09-03T18:49:45.171Z"
   },
   {
    "duration": 9,
    "start_time": "2023-09-03T18:49:55.582Z"
   },
   {
    "duration": 141,
    "start_time": "2023-09-03T18:51:21.540Z"
   },
   {
    "duration": 77,
    "start_time": "2023-09-03T18:51:28.069Z"
   },
   {
    "duration": 206,
    "start_time": "2023-09-03T18:51:51.483Z"
   },
   {
    "duration": 143,
    "start_time": "2023-09-03T18:52:53.651Z"
   },
   {
    "duration": 6,
    "start_time": "2023-09-03T18:53:31.089Z"
   },
   {
    "duration": 207,
    "start_time": "2023-09-03T18:56:08.505Z"
   },
   {
    "duration": 79,
    "start_time": "2023-09-03T18:56:46.815Z"
   },
   {
    "duration": 157,
    "start_time": "2023-09-03T18:56:55.034Z"
   },
   {
    "duration": 33,
    "start_time": "2023-09-03T18:57:25.887Z"
   },
   {
    "duration": 11,
    "start_time": "2023-09-03T18:58:19.275Z"
   },
   {
    "duration": 9,
    "start_time": "2023-09-03T18:58:57.260Z"
   },
   {
    "duration": 7,
    "start_time": "2023-09-03T18:59:19.636Z"
   },
   {
    "duration": 24,
    "start_time": "2023-09-03T18:59:43.641Z"
   },
   {
    "duration": 13,
    "start_time": "2023-09-03T19:00:22.665Z"
   },
   {
    "duration": 338,
    "start_time": "2023-09-03T19:01:42.158Z"
   },
   {
    "duration": 327,
    "start_time": "2023-09-03T19:02:11.810Z"
   },
   {
    "duration": 964,
    "start_time": "2023-09-03T19:06:11.810Z"
   },
   {
    "duration": 2,
    "start_time": "2023-09-03T19:06:12.776Z"
   },
   {
    "duration": 111,
    "start_time": "2023-09-03T19:06:12.780Z"
   },
   {
    "duration": 4,
    "start_time": "2023-09-03T19:06:12.893Z"
   },
   {
    "duration": 34,
    "start_time": "2023-09-03T19:06:12.898Z"
   },
   {
    "duration": 23,
    "start_time": "2023-09-03T19:06:12.933Z"
   },
   {
    "duration": 18,
    "start_time": "2023-09-03T19:06:12.957Z"
   },
   {
    "duration": 7,
    "start_time": "2023-09-03T19:06:12.976Z"
   },
   {
    "duration": 9,
    "start_time": "2023-09-03T19:06:12.985Z"
   },
   {
    "duration": 21,
    "start_time": "2023-09-03T19:06:12.996Z"
   },
   {
    "duration": 21,
    "start_time": "2023-09-03T19:06:13.019Z"
   },
   {
    "duration": 17,
    "start_time": "2023-09-03T19:06:13.041Z"
   },
   {
    "duration": 10,
    "start_time": "2023-09-03T19:06:13.060Z"
   },
   {
    "duration": 20,
    "start_time": "2023-09-03T19:06:13.071Z"
   },
   {
    "duration": 15,
    "start_time": "2023-09-03T19:06:13.092Z"
   },
   {
    "duration": 277,
    "start_time": "2023-09-03T19:06:13.108Z"
   },
   {
    "duration": 307,
    "start_time": "2023-09-03T19:06:13.387Z"
   },
   {
    "duration": 239,
    "start_time": "2023-09-03T19:06:13.696Z"
   },
   {
    "duration": 358,
    "start_time": "2023-09-03T19:06:13.937Z"
   },
   {
    "duration": 265,
    "start_time": "2023-09-03T19:06:14.297Z"
   },
   {
    "duration": 352,
    "start_time": "2023-09-03T19:06:14.564Z"
   },
   {
    "duration": 11,
    "start_time": "2023-09-03T19:06:14.918Z"
   },
   {
    "duration": 155,
    "start_time": "2023-09-03T19:06:14.930Z"
   },
   {
    "duration": 146,
    "start_time": "2023-09-03T19:06:15.087Z"
   },
   {
    "duration": 5,
    "start_time": "2023-09-03T19:06:15.234Z"
   },
   {
    "duration": 13,
    "start_time": "2023-09-03T19:06:15.250Z"
   },
   {
    "duration": 159,
    "start_time": "2023-09-03T19:06:15.264Z"
   },
   {
    "duration": 159,
    "start_time": "2023-09-03T19:06:15.426Z"
   },
   {
    "duration": 229,
    "start_time": "2023-09-03T19:06:15.587Z"
   },
   {
    "duration": 5,
    "start_time": "2023-09-03T19:06:15.817Z"
   },
   {
    "duration": 244,
    "start_time": "2023-09-03T19:06:15.823Z"
   },
   {
    "duration": 210,
    "start_time": "2023-09-03T19:06:16.069Z"
   },
   {
    "duration": 27,
    "start_time": "2023-09-03T19:06:16.280Z"
   },
   {
    "duration": 12,
    "start_time": "2023-09-03T19:06:16.308Z"
   },
   {
    "duration": 30,
    "start_time": "2023-09-03T19:06:16.321Z"
   },
   {
    "duration": 7,
    "start_time": "2023-09-03T19:06:16.353Z"
   },
   {
    "duration": 25,
    "start_time": "2023-09-03T19:06:16.362Z"
   },
   {
    "duration": 19,
    "start_time": "2023-09-03T19:06:16.388Z"
   },
   {
    "duration": 387,
    "start_time": "2023-09-03T19:06:16.408Z"
   },
   {
    "duration": 322,
    "start_time": "2023-09-03T19:06:16.797Z"
   }
  ],
  "kernelspec": {
   "display_name": "Python 3 (ipykernel)",
   "language": "python",
   "name": "python3"
  },
  "language_info": {
   "codemirror_mode": {
    "name": "ipython",
    "version": 3
   },
   "file_extension": ".py",
   "mimetype": "text/x-python",
   "name": "python",
   "nbconvert_exporter": "python",
   "pygments_lexer": "ipython3",
   "version": "3.9.5"
  },
  "toc": {
   "base_numbering": 1,
   "nav_menu": {},
   "number_sections": true,
   "sideBar": true,
   "skip_h1_title": true,
   "title_cell": "Table of Contents",
   "title_sidebar": "Contents",
   "toc_cell": false,
   "toc_position": {},
   "toc_section_display": true,
   "toc_window_display": false
  }
 },
 "nbformat": 4,
 "nbformat_minor": 5
}
