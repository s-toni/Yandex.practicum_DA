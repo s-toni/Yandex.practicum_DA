{
 "cells": [
  {
   "cell_type": "markdown",
   "id": "b9dd68a8",
   "metadata": {},
   "source": [
    "<a id='start'></a>\n",
    "# Анализ тарифных планов оператора сотовой связи\n",
    "\n",
    "Федеральный оператор сотовой связи предлагает клиентам два тарифных плана: «Смарт» и «Ультра». Чтобы скорректировать рекламный бюджет, для коммерческий департамента необходимо предоставить информацию, какой тариф приносит больше денег. Для анализа предоставлены данные 500 пользователей «Мегалайна»: кто они, откуда, каким тарифом пользуются, сколько звонков и сообщений каждый отправил за 2018-й год.\n",
    "\n",
    "<b>Задача:</b><br>\n",
    "1) Провести предварительный анализ тарифов на небольшой выборке клиентов; <br>\n",
    "2) Проверить гипотезы о средней выручке:\n",
    "- средняя выручка пользователей тарифов Ultra и Smart различается.\n",
    "- средняя выручка пользователей из Москвы отличается от выручки пользователей из других регионов."
   ]
  },
  {
   "cell_type": "markdown",
   "id": "37f595a3",
   "metadata": {},
   "source": [
    "<b>Описание тарифов</b>\n",
    "\n",
    "<b>Тариф «Смарт»:</b><br>\n",
    "1) Ежемесячная плата: 550 рублей;<br>\n",
    "2) Включено 500 минут разговора, 50 сообщений и 15 Гб интернет-трафика;<br>\n",
    "3) Стоимость услуг сверх тарифного пакета:<br>\n",
    "- Минута разговора — 3 рубля. Количество использованных минут и мегабайтов «Мегалайн» всегда округляет вверх. Если пользователь проговорил всего 1 секунду, в тарифе засчитывается целая минута.<br>\n",
    "- Сообщение — 3 рубля.<br>\n",
    "- 1 Гб интернет-трафика — 200 рублей.\n",
    "    \n",
    "<b>Тариф «Ультра»</b><br>\n",
    "1) Ежемесячная плата: 1950 рублей<br>\n",
    "2) Включено 3000 минут разговора, 1000 сообщений и 30 Гб интернет-трафика<br>\n",
    "3) Стоимость услуг сверх тарифного пакета:<br>\n",
    "- Минута разговора — 1 рубль;<br>\n",
    "- Сообщение — 1 рубль;<br>\n",
    "- 1 Гб интернет-трафика: 150 рублей."
   ]
  },
  {
   "cell_type": "markdown",
   "id": "9a61e1e5",
   "metadata": {},
   "source": [
    "<b>Ход исследования: </b>\n",
    "1) Обзор данных.<br>\n",
    "\n",
    "2) Предобработка данных:<br>\n",
    "- привести данные о дате к типу данных \"дата\";\n",
    "- выделить месяц из даты и создать соответствующий столбец;\n",
    "- округлить данные;\n",
    "- удалить лишние столбцы.\n",
    "\n",
    "3) Исследовательский анализ данных и подсчет выручки.<br>\n",
    "\n",
    "4) Проверка гипотез:<br>\n",
    "1) средняя выручка пользователей тарифов «Ультра» и «Смарт» различается <br>\n",
    "2) выручка пользователей из Москвы не отличается от выручки пользователей из других регионов.\n",
    "\n",
    "5) Общий вывод по проекту."
   ]
  },
  {
   "cell_type": "markdown",
   "id": "ca63a399",
   "metadata": {},
   "source": [
    "<b>Описание данных:</b>\n",
    "\n",
    "Имеется 5 датасетов:\n",
    "\n",
    "1) <b>users</b> — информация о пользователях.\n",
    "\n",
    "<b>user_id</b> — уникальный идентификатор пользователя;<br>\n",
    "<b>first_name</b> — имя пользователя;<br>\n",
    "<b>last_name</b> — фамилия пользователя;<br>\n",
    "<b>age</b> — возраст пользователя (годы);<br>\n",
    "<b>reg_date</b> — дата подключения тарифа (день, месяц, год);<br>\n",
    "<b>churn_date</b> —  дата прекращения пользования тарифом (если значение пропущено, значит, тариф ещё действовал на момент выгрузки данных);<br>\n",
    "<b>city</b> — город проживания пользователя;<br>\n",
    "<b>tarif</b> — название тарифного плана.<br>\n",
    "\n",
    "2) <b>calls</b> — информация о звонках.\n",
    "\n",
    "<b>id</b> — уникальный номер звонка;<br>\n",
    "<b>call_date</b> — дата звонка;<br>\n",
    "<b>duration</b> — длительность звонка в минутах;<br>\n",
    "<b>user_id</b> —  идентификатор пользователя, сделавшего звонок.<br>\n",
    "\n",
    "3) <b>messages</b> — информация о сообщениях.\n",
    "\n",
    "<b>id </b> — уникальный номер звонка;<br>\n",
    "<b>message_date</b> — дата сообщения;<br>\n",
    "<b>user_id</b> — идентификатор пользователя, отправившего сообщение.<br>\n",
    "\n",
    "4) <b>internet</b> — информация об интернет-сессиях.\n",
    "\n",
    "<b>id</b> —уникальный номер сессии;<br>\n",
    "<b>mb_used</b> — объём потраченного за сессию интернет-трафика (в мегабайтах);<br>\n",
    "<b>session_date</b> — дата интернет-сессии;<br>\n",
    "<b>user_id</b> — идентификатор пользователя.<br>\n",
    "\n",
    "5) <b>tariffs</b> — информация о тарифах.\n",
    "\n",
    "<b>tariff_name</b> — название тарифа;<br>\n",
    "<b>rub_monthly_fee</b> — оежемесячная абонентская плата в рублях;<br>\n",
    "<b>minutes_included</b> — количество минут разговора в месяц, включённых в абонентскую плату;<br>\n",
    "<b>messages_included</b> — количество сообщений в месяц, включённых в абонентскую плату;<br>\n",
    "<b>mb_per_month_included</b> — объём интернет-трафика, включённого в абонентскую плату (в мегабайтах);<br>\n",
    "<b>rub_per_minute</b> — стоимость минуты разговора сверх тарифного пакета (например, если в тарифе 100 минут разговора в месяц, то со 101 минуты будет взиматься плата);<br>\n",
    "<b>rub_per_message</b> — стоимость отправки сообщения сверх тарифного пакета;<br>\n",
    "<b>rub_per_gb</b> — стоимость дополнительного гигабайта интернет-трафика сверх тарифного пакета (1 гигабайт = 1024 мегабайта).<br>"
   ]
  },
  {
   "cell_type": "markdown",
   "id": "c6ea9b60",
   "metadata": {},
   "source": [
    "### 1. Обзор данных"
   ]
  },
  {
   "cell_type": "code",
   "execution_count": 1,
   "id": "ebd1df1e",
   "metadata": {},
   "outputs": [],
   "source": [
    "#Подключим необходимые библиотеки\n",
    "import pandas as pd\n",
    "import numpy as np\n",
    "import seaborn as sns\n",
    "sns.set(rc={'figure.figsize':(11.7,8.27)})\n",
    "import matplotlib.pyplot as plt\n",
    "from scipy import stats as st\n",
    "import warnings\n",
    "warnings.filterwarnings(\"ignore\")"
   ]
  },
  {
   "cell_type": "code",
   "execution_count": 2,
   "id": "881878fd",
   "metadata": {},
   "outputs": [],
   "source": [
    "#Загрузим данные\n",
    "calls = pd.read_csv('/datasets/calls.csv')\n",
    "sessions = pd.read_csv('/datasets/internet.csv')\n",
    "messages = pd.read_csv('/datasets/messages.csv')\n",
    "tariffs = pd.read_csv('/datasets/tariffs.csv')\n",
    "users = pd.read_csv('/datasets/users.csv')"
   ]
  },
  {
   "cell_type": "code",
   "execution_count": 3,
   "id": "38fe517a",
   "metadata": {},
   "outputs": [],
   "source": [
    "#Базовая функция для ознакомления с данными: инфо о типах, пропусках, явных дубликатах\n",
    "def show_data(df):\n",
    "    display(df.head(5))\n",
    "    print('-----')\n",
    "    print('Информация о типах данных')\n",
    "    df.info()\n",
    "    print('-----')\n",
    "    for col in df.columns:\n",
    "        print('Название:', col, '\\nПропусков:\\t', df[col].isna().sum(), 'Процент пропусков:\\t', round(df[col].isna().sum() *100 / len(df[col])))\n",
    "    round(df[col].isna().sum() *100 / len(df[col]))\n",
    "    print('-----')\n",
    "    print('Явных дубликатов')\n",
    "    print(df.duplicated().sum())"
   ]
  },
  {
   "cell_type": "code",
   "execution_count": 4,
   "id": "ad64abc8",
   "metadata": {},
   "outputs": [
    {
     "data": {
      "text/html": [
       "<div>\n",
       "<style scoped>\n",
       "    .dataframe tbody tr th:only-of-type {\n",
       "        vertical-align: middle;\n",
       "    }\n",
       "\n",
       "    .dataframe tbody tr th {\n",
       "        vertical-align: top;\n",
       "    }\n",
       "\n",
       "    .dataframe thead th {\n",
       "        text-align: right;\n",
       "    }\n",
       "</style>\n",
       "<table border=\"1\" class=\"dataframe\">\n",
       "  <thead>\n",
       "    <tr style=\"text-align: right;\">\n",
       "      <th></th>\n",
       "      <th>id</th>\n",
       "      <th>call_date</th>\n",
       "      <th>duration</th>\n",
       "      <th>user_id</th>\n",
       "    </tr>\n",
       "  </thead>\n",
       "  <tbody>\n",
       "    <tr>\n",
       "      <th>0</th>\n",
       "      <td>1000_0</td>\n",
       "      <td>2018-07-25</td>\n",
       "      <td>0.00</td>\n",
       "      <td>1000</td>\n",
       "    </tr>\n",
       "    <tr>\n",
       "      <th>1</th>\n",
       "      <td>1000_1</td>\n",
       "      <td>2018-08-17</td>\n",
       "      <td>0.00</td>\n",
       "      <td>1000</td>\n",
       "    </tr>\n",
       "    <tr>\n",
       "      <th>2</th>\n",
       "      <td>1000_2</td>\n",
       "      <td>2018-06-11</td>\n",
       "      <td>2.85</td>\n",
       "      <td>1000</td>\n",
       "    </tr>\n",
       "    <tr>\n",
       "      <th>3</th>\n",
       "      <td>1000_3</td>\n",
       "      <td>2018-09-21</td>\n",
       "      <td>13.80</td>\n",
       "      <td>1000</td>\n",
       "    </tr>\n",
       "    <tr>\n",
       "      <th>4</th>\n",
       "      <td>1000_4</td>\n",
       "      <td>2018-12-15</td>\n",
       "      <td>5.18</td>\n",
       "      <td>1000</td>\n",
       "    </tr>\n",
       "  </tbody>\n",
       "</table>\n",
       "</div>"
      ],
      "text/plain": [
       "       id   call_date  duration  user_id\n",
       "0  1000_0  2018-07-25      0.00     1000\n",
       "1  1000_1  2018-08-17      0.00     1000\n",
       "2  1000_2  2018-06-11      2.85     1000\n",
       "3  1000_3  2018-09-21     13.80     1000\n",
       "4  1000_4  2018-12-15      5.18     1000"
      ]
     },
     "metadata": {},
     "output_type": "display_data"
    },
    {
     "name": "stdout",
     "output_type": "stream",
     "text": [
      "-----\n",
      "Информация о типах данных\n",
      "<class 'pandas.core.frame.DataFrame'>\n",
      "RangeIndex: 202607 entries, 0 to 202606\n",
      "Data columns (total 4 columns):\n",
      " #   Column     Non-Null Count   Dtype  \n",
      "---  ------     --------------   -----  \n",
      " 0   id         202607 non-null  object \n",
      " 1   call_date  202607 non-null  object \n",
      " 2   duration   202607 non-null  float64\n",
      " 3   user_id    202607 non-null  int64  \n",
      "dtypes: float64(1), int64(1), object(2)\n",
      "memory usage: 6.2+ MB\n",
      "-----\n",
      "Название: id \n",
      "Пропусков:\t 0 Процент пропусков:\t 0\n",
      "Название: call_date \n",
      "Пропусков:\t 0 Процент пропусков:\t 0\n",
      "Название: duration \n",
      "Пропусков:\t 0 Процент пропусков:\t 0\n",
      "Название: user_id \n",
      "Пропусков:\t 0 Процент пропусков:\t 0\n",
      "-----\n",
      "Явных дубликатов\n",
      "0\n"
     ]
    }
   ],
   "source": [
    "show_data(calls)"
   ]
  },
  {
   "cell_type": "code",
   "execution_count": 5,
   "id": "218654ac",
   "metadata": {},
   "outputs": [
    {
     "data": {
      "text/html": [
       "<div>\n",
       "<style scoped>\n",
       "    .dataframe tbody tr th:only-of-type {\n",
       "        vertical-align: middle;\n",
       "    }\n",
       "\n",
       "    .dataframe tbody tr th {\n",
       "        vertical-align: top;\n",
       "    }\n",
       "\n",
       "    .dataframe thead th {\n",
       "        text-align: right;\n",
       "    }\n",
       "</style>\n",
       "<table border=\"1\" class=\"dataframe\">\n",
       "  <thead>\n",
       "    <tr style=\"text-align: right;\">\n",
       "      <th></th>\n",
       "      <th>Unnamed: 0</th>\n",
       "      <th>id</th>\n",
       "      <th>mb_used</th>\n",
       "      <th>session_date</th>\n",
       "      <th>user_id</th>\n",
       "    </tr>\n",
       "  </thead>\n",
       "  <tbody>\n",
       "    <tr>\n",
       "      <th>0</th>\n",
       "      <td>0</td>\n",
       "      <td>1000_0</td>\n",
       "      <td>112.95</td>\n",
       "      <td>2018-11-25</td>\n",
       "      <td>1000</td>\n",
       "    </tr>\n",
       "    <tr>\n",
       "      <th>1</th>\n",
       "      <td>1</td>\n",
       "      <td>1000_1</td>\n",
       "      <td>1052.81</td>\n",
       "      <td>2018-09-07</td>\n",
       "      <td>1000</td>\n",
       "    </tr>\n",
       "    <tr>\n",
       "      <th>2</th>\n",
       "      <td>2</td>\n",
       "      <td>1000_2</td>\n",
       "      <td>1197.26</td>\n",
       "      <td>2018-06-25</td>\n",
       "      <td>1000</td>\n",
       "    </tr>\n",
       "    <tr>\n",
       "      <th>3</th>\n",
       "      <td>3</td>\n",
       "      <td>1000_3</td>\n",
       "      <td>550.27</td>\n",
       "      <td>2018-08-22</td>\n",
       "      <td>1000</td>\n",
       "    </tr>\n",
       "    <tr>\n",
       "      <th>4</th>\n",
       "      <td>4</td>\n",
       "      <td>1000_4</td>\n",
       "      <td>302.56</td>\n",
       "      <td>2018-09-24</td>\n",
       "      <td>1000</td>\n",
       "    </tr>\n",
       "  </tbody>\n",
       "</table>\n",
       "</div>"
      ],
      "text/plain": [
       "   Unnamed: 0      id  mb_used session_date  user_id\n",
       "0           0  1000_0   112.95   2018-11-25     1000\n",
       "1           1  1000_1  1052.81   2018-09-07     1000\n",
       "2           2  1000_2  1197.26   2018-06-25     1000\n",
       "3           3  1000_3   550.27   2018-08-22     1000\n",
       "4           4  1000_4   302.56   2018-09-24     1000"
      ]
     },
     "metadata": {},
     "output_type": "display_data"
    },
    {
     "name": "stdout",
     "output_type": "stream",
     "text": [
      "-----\n",
      "Информация о типах данных\n",
      "<class 'pandas.core.frame.DataFrame'>\n",
      "RangeIndex: 149396 entries, 0 to 149395\n",
      "Data columns (total 5 columns):\n",
      " #   Column        Non-Null Count   Dtype  \n",
      "---  ------        --------------   -----  \n",
      " 0   Unnamed: 0    149396 non-null  int64  \n",
      " 1   id            149396 non-null  object \n",
      " 2   mb_used       149396 non-null  float64\n",
      " 3   session_date  149396 non-null  object \n",
      " 4   user_id       149396 non-null  int64  \n",
      "dtypes: float64(1), int64(2), object(2)\n",
      "memory usage: 5.7+ MB\n",
      "-----\n",
      "Название: Unnamed: 0 \n",
      "Пропусков:\t 0 Процент пропусков:\t 0\n",
      "Название: id \n",
      "Пропусков:\t 0 Процент пропусков:\t 0\n",
      "Название: mb_used \n",
      "Пропусков:\t 0 Процент пропусков:\t 0\n",
      "Название: session_date \n",
      "Пропусков:\t 0 Процент пропусков:\t 0\n",
      "Название: user_id \n",
      "Пропусков:\t 0 Процент пропусков:\t 0\n",
      "-----\n",
      "Явных дубликатов\n",
      "0\n"
     ]
    }
   ],
   "source": [
    "show_data(sessions)"
   ]
  },
  {
   "cell_type": "code",
   "execution_count": 6,
   "id": "c7f3a075",
   "metadata": {},
   "outputs": [
    {
     "data": {
      "text/html": [
       "<div>\n",
       "<style scoped>\n",
       "    .dataframe tbody tr th:only-of-type {\n",
       "        vertical-align: middle;\n",
       "    }\n",
       "\n",
       "    .dataframe tbody tr th {\n",
       "        vertical-align: top;\n",
       "    }\n",
       "\n",
       "    .dataframe thead th {\n",
       "        text-align: right;\n",
       "    }\n",
       "</style>\n",
       "<table border=\"1\" class=\"dataframe\">\n",
       "  <thead>\n",
       "    <tr style=\"text-align: right;\">\n",
       "      <th></th>\n",
       "      <th>id</th>\n",
       "      <th>message_date</th>\n",
       "      <th>user_id</th>\n",
       "    </tr>\n",
       "  </thead>\n",
       "  <tbody>\n",
       "    <tr>\n",
       "      <th>0</th>\n",
       "      <td>1000_0</td>\n",
       "      <td>2018-06-27</td>\n",
       "      <td>1000</td>\n",
       "    </tr>\n",
       "    <tr>\n",
       "      <th>1</th>\n",
       "      <td>1000_1</td>\n",
       "      <td>2018-10-08</td>\n",
       "      <td>1000</td>\n",
       "    </tr>\n",
       "    <tr>\n",
       "      <th>2</th>\n",
       "      <td>1000_2</td>\n",
       "      <td>2018-08-04</td>\n",
       "      <td>1000</td>\n",
       "    </tr>\n",
       "    <tr>\n",
       "      <th>3</th>\n",
       "      <td>1000_3</td>\n",
       "      <td>2018-06-16</td>\n",
       "      <td>1000</td>\n",
       "    </tr>\n",
       "    <tr>\n",
       "      <th>4</th>\n",
       "      <td>1000_4</td>\n",
       "      <td>2018-12-05</td>\n",
       "      <td>1000</td>\n",
       "    </tr>\n",
       "  </tbody>\n",
       "</table>\n",
       "</div>"
      ],
      "text/plain": [
       "       id message_date  user_id\n",
       "0  1000_0   2018-06-27     1000\n",
       "1  1000_1   2018-10-08     1000\n",
       "2  1000_2   2018-08-04     1000\n",
       "3  1000_3   2018-06-16     1000\n",
       "4  1000_4   2018-12-05     1000"
      ]
     },
     "metadata": {},
     "output_type": "display_data"
    },
    {
     "name": "stdout",
     "output_type": "stream",
     "text": [
      "-----\n",
      "Информация о типах данных\n",
      "<class 'pandas.core.frame.DataFrame'>\n",
      "RangeIndex: 123036 entries, 0 to 123035\n",
      "Data columns (total 3 columns):\n",
      " #   Column        Non-Null Count   Dtype \n",
      "---  ------        --------------   ----- \n",
      " 0   id            123036 non-null  object\n",
      " 1   message_date  123036 non-null  object\n",
      " 2   user_id       123036 non-null  int64 \n",
      "dtypes: int64(1), object(2)\n",
      "memory usage: 2.8+ MB\n",
      "-----\n",
      "Название: id \n",
      "Пропусков:\t 0 Процент пропусков:\t 0\n",
      "Название: message_date \n",
      "Пропусков:\t 0 Процент пропусков:\t 0\n",
      "Название: user_id \n",
      "Пропусков:\t 0 Процент пропусков:\t 0\n",
      "-----\n",
      "Явных дубликатов\n",
      "0\n"
     ]
    }
   ],
   "source": [
    "show_data(messages)"
   ]
  },
  {
   "cell_type": "code",
   "execution_count": 7,
   "id": "03e24d41",
   "metadata": {},
   "outputs": [
    {
     "data": {
      "text/html": [
       "<div>\n",
       "<style scoped>\n",
       "    .dataframe tbody tr th:only-of-type {\n",
       "        vertical-align: middle;\n",
       "    }\n",
       "\n",
       "    .dataframe tbody tr th {\n",
       "        vertical-align: top;\n",
       "    }\n",
       "\n",
       "    .dataframe thead th {\n",
       "        text-align: right;\n",
       "    }\n",
       "</style>\n",
       "<table border=\"1\" class=\"dataframe\">\n",
       "  <thead>\n",
       "    <tr style=\"text-align: right;\">\n",
       "      <th></th>\n",
       "      <th>messages_included</th>\n",
       "      <th>mb_per_month_included</th>\n",
       "      <th>minutes_included</th>\n",
       "      <th>rub_monthly_fee</th>\n",
       "      <th>rub_per_gb</th>\n",
       "      <th>rub_per_message</th>\n",
       "      <th>rub_per_minute</th>\n",
       "      <th>tariff_name</th>\n",
       "    </tr>\n",
       "  </thead>\n",
       "  <tbody>\n",
       "    <tr>\n",
       "      <th>0</th>\n",
       "      <td>50</td>\n",
       "      <td>15360</td>\n",
       "      <td>500</td>\n",
       "      <td>550</td>\n",
       "      <td>200</td>\n",
       "      <td>3</td>\n",
       "      <td>3</td>\n",
       "      <td>smart</td>\n",
       "    </tr>\n",
       "    <tr>\n",
       "      <th>1</th>\n",
       "      <td>1000</td>\n",
       "      <td>30720</td>\n",
       "      <td>3000</td>\n",
       "      <td>1950</td>\n",
       "      <td>150</td>\n",
       "      <td>1</td>\n",
       "      <td>1</td>\n",
       "      <td>ultra</td>\n",
       "    </tr>\n",
       "  </tbody>\n",
       "</table>\n",
       "</div>"
      ],
      "text/plain": [
       "   messages_included  mb_per_month_included  minutes_included  \\\n",
       "0                 50                  15360               500   \n",
       "1               1000                  30720              3000   \n",
       "\n",
       "   rub_monthly_fee  rub_per_gb  rub_per_message  rub_per_minute tariff_name  \n",
       "0              550         200                3               3       smart  \n",
       "1             1950         150                1               1       ultra  "
      ]
     },
     "metadata": {},
     "output_type": "display_data"
    },
    {
     "name": "stdout",
     "output_type": "stream",
     "text": [
      "-----\n",
      "Информация о типах данных\n",
      "<class 'pandas.core.frame.DataFrame'>\n",
      "RangeIndex: 2 entries, 0 to 1\n",
      "Data columns (total 8 columns):\n",
      " #   Column                 Non-Null Count  Dtype \n",
      "---  ------                 --------------  ----- \n",
      " 0   messages_included      2 non-null      int64 \n",
      " 1   mb_per_month_included  2 non-null      int64 \n",
      " 2   minutes_included       2 non-null      int64 \n",
      " 3   rub_monthly_fee        2 non-null      int64 \n",
      " 4   rub_per_gb             2 non-null      int64 \n",
      " 5   rub_per_message        2 non-null      int64 \n",
      " 6   rub_per_minute         2 non-null      int64 \n",
      " 7   tariff_name            2 non-null      object\n",
      "dtypes: int64(7), object(1)\n",
      "memory usage: 256.0+ bytes\n",
      "-----\n",
      "Название: messages_included \n",
      "Пропусков:\t 0 Процент пропусков:\t 0\n",
      "Название: mb_per_month_included \n",
      "Пропусков:\t 0 Процент пропусков:\t 0\n",
      "Название: minutes_included \n",
      "Пропусков:\t 0 Процент пропусков:\t 0\n",
      "Название: rub_monthly_fee \n",
      "Пропусков:\t 0 Процент пропусков:\t 0\n",
      "Название: rub_per_gb \n",
      "Пропусков:\t 0 Процент пропусков:\t 0\n",
      "Название: rub_per_message \n",
      "Пропусков:\t 0 Процент пропусков:\t 0\n",
      "Название: rub_per_minute \n",
      "Пропусков:\t 0 Процент пропусков:\t 0\n",
      "Название: tariff_name \n",
      "Пропусков:\t 0 Процент пропусков:\t 0\n",
      "-----\n",
      "Явных дубликатов\n",
      "0\n"
     ]
    }
   ],
   "source": [
    "show_data(tariffs)"
   ]
  },
  {
   "cell_type": "code",
   "execution_count": 8,
   "id": "e0d4a53f",
   "metadata": {},
   "outputs": [
    {
     "data": {
      "text/html": [
       "<div>\n",
       "<style scoped>\n",
       "    .dataframe tbody tr th:only-of-type {\n",
       "        vertical-align: middle;\n",
       "    }\n",
       "\n",
       "    .dataframe tbody tr th {\n",
       "        vertical-align: top;\n",
       "    }\n",
       "\n",
       "    .dataframe thead th {\n",
       "        text-align: right;\n",
       "    }\n",
       "</style>\n",
       "<table border=\"1\" class=\"dataframe\">\n",
       "  <thead>\n",
       "    <tr style=\"text-align: right;\">\n",
       "      <th></th>\n",
       "      <th>user_id</th>\n",
       "      <th>age</th>\n",
       "      <th>churn_date</th>\n",
       "      <th>city</th>\n",
       "      <th>first_name</th>\n",
       "      <th>last_name</th>\n",
       "      <th>reg_date</th>\n",
       "      <th>tariff</th>\n",
       "    </tr>\n",
       "  </thead>\n",
       "  <tbody>\n",
       "    <tr>\n",
       "      <th>0</th>\n",
       "      <td>1000</td>\n",
       "      <td>52</td>\n",
       "      <td>NaN</td>\n",
       "      <td>Краснодар</td>\n",
       "      <td>Рафаил</td>\n",
       "      <td>Верещагин</td>\n",
       "      <td>2018-05-25</td>\n",
       "      <td>ultra</td>\n",
       "    </tr>\n",
       "    <tr>\n",
       "      <th>1</th>\n",
       "      <td>1001</td>\n",
       "      <td>41</td>\n",
       "      <td>NaN</td>\n",
       "      <td>Москва</td>\n",
       "      <td>Иван</td>\n",
       "      <td>Ежов</td>\n",
       "      <td>2018-11-01</td>\n",
       "      <td>smart</td>\n",
       "    </tr>\n",
       "    <tr>\n",
       "      <th>2</th>\n",
       "      <td>1002</td>\n",
       "      <td>59</td>\n",
       "      <td>NaN</td>\n",
       "      <td>Стерлитамак</td>\n",
       "      <td>Евгений</td>\n",
       "      <td>Абрамович</td>\n",
       "      <td>2018-06-17</td>\n",
       "      <td>smart</td>\n",
       "    </tr>\n",
       "    <tr>\n",
       "      <th>3</th>\n",
       "      <td>1003</td>\n",
       "      <td>23</td>\n",
       "      <td>NaN</td>\n",
       "      <td>Москва</td>\n",
       "      <td>Белла</td>\n",
       "      <td>Белякова</td>\n",
       "      <td>2018-08-17</td>\n",
       "      <td>ultra</td>\n",
       "    </tr>\n",
       "    <tr>\n",
       "      <th>4</th>\n",
       "      <td>1004</td>\n",
       "      <td>68</td>\n",
       "      <td>NaN</td>\n",
       "      <td>Новокузнецк</td>\n",
       "      <td>Татьяна</td>\n",
       "      <td>Авдеенко</td>\n",
       "      <td>2018-05-14</td>\n",
       "      <td>ultra</td>\n",
       "    </tr>\n",
       "  </tbody>\n",
       "</table>\n",
       "</div>"
      ],
      "text/plain": [
       "   user_id  age churn_date         city first_name  last_name    reg_date  \\\n",
       "0     1000   52        NaN    Краснодар     Рафаил  Верещагин  2018-05-25   \n",
       "1     1001   41        NaN       Москва       Иван       Ежов  2018-11-01   \n",
       "2     1002   59        NaN  Стерлитамак    Евгений  Абрамович  2018-06-17   \n",
       "3     1003   23        NaN       Москва      Белла   Белякова  2018-08-17   \n",
       "4     1004   68        NaN  Новокузнецк    Татьяна   Авдеенко  2018-05-14   \n",
       "\n",
       "  tariff  \n",
       "0  ultra  \n",
       "1  smart  \n",
       "2  smart  \n",
       "3  ultra  \n",
       "4  ultra  "
      ]
     },
     "metadata": {},
     "output_type": "display_data"
    },
    {
     "name": "stdout",
     "output_type": "stream",
     "text": [
      "-----\n",
      "Информация о типах данных\n",
      "<class 'pandas.core.frame.DataFrame'>\n",
      "RangeIndex: 500 entries, 0 to 499\n",
      "Data columns (total 8 columns):\n",
      " #   Column      Non-Null Count  Dtype \n",
      "---  ------      --------------  ----- \n",
      " 0   user_id     500 non-null    int64 \n",
      " 1   age         500 non-null    int64 \n",
      " 2   churn_date  38 non-null     object\n",
      " 3   city        500 non-null    object\n",
      " 4   first_name  500 non-null    object\n",
      " 5   last_name   500 non-null    object\n",
      " 6   reg_date    500 non-null    object\n",
      " 7   tariff      500 non-null    object\n",
      "dtypes: int64(2), object(6)\n",
      "memory usage: 31.4+ KB\n",
      "-----\n",
      "Название: user_id \n",
      "Пропусков:\t 0 Процент пропусков:\t 0\n",
      "Название: age \n",
      "Пропусков:\t 0 Процент пропусков:\t 0\n",
      "Название: churn_date \n",
      "Пропусков:\t 462 Процент пропусков:\t 92\n",
      "Название: city \n",
      "Пропусков:\t 0 Процент пропусков:\t 0\n",
      "Название: first_name \n",
      "Пропусков:\t 0 Процент пропусков:\t 0\n",
      "Название: last_name \n",
      "Пропусков:\t 0 Процент пропусков:\t 0\n",
      "Название: reg_date \n",
      "Пропусков:\t 0 Процент пропусков:\t 0\n",
      "Название: tariff \n",
      "Пропусков:\t 0 Процент пропусков:\t 0\n",
      "-----\n",
      "Явных дубликатов\n",
      "0\n"
     ]
    }
   ],
   "source": [
    "show_data(users)"
   ]
  },
  {
   "cell_type": "markdown",
   "id": "272d5b86",
   "metadata": {},
   "source": [
    "<b>Вывод: </b> Для анализа предоставлены 5 датасетов:\n",
    "\n",
    "1) <b>Информация о звонках</b> содержит более 200 тыс. уникальных id звонков. Явных дубликатов и пропусков не обнаружено, имеются столбцы с информацией о дате с некорректным форматом, который будет переопределен на этапе предобработки.\n",
    "\n",
    "2) <b>Информация об интернет-сессиях</b> содержит почти 150 тыс. уникальных id сессий. Явных дубликатов и пропусков также не обнаружено, имеются столбцы с информацией о дате с некорректным форматом, который будет переопределен на этапе предобработки.\n",
    "\n",
    "3) <b>Информация о сообщениях</b> содержит более 120 тыс. уникальных id номеров отправки сообщений. Явных дубликатов и пропусков также не обнаружено, имеются столбцы с информацией о дате с некорректным форматом, который будет переопределен на этапе предобработки.\n",
    "\n",
    "4) <b>Информация о тарифах</b> содержит данные о двух таривах - `smart` и `ultra` сообщений.\n",
    "\n",
    "5) <b>Информация о пользователях</b> содержит данные о 500 пользователей. учатсвующих в анализе. Явных дубликатов не обнаружено, имеются столбцы с информацией о дате с некорректным форматом, который будет переопределен на этапе предобработки. Имеются пропуски по информации о дате прекращения тарифа, но это допустимо, т.к. большинство пользователей еще используют такие тарифы."
   ]
  },
  {
   "cell_type": "markdown",
   "id": "8455acbd",
   "metadata": {},
   "source": [
    "### 2. Предобработка данных"
   ]
  },
  {
   "cell_type": "markdown",
   "id": "82651197",
   "metadata": {},
   "source": [
    "<u><b>Преобразование типов данных"
   ]
  },
  {
   "cell_type": "code",
   "execution_count": 9,
   "id": "7c3ca193",
   "metadata": {},
   "outputs": [
    {
     "name": "stdout",
     "output_type": "stream",
     "text": [
      "<class 'pandas.core.frame.DataFrame'>\n",
      "RangeIndex: 500 entries, 0 to 499\n",
      "Data columns (total 8 columns):\n",
      " #   Column      Non-Null Count  Dtype         \n",
      "---  ------      --------------  -----         \n",
      " 0   user_id     500 non-null    int64         \n",
      " 1   age         500 non-null    int64         \n",
      " 2   churn_date  38 non-null     datetime64[ns]\n",
      " 3   city        500 non-null    object        \n",
      " 4   first_name  500 non-null    object        \n",
      " 5   last_name   500 non-null    object        \n",
      " 6   reg_date    500 non-null    datetime64[ns]\n",
      " 7   tariff      500 non-null    object        \n",
      "dtypes: datetime64[ns](2), int64(2), object(4)\n",
      "memory usage: 31.4+ KB\n"
     ]
    }
   ],
   "source": [
    "# обработка столбца reg_date\n",
    "users ['reg_date'] = pd.to_datetime(users ['reg_date'], format='%Y-%m-%d')\n",
    "# обработка столбца churn_date\n",
    "users ['churn_date'] = pd.to_datetime(users ['churn_date'], format='%Y-%m-%d')\n",
    "users.info()"
   ]
  },
  {
   "cell_type": "code",
   "execution_count": 10,
   "id": "29307efe",
   "metadata": {},
   "outputs": [
    {
     "name": "stdout",
     "output_type": "stream",
     "text": [
      "<class 'pandas.core.frame.DataFrame'>\n",
      "RangeIndex: 202607 entries, 0 to 202606\n",
      "Data columns (total 4 columns):\n",
      " #   Column     Non-Null Count   Dtype         \n",
      "---  ------     --------------   -----         \n",
      " 0   id         202607 non-null  object        \n",
      " 1   call_date  202607 non-null  datetime64[ns]\n",
      " 2   duration   202607 non-null  float64       \n",
      " 3   user_id    202607 non-null  int64         \n",
      "dtypes: datetime64[ns](1), float64(1), int64(1), object(1)\n",
      "memory usage: 6.2+ MB\n"
     ]
    }
   ],
   "source": [
    "# обработка столбца call_date\n",
    "calls ['call_date'] = pd.to_datetime(calls ['call_date'], format='%Y-%m-%d')\n",
    "calls.info()"
   ]
  },
  {
   "cell_type": "code",
   "execution_count": 11,
   "id": "3c22e938",
   "metadata": {},
   "outputs": [
    {
     "name": "stdout",
     "output_type": "stream",
     "text": [
      "<class 'pandas.core.frame.DataFrame'>\n",
      "RangeIndex: 123036 entries, 0 to 123035\n",
      "Data columns (total 3 columns):\n",
      " #   Column        Non-Null Count   Dtype         \n",
      "---  ------        --------------   -----         \n",
      " 0   id            123036 non-null  object        \n",
      " 1   message_date  123036 non-null  datetime64[ns]\n",
      " 2   user_id       123036 non-null  int64         \n",
      "dtypes: datetime64[ns](1), int64(1), object(1)\n",
      "memory usage: 2.8+ MB\n"
     ]
    }
   ],
   "source": [
    "# обработка столбца message_date\n",
    "messages ['message_date'] = pd.to_datetime(messages ['message_date'], format='%Y-%m-%d')\n",
    "messages.info()"
   ]
  },
  {
   "cell_type": "code",
   "execution_count": 12,
   "id": "2273dc54",
   "metadata": {},
   "outputs": [
    {
     "name": "stdout",
     "output_type": "stream",
     "text": [
      "<class 'pandas.core.frame.DataFrame'>\n",
      "RangeIndex: 149396 entries, 0 to 149395\n",
      "Data columns (total 5 columns):\n",
      " #   Column        Non-Null Count   Dtype         \n",
      "---  ------        --------------   -----         \n",
      " 0   Unnamed: 0    149396 non-null  int64         \n",
      " 1   id            149396 non-null  object        \n",
      " 2   mb_used       149396 non-null  float64       \n",
      " 3   session_date  149396 non-null  datetime64[ns]\n",
      " 4   user_id       149396 non-null  int64         \n",
      "dtypes: datetime64[ns](1), float64(1), int64(2), object(1)\n",
      "memory usage: 5.7+ MB\n"
     ]
    }
   ],
   "source": [
    "# обработка столбца session_date\n",
    "sessions ['session_date'] = pd.to_datetime(sessions ['session_date'], format='%Y-%m-%d')\n",
    "sessions.info()"
   ]
  },
  {
   "cell_type": "markdown",
   "id": "ee940d1a",
   "metadata": {},
   "source": [
    "Для корректного отображения информации о дате все столбцы с такой инфомарции были переведены в тип \"datetime64\" методом to_datetime"
   ]
  },
  {
   "cell_type": "markdown",
   "id": "30899e24",
   "metadata": {},
   "source": [
    "<u><b>Округление данных"
   ]
  },
  {
   "cell_type": "code",
   "execution_count": 13,
   "id": "5109fab6",
   "metadata": {},
   "outputs": [],
   "source": [
    "calls ['duration'] = np.ceil(calls ['duration']).astype(int)"
   ]
  },
  {
   "cell_type": "code",
   "execution_count": 14,
   "id": "59e33f46",
   "metadata": {},
   "outputs": [
    {
     "data": {
      "text/plain": [
       "0     0\n",
       "1     0\n",
       "2     3\n",
       "3    14\n",
       "4     6\n",
       "Name: duration, dtype: int64"
      ]
     },
     "execution_count": 14,
     "metadata": {},
     "output_type": "execute_result"
    }
   ],
   "source": [
    "calls['duration'].head()"
   ]
  },
  {
   "cell_type": "markdown",
   "id": "2faf3665",
   "metadata": {},
   "source": [
    "Значения были округлены с помощью метода np.ceil() и приведены к типу int"
   ]
  },
  {
   "cell_type": "markdown",
   "id": "062d93bb",
   "metadata": {},
   "source": [
    "<u><b>Удаление лишних столбцов"
   ]
  },
  {
   "cell_type": "markdown",
   "id": "147eddad",
   "metadata": {},
   "source": [
    "Удалим столбец Unnamed: 0 из датафрейма sessions. Столбец с таким названием возникает, когда данные сохраняют с указанием индекса (df.to_csv(..., index=column))"
   ]
  },
  {
   "cell_type": "code",
   "execution_count": 15,
   "id": "f894f988",
   "metadata": {},
   "outputs": [],
   "source": [
    "sessions = sessions.drop(['Unnamed: 0'],axis=1)"
   ]
  },
  {
   "cell_type": "markdown",
   "id": "c5dad69c",
   "metadata": {},
   "source": [
    "<u><b>Создание столбцов с информацией о месяце"
   ]
  },
  {
   "cell_type": "code",
   "execution_count": 16,
   "id": "024226c6",
   "metadata": {},
   "outputs": [
    {
     "data": {
      "text/plain": [
       "Index(['id', 'call_date', 'duration', 'user_id', 'month'], dtype='object')"
      ]
     },
     "execution_count": 16,
     "metadata": {},
     "output_type": "execute_result"
    }
   ],
   "source": [
    "calls ['month'] = calls['call_date'].dt.month\n",
    "calls.columns"
   ]
  },
  {
   "cell_type": "code",
   "execution_count": 17,
   "id": "862fd3de",
   "metadata": {},
   "outputs": [
    {
     "data": {
      "text/plain": [
       "Index(['id', 'message_date', 'user_id', 'month'], dtype='object')"
      ]
     },
     "execution_count": 17,
     "metadata": {},
     "output_type": "execute_result"
    }
   ],
   "source": [
    "messages ['month'] = messages['message_date'].dt.month\n",
    "messages.columns"
   ]
  },
  {
   "cell_type": "code",
   "execution_count": 18,
   "id": "28759c79",
   "metadata": {},
   "outputs": [
    {
     "data": {
      "text/plain": [
       "Index(['id', 'mb_used', 'session_date', 'user_id', 'month'], dtype='object')"
      ]
     },
     "execution_count": 18,
     "metadata": {},
     "output_type": "execute_result"
    }
   ],
   "source": [
    "sessions ['month'] = sessions['session_date'].dt.month\n",
    "sessions.columns"
   ]
  },
  {
   "cell_type": "markdown",
   "id": "26d6f2e2",
   "metadata": {},
   "source": [
    "При помощи метода dt.month выделили информацию о месяце в таблицах с информацией о звонках, сообшения и сессиях в интернете."
   ]
  },
  {
   "cell_type": "markdown",
   "id": "44475261",
   "metadata": {},
   "source": [
    "### 3. Исследовательский анализ данных и подсчет выручки"
   ]
  },
  {
   "cell_type": "markdown",
   "id": "800ccbab",
   "metadata": {},
   "source": [
    "<u><b>Подсчет количество звонков для каждого пользователя по месяцам"
   ]
  },
  {
   "cell_type": "code",
   "execution_count": 19,
   "id": "6f3b5129",
   "metadata": {},
   "outputs": [
    {
     "data": {
      "text/html": [
       "<div>\n",
       "<style scoped>\n",
       "    .dataframe tbody tr th:only-of-type {\n",
       "        vertical-align: middle;\n",
       "    }\n",
       "\n",
       "    .dataframe tbody tr th {\n",
       "        vertical-align: top;\n",
       "    }\n",
       "\n",
       "    .dataframe thead th {\n",
       "        text-align: right;\n",
       "    }\n",
       "</style>\n",
       "<table border=\"1\" class=\"dataframe\">\n",
       "  <thead>\n",
       "    <tr style=\"text-align: right;\">\n",
       "      <th></th>\n",
       "      <th></th>\n",
       "      <th>calls</th>\n",
       "    </tr>\n",
       "    <tr>\n",
       "      <th>user_id</th>\n",
       "      <th>month</th>\n",
       "      <th></th>\n",
       "    </tr>\n",
       "  </thead>\n",
       "  <tbody>\n",
       "    <tr>\n",
       "      <th rowspan=\"8\" valign=\"top\">1000</th>\n",
       "      <th>5</th>\n",
       "      <td>22</td>\n",
       "    </tr>\n",
       "    <tr>\n",
       "      <th>6</th>\n",
       "      <td>43</td>\n",
       "    </tr>\n",
       "    <tr>\n",
       "      <th>7</th>\n",
       "      <td>47</td>\n",
       "    </tr>\n",
       "    <tr>\n",
       "      <th>8</th>\n",
       "      <td>52</td>\n",
       "    </tr>\n",
       "    <tr>\n",
       "      <th>9</th>\n",
       "      <td>58</td>\n",
       "    </tr>\n",
       "    <tr>\n",
       "      <th>10</th>\n",
       "      <td>57</td>\n",
       "    </tr>\n",
       "    <tr>\n",
       "      <th>11</th>\n",
       "      <td>43</td>\n",
       "    </tr>\n",
       "    <tr>\n",
       "      <th>12</th>\n",
       "      <td>46</td>\n",
       "    </tr>\n",
       "    <tr>\n",
       "      <th rowspan=\"2\" valign=\"top\">1001</th>\n",
       "      <th>11</th>\n",
       "      <td>59</td>\n",
       "    </tr>\n",
       "    <tr>\n",
       "      <th>12</th>\n",
       "      <td>63</td>\n",
       "    </tr>\n",
       "    <tr>\n",
       "      <th rowspan=\"7\" valign=\"top\">1002</th>\n",
       "      <th>6</th>\n",
       "      <td>15</td>\n",
       "    </tr>\n",
       "    <tr>\n",
       "      <th>7</th>\n",
       "      <td>26</td>\n",
       "    </tr>\n",
       "    <tr>\n",
       "      <th>8</th>\n",
       "      <td>42</td>\n",
       "    </tr>\n",
       "    <tr>\n",
       "      <th>9</th>\n",
       "      <td>36</td>\n",
       "    </tr>\n",
       "    <tr>\n",
       "      <th>10</th>\n",
       "      <td>33</td>\n",
       "    </tr>\n",
       "    <tr>\n",
       "      <th>11</th>\n",
       "      <td>32</td>\n",
       "    </tr>\n",
       "    <tr>\n",
       "      <th>12</th>\n",
       "      <td>33</td>\n",
       "    </tr>\n",
       "    <tr>\n",
       "      <th rowspan=\"5\" valign=\"top\">1003</th>\n",
       "      <th>8</th>\n",
       "      <td>55</td>\n",
       "    </tr>\n",
       "    <tr>\n",
       "      <th>9</th>\n",
       "      <td>134</td>\n",
       "    </tr>\n",
       "    <tr>\n",
       "      <th>10</th>\n",
       "      <td>108</td>\n",
       "    </tr>\n",
       "    <tr>\n",
       "      <th>11</th>\n",
       "      <td>115</td>\n",
       "    </tr>\n",
       "    <tr>\n",
       "      <th>12</th>\n",
       "      <td>108</td>\n",
       "    </tr>\n",
       "    <tr>\n",
       "      <th rowspan=\"8\" valign=\"top\">1004</th>\n",
       "      <th>5</th>\n",
       "      <td>9</td>\n",
       "    </tr>\n",
       "    <tr>\n",
       "      <th>6</th>\n",
       "      <td>31</td>\n",
       "    </tr>\n",
       "    <tr>\n",
       "      <th>7</th>\n",
       "      <td>22</td>\n",
       "    </tr>\n",
       "    <tr>\n",
       "      <th>8</th>\n",
       "      <td>19</td>\n",
       "    </tr>\n",
       "    <tr>\n",
       "      <th>9</th>\n",
       "      <td>26</td>\n",
       "    </tr>\n",
       "    <tr>\n",
       "      <th>10</th>\n",
       "      <td>29</td>\n",
       "    </tr>\n",
       "    <tr>\n",
       "      <th>11</th>\n",
       "      <td>19</td>\n",
       "    </tr>\n",
       "    <tr>\n",
       "      <th>12</th>\n",
       "      <td>21</td>\n",
       "    </tr>\n",
       "  </tbody>\n",
       "</table>\n",
       "</div>"
      ],
      "text/plain": [
       "               calls\n",
       "user_id month       \n",
       "1000    5         22\n",
       "        6         43\n",
       "        7         47\n",
       "        8         52\n",
       "        9         58\n",
       "        10        57\n",
       "        11        43\n",
       "        12        46\n",
       "1001    11        59\n",
       "        12        63\n",
       "1002    6         15\n",
       "        7         26\n",
       "        8         42\n",
       "        9         36\n",
       "        10        33\n",
       "        11        32\n",
       "        12        33\n",
       "1003    8         55\n",
       "        9        134\n",
       "        10       108\n",
       "        11       115\n",
       "        12       108\n",
       "1004    5          9\n",
       "        6         31\n",
       "        7         22\n",
       "        8         19\n",
       "        9         26\n",
       "        10        29\n",
       "        11        19\n",
       "        12        21"
      ]
     },
     "execution_count": 19,
     "metadata": {},
     "output_type": "execute_result"
    }
   ],
   "source": [
    "# подсчёт количества звонков для каждого пользователя по месяцам\n",
    "calls_per_month = calls.groupby(['user_id', 'month']).agg(calls=('duration', 'count'))\n",
    "calls_per_month.head(30)"
   ]
  },
  {
   "cell_type": "markdown",
   "id": "cf405a53",
   "metadata": {},
   "source": [
    "<u><b>Подсчет количество израсходованных минут для каждого пользователя по месяцам"
   ]
  },
  {
   "cell_type": "code",
   "execution_count": 20,
   "id": "c3e20e71",
   "metadata": {},
   "outputs": [
    {
     "data": {
      "text/html": [
       "<div>\n",
       "<style scoped>\n",
       "    .dataframe tbody tr th:only-of-type {\n",
       "        vertical-align: middle;\n",
       "    }\n",
       "\n",
       "    .dataframe tbody tr th {\n",
       "        vertical-align: top;\n",
       "    }\n",
       "\n",
       "    .dataframe thead th {\n",
       "        text-align: right;\n",
       "    }\n",
       "</style>\n",
       "<table border=\"1\" class=\"dataframe\">\n",
       "  <thead>\n",
       "    <tr style=\"text-align: right;\">\n",
       "      <th></th>\n",
       "      <th></th>\n",
       "      <th>minutes</th>\n",
       "    </tr>\n",
       "    <tr>\n",
       "      <th>user_id</th>\n",
       "      <th>month</th>\n",
       "      <th></th>\n",
       "    </tr>\n",
       "  </thead>\n",
       "  <tbody>\n",
       "    <tr>\n",
       "      <th rowspan=\"8\" valign=\"top\">1000</th>\n",
       "      <th>5</th>\n",
       "      <td>159</td>\n",
       "    </tr>\n",
       "    <tr>\n",
       "      <th>6</th>\n",
       "      <td>172</td>\n",
       "    </tr>\n",
       "    <tr>\n",
       "      <th>7</th>\n",
       "      <td>340</td>\n",
       "    </tr>\n",
       "    <tr>\n",
       "      <th>8</th>\n",
       "      <td>408</td>\n",
       "    </tr>\n",
       "    <tr>\n",
       "      <th>9</th>\n",
       "      <td>466</td>\n",
       "    </tr>\n",
       "    <tr>\n",
       "      <th>10</th>\n",
       "      <td>350</td>\n",
       "    </tr>\n",
       "    <tr>\n",
       "      <th>11</th>\n",
       "      <td>338</td>\n",
       "    </tr>\n",
       "    <tr>\n",
       "      <th>12</th>\n",
       "      <td>333</td>\n",
       "    </tr>\n",
       "    <tr>\n",
       "      <th rowspan=\"2\" valign=\"top\">1001</th>\n",
       "      <th>11</th>\n",
       "      <td>430</td>\n",
       "    </tr>\n",
       "    <tr>\n",
       "      <th>12</th>\n",
       "      <td>414</td>\n",
       "    </tr>\n",
       "    <tr>\n",
       "      <th rowspan=\"7\" valign=\"top\">1002</th>\n",
       "      <th>6</th>\n",
       "      <td>117</td>\n",
       "    </tr>\n",
       "    <tr>\n",
       "      <th>7</th>\n",
       "      <td>214</td>\n",
       "    </tr>\n",
       "    <tr>\n",
       "      <th>8</th>\n",
       "      <td>289</td>\n",
       "    </tr>\n",
       "    <tr>\n",
       "      <th>9</th>\n",
       "      <td>206</td>\n",
       "    </tr>\n",
       "    <tr>\n",
       "      <th>10</th>\n",
       "      <td>212</td>\n",
       "    </tr>\n",
       "    <tr>\n",
       "      <th>11</th>\n",
       "      <td>243</td>\n",
       "    </tr>\n",
       "    <tr>\n",
       "      <th>12</th>\n",
       "      <td>236</td>\n",
       "    </tr>\n",
       "    <tr>\n",
       "      <th rowspan=\"5\" valign=\"top\">1003</th>\n",
       "      <th>8</th>\n",
       "      <td>380</td>\n",
       "    </tr>\n",
       "    <tr>\n",
       "      <th>9</th>\n",
       "      <td>961</td>\n",
       "    </tr>\n",
       "    <tr>\n",
       "      <th>10</th>\n",
       "      <td>855</td>\n",
       "    </tr>\n",
       "    <tr>\n",
       "      <th>11</th>\n",
       "      <td>824</td>\n",
       "    </tr>\n",
       "    <tr>\n",
       "      <th>12</th>\n",
       "      <td>802</td>\n",
       "    </tr>\n",
       "    <tr>\n",
       "      <th rowspan=\"8\" valign=\"top\">1004</th>\n",
       "      <th>5</th>\n",
       "      <td>35</td>\n",
       "    </tr>\n",
       "    <tr>\n",
       "      <th>6</th>\n",
       "      <td>171</td>\n",
       "    </tr>\n",
       "    <tr>\n",
       "      <th>7</th>\n",
       "      <td>135</td>\n",
       "    </tr>\n",
       "    <tr>\n",
       "      <th>8</th>\n",
       "      <td>137</td>\n",
       "    </tr>\n",
       "    <tr>\n",
       "      <th>9</th>\n",
       "      <td>117</td>\n",
       "    </tr>\n",
       "    <tr>\n",
       "      <th>10</th>\n",
       "      <td>145</td>\n",
       "    </tr>\n",
       "    <tr>\n",
       "      <th>11</th>\n",
       "      <td>117</td>\n",
       "    </tr>\n",
       "    <tr>\n",
       "      <th>12</th>\n",
       "      <td>130</td>\n",
       "    </tr>\n",
       "  </tbody>\n",
       "</table>\n",
       "</div>"
      ],
      "text/plain": [
       "               minutes\n",
       "user_id month         \n",
       "1000    5          159\n",
       "        6          172\n",
       "        7          340\n",
       "        8          408\n",
       "        9          466\n",
       "        10         350\n",
       "        11         338\n",
       "        12         333\n",
       "1001    11         430\n",
       "        12         414\n",
       "1002    6          117\n",
       "        7          214\n",
       "        8          289\n",
       "        9          206\n",
       "        10         212\n",
       "        11         243\n",
       "        12         236\n",
       "1003    8          380\n",
       "        9          961\n",
       "        10         855\n",
       "        11         824\n",
       "        12         802\n",
       "1004    5           35\n",
       "        6          171\n",
       "        7          135\n",
       "        8          137\n",
       "        9          117\n",
       "        10         145\n",
       "        11         117\n",
       "        12         130"
      ]
     },
     "execution_count": 20,
     "metadata": {},
     "output_type": "execute_result"
    }
   ],
   "source": [
    "# подсчёт израсходованных минут для каждого пользователя по месяцам\n",
    "minutes_per_month = calls.groupby(['user_id', 'month']).agg(minutes=('duration', 'sum'))\n",
    "minutes_per_month.head(30)"
   ]
  },
  {
   "cell_type": "markdown",
   "id": "ebdf952a",
   "metadata": {},
   "source": [
    "<u><b>Подсчет количество отправленных сообщений для каждого пользователя по месяцам"
   ]
  },
  {
   "cell_type": "code",
   "execution_count": 21,
   "id": "d3f9e779",
   "metadata": {},
   "outputs": [
    {
     "data": {
      "text/html": [
       "<div>\n",
       "<style scoped>\n",
       "    .dataframe tbody tr th:only-of-type {\n",
       "        vertical-align: middle;\n",
       "    }\n",
       "\n",
       "    .dataframe tbody tr th {\n",
       "        vertical-align: top;\n",
       "    }\n",
       "\n",
       "    .dataframe thead th {\n",
       "        text-align: right;\n",
       "    }\n",
       "</style>\n",
       "<table border=\"1\" class=\"dataframe\">\n",
       "  <thead>\n",
       "    <tr style=\"text-align: right;\">\n",
       "      <th></th>\n",
       "      <th></th>\n",
       "      <th>messages</th>\n",
       "    </tr>\n",
       "    <tr>\n",
       "      <th>user_id</th>\n",
       "      <th>month</th>\n",
       "      <th></th>\n",
       "    </tr>\n",
       "  </thead>\n",
       "  <tbody>\n",
       "    <tr>\n",
       "      <th rowspan=\"8\" valign=\"top\">1000</th>\n",
       "      <th>5</th>\n",
       "      <td>22</td>\n",
       "    </tr>\n",
       "    <tr>\n",
       "      <th>6</th>\n",
       "      <td>60</td>\n",
       "    </tr>\n",
       "    <tr>\n",
       "      <th>7</th>\n",
       "      <td>75</td>\n",
       "    </tr>\n",
       "    <tr>\n",
       "      <th>8</th>\n",
       "      <td>81</td>\n",
       "    </tr>\n",
       "    <tr>\n",
       "      <th>9</th>\n",
       "      <td>57</td>\n",
       "    </tr>\n",
       "    <tr>\n",
       "      <th>10</th>\n",
       "      <td>73</td>\n",
       "    </tr>\n",
       "    <tr>\n",
       "      <th>11</th>\n",
       "      <td>58</td>\n",
       "    </tr>\n",
       "    <tr>\n",
       "      <th>12</th>\n",
       "      <td>70</td>\n",
       "    </tr>\n",
       "    <tr>\n",
       "      <th rowspan=\"7\" valign=\"top\">1002</th>\n",
       "      <th>6</th>\n",
       "      <td>4</td>\n",
       "    </tr>\n",
       "    <tr>\n",
       "      <th>7</th>\n",
       "      <td>11</td>\n",
       "    </tr>\n",
       "    <tr>\n",
       "      <th>8</th>\n",
       "      <td>13</td>\n",
       "    </tr>\n",
       "    <tr>\n",
       "      <th>9</th>\n",
       "      <td>4</td>\n",
       "    </tr>\n",
       "    <tr>\n",
       "      <th>10</th>\n",
       "      <td>10</td>\n",
       "    </tr>\n",
       "    <tr>\n",
       "      <th>11</th>\n",
       "      <td>16</td>\n",
       "    </tr>\n",
       "    <tr>\n",
       "      <th>12</th>\n",
       "      <td>12</td>\n",
       "    </tr>\n",
       "    <tr>\n",
       "      <th rowspan=\"5\" valign=\"top\">1003</th>\n",
       "      <th>8</th>\n",
       "      <td>37</td>\n",
       "    </tr>\n",
       "    <tr>\n",
       "      <th>9</th>\n",
       "      <td>91</td>\n",
       "    </tr>\n",
       "    <tr>\n",
       "      <th>10</th>\n",
       "      <td>83</td>\n",
       "    </tr>\n",
       "    <tr>\n",
       "      <th>11</th>\n",
       "      <td>94</td>\n",
       "    </tr>\n",
       "    <tr>\n",
       "      <th>12</th>\n",
       "      <td>75</td>\n",
       "    </tr>\n",
       "    <tr>\n",
       "      <th rowspan=\"8\" valign=\"top\">1004</th>\n",
       "      <th>5</th>\n",
       "      <td>95</td>\n",
       "    </tr>\n",
       "    <tr>\n",
       "      <th>6</th>\n",
       "      <td>134</td>\n",
       "    </tr>\n",
       "    <tr>\n",
       "      <th>7</th>\n",
       "      <td>181</td>\n",
       "    </tr>\n",
       "    <tr>\n",
       "      <th>8</th>\n",
       "      <td>151</td>\n",
       "    </tr>\n",
       "    <tr>\n",
       "      <th>9</th>\n",
       "      <td>146</td>\n",
       "    </tr>\n",
       "    <tr>\n",
       "      <th>10</th>\n",
       "      <td>165</td>\n",
       "    </tr>\n",
       "    <tr>\n",
       "      <th>11</th>\n",
       "      <td>158</td>\n",
       "    </tr>\n",
       "    <tr>\n",
       "      <th>12</th>\n",
       "      <td>162</td>\n",
       "    </tr>\n",
       "    <tr>\n",
       "      <th rowspan=\"2\" valign=\"top\">1005</th>\n",
       "      <th>1</th>\n",
       "      <td>7</td>\n",
       "    </tr>\n",
       "    <tr>\n",
       "      <th>2</th>\n",
       "      <td>38</td>\n",
       "    </tr>\n",
       "  </tbody>\n",
       "</table>\n",
       "</div>"
      ],
      "text/plain": [
       "               messages\n",
       "user_id month          \n",
       "1000    5            22\n",
       "        6            60\n",
       "        7            75\n",
       "        8            81\n",
       "        9            57\n",
       "        10           73\n",
       "        11           58\n",
       "        12           70\n",
       "1002    6             4\n",
       "        7            11\n",
       "        8            13\n",
       "        9             4\n",
       "        10           10\n",
       "        11           16\n",
       "        12           12\n",
       "1003    8            37\n",
       "        9            91\n",
       "        10           83\n",
       "        11           94\n",
       "        12           75\n",
       "1004    5            95\n",
       "        6           134\n",
       "        7           181\n",
       "        8           151\n",
       "        9           146\n",
       "        10          165\n",
       "        11          158\n",
       "        12          162\n",
       "1005    1             7\n",
       "        2            38"
      ]
     },
     "execution_count": 21,
     "metadata": {},
     "output_type": "execute_result"
    }
   ],
   "source": [
    "# подсчёт количества отправленных сообщений для каждого пользователя по месяцам\n",
    "messages_per_month = messages.groupby(['user_id', 'month']).agg(messages=('message_date', 'count'))\n",
    "messages_per_month.head(30)"
   ]
  },
  {
   "cell_type": "markdown",
   "id": "d109d3ba",
   "metadata": {},
   "source": [
    "<u><b>Подсчет количество потраченных мегабайт для каждого пользователя по месяцам"
   ]
  },
  {
   "cell_type": "code",
   "execution_count": 22,
   "id": "75ae57aa",
   "metadata": {},
   "outputs": [
    {
     "data": {
      "text/html": [
       "<div>\n",
       "<style scoped>\n",
       "    .dataframe tbody tr th:only-of-type {\n",
       "        vertical-align: middle;\n",
       "    }\n",
       "\n",
       "    .dataframe tbody tr th {\n",
       "        vertical-align: top;\n",
       "    }\n",
       "\n",
       "    .dataframe thead th {\n",
       "        text-align: right;\n",
       "    }\n",
       "</style>\n",
       "<table border=\"1\" class=\"dataframe\">\n",
       "  <thead>\n",
       "    <tr style=\"text-align: right;\">\n",
       "      <th></th>\n",
       "      <th></th>\n",
       "      <th>mb_used</th>\n",
       "    </tr>\n",
       "    <tr>\n",
       "      <th>user_id</th>\n",
       "      <th>month</th>\n",
       "      <th></th>\n",
       "    </tr>\n",
       "  </thead>\n",
       "  <tbody>\n",
       "    <tr>\n",
       "      <th rowspan=\"8\" valign=\"top\">1000</th>\n",
       "      <th>5</th>\n",
       "      <td>2253.49</td>\n",
       "    </tr>\n",
       "    <tr>\n",
       "      <th>6</th>\n",
       "      <td>23233.77</td>\n",
       "    </tr>\n",
       "    <tr>\n",
       "      <th>7</th>\n",
       "      <td>14003.64</td>\n",
       "    </tr>\n",
       "    <tr>\n",
       "      <th>8</th>\n",
       "      <td>14055.93</td>\n",
       "    </tr>\n",
       "    <tr>\n",
       "      <th>9</th>\n",
       "      <td>14568.91</td>\n",
       "    </tr>\n",
       "    <tr>\n",
       "      <th>10</th>\n",
       "      <td>14702.49</td>\n",
       "    </tr>\n",
       "    <tr>\n",
       "      <th>11</th>\n",
       "      <td>14756.47</td>\n",
       "    </tr>\n",
       "    <tr>\n",
       "      <th>12</th>\n",
       "      <td>9817.61</td>\n",
       "    </tr>\n",
       "    <tr>\n",
       "      <th rowspan=\"2\" valign=\"top\">1001</th>\n",
       "      <th>11</th>\n",
       "      <td>18429.34</td>\n",
       "    </tr>\n",
       "    <tr>\n",
       "      <th>12</th>\n",
       "      <td>14036.66</td>\n",
       "    </tr>\n",
       "    <tr>\n",
       "      <th rowspan=\"7\" valign=\"top\">1002</th>\n",
       "      <th>6</th>\n",
       "      <td>10856.82</td>\n",
       "    </tr>\n",
       "    <tr>\n",
       "      <th>7</th>\n",
       "      <td>17580.10</td>\n",
       "    </tr>\n",
       "    <tr>\n",
       "      <th>8</th>\n",
       "      <td>20319.26</td>\n",
       "    </tr>\n",
       "    <tr>\n",
       "      <th>9</th>\n",
       "      <td>16691.08</td>\n",
       "    </tr>\n",
       "    <tr>\n",
       "      <th>10</th>\n",
       "      <td>13888.25</td>\n",
       "    </tr>\n",
       "    <tr>\n",
       "      <th>11</th>\n",
       "      <td>18587.28</td>\n",
       "    </tr>\n",
       "    <tr>\n",
       "      <th>12</th>\n",
       "      <td>18113.73</td>\n",
       "    </tr>\n",
       "    <tr>\n",
       "      <th rowspan=\"5\" valign=\"top\">1003</th>\n",
       "      <th>8</th>\n",
       "      <td>8565.21</td>\n",
       "    </tr>\n",
       "    <tr>\n",
       "      <th>9</th>\n",
       "      <td>12468.87</td>\n",
       "    </tr>\n",
       "    <tr>\n",
       "      <th>10</th>\n",
       "      <td>14768.14</td>\n",
       "    </tr>\n",
       "    <tr>\n",
       "      <th>11</th>\n",
       "      <td>11356.89</td>\n",
       "    </tr>\n",
       "    <tr>\n",
       "      <th>12</th>\n",
       "      <td>10121.53</td>\n",
       "    </tr>\n",
       "    <tr>\n",
       "      <th rowspan=\"8\" valign=\"top\">1004</th>\n",
       "      <th>5</th>\n",
       "      <td>13403.98</td>\n",
       "    </tr>\n",
       "    <tr>\n",
       "      <th>6</th>\n",
       "      <td>17600.02</td>\n",
       "    </tr>\n",
       "    <tr>\n",
       "      <th>7</th>\n",
       "      <td>22229.58</td>\n",
       "    </tr>\n",
       "    <tr>\n",
       "      <th>8</th>\n",
       "      <td>28584.37</td>\n",
       "    </tr>\n",
       "    <tr>\n",
       "      <th>9</th>\n",
       "      <td>15109.03</td>\n",
       "    </tr>\n",
       "    <tr>\n",
       "      <th>10</th>\n",
       "      <td>18475.44</td>\n",
       "    </tr>\n",
       "    <tr>\n",
       "      <th>11</th>\n",
       "      <td>15616.02</td>\n",
       "    </tr>\n",
       "    <tr>\n",
       "      <th>12</th>\n",
       "      <td>18021.04</td>\n",
       "    </tr>\n",
       "  </tbody>\n",
       "</table>\n",
       "</div>"
      ],
      "text/plain": [
       "                mb_used\n",
       "user_id month          \n",
       "1000    5       2253.49\n",
       "        6      23233.77\n",
       "        7      14003.64\n",
       "        8      14055.93\n",
       "        9      14568.91\n",
       "        10     14702.49\n",
       "        11     14756.47\n",
       "        12      9817.61\n",
       "1001    11     18429.34\n",
       "        12     14036.66\n",
       "1002    6      10856.82\n",
       "        7      17580.10\n",
       "        8      20319.26\n",
       "        9      16691.08\n",
       "        10     13888.25\n",
       "        11     18587.28\n",
       "        12     18113.73\n",
       "1003    8       8565.21\n",
       "        9      12468.87\n",
       "        10     14768.14\n",
       "        11     11356.89\n",
       "        12     10121.53\n",
       "1004    5      13403.98\n",
       "        6      17600.02\n",
       "        7      22229.58\n",
       "        8      28584.37\n",
       "        9      15109.03\n",
       "        10     18475.44\n",
       "        11     15616.02\n",
       "        12     18021.04"
      ]
     },
     "execution_count": 22,
     "metadata": {},
     "output_type": "execute_result"
    }
   ],
   "source": [
    "# подсчёт потраченных мегабайт для каждого пользователя по месяцам\n",
    "sessions_per_month = sessions.groupby(['user_id', 'month']).agg({'mb_used': 'sum'})\n",
    "sessions_per_month.head(30)"
   ]
  },
  {
   "cell_type": "markdown",
   "id": "2ddfb42e",
   "metadata": {},
   "source": [
    "<u><b>Детальный анализ полученных результатов"
   ]
  },
  {
   "cell_type": "code",
   "execution_count": 23,
   "id": "a8d51794",
   "metadata": {},
   "outputs": [
    {
     "name": "stdout",
     "output_type": "stream",
     "text": [
      "Расторгли договор 7.6% клиентов из датасета\n"
     ]
    }
   ],
   "source": [
    "#подсчет процента ушедших пользователей\n",
    "proc = users['churn_date'].count() / users['churn_date'].shape[0] * 100\n",
    "print(f'Расторгли договор {proc}% клиентов из датасета')"
   ]
  },
  {
   "cell_type": "markdown",
   "id": "ef6021e9",
   "metadata": {},
   "source": [
    "Объединяем все посчитанные выше значения в один датафрейм user_behavior. Для каждой пары «пользователь — месяц» будут доступны информация о тарифе, количестве звонков, сообщений и потраченных мегабайтах. Объединять будем методом `merge`."
   ]
  },
  {
   "cell_type": "code",
   "execution_count": 24,
   "id": "76179e90",
   "metadata": {},
   "outputs": [
    {
     "data": {
      "text/html": [
       "<div>\n",
       "<style scoped>\n",
       "    .dataframe tbody tr th:only-of-type {\n",
       "        vertical-align: middle;\n",
       "    }\n",
       "\n",
       "    .dataframe tbody tr th {\n",
       "        vertical-align: top;\n",
       "    }\n",
       "\n",
       "    .dataframe thead th {\n",
       "        text-align: right;\n",
       "    }\n",
       "</style>\n",
       "<table border=\"1\" class=\"dataframe\">\n",
       "  <thead>\n",
       "    <tr style=\"text-align: right;\">\n",
       "      <th></th>\n",
       "      <th>user_id</th>\n",
       "      <th>month</th>\n",
       "      <th>calls</th>\n",
       "      <th>messages</th>\n",
       "      <th>mb_used</th>\n",
       "      <th>minutes</th>\n",
       "      <th>age</th>\n",
       "      <th>churn_date</th>\n",
       "      <th>city</th>\n",
       "      <th>first_name</th>\n",
       "      <th>last_name</th>\n",
       "      <th>reg_date</th>\n",
       "      <th>tariff</th>\n",
       "    </tr>\n",
       "  </thead>\n",
       "  <tbody>\n",
       "    <tr>\n",
       "      <th>0</th>\n",
       "      <td>1000</td>\n",
       "      <td>5</td>\n",
       "      <td>22.0</td>\n",
       "      <td>22.0</td>\n",
       "      <td>2253.49</td>\n",
       "      <td>159.0</td>\n",
       "      <td>52</td>\n",
       "      <td>NaT</td>\n",
       "      <td>Краснодар</td>\n",
       "      <td>Рафаил</td>\n",
       "      <td>Верещагин</td>\n",
       "      <td>2018-05-25</td>\n",
       "      <td>ultra</td>\n",
       "    </tr>\n",
       "    <tr>\n",
       "      <th>1</th>\n",
       "      <td>1000</td>\n",
       "      <td>6</td>\n",
       "      <td>43.0</td>\n",
       "      <td>60.0</td>\n",
       "      <td>23233.77</td>\n",
       "      <td>172.0</td>\n",
       "      <td>52</td>\n",
       "      <td>NaT</td>\n",
       "      <td>Краснодар</td>\n",
       "      <td>Рафаил</td>\n",
       "      <td>Верещагин</td>\n",
       "      <td>2018-05-25</td>\n",
       "      <td>ultra</td>\n",
       "    </tr>\n",
       "    <tr>\n",
       "      <th>2</th>\n",
       "      <td>1000</td>\n",
       "      <td>7</td>\n",
       "      <td>47.0</td>\n",
       "      <td>75.0</td>\n",
       "      <td>14003.64</td>\n",
       "      <td>340.0</td>\n",
       "      <td>52</td>\n",
       "      <td>NaT</td>\n",
       "      <td>Краснодар</td>\n",
       "      <td>Рафаил</td>\n",
       "      <td>Верещагин</td>\n",
       "      <td>2018-05-25</td>\n",
       "      <td>ultra</td>\n",
       "    </tr>\n",
       "    <tr>\n",
       "      <th>3</th>\n",
       "      <td>1000</td>\n",
       "      <td>8</td>\n",
       "      <td>52.0</td>\n",
       "      <td>81.0</td>\n",
       "      <td>14055.93</td>\n",
       "      <td>408.0</td>\n",
       "      <td>52</td>\n",
       "      <td>NaT</td>\n",
       "      <td>Краснодар</td>\n",
       "      <td>Рафаил</td>\n",
       "      <td>Верещагин</td>\n",
       "      <td>2018-05-25</td>\n",
       "      <td>ultra</td>\n",
       "    </tr>\n",
       "    <tr>\n",
       "      <th>4</th>\n",
       "      <td>1000</td>\n",
       "      <td>9</td>\n",
       "      <td>58.0</td>\n",
       "      <td>57.0</td>\n",
       "      <td>14568.91</td>\n",
       "      <td>466.0</td>\n",
       "      <td>52</td>\n",
       "      <td>NaT</td>\n",
       "      <td>Краснодар</td>\n",
       "      <td>Рафаил</td>\n",
       "      <td>Верещагин</td>\n",
       "      <td>2018-05-25</td>\n",
       "      <td>ultra</td>\n",
       "    </tr>\n",
       "  </tbody>\n",
       "</table>\n",
       "</div>"
      ],
      "text/plain": [
       "   user_id  month  calls  messages   mb_used  minutes  age churn_date  \\\n",
       "0     1000      5   22.0      22.0   2253.49    159.0   52        NaT   \n",
       "1     1000      6   43.0      60.0  23233.77    172.0   52        NaT   \n",
       "2     1000      7   47.0      75.0  14003.64    340.0   52        NaT   \n",
       "3     1000      8   52.0      81.0  14055.93    408.0   52        NaT   \n",
       "4     1000      9   58.0      57.0  14568.91    466.0   52        NaT   \n",
       "\n",
       "        city first_name  last_name   reg_date tariff  \n",
       "0  Краснодар     Рафаил  Верещагин 2018-05-25  ultra  \n",
       "1  Краснодар     Рафаил  Верещагин 2018-05-25  ultra  \n",
       "2  Краснодар     Рафаил  Верещагин 2018-05-25  ultra  \n",
       "3  Краснодар     Рафаил  Верещагин 2018-05-25  ultra  \n",
       "4  Краснодар     Рафаил  Верещагин 2018-05-25  ultra  "
      ]
     },
     "execution_count": 24,
     "metadata": {},
     "output_type": "execute_result"
    }
   ],
   "source": [
    "user_behavior = calls_per_month\\\n",
    "    .merge(messages_per_month, left_index=True, right_index=True, how='outer')\\\n",
    "    .merge(sessions_per_month, left_index=True, right_index=True, how='outer')\\\n",
    "    .merge(minutes_per_month, left_index=True, right_index=True, how='outer')\\\n",
    "    .reset_index()\\\n",
    "    .merge(users, how='left', left_on='user_id', right_on='user_id')\\\n",
    "\n",
    "user_behavior.head()"
   ]
  },
  {
   "cell_type": "markdown",
   "id": "5a87d27f",
   "metadata": {},
   "source": [
    "Проверим пропуски в таблице `user_behavior` после объединения:"
   ]
  },
  {
   "cell_type": "code",
   "execution_count": 25,
   "id": "32694b9b",
   "metadata": {},
   "outputs": [
    {
     "data": {
      "text/plain": [
       "user_id          0\n",
       "month            0\n",
       "calls           40\n",
       "messages       497\n",
       "mb_used         11\n",
       "minutes         40\n",
       "age              0\n",
       "churn_date    3027\n",
       "city             0\n",
       "first_name       0\n",
       "last_name        0\n",
       "reg_date         0\n",
       "tariff           0\n",
       "dtype: int64"
      ]
     },
     "execution_count": 25,
     "metadata": {},
     "output_type": "execute_result"
    }
   ],
   "source": [
    "user_behavior.isna().sum()"
   ]
  },
  {
   "cell_type": "markdown",
   "id": "db824aab",
   "metadata": {},
   "source": [
    "Заполним образовавшиеся пропуски в данных"
   ]
  },
  {
   "cell_type": "code",
   "execution_count": 26,
   "id": "6e12db11",
   "metadata": {},
   "outputs": [],
   "source": [
    "user_behavior['calls'] = user_behavior['calls'].fillna(0)\n",
    "user_behavior['minutes'] = user_behavior['minutes'].fillna(0)\n",
    "user_behavior['messages'] = user_behavior['messages'].fillna(0)\n",
    "user_behavior['mb_used'] = user_behavior['mb_used'].fillna(0)"
   ]
  },
  {
   "cell_type": "markdown",
   "id": "35e4b8ec",
   "metadata": {},
   "source": [
    "Присоединяем информацию о тарифах"
   ]
  },
  {
   "cell_type": "code",
   "execution_count": 27,
   "id": "d1bd7940",
   "metadata": {},
   "outputs": [],
   "source": [
    "# переименование столбца tariff_name на более простое tariff\n",
    "tariffs = tariffs.rename(columns={'tariff_name': 'tariff'})\n",
    "user_behavior = user_behavior.merge(tariffs, on='tariff')"
   ]
  },
  {
   "cell_type": "markdown",
   "id": "743ff14e",
   "metadata": {},
   "source": [
    "Считаем количество минут разговора, сообщений и мегабайт, превышающих включённые в тариф"
   ]
  },
  {
   "cell_type": "code",
   "execution_count": 28,
   "id": "773f80a5",
   "metadata": {},
   "outputs": [],
   "source": [
    "user_behavior['paid_minutes'] = user_behavior['minutes'] - user_behavior['minutes_included']\n",
    "user_behavior['paid_messages'] = user_behavior['messages'] - user_behavior['messages_included']\n",
    "user_behavior['paid_mb'] = user_behavior['mb_used'] - user_behavior['mb_per_month_included']\n",
    "\n",
    "for col in ['paid_messages', 'paid_minutes', 'paid_mb']:\n",
    "    user_behavior.loc[user_behavior[col] < 0, col] = 0"
   ]
  },
  {
   "cell_type": "markdown",
   "id": "fc794467",
   "metadata": {},
   "source": [
    "Переводим превышающие тариф мегабайты в гигабайты и сохраняем в столбец `paid_gb`"
   ]
  },
  {
   "cell_type": "code",
   "execution_count": 29,
   "id": "23c6dc5c",
   "metadata": {},
   "outputs": [
    {
     "data": {
      "text/plain": [
       "Index(['user_id', 'month', 'calls', 'messages', 'mb_used', 'minutes', 'age',\n",
       "       'churn_date', 'city', 'first_name', 'last_name', 'reg_date', 'tariff',\n",
       "       'messages_included', 'mb_per_month_included', 'minutes_included',\n",
       "       'rub_monthly_fee', 'rub_per_gb', 'rub_per_message', 'rub_per_minute',\n",
       "       'paid_minutes', 'paid_messages', 'paid_mb', 'paid_gb'],\n",
       "      dtype='object')"
      ]
     },
     "execution_count": 29,
     "metadata": {},
     "output_type": "execute_result"
    }
   ],
   "source": [
    "user_behavior['paid_gb'] = np.ceil(user_behavior['paid_mb'] / 1024).astype(int)\n",
    "user_behavior.columns"
   ]
  },
  {
   "cell_type": "markdown",
   "id": "bfa53626",
   "metadata": {},
   "source": [
    "Считаем выручку за минуты разговора, сообщения и интернет"
   ]
  },
  {
   "cell_type": "code",
   "execution_count": 30,
   "id": "4eed4879",
   "metadata": {},
   "outputs": [],
   "source": [
    "user_behavior['cost_minutes'] = user_behavior['paid_minutes'] * user_behavior['rub_per_minute']\n",
    "user_behavior['cost_messages'] = user_behavior['paid_messages'] * user_behavior['rub_per_message']\n",
    "user_behavior['cost_gb'] = user_behavior['paid_gb'] * user_behavior['rub_per_gb']"
   ]
  },
  {
   "cell_type": "markdown",
   "id": "c5457fff",
   "metadata": {},
   "source": [
    "Считаем помесячную выручку с каждого пользователя, она будет храниться в столбце `total_cost`"
   ]
  },
  {
   "cell_type": "code",
   "execution_count": 31,
   "id": "6ade7d34",
   "metadata": {},
   "outputs": [
    {
     "data": {
      "text/plain": [
       "Index(['user_id', 'month', 'calls', 'messages', 'mb_used', 'minutes', 'age',\n",
       "       'churn_date', 'city', 'first_name', 'last_name', 'reg_date', 'tariff',\n",
       "       'messages_included', 'mb_per_month_included', 'minutes_included',\n",
       "       'rub_monthly_fee', 'rub_per_gb', 'rub_per_message', 'rub_per_minute',\n",
       "       'paid_minutes', 'paid_messages', 'paid_mb', 'paid_gb', 'cost_minutes',\n",
       "       'cost_messages', 'cost_gb', 'total_cost'],\n",
       "      dtype='object')"
      ]
     },
     "execution_count": 31,
     "metadata": {},
     "output_type": "execute_result"
    }
   ],
   "source": [
    "user_behavior['total_cost'] = \\\n",
    "      user_behavior['rub_monthly_fee']\\\n",
    "    + user_behavior['cost_minutes']\\\n",
    "    + user_behavior['cost_messages']\\\n",
    "    + user_behavior['cost_gb']\n",
    "user_behavior.columns"
   ]
  },
  {
   "cell_type": "markdown",
   "id": "b7b42a80",
   "metadata": {},
   "source": [
    "Датафрейм `stats_df` для каждой пары «месяц — тариф» будет хранить основные характеристики"
   ]
  },
  {
   "cell_type": "code",
   "execution_count": 32,
   "id": "a6ef169d",
   "metadata": {},
   "outputs": [
    {
     "data": {
      "text/html": [
       "<div>\n",
       "<style scoped>\n",
       "    .dataframe tbody tr th:only-of-type {\n",
       "        vertical-align: middle;\n",
       "    }\n",
       "\n",
       "    .dataframe tbody tr th {\n",
       "        vertical-align: top;\n",
       "    }\n",
       "\n",
       "    .dataframe thead th {\n",
       "        text-align: right;\n",
       "    }\n",
       "</style>\n",
       "<table border=\"1\" class=\"dataframe\">\n",
       "  <thead>\n",
       "    <tr style=\"text-align: right;\">\n",
       "      <th></th>\n",
       "      <th>month</th>\n",
       "      <th>tariff</th>\n",
       "      <th>calls_mean</th>\n",
       "      <th>sessions_mean</th>\n",
       "      <th>messages_mean</th>\n",
       "      <th>minutes_mean</th>\n",
       "      <th>calls_std</th>\n",
       "      <th>sessions_std</th>\n",
       "      <th>messages_std</th>\n",
       "      <th>minutes_std</th>\n",
       "      <th>calls_median</th>\n",
       "      <th>sessions_median</th>\n",
       "      <th>messages_median</th>\n",
       "      <th>minutes_median</th>\n",
       "    </tr>\n",
       "  </thead>\n",
       "  <tbody>\n",
       "    <tr>\n",
       "      <th>0</th>\n",
       "      <td>1</td>\n",
       "      <td>smart</td>\n",
       "      <td>27.68</td>\n",
       "      <td>8513.72</td>\n",
       "      <td>18.24</td>\n",
       "      <td>203.85</td>\n",
       "      <td>20.81</td>\n",
       "      <td>6444.68</td>\n",
       "      <td>16.20</td>\n",
       "      <td>154.23</td>\n",
       "      <td>20.5</td>\n",
       "      <td>7096.18</td>\n",
       "      <td>15.0</td>\n",
       "      <td>162.5</td>\n",
       "    </tr>\n",
       "    <tr>\n",
       "      <th>1</th>\n",
       "      <td>1</td>\n",
       "      <td>ultra</td>\n",
       "      <td>59.44</td>\n",
       "      <td>13140.68</td>\n",
       "      <td>33.78</td>\n",
       "      <td>428.11</td>\n",
       "      <td>41.64</td>\n",
       "      <td>6865.35</td>\n",
       "      <td>30.67</td>\n",
       "      <td>269.76</td>\n",
       "      <td>51.0</td>\n",
       "      <td>14791.37</td>\n",
       "      <td>32.0</td>\n",
       "      <td>382.0</td>\n",
       "    </tr>\n",
       "    <tr>\n",
       "      <th>2</th>\n",
       "      <td>2</td>\n",
       "      <td>smart</td>\n",
       "      <td>40.19</td>\n",
       "      <td>11597.05</td>\n",
       "      <td>24.09</td>\n",
       "      <td>298.69</td>\n",
       "      <td>25.39</td>\n",
       "      <td>6247.35</td>\n",
       "      <td>21.75</td>\n",
       "      <td>190.82</td>\n",
       "      <td>38.5</td>\n",
       "      <td>12553.71</td>\n",
       "      <td>20.0</td>\n",
       "      <td>258.0</td>\n",
       "    </tr>\n",
       "    <tr>\n",
       "      <th>3</th>\n",
       "      <td>2</td>\n",
       "      <td>ultra</td>\n",
       "      <td>41.54</td>\n",
       "      <td>11775.94</td>\n",
       "      <td>21.96</td>\n",
       "      <td>297.12</td>\n",
       "      <td>40.97</td>\n",
       "      <td>10644.64</td>\n",
       "      <td>26.77</td>\n",
       "      <td>296.51</td>\n",
       "      <td>25.0</td>\n",
       "      <td>7327.12</td>\n",
       "      <td>5.5</td>\n",
       "      <td>168.0</td>\n",
       "    </tr>\n",
       "    <tr>\n",
       "      <th>4</th>\n",
       "      <td>3</td>\n",
       "      <td>smart</td>\n",
       "      <td>54.32</td>\n",
       "      <td>15104.16</td>\n",
       "      <td>31.86</td>\n",
       "      <td>390.05</td>\n",
       "      <td>25.54</td>\n",
       "      <td>5828.24</td>\n",
       "      <td>26.80</td>\n",
       "      <td>191.89</td>\n",
       "      <td>59.0</td>\n",
       "      <td>15670.25</td>\n",
       "      <td>23.0</td>\n",
       "      <td>409.0</td>\n",
       "    </tr>\n",
       "    <tr>\n",
       "      <th>5</th>\n",
       "      <td>3</td>\n",
       "      <td>ultra</td>\n",
       "      <td>67.68</td>\n",
       "      <td>17535.55</td>\n",
       "      <td>32.30</td>\n",
       "      <td>489.65</td>\n",
       "      <td>44.84</td>\n",
       "      <td>10951.79</td>\n",
       "      <td>41.62</td>\n",
       "      <td>333.74</td>\n",
       "      <td>57.0</td>\n",
       "      <td>17495.18</td>\n",
       "      <td>20.0</td>\n",
       "      <td>403.0</td>\n",
       "    </tr>\n",
       "    <tr>\n",
       "      <th>6</th>\n",
       "      <td>4</td>\n",
       "      <td>smart</td>\n",
       "      <td>51.31</td>\n",
       "      <td>13462.18</td>\n",
       "      <td>30.74</td>\n",
       "      <td>367.13</td>\n",
       "      <td>25.70</td>\n",
       "      <td>5698.25</td>\n",
       "      <td>24.54</td>\n",
       "      <td>186.49</td>\n",
       "      <td>52.0</td>\n",
       "      <td>14087.65</td>\n",
       "      <td>28.0</td>\n",
       "      <td>368.5</td>\n",
       "    </tr>\n",
       "    <tr>\n",
       "      <th>7</th>\n",
       "      <td>4</td>\n",
       "      <td>ultra</td>\n",
       "      <td>64.09</td>\n",
       "      <td>16828.13</td>\n",
       "      <td>31.56</td>\n",
       "      <td>458.02</td>\n",
       "      <td>36.27</td>\n",
       "      <td>9718.65</td>\n",
       "      <td>37.51</td>\n",
       "      <td>267.68</td>\n",
       "      <td>61.0</td>\n",
       "      <td>16645.78</td>\n",
       "      <td>17.0</td>\n",
       "      <td>453.0</td>\n",
       "    </tr>\n",
       "    <tr>\n",
       "      <th>8</th>\n",
       "      <td>5</td>\n",
       "      <td>smart</td>\n",
       "      <td>55.24</td>\n",
       "      <td>15805.18</td>\n",
       "      <td>33.77</td>\n",
       "      <td>387.36</td>\n",
       "      <td>25.38</td>\n",
       "      <td>5978.23</td>\n",
       "      <td>27.04</td>\n",
       "      <td>186.60</td>\n",
       "      <td>59.0</td>\n",
       "      <td>16323.94</td>\n",
       "      <td>30.0</td>\n",
       "      <td>433.0</td>\n",
       "    </tr>\n",
       "    <tr>\n",
       "      <th>9</th>\n",
       "      <td>5</td>\n",
       "      <td>ultra</td>\n",
       "      <td>72.51</td>\n",
       "      <td>19363.15</td>\n",
       "      <td>37.85</td>\n",
       "      <td>510.33</td>\n",
       "      <td>41.08</td>\n",
       "      <td>10046.11</td>\n",
       "      <td>40.31</td>\n",
       "      <td>289.60</td>\n",
       "      <td>75.0</td>\n",
       "      <td>18696.43</td>\n",
       "      <td>25.0</td>\n",
       "      <td>519.0</td>\n",
       "    </tr>\n",
       "  </tbody>\n",
       "</table>\n",
       "</div>"
      ],
      "text/plain": [
       "   month tariff  calls_mean  sessions_mean  messages_mean  minutes_mean  \\\n",
       "0      1  smart       27.68        8513.72          18.24        203.85   \n",
       "1      1  ultra       59.44       13140.68          33.78        428.11   \n",
       "2      2  smart       40.19       11597.05          24.09        298.69   \n",
       "3      2  ultra       41.54       11775.94          21.96        297.12   \n",
       "4      3  smart       54.32       15104.16          31.86        390.05   \n",
       "5      3  ultra       67.68       17535.55          32.30        489.65   \n",
       "6      4  smart       51.31       13462.18          30.74        367.13   \n",
       "7      4  ultra       64.09       16828.13          31.56        458.02   \n",
       "8      5  smart       55.24       15805.18          33.77        387.36   \n",
       "9      5  ultra       72.51       19363.15          37.85        510.33   \n",
       "\n",
       "   calls_std  sessions_std  messages_std  minutes_std  calls_median  \\\n",
       "0      20.81       6444.68         16.20       154.23          20.5   \n",
       "1      41.64       6865.35         30.67       269.76          51.0   \n",
       "2      25.39       6247.35         21.75       190.82          38.5   \n",
       "3      40.97      10644.64         26.77       296.51          25.0   \n",
       "4      25.54       5828.24         26.80       191.89          59.0   \n",
       "5      44.84      10951.79         41.62       333.74          57.0   \n",
       "6      25.70       5698.25         24.54       186.49          52.0   \n",
       "7      36.27       9718.65         37.51       267.68          61.0   \n",
       "8      25.38       5978.23         27.04       186.60          59.0   \n",
       "9      41.08      10046.11         40.31       289.60          75.0   \n",
       "\n",
       "   sessions_median  messages_median  minutes_median  \n",
       "0          7096.18             15.0           162.5  \n",
       "1         14791.37             32.0           382.0  \n",
       "2         12553.71             20.0           258.0  \n",
       "3          7327.12              5.5           168.0  \n",
       "4         15670.25             23.0           409.0  \n",
       "5         17495.18             20.0           403.0  \n",
       "6         14087.65             28.0           368.5  \n",
       "7         16645.78             17.0           453.0  \n",
       "8         16323.94             30.0           433.0  \n",
       "9         18696.43             25.0           519.0  "
      ]
     },
     "execution_count": 32,
     "metadata": {},
     "output_type": "execute_result"
    }
   ],
   "source": [
    "# сохранение статистических метрик для каждой пары месяц-тариф\n",
    "# в одной таблице stats_df (среднее значение, стандартное отклонение, медиана)\n",
    "\n",
    "stats_df = user_behavior.pivot_table(\n",
    "            index=['month', 'tariff'],\\\n",
    "            values=['calls', 'minutes', 'messages', 'mb_used'],\\\n",
    "            aggfunc=['mean', 'std', 'median']\\\n",
    ").round(2).reset_index()\n",
    "\n",
    "stats_df.columns=['month', 'tariff', 'calls_mean', 'sessions_mean', 'messages_mean', 'minutes_mean',\n",
    "                                     'calls_std',  'sessions_std', 'messages_std', 'minutes_std', \n",
    "                                     'calls_median', 'sessions_median', 'messages_median',  'minutes_median']\n",
    "\n",
    "stats_df.head(10)"
   ]
  },
  {
   "cell_type": "markdown",
   "id": "ae6ceb42",
   "metadata": {},
   "source": [
    "Распределение среднего количества звонков по видам тарифов и месяцам"
   ]
  },
  {
   "cell_type": "code",
   "execution_count": 33,
   "id": "6e18a43f",
   "metadata": {},
   "outputs": [
    {
     "data": {
      "image/png": "[encoded data removed]",
      "text/plain": [
       "<Figure size 842.4x595.44 with 1 Axes>"
      ]
     },
     "metadata": {},
     "output_type": "display_data"
    }
   ],
   "source": [
    "ax = sns.barplot(x='month',\n",
    "            y='calls_mean',\n",
    "            hue=\"tariff\",\n",
    "            data=stats_df,\n",
    "            palette=['lightblue', 'blue'])\n",
    "\n",
    "ax.set_title('Распределение количества звонков по видам тарифов и месяцам')\n",
    "ax.set(xlabel='Номер месяца', ylabel='Среднее количество звонков');"
   ]
  },
  {
   "cell_type": "code",
   "execution_count": 34,
   "id": "5f403a91",
   "metadata": {},
   "outputs": [
    {
     "data": {
      "image/png": "[encoded data removed]",
      "text/plain": [
       "<Figure size 1440x720 with 1 Axes>"
      ]
     },
     "metadata": {},
     "output_type": "display_data"
    }
   ],
   "source": [
    "plt.figure(figsize=(20,10)) \n",
    "user_behavior.groupby('tariff')['calls'].plot(kind='hist', bins=35, alpha=0.5)\n",
    "plt.legend(['Smart', 'Ultra'])\n",
    "plt.xlabel('Количество звонков')\n",
    "plt.ylabel('Количество клиентов')\n",
    "plt.show()"
   ]
  },
  {
   "cell_type": "markdown",
   "id": "100d4630",
   "metadata": {},
   "source": [
    "Распределение средней продолжительности звонков по видам тарифов и месяцам"
   ]
  },
  {
   "cell_type": "code",
   "execution_count": 35,
   "id": "09456509",
   "metadata": {},
   "outputs": [
    {
     "data": {
      "image/png": "[encoded data removed]",
      "text/plain": [
       "<Figure size 842.4x595.44 with 1 Axes>"
      ]
     },
     "metadata": {},
     "output_type": "display_data"
    }
   ],
   "source": [
    "ax = sns.barplot(x='month',\n",
    "            y='minutes_mean',\n",
    "            hue=\"tariff\",\n",
    "            data=stats_df,\n",
    "            palette=['lightblue', 'blue'])\n",
    "\n",
    "ax.set_title('Распределение продолжительности звонков по видам тарифов и месяцам')\n",
    "ax.set(xlabel='Номер месяца', ylabel='Средняя продолжительность звонков');"
   ]
  },
  {
   "cell_type": "code",
   "execution_count": 36,
   "id": "692834a4",
   "metadata": {},
   "outputs": [
    {
     "data": {
      "image/png": "[encoded data removed]",
      "text/plain": [
       "<Figure size 842.4x595.44 with 1 Axes>"
      ]
     },
     "metadata": {},
     "output_type": "display_data"
    }
   ],
   "source": [
    "user_behavior[user_behavior['tariff'] =='smart']['minutes'].hist(bins=35, alpha=0.5, color='green')\n",
    "user_behavior[user_behavior['tariff'] =='ultra']['minutes'].hist(bins=35, alpha=0.5, color='blue');"
   ]
  },
  {
   "cell_type": "markdown",
   "id": "22652a26",
   "metadata": {},
   "source": [
    "<b>Краткий вывод:</b> Средняя длительность разговоров у абонентов тарифа `Ultra` больше, чем у абонентов тарифа `Smart`. В течение года пользователи обоих тарифов увеличивают среднюю продолжительность своих разговоров. Рост средней длительности разговоров у абонентов тарифа `Smart` равномерный в течение года. Пользователи тарифа `Ultra` не проявляют подобной линейной стабильности. Стоит отметить, что в феврале у абонентов обоих тарифных планов наблюдались самые низкие показатели."
   ]
  },
  {
   "cell_type": "markdown",
   "id": "713fcc3f",
   "metadata": {},
   "source": [
    "Распределение среднего количества сообщений по видам тарифов и месяцам"
   ]
  },
  {
   "cell_type": "code",
   "execution_count": 37,
   "id": "c04e91c1",
   "metadata": {},
   "outputs": [
    {
     "data": {
      "image/png": "[encoded data removed]",
      "text/plain": [
       "<Figure size 842.4x595.44 with 1 Axes>"
      ]
     },
     "metadata": {},
     "output_type": "display_data"
    }
   ],
   "source": [
    "ax = sns.barplot(x='month',\n",
    "            y='messages_mean',\n",
    "            hue=\"tariff\",\n",
    "            data=stats_df,\n",
    "            palette=['lightblue', 'blue']\n",
    ")\n",
    "\n",
    "ax.set_title('Распределение количества сообщений по видам тарифов и месяцам')\n",
    "ax.set(xlabel='Номер месяца', ylabel='Среднее количество сообщений');"
   ]
  },
  {
   "cell_type": "code",
   "execution_count": 38,
   "id": "ad52c45b",
   "metadata": {},
   "outputs": [
    {
     "data": {
      "image/png": "[encoded data removed]",
      "text/plain": [
       "<Figure size 842.4x595.44 with 1 Axes>"
      ]
     },
     "metadata": {},
     "output_type": "display_data"
    }
   ],
   "source": [
    "user_behavior[user_behavior['tariff'] =='smart']['messages'].hist(bins=35, alpha=0.5, color='green')\n",
    "user_behavior[user_behavior['tariff'] =='ultra']['messages'].hist(bins=35, alpha=0.5, color='blue');"
   ]
  },
  {
   "cell_type": "markdown",
   "id": "fd4b58dd",
   "metadata": {},
   "source": [
    "<b>Краткий вывод:</b> В среднем пользователи тарифа `Ultra` отправляют больше сообщений — почти на 20 сообщений больше, чем пользователи тарифа `Smart`. Количество сообщений в течение года на обоих тарифах растёт. Динамика по отправке сообщений схожа с тенденциями по длительности разговоров: в феврале отмечено наименьшее количество сообщений за год и пользователи тарифа `Ultra` также проявляют нелинейную положительную динамику."
   ]
  },
  {
   "cell_type": "code",
   "execution_count": 39,
   "id": "9e7a4e8f",
   "metadata": {},
   "outputs": [
    {
     "data": {
      "image/png": "[encoded data removed]",
      "text/plain": [
       "<Figure size 842.4x595.44 with 1 Axes>"
      ]
     },
     "metadata": {},
     "output_type": "display_data"
    }
   ],
   "source": [
    "ax = sns.barplot(x='month',\n",
    "            y='sessions_mean',\n",
    "            hue='tariff',\n",
    "            data=stats_df,\n",
    "            palette=['lightblue', 'blue']\n",
    ")\n",
    "\n",
    "ax.set_title('Распределение количества потраченного трафика (Мб) по видам тарифов и месяцам')\n",
    "ax.set(xlabel='Номер месяца', ylabel='Среднее количество мегабайт');"
   ]
  },
  {
   "cell_type": "markdown",
   "id": "ed50d0f7",
   "metadata": {},
   "source": [
    "Сравнение потраченных мегабайт среди пользователей тарифов Smart и Ultra"
   ]
  },
  {
   "cell_type": "code",
   "execution_count": 40,
   "id": "c81b750b",
   "metadata": {},
   "outputs": [
    {
     "data": {
      "image/png": "[encoded data removed]",
      "text/plain": [
       "<Figure size 842.4x595.44 with 1 Axes>"
      ]
     },
     "metadata": {},
     "output_type": "display_data"
    }
   ],
   "source": [
    "user_behavior[user_behavior['tariff'] =='smart']['mb_used'].hist(bins=35, alpha=0.5, color='green')\n",
    "user_behavior[user_behavior['tariff'] =='ultra']['mb_used'].hist(bins=35, alpha=0.5, color='blue');"
   ]
  },
  {
   "cell_type": "markdown",
   "id": "fecc259c",
   "metadata": {},
   "source": [
    "<b>Краткий вывод:</b> Меньше всего пользователи использовали интернет в январе, феврале и апреле. Чаще всего абоненты тарифа `Smart` тратят 15–17 Гб, а абоненты тарифного плана `Ultra` — 19–21 ГБ."
   ]
  },
  {
   "cell_type": "markdown",
   "id": "6b1abea6",
   "metadata": {},
   "source": [
    "### 4. Проверка гипотез"
   ]
  },
  {
   "cell_type": "markdown",
   "id": "358a416a",
   "metadata": {},
   "source": [
    "<b><u>Проверка гипотезы о средней выручке пользователей тарифов «Ультра» и «Смарт»"
   ]
  },
  {
   "cell_type": "markdown",
   "id": "ed2e18aa",
   "metadata": {},
   "source": [
    "Сформулируем гипотезы:\n",
    "\n",
    "Нулевая $H_{0}$: средняя выручка пользователей тарифов «Ультра» и «Смарт» одинаковая (равна).\n",
    "Альтернативная $H_{1}$: средняя выручка пользователей тарифов «Ультра» и «Смарт» различается. Уровень значимости зададим 0,05."
   ]
  },
  {
   "cell_type": "code",
   "execution_count": 41,
   "id": "c28a33cf",
   "metadata": {},
   "outputs": [
    {
     "name": "stdout",
     "output_type": "stream",
     "text": [
      "p-значение: 4.2606313931076085e-250\n",
      "Отвергаем нулевую гипотезу. Средняя выручка тарифов различается.\n"
     ]
    }
   ],
   "source": [
    "smart_data = user_behavior.query('tariff == \"smart\"')\n",
    "ultra_data = user_behavior.query('tariff == \"ultra\"')\n",
    "\n",
    "alpha = 0.05\n",
    "\n",
    "# вызов метода для проверки гипотезы\n",
    "results = st.ttest_ind(smart_data['total_cost'], ultra_data['total_cost'], equal_var=False)\n",
    "\n",
    "# вывод значения p-value на экран \n",
    "print('p-значение:', results.pvalue)\n",
    "\n",
    "# условный оператор с выводом строки с ответом\n",
    "if results.pvalue < alpha:\n",
    "    print('Отвергаем нулевую гипотезу. Средняя выручка тарифов различается.')\n",
    "else:\n",
    "    print('Не можем отвергнуть нулевую гипотезу.')"
   ]
  },
  {
   "cell_type": "markdown",
   "id": "11fbaa82",
   "metadata": {},
   "source": [
    "Значение p-value стремится к 0, значит вероятность верности нашей нулевой гипотеза - 0%. Значит, мы можем быть уверены в том, что средняя выручка пользователей тарифов «Ультра» и «Смарт» точно не одинаковая."
   ]
  },
  {
   "cell_type": "markdown",
   "id": "ef8b4a06",
   "metadata": {},
   "source": [
    "<b><u>Проверка гипотезы о средней выручке пользователей из Москвы и других регионов"
   ]
  },
  {
   "cell_type": "markdown",
   "id": "5aea6b0d",
   "metadata": {},
   "source": [
    "Сформулируем гипотезы:\n",
    "\n",
    "Нулевая $H_{0}$: средняя выручка пользователей из Москвы не отличается от выручки пользователей из других регионов (выручка по Москве и регионам равна).\n",
    "Альтернативная $H_{1}$: средняя выручка пользователей из Москвы отличается от выручки пользователей из других регионов.\n",
    "Уровень значимости зададим 0,05."
   ]
  },
  {
   "cell_type": "code",
   "execution_count": 42,
   "id": "6991df6d",
   "metadata": {},
   "outputs": [
    {
     "name": "stdout",
     "output_type": "stream",
     "text": [
      "p-значение: 0.52574\n",
      "Не можем отвергнуть нулевую гипотезу.\n"
     ]
    }
   ],
   "source": [
    "moscow_data = user_behavior.query('city == \"Москва\"')\n",
    "non_moscow_data = user_behavior.query('city != \"Москва\"')\n",
    "\n",
    "alpha = 0.05\n",
    "results = st.ttest_ind(moscow_data['total_cost'], non_moscow_data['total_cost'], equal_var=False)\n",
    "print('p-значение:', round(results.pvalue,5))\n",
    "if results.pvalue < alpha:\n",
    "    print('Отвергаем нулевую гипотезу. Средняя выручка тарифов различается.')\n",
    "else:\n",
    "    print('Не можем отвергнуть нулевую гипотезу.')"
   ]
  },
  {
   "cell_type": "markdown",
   "id": "f545ef0b",
   "metadata": {},
   "source": [
    "Значение p-value больше 50%, значит, наша нулевая гипотеза подтвердилась и выручка пользователей из Москвы не отличается от выручки пользователей регионов."
   ]
  },
  {
   "cell_type": "markdown",
   "id": "2864467d",
   "metadata": {},
   "source": [
    "### 5. Общий вывод"
   ]
  },
  {
   "cell_type": "markdown",
   "id": "00c4b594",
   "metadata": {},
   "source": [
    "<b><i>1) В части ознакомления данных</i></b><br><br>\n",
    "<div style=\"text-align: justify \">Для анализа предоставлены 5 датасетов: <b>информация о звонках, интернет-сессиях, тарифах, сообщениях и пользователях.</b> В исследовании принимали участие 500 пользователей, которые использовали 2 тарифа. Каких-либо дубликатов и пропусков в данных не присутствует.</div>\n",
    "\n",
    "<b><i>2) В части предобработки данных</i></b><br>\n",
    "- для корректного отображения информации о дате все столбцы с такой инфомарции были переведены в тип \"datetime64\" методом to_datetime;<br>\n",
    "- значения были округлены с помощью метода np.ceil() и приведены к типу int;<br>\n",
    "- были удалены лишние столбцы;<br>\n",
    "- выделена и добавлена в отдельный столбец информация о месяце события.\n",
    "\n",
    "<b><i>3) Исследовательский анализ данных и подсчет выручки.</i></b><br>\n",
    "В ходе проведения анализа стало известно:\n",
    "- что договор расторгли около 8% клиентов;\n",
    "- <div style=\"text-align: justify \">средняя длительность разговоров у абонентов тарифа `Ultra` больше, чем у абонентов тарифа `Smart`. В течение года пользователи обоих тарифов увеличивают среднюю продолжительность своих разговоров. Рост средней длительности разговоров у абонентов тарифа `Smart` равномерный в течение года. Пользователи тарифа `Ultra` не проявляют подобной линейной стабильности. Стоит отметить, что в феврале у абонентов обоих тарифных планов наблюдались самые низкие показатели;</div>\n",
    "- <div style=\"text-align: justify \">в среднем пользователи тарифа `Ultra` отправляют больше сообщений — почти на 20 сообщений больше, чем пользователи тарифа `Smart`. Количество сообщений в течение года на обоих тарифах растёт. Динамика по отправке сообщений схожа с тенденциями по длительности разговоров: в феврале отмечено наименьшее количество сообщений за год и пользователи тарифа `Ultra` также проявляют нелинейную положительную динамику;</div>\n",
    "- <div style=\"text-align: justify \">меньше всего пользователи использовали интернет в январе, феврале и апреле. Чаще всего абоненты тарифа `Smart` тратят 15–17 Гб, а абоненты тарифного плана `Ultra` — 19–21 ГБ.</div>\n",
    "\n",
    "<b><i>4) Проверка гипотез.</i></b><br>\n",
    "- <div style=\"text-align: justify \">при проверки гипотезы о средней выручки тарифов `smart` и `ultra` было определено, что значение p-value стремится к 0, что означает что выручка тарифов `smart` и `ultra`разная;</div>\n",
    "- <div style=\"text-align: justify \">при проверки гипотезы о средней выручки пользователей из Москвы стало известно, что значение p-value больше 50%. Такое значение позволяет сделать вывод, что предположение о том, что выручка пользователей из Москвы не отличается от выручки пользователей регионов.</div>"
   ]
  },
  {
   "cell_type": "code",
   "execution_count": null,
   "id": "2362d735",
   "metadata": {},
   "outputs": [],
   "source": []
  }
 ],
 "metadata": {
  "ExecuteTimeLog": [
   {
    "duration": 1473,
    "start_time": "2023-08-31T12:16:54.536Z"
   },
   {
    "duration": 1196,
    "start_time": "2023-08-31T12:17:51.349Z"
   },
   {
    "duration": 5,
    "start_time": "2023-08-31T12:18:07.923Z"
   },
   {
    "duration": 225,
    "start_time": "2023-08-31T12:19:18.700Z"
   },
   {
    "duration": 5,
    "start_time": "2023-08-31T12:19:23.620Z"
   },
   {
    "duration": 221,
    "start_time": "2023-08-31T12:19:25.743Z"
   },
   {
    "duration": 175,
    "start_time": "2023-08-31T12:20:16.627Z"
   },
   {
    "duration": 97,
    "start_time": "2023-08-31T12:20:57.451Z"
   },
   {
    "duration": 33,
    "start_time": "2023-08-31T12:21:17.494Z"
   },
   {
    "duration": 36,
    "start_time": "2023-08-31T12:21:39.844Z"
   },
   {
    "duration": 5,
    "start_time": "2023-08-31T12:33:52.392Z"
   },
   {
    "duration": 6,
    "start_time": "2023-08-31T12:34:00.402Z"
   },
   {
    "duration": 18,
    "start_time": "2023-08-31T12:34:24.897Z"
   },
   {
    "duration": 60,
    "start_time": "2023-08-31T12:34:48.624Z"
   },
   {
    "duration": 35,
    "start_time": "2023-08-31T12:35:11.544Z"
   },
   {
    "duration": 41,
    "start_time": "2023-08-31T12:35:28.642Z"
   },
   {
    "duration": 39,
    "start_time": "2023-08-31T12:47:55.053Z"
   },
   {
    "duration": 5,
    "start_time": "2023-08-31T12:59:43.753Z"
   },
   {
    "duration": 6,
    "start_time": "2023-08-31T13:00:01.400Z"
   },
   {
    "duration": 5,
    "start_time": "2023-08-31T13:00:13.968Z"
   },
   {
    "duration": 8,
    "start_time": "2023-08-31T13:02:47.856Z"
   },
   {
    "duration": 25,
    "start_time": "2023-08-31T13:03:52.763Z"
   },
   {
    "duration": 16,
    "start_time": "2023-08-31T13:03:56.457Z"
   },
   {
    "duration": 19,
    "start_time": "2023-08-31T13:04:01.262Z"
   },
   {
    "duration": 127,
    "start_time": "2023-08-31T13:04:21.730Z"
   },
   {
    "duration": 25,
    "start_time": "2023-08-31T13:04:26.011Z"
   },
   {
    "duration": 18,
    "start_time": "2023-08-31T13:04:37.457Z"
   },
   {
    "duration": 20,
    "start_time": "2023-08-31T13:04:45.619Z"
   },
   {
    "duration": 44,
    "start_time": "2023-08-31T14:29:13.913Z"
   },
   {
    "duration": 31,
    "start_time": "2023-08-31T14:30:27.675Z"
   },
   {
    "duration": 214,
    "start_time": "2023-08-31T14:31:48.200Z"
   },
   {
    "duration": 206,
    "start_time": "2023-08-31T14:32:06.169Z"
   },
   {
    "duration": 48,
    "start_time": "2023-08-31T14:33:06.209Z"
   },
   {
    "duration": 197,
    "start_time": "2023-08-31T14:33:34.365Z"
   },
   {
    "duration": 245,
    "start_time": "2023-08-31T14:33:43.787Z"
   },
   {
    "duration": 232,
    "start_time": "2023-08-31T14:33:52.075Z"
   },
   {
    "duration": 17,
    "start_time": "2023-08-31T14:34:16.125Z"
   },
   {
    "duration": 193,
    "start_time": "2023-08-31T14:34:23.298Z"
   },
   {
    "duration": 31,
    "start_time": "2023-08-31T14:35:43.676Z"
   },
   {
    "duration": 32,
    "start_time": "2023-08-31T14:39:18.715Z"
   },
   {
    "duration": 22,
    "start_time": "2023-08-31T14:40:23.853Z"
   },
   {
    "duration": 17,
    "start_time": "2023-08-31T14:40:27.779Z"
   },
   {
    "duration": 20,
    "start_time": "2023-08-31T14:40:40.763Z"
   },
   {
    "duration": 17,
    "start_time": "2023-08-31T14:40:51.508Z"
   },
   {
    "duration": 17,
    "start_time": "2023-08-31T14:41:14.079Z"
   },
   {
    "duration": 15,
    "start_time": "2023-08-31T14:41:30.040Z"
   },
   {
    "duration": 30,
    "start_time": "2023-08-31T14:44:56.020Z"
   },
   {
    "duration": 27,
    "start_time": "2023-08-31T14:45:30.277Z"
   },
   {
    "duration": 29,
    "start_time": "2023-08-31T14:46:54.055Z"
   },
   {
    "duration": 4,
    "start_time": "2023-08-31T14:53:37.109Z"
   },
   {
    "duration": 4,
    "start_time": "2023-08-31T14:53:50.492Z"
   },
   {
    "duration": 4,
    "start_time": "2023-08-31T14:54:11.781Z"
   },
   {
    "duration": 4,
    "start_time": "2023-08-31T14:54:17.088Z"
   },
   {
    "duration": 122,
    "start_time": "2023-08-31T14:54:28.535Z"
   },
   {
    "duration": 9,
    "start_time": "2023-08-31T14:56:14.973Z"
   },
   {
    "duration": 6,
    "start_time": "2023-08-31T14:57:34.336Z"
   },
   {
    "duration": 9,
    "start_time": "2023-08-31T14:58:15.911Z"
   },
   {
    "duration": 10,
    "start_time": "2023-08-31T14:58:30.349Z"
   },
   {
    "duration": 5,
    "start_time": "2023-08-31T14:58:48.372Z"
   },
   {
    "duration": 11,
    "start_time": "2023-08-31T14:59:11.558Z"
   },
   {
    "duration": 6,
    "start_time": "2023-08-31T14:59:14.259Z"
   },
   {
    "duration": 81,
    "start_time": "2023-08-31T14:59:35.400Z"
   },
   {
    "duration": 7,
    "start_time": "2023-08-31T14:59:44.216Z"
   },
   {
    "duration": 7,
    "start_time": "2023-08-31T15:00:14.137Z"
   },
   {
    "duration": 60,
    "start_time": "2023-08-31T15:00:34.558Z"
   },
   {
    "duration": 105,
    "start_time": "2023-08-31T15:00:44.083Z"
   },
   {
    "duration": 319,
    "start_time": "2023-08-31T15:00:58.062Z"
   },
   {
    "duration": 298,
    "start_time": "2023-08-31T15:01:27.384Z"
   },
   {
    "duration": 363,
    "start_time": "2023-08-31T15:01:50.105Z"
   },
   {
    "duration": 343,
    "start_time": "2023-08-31T15:02:19.705Z"
   },
   {
    "duration": 234,
    "start_time": "2023-08-31T15:02:31.658Z"
   },
   {
    "duration": 155,
    "start_time": "2023-08-31T15:02:58.477Z"
   },
   {
    "duration": 464,
    "start_time": "2023-08-31T15:03:02.553Z"
   },
   {
    "duration": 279,
    "start_time": "2023-08-31T15:04:31.264Z"
   },
   {
    "duration": 20,
    "start_time": "2023-08-31T15:05:48.037Z"
   },
   {
    "duration": 20,
    "start_time": "2023-08-31T15:05:56.600Z"
   },
   {
    "duration": 345,
    "start_time": "2023-08-31T15:06:20.600Z"
   },
   {
    "duration": 373,
    "start_time": "2023-08-31T15:06:31.460Z"
   },
   {
    "duration": 302,
    "start_time": "2023-08-31T15:06:51.082Z"
   },
   {
    "duration": 339,
    "start_time": "2023-08-31T15:07:13.897Z"
   },
   {
    "duration": 392,
    "start_time": "2023-08-31T15:07:28.690Z"
   },
   {
    "duration": 437,
    "start_time": "2023-08-31T15:08:17.643Z"
   },
   {
    "duration": 299,
    "start_time": "2023-08-31T15:08:34.756Z"
   },
   {
    "duration": 6,
    "start_time": "2023-08-31T15:12:30.308Z"
   },
   {
    "duration": 14,
    "start_time": "2023-08-31T15:14:41.141Z"
   },
   {
    "duration": 11,
    "start_time": "2023-08-31T15:22:58.234Z"
   },
   {
    "duration": 12,
    "start_time": "2023-08-31T16:43:11.940Z"
   },
   {
    "duration": 1483,
    "start_time": "2023-08-31T19:22:15.828Z"
   },
   {
    "duration": 641,
    "start_time": "2023-08-31T19:22:17.314Z"
   },
   {
    "duration": 7,
    "start_time": "2023-08-31T19:22:17.957Z"
   },
   {
    "duration": 279,
    "start_time": "2023-08-31T19:22:17.966Z"
   },
   {
    "duration": 216,
    "start_time": "2023-08-31T19:22:18.248Z"
   },
   {
    "duration": 165,
    "start_time": "2023-08-31T19:22:18.467Z"
   },
   {
    "duration": 35,
    "start_time": "2023-08-31T19:22:18.634Z"
   },
   {
    "duration": 73,
    "start_time": "2023-08-31T19:22:18.671Z"
   },
   {
    "duration": 19,
    "start_time": "2023-08-31T19:22:18.746Z"
   },
   {
    "duration": 112,
    "start_time": "2023-08-31T19:22:18.768Z"
   },
   {
    "duration": 44,
    "start_time": "2023-08-31T19:22:18.882Z"
   },
   {
    "duration": 44,
    "start_time": "2023-08-31T19:22:18.930Z"
   },
   {
    "duration": 6,
    "start_time": "2023-08-31T19:22:18.975Z"
   },
   {
    "duration": 48,
    "start_time": "2023-08-31T19:22:18.984Z"
   },
   {
    "duration": 11,
    "start_time": "2023-08-31T19:22:19.034Z"
   },
   {
    "duration": 44,
    "start_time": "2023-08-31T19:22:19.047Z"
   },
   {
    "duration": 31,
    "start_time": "2023-08-31T19:22:19.093Z"
   },
   {
    "duration": 30,
    "start_time": "2023-08-31T19:22:19.132Z"
   },
   {
    "duration": 47,
    "start_time": "2023-08-31T19:22:19.164Z"
   },
   {
    "duration": 49,
    "start_time": "2023-08-31T19:22:19.213Z"
   },
   {
    "duration": 31,
    "start_time": "2023-08-31T19:22:19.264Z"
   },
   {
    "duration": 38,
    "start_time": "2023-08-31T19:22:19.309Z"
   },
   {
    "duration": 5,
    "start_time": "2023-08-31T19:22:19.349Z"
   },
   {
    "duration": 191,
    "start_time": "2023-08-31T19:22:19.356Z"
   },
   {
    "duration": 0,
    "start_time": "2023-08-31T19:22:19.549Z"
   },
   {
    "duration": 0,
    "start_time": "2023-08-31T19:22:19.551Z"
   },
   {
    "duration": 0,
    "start_time": "2023-08-31T19:22:19.552Z"
   },
   {
    "duration": 0,
    "start_time": "2023-08-31T19:22:19.553Z"
   },
   {
    "duration": 0,
    "start_time": "2023-08-31T19:22:19.555Z"
   },
   {
    "duration": 0,
    "start_time": "2023-08-31T19:22:19.556Z"
   },
   {
    "duration": 0,
    "start_time": "2023-08-31T19:22:19.557Z"
   },
   {
    "duration": 0,
    "start_time": "2023-08-31T19:22:19.558Z"
   },
   {
    "duration": 0,
    "start_time": "2023-08-31T19:22:19.559Z"
   },
   {
    "duration": 0,
    "start_time": "2023-08-31T19:22:19.560Z"
   },
   {
    "duration": 0,
    "start_time": "2023-08-31T19:22:19.562Z"
   },
   {
    "duration": 0,
    "start_time": "2023-08-31T19:22:19.563Z"
   },
   {
    "duration": 0,
    "start_time": "2023-08-31T19:22:19.564Z"
   },
   {
    "duration": 0,
    "start_time": "2023-08-31T19:22:19.566Z"
   },
   {
    "duration": 0,
    "start_time": "2023-08-31T19:22:19.567Z"
   },
   {
    "duration": 1,
    "start_time": "2023-08-31T19:22:19.568Z"
   },
   {
    "duration": 0,
    "start_time": "2023-08-31T19:22:19.570Z"
   },
   {
    "duration": 0,
    "start_time": "2023-08-31T19:22:19.572Z"
   },
   {
    "duration": 1611,
    "start_time": "2023-08-31T19:23:01.402Z"
   },
   {
    "duration": 646,
    "start_time": "2023-08-31T19:23:03.016Z"
   },
   {
    "duration": 8,
    "start_time": "2023-08-31T19:23:03.665Z"
   },
   {
    "duration": 295,
    "start_time": "2023-08-31T19:23:03.676Z"
   },
   {
    "duration": 172,
    "start_time": "2023-08-31T19:23:03.973Z"
   },
   {
    "duration": 126,
    "start_time": "2023-08-31T19:23:04.147Z"
   },
   {
    "duration": 42,
    "start_time": "2023-08-31T19:23:04.275Z"
   },
   {
    "duration": 47,
    "start_time": "2023-08-31T19:23:04.319Z"
   },
   {
    "duration": 20,
    "start_time": "2023-08-31T19:23:04.368Z"
   },
   {
    "duration": 100,
    "start_time": "2023-08-31T19:23:04.391Z"
   },
   {
    "duration": 58,
    "start_time": "2023-08-31T19:23:04.494Z"
   },
   {
    "duration": 82,
    "start_time": "2023-08-31T19:23:04.554Z"
   },
   {
    "duration": 5,
    "start_time": "2023-08-31T19:23:04.638Z"
   },
   {
    "duration": 6,
    "start_time": "2023-08-31T19:23:04.645Z"
   },
   {
    "duration": 12,
    "start_time": "2023-08-31T19:23:04.653Z"
   },
   {
    "duration": 57,
    "start_time": "2023-08-31T19:23:04.667Z"
   },
   {
    "duration": 20,
    "start_time": "2023-08-31T19:23:04.727Z"
   },
   {
    "duration": 27,
    "start_time": "2023-08-31T19:23:04.749Z"
   },
   {
    "duration": 71,
    "start_time": "2023-08-31T19:23:04.778Z"
   },
   {
    "duration": 46,
    "start_time": "2023-08-31T19:23:04.851Z"
   },
   {
    "duration": 47,
    "start_time": "2023-08-31T19:23:04.899Z"
   },
   {
    "duration": 24,
    "start_time": "2023-08-31T19:23:04.948Z"
   },
   {
    "duration": 4,
    "start_time": "2023-08-31T19:23:04.975Z"
   },
   {
    "duration": 78,
    "start_time": "2023-08-31T19:23:04.981Z"
   },
   {
    "duration": 8,
    "start_time": "2023-08-31T19:23:05.061Z"
   },
   {
    "duration": 9,
    "start_time": "2023-08-31T19:23:05.071Z"
   },
   {
    "duration": 37,
    "start_time": "2023-08-31T19:23:05.082Z"
   },
   {
    "duration": 13,
    "start_time": "2023-08-31T19:23:05.128Z"
   },
   {
    "duration": 8,
    "start_time": "2023-08-31T19:23:05.143Z"
   },
   {
    "duration": 9,
    "start_time": "2023-08-31T19:23:05.153Z"
   },
   {
    "duration": 10,
    "start_time": "2023-08-31T19:23:05.164Z"
   },
   {
    "duration": 101,
    "start_time": "2023-08-31T19:23:05.176Z"
   },
   {
    "duration": 469,
    "start_time": "2023-08-31T19:23:05.279Z"
   },
   {
    "duration": 443,
    "start_time": "2023-08-31T19:23:05.750Z"
   },
   {
    "duration": 446,
    "start_time": "2023-08-31T19:23:06.195Z"
   },
   {
    "duration": 341,
    "start_time": "2023-08-31T19:23:06.644Z"
   },
   {
    "duration": 512,
    "start_time": "2023-08-31T19:23:06.988Z"
   },
   {
    "duration": 322,
    "start_time": "2023-08-31T19:23:07.503Z"
   },
   {
    "duration": 365,
    "start_time": "2023-08-31T19:23:07.828Z"
   },
   {
    "duration": 352,
    "start_time": "2023-08-31T19:23:08.196Z"
   },
   {
    "duration": 27,
    "start_time": "2023-08-31T19:23:08.550Z"
   },
   {
    "duration": 33,
    "start_time": "2023-08-31T19:23:08.582Z"
   }
  ],
  "kernelspec": {
   "display_name": "Python 3 (ipykernel)",
   "language": "python",
   "name": "python3"
  },
  "language_info": {
   "codemirror_mode": {
    "name": "ipython",
    "version": 3
   },
   "file_extension": ".py",
   "mimetype": "text/x-python",
   "name": "python",
   "nbconvert_exporter": "python",
   "pygments_lexer": "ipython3",
   "version": "3.9.5"
  },
  "toc": {
   "base_numbering": 1,
   "nav_menu": {},
   "number_sections": true,
   "sideBar": true,
   "skip_h1_title": true,
   "title_cell": "Table of Contents",
   "title_sidebar": "Contents",
   "toc_cell": false,
   "toc_position": {},
   "toc_section_display": true,
   "toc_window_display": false
  }
 },
 "nbformat": 4,
 "nbformat_minor": 5
}
